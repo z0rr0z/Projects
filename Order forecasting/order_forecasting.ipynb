{
  "cells": [
    {
      "cell_type": "markdown",
      "metadata": {
        "id": "qd4DwBzk6PCb"
      },
      "source": [
        "# Прогнозирование заказов такси"
      ]
    },
    {
      "cell_type": "markdown",
      "metadata": {
        "toc": true,
        "id": "7ys5BOob6PCc"
      },
      "source": [
        "<h1>Содержание<span class=\"tocSkip\"></span></h1>\n",
        "<div class=\"toc\"><ul class=\"toc-item\"><li><span><a href=\"#Цель-и-задачи-исследования\" data-toc-modified-id=\"Цель-и-задачи-исследования-1\"><span class=\"toc-item-num\">1&nbsp;&nbsp;</span>Цель и задачи исследования</a></span></li><li><span><a href=\"#Описание-данных\" data-toc-modified-id=\"Описание-данных-2\"><span class=\"toc-item-num\">2&nbsp;&nbsp;</span>Описание данных</a></span></li><li><span><a href=\"#Импорт-библиотек\" data-toc-modified-id=\"Импорт-библиотек-3\"><span class=\"toc-item-num\">3&nbsp;&nbsp;</span>Импорт библиотек</a></span></li><li><span><a href=\"#Обзор-и-подготовка-данных\" data-toc-modified-id=\"Обзор-и-подготовка-данных-4\"><span class=\"toc-item-num\">4&nbsp;&nbsp;</span>Обзор и подготовка данных</a></span><ul class=\"toc-item\"><li><span><a href=\"#Загрузка-данных\" data-toc-modified-id=\"Загрузка-данных-4.1\"><span class=\"toc-item-num\">4.1&nbsp;&nbsp;</span>Загрузка данных</a></span></li><li><span><a href=\"#Обзор-данных\" data-toc-modified-id=\"Обзор-данных-4.2\"><span class=\"toc-item-num\">4.2&nbsp;&nbsp;</span>Обзор данных</a></span></li><li><span><a href=\"#Подготовка-данных\" data-toc-modified-id=\"Подготовка-данных-4.3\"><span class=\"toc-item-num\">4.3&nbsp;&nbsp;</span>Подготовка данных</a></span></li><li><span><a href=\"#Промежуточный-вывод\" data-toc-modified-id=\"Промежуточный-вывод-4.4\"><span class=\"toc-item-num\">4.4&nbsp;&nbsp;</span>Промежуточный вывод</a></span></li></ul></li><li><span><a href=\"#Анализ-данных\" data-toc-modified-id=\"Анализ-данных-5\"><span class=\"toc-item-num\">5&nbsp;&nbsp;</span>Анализ данных</a></span><ul class=\"toc-item\"><li><span><a href=\"#Анализ-стационарности-ряда\" data-toc-modified-id=\"Анализ-стационарности-ряда-5.1\"><span class=\"toc-item-num\">5.1&nbsp;&nbsp;</span>Анализ стационарности ряда</a></span></li><li><span><a href=\"#Разделение-ряда-на-компоненты\" data-toc-modified-id=\"Разделение-ряда-на-компоненты-5.2\"><span class=\"toc-item-num\">5.2&nbsp;&nbsp;</span>Разделение ряда на компоненты</a></span></li><li><span><a href=\"#Промежуточный-вывод\" data-toc-modified-id=\"Промежуточный-вывод-5.3\"><span class=\"toc-item-num\">5.3&nbsp;&nbsp;</span>Промежуточный вывод</a></span></li></ul></li><li><span><a href=\"#Генерация-признаков\" data-toc-modified-id=\"Генерация-признаков-6\"><span class=\"toc-item-num\">6&nbsp;&nbsp;</span>Генерация признаков</a></span><ul class=\"toc-item\"><li><span><a href=\"#Создание-новых-признаков\" data-toc-modified-id=\"Создание-новых-признаков-6.1\"><span class=\"toc-item-num\">6.1&nbsp;&nbsp;</span>Создание новых признаков</a></span></li><li><span><a href=\"#Промежуточный-вывод\" data-toc-modified-id=\"Промежуточный-вывод-6.2\"><span class=\"toc-item-num\">6.2&nbsp;&nbsp;</span>Промежуточный вывод</a></span></li></ul></li><li><span><a href=\"#Обучение\" data-toc-modified-id=\"Обучение-7\"><span class=\"toc-item-num\">7&nbsp;&nbsp;</span>Обучение</a></span><ul class=\"toc-item\"><li><span><a href=\"#Разделение-на-выборки\" data-toc-modified-id=\"Разделение-на-выборки-7.1\"><span class=\"toc-item-num\">7.1&nbsp;&nbsp;</span>Разделение на выборки</a></span></li><li><span><a href=\"#Референсные-модели\" data-toc-modified-id=\"Референсные-модели-7.2\"><span class=\"toc-item-num\">7.2&nbsp;&nbsp;</span>Референсные модели</a></span></li><li><span><a href=\"#Подбор-гиперпараметров\" data-toc-modified-id=\"Подбор-гиперпараметров-7.3\"><span class=\"toc-item-num\">7.3&nbsp;&nbsp;</span>Подбор гиперпараметров</a></span></li><li><span><a href=\"#Промежуточный-вывод\" data-toc-modified-id=\"Промежуточный-вывод-7.4\"><span class=\"toc-item-num\">7.4&nbsp;&nbsp;</span>Промежуточный вывод</a></span></li></ul></li><li><span><a href=\"#Оценка-модели\" data-toc-modified-id=\"Оценка-модели-8\"><span class=\"toc-item-num\">8&nbsp;&nbsp;</span>Оценка модели</a></span><ul class=\"toc-item\"><li><span><a href=\"#Метрика-на-тестовой-выборке\" data-toc-modified-id=\"Метрика-на-тестовой-выборке-8.1\"><span class=\"toc-item-num\">8.1&nbsp;&nbsp;</span>Метрика на тестовой выборке</a></span></li><li><span><a href=\"#Графический-анализ\" data-toc-modified-id=\"Графический-анализ-8.2\"><span class=\"toc-item-num\">8.2&nbsp;&nbsp;</span>Графический анализ</a></span></li><li><span><a href=\"#Анализ-важности-признаков\" data-toc-modified-id=\"Анализ-важности-признаков-8.3\"><span class=\"toc-item-num\">8.3&nbsp;&nbsp;</span>Анализ важности признаков</a></span></li><li><span><a href=\"#Промежуточный-вывод\" data-toc-modified-id=\"Промежуточный-вывод-8.4\"><span class=\"toc-item-num\">8.4&nbsp;&nbsp;</span>Промежуточный вывод</a></span></li></ul></li><li><span><a href=\"#Общий-вывод\" data-toc-modified-id=\"Общий-вывод-9\"><span class=\"toc-item-num\">9&nbsp;&nbsp;</span>Общий вывод</a></span></li></ul></div>"
      ]
    },
    {
      "cell_type": "markdown",
      "metadata": {
        "id": "XFGcyl6u6PCc"
      },
      "source": [
        "## Цель и задачи исследования"
      ]
    },
    {
      "cell_type": "markdown",
      "metadata": {
        "id": "rMI4hRvJ6PCc"
      },
      "source": [
        "**Заказчик исследования:** такси-компания.\n",
        "\n",
        "**Цель:** построить модель прогнозирования количества заказов такси на следующий час.\n",
        "\n",
        "**Критерий качества модели**: значение метрики *RMSE* на тестовой выборке (10% от исходных данных) не более 48.\n",
        "\n",
        "**Задачи (этапы) исследования:**\n",
        "1. Провести загрузку, общий обзор и подготовку данных:\n",
        "- загрузить данные;\n",
        "- провести общий обзор;\n",
        "- при необходимости устранить пропуски;\n",
        "- ресемплировать данные по одному часу.\n",
        "2. Провести анализ данных:\n",
        "- построить график;\n",
        "- выделить тренд, сезонность и случайную компоненту.\n",
        "3. Создать новые признаки:\n",
        "- создать новые календарные признаки;\n",
        "- создать \"лаговые\" признаки.\n",
        "4. Построить модели для прогнозирования количества заказов такси:\n",
        "- построить не менее 3 моделей;\n",
        "- осуществить перебор гиперпараметров;\n",
        "- выбрать лучшую модель.\n",
        "5. Оценить лучшую модель:\n",
        "- рассчитать метрику RMSE на тестовой выборке;\n",
        "- построить график \"Факт — Прогноз\" на тестовых данных.\n",
        "6. Сформулировать общие выводы."
      ]
    },
    {
      "cell_type": "markdown",
      "metadata": {
        "id": "6lJM0gHO6PCc"
      },
      "source": [
        "## Описание данных"
      ]
    },
    {
      "cell_type": "markdown",
      "metadata": {
        "id": "5puZD1G96PCc"
      },
      "source": [
        "Датасет taxi.csv содержит столбцы:\n",
        "- datetime - дата и время;\n",
        "- num_orders - число заказов."
      ]
    },
    {
      "cell_type": "markdown",
      "metadata": {
        "id": "gOd8fb3Y6PCd"
      },
      "source": [
        "## Импорт библиотек"
      ]
    },
    {
      "cell_type": "markdown",
      "metadata": {
        "id": "e4ZdroKL6PCd"
      },
      "source": [
        "Обновим sklearn и lightgbm, а также установим shap."
      ]
    },
    {
      "cell_type": "code",
      "execution_count": null,
      "metadata": {
        "id": "ZyOwOMFK6PCd",
        "outputId": "11ccdd4b-a488-4252-9d29-096d07eea619"
      },
      "outputs": [
        {
          "name": "stdout",
          "output_type": "stream",
          "text": [
            "Requirement already satisfied: scikit-learn in /opt/conda/lib/python3.9/site-packages (1.6.1)\n",
            "Requirement already satisfied: scipy>=1.6.0 in /opt/conda/lib/python3.9/site-packages (from scikit-learn) (1.9.1)\n",
            "Requirement already satisfied: numpy>=1.19.5 in /opt/conda/lib/python3.9/site-packages (from scikit-learn) (1.22.4)\n",
            "Requirement already satisfied: joblib>=1.2.0 in /opt/conda/lib/python3.9/site-packages (from scikit-learn) (1.4.2)\n",
            "Requirement already satisfied: threadpoolctl>=3.1.0 in /opt/conda/lib/python3.9/site-packages (from scikit-learn) (3.1.0)\n"
          ]
        }
      ],
      "source": [
        "!pip install -U scikit-learn"
      ]
    },
    {
      "cell_type": "code",
      "execution_count": null,
      "metadata": {
        "id": "MReEbcWv6PCe",
        "outputId": "19965486-f1a9-44ff-b237-9275dcbeb7e5"
      },
      "outputs": [
        {
          "name": "stdout",
          "output_type": "stream",
          "text": [
            "Requirement already satisfied: lightgbm in /opt/conda/lib/python3.9/site-packages (4.5.0)\n",
            "Requirement already satisfied: numpy>=1.17.0 in /opt/conda/lib/python3.9/site-packages (from lightgbm) (1.22.4)\n",
            "Requirement already satisfied: scipy in /opt/conda/lib/python3.9/site-packages (from lightgbm) (1.9.1)\n"
          ]
        }
      ],
      "source": [
        "!pip install -U lightgbm"
      ]
    },
    {
      "cell_type": "code",
      "execution_count": null,
      "metadata": {
        "id": "JPImIcx36PCe",
        "outputId": "880c31ec-ed34-41e1-c1ef-df8b22285e8f"
      },
      "outputs": [
        {
          "name": "stdout",
          "output_type": "stream",
          "text": [
            "Requirement already satisfied: shap in /opt/conda/lib/python3.9/site-packages (0.46.0)\n",
            "Requirement already satisfied: tqdm>=4.27.0 in /opt/conda/lib/python3.9/site-packages (from shap) (4.61.2)\n",
            "Requirement already satisfied: pandas in /opt/conda/lib/python3.9/site-packages (from shap) (2.2.3)\n",
            "Requirement already satisfied: numpy in /opt/conda/lib/python3.9/site-packages (from shap) (1.22.4)\n",
            "Requirement already satisfied: scipy in /opt/conda/lib/python3.9/site-packages (from shap) (1.9.1)\n",
            "Requirement already satisfied: packaging>20.9 in /opt/conda/lib/python3.9/site-packages (from shap) (21.3)\n",
            "Requirement already satisfied: cloudpickle in /opt/conda/lib/python3.9/site-packages (from shap) (3.1.1)\n",
            "Requirement already satisfied: scikit-learn in /opt/conda/lib/python3.9/site-packages (from shap) (1.6.1)\n",
            "Requirement already satisfied: numba in /opt/conda/lib/python3.9/site-packages (from shap) (0.56.0)\n",
            "Requirement already satisfied: slicer==0.0.8 in /opt/conda/lib/python3.9/site-packages (from shap) (0.0.8)\n",
            "Requirement already satisfied: pyparsing!=3.0.5,>=2.0.2 in /opt/conda/lib/python3.9/site-packages (from packaging>20.9->shap) (2.4.7)\n",
            "Requirement already satisfied: setuptools in /opt/conda/lib/python3.9/site-packages (from numba->shap) (49.6.0.post20210108)\n",
            "Requirement already satisfied: llvmlite<0.40,>=0.39.0dev0 in /opt/conda/lib/python3.9/site-packages (from numba->shap) (0.39.0)\n",
            "Requirement already satisfied: python-dateutil>=2.8.2 in /opt/conda/lib/python3.9/site-packages (from pandas->shap) (2.9.0.post0)\n",
            "Requirement already satisfied: tzdata>=2022.7 in /opt/conda/lib/python3.9/site-packages (from pandas->shap) (2025.1)\n",
            "Requirement already satisfied: pytz>=2020.1 in /opt/conda/lib/python3.9/site-packages (from pandas->shap) (2021.1)\n",
            "Requirement already satisfied: six>=1.5 in /opt/conda/lib/python3.9/site-packages (from python-dateutil>=2.8.2->pandas->shap) (1.16.0)\n",
            "Requirement already satisfied: joblib>=1.2.0 in /opt/conda/lib/python3.9/site-packages (from scikit-learn->shap) (1.4.2)\n",
            "Requirement already satisfied: threadpoolctl>=3.1.0 in /opt/conda/lib/python3.9/site-packages (from scikit-learn->shap) (3.1.0)\n"
          ]
        }
      ],
      "source": [
        "!pip install shap"
      ]
    },
    {
      "cell_type": "markdown",
      "metadata": {
        "id": "IDa8Wkdl6PCe"
      },
      "source": [
        "Импортируем необходимые библиотеки."
      ]
    },
    {
      "cell_type": "code",
      "execution_count": null,
      "metadata": {
        "id": "F0oWxtpG6PCe"
      },
      "outputs": [],
      "source": [
        "import pandas as pd\n",
        "import numpy as np\n",
        "import matplotlib.pyplot as plt\n",
        "import seaborn as sns\n",
        "\n",
        "from statsmodels.tsa.stattools import adfuller\n",
        "from statsmodels.tsa.seasonal import seasonal_decompose\n",
        "\n",
        "from sklearn.pipeline import Pipeline\n",
        "\n",
        "from sklearn.model_selection import (\n",
        "    train_test_split,\n",
        "    TimeSeriesSplit,\n",
        "    GridSearchCV\n",
        ")\n",
        "\n",
        "from sklearn.linear_model import LinearRegression\n",
        "from sklearn.linear_model import ElasticNet\n",
        "from sklearn.tree import DecisionTreeRegressor\n",
        "from sklearn.ensemble import RandomForestRegressor\n",
        "\n",
        "from sklearn.metrics import root_mean_squared_error\n",
        "\n",
        "from lightgbm import LGBMRegressor\n",
        "\n",
        "import shap"
      ]
    },
    {
      "cell_type": "markdown",
      "metadata": {
        "id": "S-XXRaKp6PCe"
      },
      "source": [
        "Установим значение для генератора случайных чисел"
      ]
    },
    {
      "cell_type": "code",
      "execution_count": null,
      "metadata": {
        "id": "s0TKdtCP6PCe"
      },
      "outputs": [],
      "source": [
        "RANDOM_STATE = 42"
      ]
    },
    {
      "cell_type": "markdown",
      "metadata": {
        "id": "Uhr4kCot6PCf"
      },
      "source": [
        "## Обзор и подготовка данных"
      ]
    },
    {
      "cell_type": "markdown",
      "metadata": {
        "id": "T7wvGCiP6PCf"
      },
      "source": [
        "### Загрузка данных"
      ]
    },
    {
      "cell_type": "code",
      "execution_count": null,
      "metadata": {
        "id": "bmsbtoXE6PCf"
      },
      "outputs": [],
      "source": [
        "try:\n",
        "    data = pd.read_csv('...', index_col=[0], parse_dates=[0])\n",
        "except:\n",
        "    data = pd.read_csv('...', index_col=[0], parse_dates=[0])"
      ]
    },
    {
      "cell_type": "markdown",
      "metadata": {
        "id": "a4NYQLnG6PCf"
      },
      "source": [
        "### Обзор данных"
      ]
    },
    {
      "cell_type": "code",
      "execution_count": null,
      "metadata": {
        "id": "4C_PE_7c6PCf",
        "outputId": "c7300419-fdcc-4489-dc1a-ddda7a2918c6"
      },
      "outputs": [
        {
          "name": "stdout",
          "output_type": "stream",
          "text": [
            "<class 'pandas.core.frame.DataFrame'>\n",
            "DatetimeIndex: 26496 entries, 2018-03-01 00:00:00 to 2018-08-31 23:50:00\n",
            "Data columns (total 1 columns):\n",
            " #   Column      Non-Null Count  Dtype\n",
            "---  ------      --------------  -----\n",
            " 0   num_orders  26496 non-null  int64\n",
            "dtypes: int64(1)\n",
            "memory usage: 414.0 KB\n"
          ]
        }
      ],
      "source": [
        "data.info()"
      ]
    },
    {
      "cell_type": "markdown",
      "metadata": {
        "id": "tpvsDWHe6PCf"
      },
      "source": [
        "В датасете представлены данные с 1 марта по 31 августа 2018 года."
      ]
    },
    {
      "cell_type": "code",
      "execution_count": null,
      "metadata": {
        "id": "HO3DXdaR6PCf",
        "outputId": "9b923155-5506-4dbb-a58e-ea04af71fe66"
      },
      "outputs": [
        {
          "data": {
            "text/html": [
              "<div>\n",
              "<style scoped>\n",
              "    .dataframe tbody tr th:only-of-type {\n",
              "        vertical-align: middle;\n",
              "    }\n",
              "\n",
              "    .dataframe tbody tr th {\n",
              "        vertical-align: top;\n",
              "    }\n",
              "\n",
              "    .dataframe thead th {\n",
              "        text-align: right;\n",
              "    }\n",
              "</style>\n",
              "<table border=\"1\" class=\"dataframe\">\n",
              "  <thead>\n",
              "    <tr style=\"text-align: right;\">\n",
              "      <th></th>\n",
              "      <th>num_orders</th>\n",
              "    </tr>\n",
              "    <tr>\n",
              "      <th>datetime</th>\n",
              "      <th></th>\n",
              "    </tr>\n",
              "  </thead>\n",
              "  <tbody>\n",
              "    <tr>\n",
              "      <th>2018-03-01 00:00:00</th>\n",
              "      <td>9</td>\n",
              "    </tr>\n",
              "    <tr>\n",
              "      <th>2018-03-01 00:10:00</th>\n",
              "      <td>14</td>\n",
              "    </tr>\n",
              "    <tr>\n",
              "      <th>2018-03-01 00:20:00</th>\n",
              "      <td>28</td>\n",
              "    </tr>\n",
              "    <tr>\n",
              "      <th>2018-03-01 00:30:00</th>\n",
              "      <td>20</td>\n",
              "    </tr>\n",
              "    <tr>\n",
              "      <th>2018-03-01 00:40:00</th>\n",
              "      <td>32</td>\n",
              "    </tr>\n",
              "  </tbody>\n",
              "</table>\n",
              "</div>"
            ],
            "text/plain": [
              "                     num_orders\n",
              "datetime                       \n",
              "2018-03-01 00:00:00           9\n",
              "2018-03-01 00:10:00          14\n",
              "2018-03-01 00:20:00          28\n",
              "2018-03-01 00:30:00          20\n",
              "2018-03-01 00:40:00          32"
            ]
          },
          "execution_count": 8,
          "metadata": {},
          "output_type": "execute_result"
        }
      ],
      "source": [
        "data.head()"
      ]
    },
    {
      "cell_type": "markdown",
      "metadata": {
        "id": "4kbIbsNf6PCf"
      },
      "source": [
        "Проверим монотонность индекса."
      ]
    },
    {
      "cell_type": "code",
      "execution_count": null,
      "metadata": {
        "id": "Y9dRjnMI6PCf",
        "outputId": "b34ca0ff-c32c-4b4b-a4eb-a1e7176666cd"
      },
      "outputs": [
        {
          "data": {
            "text/plain": [
              "True"
            ]
          },
          "execution_count": 9,
          "metadata": {},
          "output_type": "execute_result"
        }
      ],
      "source": [
        "data.index.is_monotonic_increasing"
      ]
    },
    {
      "cell_type": "markdown",
      "metadata": {
        "id": "eS2XEPr56PCg"
      },
      "source": [
        "Проверим наличие пропусков."
      ]
    },
    {
      "cell_type": "code",
      "execution_count": null,
      "metadata": {
        "id": "WIzrmv5Q6PCg",
        "outputId": "a7c308be-4bd0-44f7-de46-a1f7ee7cba7f"
      },
      "outputs": [
        {
          "data": {
            "text/plain": [
              "num_orders    0\n",
              "dtype: int64"
            ]
          },
          "execution_count": 10,
          "metadata": {},
          "output_type": "execute_result"
        }
      ],
      "source": [
        "data.isna().sum()"
      ]
    },
    {
      "cell_type": "markdown",
      "metadata": {
        "id": "uQNtBxT-6PCg"
      },
      "source": [
        "Пропуски отсутствуют."
      ]
    },
    {
      "cell_type": "markdown",
      "metadata": {
        "id": "f3SlICC_6PCg"
      },
      "source": [
        "### Подготовка данных"
      ]
    },
    {
      "cell_type": "markdown",
      "metadata": {
        "id": "6iWG59Ef6PCg"
      },
      "source": [
        "Ресемплируем данные по одному часу."
      ]
    },
    {
      "cell_type": "code",
      "execution_count": null,
      "metadata": {
        "id": "7FL-Yzp-6PCg"
      },
      "outputs": [],
      "source": [
        "data = data.resample('1h').sum()"
      ]
    },
    {
      "cell_type": "code",
      "execution_count": null,
      "metadata": {
        "id": "LIC9GIau6PCg",
        "outputId": "a61b08a6-2af0-4aee-81ea-e2d92fdf7d87"
      },
      "outputs": [
        {
          "name": "stdout",
          "output_type": "stream",
          "text": [
            "<class 'pandas.core.frame.DataFrame'>\n",
            "DatetimeIndex: 4416 entries, 2018-03-01 00:00:00 to 2018-08-31 23:00:00\n",
            "Freq: h\n",
            "Data columns (total 1 columns):\n",
            " #   Column      Non-Null Count  Dtype\n",
            "---  ------      --------------  -----\n",
            " 0   num_orders  4416 non-null   int64\n",
            "dtypes: int64(1)\n",
            "memory usage: 69.0 KB\n"
          ]
        }
      ],
      "source": [
        "data.info()"
      ]
    },
    {
      "cell_type": "code",
      "execution_count": null,
      "metadata": {
        "scrolled": false,
        "id": "KBXzNM806PCg",
        "outputId": "9fd0f4cc-afeb-4cfc-cc52-929e206c5896"
      },
      "outputs": [
        {
          "data": {
            "text/html": [
              "<div>\n",
              "<style scoped>\n",
              "    .dataframe tbody tr th:only-of-type {\n",
              "        vertical-align: middle;\n",
              "    }\n",
              "\n",
              "    .dataframe tbody tr th {\n",
              "        vertical-align: top;\n",
              "    }\n",
              "\n",
              "    .dataframe thead th {\n",
              "        text-align: right;\n",
              "    }\n",
              "</style>\n",
              "<table border=\"1\" class=\"dataframe\">\n",
              "  <thead>\n",
              "    <tr style=\"text-align: right;\">\n",
              "      <th></th>\n",
              "      <th>num_orders</th>\n",
              "    </tr>\n",
              "    <tr>\n",
              "      <th>datetime</th>\n",
              "      <th></th>\n",
              "    </tr>\n",
              "  </thead>\n",
              "  <tbody>\n",
              "    <tr>\n",
              "      <th>2018-03-01 00:00:00</th>\n",
              "      <td>124</td>\n",
              "    </tr>\n",
              "    <tr>\n",
              "      <th>2018-03-01 01:00:00</th>\n",
              "      <td>85</td>\n",
              "    </tr>\n",
              "    <tr>\n",
              "      <th>2018-03-01 02:00:00</th>\n",
              "      <td>71</td>\n",
              "    </tr>\n",
              "    <tr>\n",
              "      <th>2018-03-01 03:00:00</th>\n",
              "      <td>66</td>\n",
              "    </tr>\n",
              "    <tr>\n",
              "      <th>2018-03-01 04:00:00</th>\n",
              "      <td>43</td>\n",
              "    </tr>\n",
              "  </tbody>\n",
              "</table>\n",
              "</div>"
            ],
            "text/plain": [
              "                     num_orders\n",
              "datetime                       \n",
              "2018-03-01 00:00:00         124\n",
              "2018-03-01 01:00:00          85\n",
              "2018-03-01 02:00:00          71\n",
              "2018-03-01 03:00:00          66\n",
              "2018-03-01 04:00:00          43"
            ]
          },
          "execution_count": 13,
          "metadata": {},
          "output_type": "execute_result"
        }
      ],
      "source": [
        "data.head()"
      ]
    },
    {
      "cell_type": "markdown",
      "metadata": {
        "id": "R5QrM31i6PCg"
      },
      "source": [
        "### Промежуточный вывод"
      ]
    },
    {
      "cell_type": "markdown",
      "metadata": {
        "id": "yg_gw46Y6PCh"
      },
      "source": [
        "В ходе обзора и подготовки данных мы:\n",
        "- загрузили данные;\n",
        "- проверили их на монотонность индекса и наличие пропусков;\n",
        "- провели ресемплирование по одному часу."
      ]
    },
    {
      "cell_type": "markdown",
      "metadata": {
        "id": "uUZ2kGUy6PCh"
      },
      "source": [
        "## Анализ данных"
      ]
    },
    {
      "cell_type": "markdown",
      "metadata": {
        "id": "Q0roBQAZ6PCh"
      },
      "source": [
        "### Анализ стационарности ряда"
      ]
    },
    {
      "cell_type": "markdown",
      "metadata": {
        "id": "yJeLfmBA6PCh"
      },
      "source": [
        "Определим функцию для построения графика"
      ]
    },
    {
      "cell_type": "code",
      "execution_count": null,
      "metadata": {
        "id": "ROJI_pkq6PCt"
      },
      "outputs": [],
      "source": [
        "def plot(data, title):\n",
        "    leg = False\n",
        "    if isinstance(data,pd.DataFrame) and data.shape[1] > 1:\n",
        "        leg = True\n",
        "    plt.figure(figsize=(15, 5))\n",
        "    sns.lineplot(\n",
        "        data=data,\n",
        "        legend=leg\n",
        "    ).set(\n",
        "        xlabel='Дата и время',\n",
        "        ylabel='Число заказов',\n",
        "        title=title\n",
        "    )"
      ]
    },
    {
      "cell_type": "code",
      "execution_count": null,
      "metadata": {
        "scrolled": false,
        "id": "FzGzpjVg6PCt",
        "outputId": "b71e7b3b-e302-4aa2-e99c-769c00adc0b3"
      },
      "outputs": [
        {
          "data": {
            "image/png": "[encoded data removed]",
            "text/plain": [
              "<Figure size 1080x360 with 1 Axes>"
            ]
          },
          "metadata": {
            "needs_background": "light"
          },
          "output_type": "display_data"
        }
      ],
      "source": [
        "plot(data, 'Динамика числа заказов')"
      ]
    },
    {
      "cell_type": "markdown",
      "metadata": {
        "id": "CtsPqp9t6PCu"
      },
      "source": [
        "Проверим ряд на стационарность с помощью теста Дики-Фуллера."
      ]
    },
    {
      "cell_type": "code",
      "execution_count": null,
      "metadata": {
        "id": "BrwqfL896PCu",
        "outputId": "ba5422b4-9ac2-41cc-e4ac-43e6e7d195cc"
      },
      "outputs": [
        {
          "name": "stdout",
          "output_type": "stream",
          "text": [
            "Результаты теста:\n",
            "Тестовая статистика: -3.0689242890279558\n",
            "Пороговое значение при уровне значимости 99%: -3.431842162413052\n"
          ]
        }
      ],
      "source": [
        "print('Результаты теста:')\n",
        "df_result = adfuller(data)\n",
        "\n",
        "print('Тестовая статистика:', df_result[0])\n",
        "print('Пороговое значение при уровне значимости 99%:', df_result[4]['1%'])"
      ]
    },
    {
      "cell_type": "markdown",
      "metadata": {
        "id": "Ezit6csG6PCu"
      },
      "source": [
        "Поскольку тестовая статистика не ниже порогового значения, при уровне значимости 99% мы не можем отвергнуть нулевую гипотезу о нестационарности ряда."
      ]
    },
    {
      "cell_type": "markdown",
      "metadata": {
        "id": "Mi5q75R36PCu"
      },
      "source": [
        "### Разделение ряда на компоненты"
      ]
    },
    {
      "cell_type": "markdown",
      "metadata": {
        "id": "mzdCtKtx6PCu"
      },
      "source": [
        "Построим графики тренда, сезонности и случайной компоненты."
      ]
    },
    {
      "cell_type": "code",
      "execution_count": null,
      "metadata": {
        "id": "AxvAWaOh6PCu"
      },
      "outputs": [],
      "source": [
        "data_decomposed = seasonal_decompose(data)"
      ]
    },
    {
      "cell_type": "code",
      "execution_count": null,
      "metadata": {
        "id": "UIATJeAd6PCu",
        "outputId": "a1a41f0a-ffbb-4d17-e6fb-f45e60f02fa1"
      },
      "outputs": [
        {
          "data": {
            "image/png": "[encoded data removed]",
            "text/plain": [
              "<Figure size 1080x360 with 1 Axes>"
            ]
          },
          "metadata": {
            "needs_background": "light"
          },
          "output_type": "display_data"
        }
      ],
      "source": [
        "plot(data_decomposed.trend, 'Динамика числа заказов (тренд)')"
      ]
    },
    {
      "cell_type": "markdown",
      "metadata": {
        "id": "LhWptyuB6PCu"
      },
      "source": [
        "Даже после выделения тренда видны периодические колебания, которые могут быть связаны с небольшой длиной ряда (что не позволяет выявить, например ежегодную сезонность). Применим сглаживание с помощью скользящего среднего, чтобы выявить более четкий тренд."
      ]
    },
    {
      "cell_type": "code",
      "execution_count": null,
      "metadata": {
        "id": "AoKBuOrK6PCu",
        "outputId": "a4b9c540-d08e-4fc1-ce4f-4310da5c6c52"
      },
      "outputs": [
        {
          "data": {
            "image/png": "[encoded data removed]",
            "text/plain": [
              "<Figure size 1080x360 with 1 Axes>"
            ]
          },
          "metadata": {
            "needs_background": "light"
          },
          "output_type": "display_data"
        }
      ],
      "source": [
        "plot(data_decomposed.trend.rolling('7D').mean(), 'Динамика числа заказов (тренд, 7-дневное ск. среднее)')"
      ]
    },
    {
      "cell_type": "markdown",
      "metadata": {
        "id": "Dv2LCSKI6PCv"
      },
      "source": [
        "Очевидно, что тренд возрастающий."
      ]
    },
    {
      "cell_type": "markdown",
      "metadata": {
        "id": "CqqnhGLs6PCv"
      },
      "source": [
        "Построим график сезонной компоненты."
      ]
    },
    {
      "cell_type": "code",
      "execution_count": null,
      "metadata": {
        "scrolled": true,
        "id": "cKWNpk5U6PCv",
        "outputId": "3ba39d66-ba70-4d4a-f626-5120cb5ca695"
      },
      "outputs": [
        {
          "data": {
            "image/png": "[encoded data removed]",
            "text/plain": [
              "<Figure size 1080x360 with 1 Axes>"
            ]
          },
          "metadata": {
            "needs_background": "light"
          },
          "output_type": "display_data"
        }
      ],
      "source": [
        "plot(data_decomposed.seasonal, 'Динамика числа заказов (сезонность)')"
      ]
    },
    {
      "cell_type": "markdown",
      "metadata": {
        "id": "oIWWpn0c6PCv"
      },
      "source": [
        "График ненаглядный, т.к. у сезонности высокая частота. Рассмотрим только 7-дневный промежуток ."
      ]
    },
    {
      "cell_type": "code",
      "execution_count": null,
      "metadata": {
        "id": "hhAMnaN66PCv",
        "outputId": "9837f120-44ed-4934-fdce-139cc691cfb9"
      },
      "outputs": [
        {
          "data": {
            "image/png": "[encoded data removed]",
            "text/plain": [
              "<Figure size 1080x360 with 1 Axes>"
            ]
          },
          "metadata": {
            "needs_background": "light"
          },
          "output_type": "display_data"
        }
      ],
      "source": [
        "plot(data_decomposed.seasonal['2018-05-01': '2018-05-07'], 'Динамика числа заказов (сезонность)')"
      ]
    },
    {
      "cell_type": "markdown",
      "metadata": {
        "id": "XgvmwdT16PCv"
      },
      "source": [
        "Внутринедельной сезонности не видно. Скорее всего, она внутридневная. Проверим это."
      ]
    },
    {
      "cell_type": "code",
      "execution_count": null,
      "metadata": {
        "scrolled": false,
        "id": "aehm5T356PCv",
        "outputId": "5c4b9ffa-b1bc-4dff-d96f-3c0bc5a9ebd6"
      },
      "outputs": [
        {
          "data": {
            "image/png": "[encoded data removed]",
            "text/plain": [
              "<Figure size 1080x360 with 1 Axes>"
            ]
          },
          "metadata": {
            "needs_background": "light"
          },
          "output_type": "display_data"
        }
      ],
      "source": [
        "plot(data_decomposed.seasonal['2018-05-01': '2018-05-01'], 'Динамика числа заказов (сезонность)')"
      ]
    },
    {
      "cell_type": "markdown",
      "metadata": {
        "id": "OvQrI8pr6PCv"
      },
      "source": [
        "Минимальное число заказов наблюдается в 6 часов утра, максимальное - в полночь."
      ]
    },
    {
      "cell_type": "markdown",
      "metadata": {
        "id": "FESXy_Zu6PCv"
      },
      "source": [
        "Построим график остатков (\"шума\")"
      ]
    },
    {
      "cell_type": "code",
      "execution_count": null,
      "metadata": {
        "id": "rSZzsr9-6PCw",
        "outputId": "396a013e-b4f7-4f92-8d68-1b608eaa7265"
      },
      "outputs": [
        {
          "data": {
            "image/png": "[encoded data removed]",
            "text/plain": [
              "<Figure size 1080x360 with 1 Axes>"
            ]
          },
          "metadata": {
            "needs_background": "light"
          },
          "output_type": "display_data"
        }
      ],
      "source": [
        "plot(data_decomposed.resid, 'Динамика числа заказов (остатки)')"
      ]
    },
    {
      "cell_type": "markdown",
      "metadata": {
        "id": "D3Dvsz5b6PCw"
      },
      "source": [
        "Остатки в целом, на первый взгляд, стационарны (за исключением, возможно, последнего месяца)."
      ]
    },
    {
      "cell_type": "markdown",
      "metadata": {
        "id": "3EFXbHbQ6PCw"
      },
      "source": [
        "### Промежуточный вывод"
      ]
    },
    {
      "cell_type": "markdown",
      "metadata": {
        "id": "XIrk-Kq-6PCw"
      },
      "source": [
        "В ходе анализа данных мы:\n",
        "- выявили нестационарность ряда;\n",
        "- выделили трендовую, сезонную и случайную компоненты;\n",
        "- установили, что присутсвует внутридневная \"сезонность\": минимальное число заказов наблюдается в 6 часов утра, максимальное - в полночь."
      ]
    },
    {
      "cell_type": "markdown",
      "metadata": {
        "id": "1K1lDNYk6PCw"
      },
      "source": [
        "## Генерация признаков"
      ]
    },
    {
      "cell_type": "markdown",
      "metadata": {
        "id": "ccmRnF3D6PCw"
      },
      "source": [
        "### Создание новых признаков"
      ]
    },
    {
      "cell_type": "markdown",
      "metadata": {
        "id": "PYEaTEAw6PCw"
      },
      "source": [
        "Создадим функцию для генерации новых признаков: месяца, недели, дня месяца и дня недели, а также часа, лага и скользящего среднего."
      ]
    },
    {
      "cell_type": "code",
      "execution_count": null,
      "metadata": {
        "id": "RFM4XFIl6PCw"
      },
      "outputs": [],
      "source": [
        "def make_features(df, max_lag, rolling_mean_size):\n",
        "    data = df.copy()\n",
        "    data['month'] = data.index.month\n",
        "    data['day'] = data.index.day\n",
        "    data['dayofweek'] = data.index.dayofweek\n",
        "    data['hour'] = data.index.hour\n",
        "\n",
        "    for lag in range(1, max_lag + 1):\n",
        "        data[f'lag_{lag}'] = data['num_orders'].shift(lag)\n",
        "\n",
        "    data['rolling_mean'] = data['num_orders'].shift().rolling(rolling_mean_size).mean()\n",
        "\n",
        "    return data"
      ]
    },
    {
      "cell_type": "markdown",
      "metadata": {
        "id": "tOAEmCgf6PCw"
      },
      "source": [
        "Добавим лаги (до 10) и скользящее среднее за 7 дней."
      ]
    },
    {
      "cell_type": "code",
      "execution_count": null,
      "metadata": {
        "id": "KOQ1CPSM6PCx"
      },
      "outputs": [],
      "source": [
        "data_new = make_features(data, 10, 7*24)"
      ]
    },
    {
      "cell_type": "code",
      "execution_count": null,
      "metadata": {
        "scrolled": false,
        "id": "K1cuc6gJ6PCx",
        "outputId": "d192bfba-b447-404e-c9b9-eb82c852c7c5"
      },
      "outputs": [
        {
          "name": "stdout",
          "output_type": "stream",
          "text": [
            "<class 'pandas.core.frame.DataFrame'>\n",
            "DatetimeIndex: 4416 entries, 2018-03-01 00:00:00 to 2018-08-31 23:00:00\n",
            "Freq: h\n",
            "Data columns (total 16 columns):\n",
            " #   Column        Non-Null Count  Dtype  \n",
            "---  ------        --------------  -----  \n",
            " 0   num_orders    4416 non-null   int64  \n",
            " 1   month         4416 non-null   int32  \n",
            " 2   day           4416 non-null   int32  \n",
            " 3   dayofweek     4416 non-null   int32  \n",
            " 4   hour          4416 non-null   int32  \n",
            " 5   lag_1         4415 non-null   float64\n",
            " 6   lag_2         4414 non-null   float64\n",
            " 7   lag_3         4413 non-null   float64\n",
            " 8   lag_4         4412 non-null   float64\n",
            " 9   lag_5         4411 non-null   float64\n",
            " 10  lag_6         4410 non-null   float64\n",
            " 11  lag_7         4409 non-null   float64\n",
            " 12  lag_8         4408 non-null   float64\n",
            " 13  lag_9         4407 non-null   float64\n",
            " 14  lag_10        4406 non-null   float64\n",
            " 15  rolling_mean  4248 non-null   float64\n",
            "dtypes: float64(11), int32(4), int64(1)\n",
            "memory usage: 517.5 KB\n"
          ]
        }
      ],
      "source": [
        "data_new.info()"
      ]
    },
    {
      "cell_type": "markdown",
      "metadata": {
        "id": "M8QGfUVL6PCx"
      },
      "source": [
        "### Промежуточный вывод"
      ]
    },
    {
      "cell_type": "markdown",
      "metadata": {
        "id": "-3Gqcph06PCx"
      },
      "source": [
        "В ходе генерации признаков мы:\n",
        "- добавили новые календарные признаки: месяц, неделя, день месяца, день недели, час;\n",
        "- добавили 10 лагов."
      ]
    },
    {
      "cell_type": "markdown",
      "metadata": {
        "id": "vQmArfhe6PCx"
      },
      "source": [
        "## Обучение"
      ]
    },
    {
      "cell_type": "markdown",
      "metadata": {
        "id": "zJdMI35G6PCx"
      },
      "source": [
        "### Разделение на выборки"
      ]
    },
    {
      "cell_type": "markdown",
      "metadata": {
        "id": "pOXHTN7E6PCx"
      },
      "source": [
        "Разделим датасет на тренировочную и тестовую выборки."
      ]
    },
    {
      "cell_type": "code",
      "execution_count": null,
      "metadata": {
        "id": "M9So1IB_6PCx"
      },
      "outputs": [],
      "source": [
        "train, test = train_test_split(\n",
        "    data_new,\n",
        "    test_size=0.1,\n",
        "    shuffle=False\n",
        ")\n",
        "\n",
        "# Удалим пропуски из тренировочной выборки.\n",
        "train = train.dropna()\n",
        "\n",
        "X_train = train.drop('num_orders', axis=1)\n",
        "y_train = train['num_orders']\n",
        "X_test = test.drop('num_orders', axis=1)\n",
        "y_test = test['num_orders']"
      ]
    },
    {
      "cell_type": "code",
      "execution_count": null,
      "metadata": {
        "id": "0XbCBPlb6PCy"
      },
      "outputs": [],
      "source": [
        "time_split = TimeSeriesSplit(n_splits=2)"
      ]
    },
    {
      "cell_type": "markdown",
      "metadata": {
        "id": "WHc9d7nL6PCy"
      },
      "source": [
        "### Референсные модели"
      ]
    },
    {
      "cell_type": "markdown",
      "metadata": {
        "id": "yCmnGSB_6PCy"
      },
      "source": [
        "Построим референсные модели: по среднему значению и на основе прошлого значения."
      ]
    },
    {
      "cell_type": "code",
      "execution_count": null,
      "metadata": {
        "id": "hlBNt9s76PCy"
      },
      "outputs": [],
      "source": [
        "ref_models = []"
      ]
    },
    {
      "cell_type": "code",
      "execution_count": null,
      "metadata": {
        "id": "6QoEMRdO6PCy",
        "outputId": "c585d4bc-0335-4272-86b2-94cfcc0dcc20"
      },
      "outputs": [
        {
          "name": "stdout",
          "output_type": "stream",
          "text": [
            "RMSE on test: 83.97941361168559\n"
          ]
        }
      ],
      "source": [
        "pred_mean = np.ones(y_test.shape)\n",
        "pred_mean.fill(y_train.mean())\n",
        "rmse = root_mean_squared_error(y_test, pred_mean)\n",
        "print(\"RMSE on test:\", rmse)"
      ]
    },
    {
      "cell_type": "code",
      "execution_count": null,
      "metadata": {
        "id": "AwlnsHJA6PCy"
      },
      "outputs": [],
      "source": [
        "ref_models.append(['Mean', rmse])"
      ]
    },
    {
      "cell_type": "code",
      "execution_count": null,
      "metadata": {
        "id": "OmRhb5rl6PCz",
        "outputId": "8dcba61e-9fe9-4c38-b698-054eb7e92652"
      },
      "outputs": [
        {
          "name": "stdout",
          "output_type": "stream",
          "text": [
            "RMSE on test: 58.856486242815066\n"
          ]
        }
      ],
      "source": [
        "pred_previous = y_test.shift(fill_value = y_train.iloc[-1])\n",
        "rmse = root_mean_squared_error(y_test, pred_previous)\n",
        "print(\"RMSE on test:\", rmse)"
      ]
    },
    {
      "cell_type": "code",
      "execution_count": null,
      "metadata": {
        "id": "zcm_w7iF6PCz"
      },
      "outputs": [],
      "source": [
        "ref_models.append(['Prev_value', rmse])"
      ]
    },
    {
      "cell_type": "code",
      "execution_count": null,
      "metadata": {
        "scrolled": false,
        "id": "tewiP4s16PCz"
      },
      "outputs": [],
      "source": [
        "ref_models = pd.DataFrame(ref_models, columns=['model', 'RMSE_test'])"
      ]
    },
    {
      "cell_type": "code",
      "execution_count": null,
      "metadata": {
        "id": "LrCSRGFx6PCz",
        "outputId": "137f7e0c-b813-4939-f571-b4203e804b5f"
      },
      "outputs": [
        {
          "data": {
            "text/html": [
              "<div>\n",
              "<style scoped>\n",
              "    .dataframe tbody tr th:only-of-type {\n",
              "        vertical-align: middle;\n",
              "    }\n",
              "\n",
              "    .dataframe tbody tr th {\n",
              "        vertical-align: top;\n",
              "    }\n",
              "\n",
              "    .dataframe thead th {\n",
              "        text-align: right;\n",
              "    }\n",
              "</style>\n",
              "<table border=\"1\" class=\"dataframe\">\n",
              "  <thead>\n",
              "    <tr style=\"text-align: right;\">\n",
              "      <th></th>\n",
              "      <th>model</th>\n",
              "      <th>RMSE_test</th>\n",
              "    </tr>\n",
              "  </thead>\n",
              "  <tbody>\n",
              "    <tr>\n",
              "      <th>0</th>\n",
              "      <td>Mean</td>\n",
              "      <td>83.979414</td>\n",
              "    </tr>\n",
              "    <tr>\n",
              "      <th>1</th>\n",
              "      <td>Prev_value</td>\n",
              "      <td>58.856486</td>\n",
              "    </tr>\n",
              "  </tbody>\n",
              "</table>\n",
              "</div>"
            ],
            "text/plain": [
              "        model  RMSE_test\n",
              "0        Mean  83.979414\n",
              "1  Prev_value  58.856486"
            ]
          },
          "execution_count": 35,
          "metadata": {},
          "output_type": "execute_result"
        }
      ],
      "source": [
        "ref_models"
      ]
    },
    {
      "cell_type": "markdown",
      "metadata": {
        "id": "2_88CAl26PCz"
      },
      "source": [
        "### Подбор гиперпараметров"
      ]
    },
    {
      "cell_type": "code",
      "execution_count": null,
      "metadata": {
        "id": "RmaDEgoY6PCz"
      },
      "outputs": [],
      "source": [
        "pipe = Pipeline([\n",
        "    ('models', LinearRegression())\n",
        "])"
      ]
    },
    {
      "cell_type": "code",
      "execution_count": null,
      "metadata": {
        "id": "9Pu1Qt886PCz"
      },
      "outputs": [],
      "source": [
        "param_grid = [\n",
        "    # словарь для модели LinearRegression\n",
        "    {\n",
        "        'models': [LinearRegression()]\n",
        "    },\n",
        "\n",
        "    # словарь для модели ElasticNet\n",
        "    {\n",
        "        'models': [ElasticNet(random_state=RANDOM_STATE)],\n",
        "        'models__l1_ratio': [0, 0.5, 1]\n",
        "    },\n",
        "\n",
        "    # словарь для модели DecisionTreeRegressor\n",
        "    {\n",
        "        'models': [DecisionTreeRegressor(random_state=RANDOM_STATE)],\n",
        "        'models__max_depth': [None, 2, 5],\n",
        "        'models__min_samples_split': range(2, 4)\n",
        "    },\n",
        "\n",
        "    # словарь для модели RandomForestRegressor\n",
        "    {\n",
        "        'models': [RandomForestRegressor(random_state=RANDOM_STATE)],\n",
        "        'models__max_depth': [None, 2, 5],\n",
        "        'models__min_samples_leaf': range(1, 3),\n",
        "        'models__n_estimators': [100, 200]\n",
        "    },\n",
        "\n",
        "    # словарь для модели LGBMRegressor\n",
        "    {\n",
        "        'models': [LGBMRegressor(\n",
        "            random_state=RANDOM_STATE,\n",
        "            verbosity=-1\n",
        "        )],\n",
        "        'models__num_leaves': [4, 31],\n",
        "        'models__n_estimators': [100, 200]\n",
        "    }\n",
        "]"
      ]
    },
    {
      "cell_type": "code",
      "execution_count": null,
      "metadata": {
        "id": "_ZJvGXdj6PCz"
      },
      "outputs": [],
      "source": [
        "grid_search = GridSearchCV(\n",
        "    pipe,\n",
        "    param_grid,\n",
        "    cv=time_split,\n",
        "    scoring='neg_root_mean_squared_error',\n",
        "    n_jobs=-1,\n",
        "    verbose=2\n",
        ")"
      ]
    },
    {
      "cell_type": "code",
      "execution_count": null,
      "metadata": {
        "scrolled": false,
        "id": "MCO7DSUM6PC0",
        "outputId": "ef0cd88f-7e9c-4d10-8dd2-c520b21dce71"
      },
      "outputs": [
        {
          "name": "stdout",
          "output_type": "stream",
          "text": [
            "Fitting 2 folds for each of 26 candidates, totalling 52 fits\n",
            "[CV] END ..........................models=LinearRegression(); total time=   0.0s\n",
            "[CV] END ..........................models=LinearRegression(); total time=   0.1s\n"
          ]
        },
        {
          "name": "stderr",
          "output_type": "stream",
          "text": [
            "/opt/conda/lib/python3.9/site-packages/sklearn/linear_model/_coordinate_descent.py:695: ConvergenceWarning: Objective did not converge. You might want to increase the number of iterations, check the scale of the features or consider increasing regularisation. Duality gap: 4.193e+05, tolerance: 1.215e+02 Linear regression models with null weight for the l1 regularization term are more efficiently fitted using one of the solvers implemented in sklearn.linear_model.Ridge/RidgeCV instead.\n",
            "  model = cd_fast.enet_coordinate_descent(\n"
          ]
        },
        {
          "name": "stdout",
          "output_type": "stream",
          "text": [
            "[CV] END models=ElasticNet(random_state=42), models__l1_ratio=0; total time=   0.4s\n"
          ]
        },
        {
          "name": "stderr",
          "output_type": "stream",
          "text": [
            "/opt/conda/lib/python3.9/site-packages/sklearn/linear_model/_coordinate_descent.py:695: ConvergenceWarning: Objective did not converge. You might want to increase the number of iterations, check the scale of the features or consider increasing regularisation. Duality gap: 9.538e+05, tolerance: 2.826e+02 Linear regression models with null weight for the l1 regularization term are more efficiently fitted using one of the solvers implemented in sklearn.linear_model.Ridge/RidgeCV instead.\n",
            "  model = cd_fast.enet_coordinate_descent(\n"
          ]
        },
        {
          "name": "stdout",
          "output_type": "stream",
          "text": [
            "[CV] END models=ElasticNet(random_state=42), models__l1_ratio=0; total time=   0.5s\n",
            "[CV] END models=ElasticNet(random_state=42), models__l1_ratio=0.5; total time=   0.2s\n",
            "[CV] END models=ElasticNet(random_state=42), models__l1_ratio=0.5; total time=   0.2s\n",
            "[CV] END models=ElasticNet(random_state=42), models__l1_ratio=1; total time=   0.2s\n",
            "[CV] END models=ElasticNet(random_state=42), models__l1_ratio=1; total time=   0.2s\n",
            "[CV] END models=DecisionTreeRegressor(random_state=42), models__max_depth=None, models__min_samples_split=2; total time=   0.2s\n",
            "[CV] END models=DecisionTreeRegressor(random_state=42), models__max_depth=None, models__min_samples_split=2; total time=   0.0s\n",
            "[CV] END models=DecisionTreeRegressor(random_state=42), models__max_depth=None, models__min_samples_split=3; total time=   0.0s\n",
            "[CV] END models=DecisionTreeRegressor(random_state=42), models__max_depth=None, models__min_samples_split=3; total time=   0.0s\n",
            "[CV] END models=DecisionTreeRegressor(random_state=42), models__max_depth=2, models__min_samples_split=2; total time=   0.0s\n",
            "[CV] END models=DecisionTreeRegressor(random_state=42), models__max_depth=2, models__min_samples_split=2; total time=   0.0s\n",
            "[CV] END models=DecisionTreeRegressor(random_state=42), models__max_depth=2, models__min_samples_split=3; total time=   0.0s\n",
            "[CV] END models=DecisionTreeRegressor(random_state=42), models__max_depth=2, models__min_samples_split=3; total time=   0.0s\n",
            "[CV] END models=DecisionTreeRegressor(random_state=42), models__max_depth=5, models__min_samples_split=2; total time=   0.0s\n",
            "[CV] END models=DecisionTreeRegressor(random_state=42), models__max_depth=5, models__min_samples_split=2; total time=   0.0s\n",
            "[CV] END models=DecisionTreeRegressor(random_state=42), models__max_depth=5, models__min_samples_split=3; total time=   0.0s\n",
            "[CV] END models=DecisionTreeRegressor(random_state=42), models__max_depth=5, models__min_samples_split=3; total time=   0.0s\n",
            "[CV] END models=RandomForestRegressor(random_state=42), models__max_depth=None, models__min_samples_leaf=1, models__n_estimators=100; total time=   1.4s\n",
            "[CV] END models=RandomForestRegressor(random_state=42), models__max_depth=None, models__min_samples_leaf=1, models__n_estimators=100; total time=   2.7s\n",
            "[CV] END models=RandomForestRegressor(random_state=42), models__max_depth=None, models__min_samples_leaf=1, models__n_estimators=200; total time=   2.7s\n",
            "[CV] END models=RandomForestRegressor(random_state=42), models__max_depth=None, models__min_samples_leaf=1, models__n_estimators=200; total time=   5.4s\n",
            "[CV] END models=RandomForestRegressor(random_state=42), models__max_depth=None, models__min_samples_leaf=2, models__n_estimators=100; total time=   1.1s\n",
            "[CV] END models=RandomForestRegressor(random_state=42), models__max_depth=None, models__min_samples_leaf=2, models__n_estimators=100; total time=   2.3s\n",
            "[CV] END models=RandomForestRegressor(random_state=42), models__max_depth=None, models__min_samples_leaf=2, models__n_estimators=200; total time=   2.3s\n",
            "[CV] END models=RandomForestRegressor(random_state=42), models__max_depth=None, models__min_samples_leaf=2, models__n_estimators=200; total time=   4.5s\n",
            "[CV] END models=RandomForestRegressor(random_state=42), models__max_depth=2, models__min_samples_leaf=1, models__n_estimators=100; total time=   0.3s\n",
            "[CV] END models=RandomForestRegressor(random_state=42), models__max_depth=2, models__min_samples_leaf=1, models__n_estimators=100; total time=   0.5s\n",
            "[CV] END models=RandomForestRegressor(random_state=42), models__max_depth=2, models__min_samples_leaf=1, models__n_estimators=200; total time=   0.7s\n",
            "[CV] END models=RandomForestRegressor(random_state=42), models__max_depth=2, models__min_samples_leaf=1, models__n_estimators=200; total time=   0.9s\n",
            "[CV] END models=RandomForestRegressor(random_state=42), models__max_depth=2, models__min_samples_leaf=2, models__n_estimators=100; total time=   0.3s\n",
            "[CV] END models=RandomForestRegressor(random_state=42), models__max_depth=2, models__min_samples_leaf=2, models__n_estimators=100; total time=   0.4s\n",
            "[CV] END models=RandomForestRegressor(random_state=42), models__max_depth=2, models__min_samples_leaf=2, models__n_estimators=200; total time=   0.6s\n",
            "[CV] END models=RandomForestRegressor(random_state=42), models__max_depth=2, models__min_samples_leaf=2, models__n_estimators=200; total time=   0.9s\n",
            "[CV] END models=RandomForestRegressor(random_state=42), models__max_depth=5, models__min_samples_leaf=1, models__n_estimators=100; total time=   0.5s\n",
            "[CV] END models=RandomForestRegressor(random_state=42), models__max_depth=5, models__min_samples_leaf=1, models__n_estimators=100; total time=   0.9s\n",
            "[CV] END models=RandomForestRegressor(random_state=42), models__max_depth=5, models__min_samples_leaf=1, models__n_estimators=200; total time=   1.1s\n",
            "[CV] END models=RandomForestRegressor(random_state=42), models__max_depth=5, models__min_samples_leaf=1, models__n_estimators=200; total time=   2.9s\n",
            "[CV] END models=RandomForestRegressor(random_state=42), models__max_depth=5, models__min_samples_leaf=2, models__n_estimators=100; total time=   0.6s\n",
            "[CV] END models=RandomForestRegressor(random_state=42), models__max_depth=5, models__min_samples_leaf=2, models__n_estimators=100; total time=   0.9s\n",
            "[CV] END models=RandomForestRegressor(random_state=42), models__max_depth=5, models__min_samples_leaf=2, models__n_estimators=200; total time=   1.1s\n",
            "[CV] END models=RandomForestRegressor(random_state=42), models__max_depth=5, models__min_samples_leaf=2, models__n_estimators=200; total time=   1.8s\n",
            "[CV] END models=LGBMRegressor(random_state=42, verbosity=-1), models__n_estimators=100, models__num_leaves=4; total time=   0.0s\n",
            "[CV] END models=LGBMRegressor(random_state=42, verbosity=-1), models__n_estimators=100, models__num_leaves=4; total time=   0.0s\n",
            "[CV] END models=LGBMRegressor(random_state=42, verbosity=-1), models__n_estimators=100, models__num_leaves=31; total time=   0.1s\n",
            "[CV] END models=LGBMRegressor(random_state=42, verbosity=-1), models__n_estimators=100, models__num_leaves=31; total time=   0.1s\n",
            "[CV] END models=LGBMRegressor(random_state=42, verbosity=-1), models__n_estimators=200, models__num_leaves=4; total time=   0.1s\n",
            "[CV] END models=LGBMRegressor(random_state=42, verbosity=-1), models__n_estimators=200, models__num_leaves=4; total time=   0.1s\n",
            "[CV] END models=LGBMRegressor(random_state=42, verbosity=-1), models__n_estimators=200, models__num_leaves=31; total time=   0.2s\n",
            "[CV] END models=LGBMRegressor(random_state=42, verbosity=-1), models__n_estimators=200, models__num_leaves=31; total time=   0.2s\n"
          ]
        },
        {
          "data": {
            "text/html": [
              "<style>#sk-container-id-1 {\n",
              "  /* Definition of color scheme common for light and dark mode */\n",
              "  --sklearn-color-text: #000;\n",
              "  --sklearn-color-text-muted: #666;\n",
              "  --sklearn-color-line: gray;\n",
              "  /* Definition of color scheme for unfitted estimators */\n",
              "  --sklearn-color-unfitted-level-0: #fff5e6;\n",
              "  --sklearn-color-unfitted-level-1: #f6e4d2;\n",
              "  --sklearn-color-unfitted-level-2: #ffe0b3;\n",
              "  --sklearn-color-unfitted-level-3: chocolate;\n",
              "  /* Definition of color scheme for fitted estimators */\n",
              "  --sklearn-color-fitted-level-0: #f0f8ff;\n",
              "  --sklearn-color-fitted-level-1: #d4ebff;\n",
              "  --sklearn-color-fitted-level-2: #b3dbfd;\n",
              "  --sklearn-color-fitted-level-3: cornflowerblue;\n",
              "\n",
              "  /* Specific color for light theme */\n",
              "  --sklearn-color-text-on-default-background: var(--sg-text-color, var(--theme-code-foreground, var(--jp-content-font-color1, black)));\n",
              "  --sklearn-color-background: var(--sg-background-color, var(--theme-background, var(--jp-layout-color0, white)));\n",
              "  --sklearn-color-border-box: var(--sg-text-color, var(--theme-code-foreground, var(--jp-content-font-color1, black)));\n",
              "  --sklearn-color-icon: #696969;\n",
              "\n",
              "  @media (prefers-color-scheme: dark) {\n",
              "    /* Redefinition of color scheme for dark theme */\n",
              "    --sklearn-color-text-on-default-background: var(--sg-text-color, var(--theme-code-foreground, var(--jp-content-font-color1, white)));\n",
              "    --sklearn-color-background: var(--sg-background-color, var(--theme-background, var(--jp-layout-color0, #111)));\n",
              "    --sklearn-color-border-box: var(--sg-text-color, var(--theme-code-foreground, var(--jp-content-font-color1, white)));\n",
              "    --sklearn-color-icon: #878787;\n",
              "  }\n",
              "}\n",
              "\n",
              "#sk-container-id-1 {\n",
              "  color: var(--sklearn-color-text);\n",
              "}\n",
              "\n",
              "#sk-container-id-1 pre {\n",
              "  padding: 0;\n",
              "}\n",
              "\n",
              "#sk-container-id-1 input.sk-hidden--visually {\n",
              "  border: 0;\n",
              "  clip: rect(1px 1px 1px 1px);\n",
              "  clip: rect(1px, 1px, 1px, 1px);\n",
              "  height: 1px;\n",
              "  margin: -1px;\n",
              "  overflow: hidden;\n",
              "  padding: 0;\n",
              "  position: absolute;\n",
              "  width: 1px;\n",
              "}\n",
              "\n",
              "#sk-container-id-1 div.sk-dashed-wrapped {\n",
              "  border: 1px dashed var(--sklearn-color-line);\n",
              "  margin: 0 0.4em 0.5em 0.4em;\n",
              "  box-sizing: border-box;\n",
              "  padding-bottom: 0.4em;\n",
              "  background-color: var(--sklearn-color-background);\n",
              "}\n",
              "\n",
              "#sk-container-id-1 div.sk-container {\n",
              "  /* jupyter's `normalize.less` sets `[hidden] { display: none; }`\n",
              "     but bootstrap.min.css set `[hidden] { display: none !important; }`\n",
              "     so we also need the `!important` here to be able to override the\n",
              "     default hidden behavior on the sphinx rendered scikit-learn.org.\n",
              "     See: https://github.com/scikit-learn/scikit-learn/issues/21755 */\n",
              "  display: inline-block !important;\n",
              "  position: relative;\n",
              "}\n",
              "\n",
              "#sk-container-id-1 div.sk-text-repr-fallback {\n",
              "  display: none;\n",
              "}\n",
              "\n",
              "div.sk-parallel-item,\n",
              "div.sk-serial,\n",
              "div.sk-item {\n",
              "  /* draw centered vertical line to link estimators */\n",
              "  background-image: linear-gradient(var(--sklearn-color-text-on-default-background), var(--sklearn-color-text-on-default-background));\n",
              "  background-size: 2px 100%;\n",
              "  background-repeat: no-repeat;\n",
              "  background-position: center center;\n",
              "}\n",
              "\n",
              "/* Parallel-specific style estimator block */\n",
              "\n",
              "#sk-container-id-1 div.sk-parallel-item::after {\n",
              "  content: \"\";\n",
              "  width: 100%;\n",
              "  border-bottom: 2px solid var(--sklearn-color-text-on-default-background);\n",
              "  flex-grow: 1;\n",
              "}\n",
              "\n",
              "#sk-container-id-1 div.sk-parallel {\n",
              "  display: flex;\n",
              "  align-items: stretch;\n",
              "  justify-content: center;\n",
              "  background-color: var(--sklearn-color-background);\n",
              "  position: relative;\n",
              "}\n",
              "\n",
              "#sk-container-id-1 div.sk-parallel-item {\n",
              "  display: flex;\n",
              "  flex-direction: column;\n",
              "}\n",
              "\n",
              "#sk-container-id-1 div.sk-parallel-item:first-child::after {\n",
              "  align-self: flex-end;\n",
              "  width: 50%;\n",
              "}\n",
              "\n",
              "#sk-container-id-1 div.sk-parallel-item:last-child::after {\n",
              "  align-self: flex-start;\n",
              "  width: 50%;\n",
              "}\n",
              "\n",
              "#sk-container-id-1 div.sk-parallel-item:only-child::after {\n",
              "  width: 0;\n",
              "}\n",
              "\n",
              "/* Serial-specific style estimator block */\n",
              "\n",
              "#sk-container-id-1 div.sk-serial {\n",
              "  display: flex;\n",
              "  flex-direction: column;\n",
              "  align-items: center;\n",
              "  background-color: var(--sklearn-color-background);\n",
              "  padding-right: 1em;\n",
              "  padding-left: 1em;\n",
              "}\n",
              "\n",
              "\n",
              "/* Toggleable style: style used for estimator/Pipeline/ColumnTransformer box that is\n",
              "clickable and can be expanded/collapsed.\n",
              "- Pipeline and ColumnTransformer use this feature and define the default style\n",
              "- Estimators will overwrite some part of the style using the `sk-estimator` class\n",
              "*/\n",
              "\n",
              "/* Pipeline and ColumnTransformer style (default) */\n",
              "\n",
              "#sk-container-id-1 div.sk-toggleable {\n",
              "  /* Default theme specific background. It is overwritten whether we have a\n",
              "  specific estimator or a Pipeline/ColumnTransformer */\n",
              "  background-color: var(--sklearn-color-background);\n",
              "}\n",
              "\n",
              "/* Toggleable label */\n",
              "#sk-container-id-1 label.sk-toggleable__label {\n",
              "  cursor: pointer;\n",
              "  display: flex;\n",
              "  width: 100%;\n",
              "  margin-bottom: 0;\n",
              "  padding: 0.5em;\n",
              "  box-sizing: border-box;\n",
              "  text-align: center;\n",
              "  align-items: start;\n",
              "  justify-content: space-between;\n",
              "  gap: 0.5em;\n",
              "}\n",
              "\n",
              "#sk-container-id-1 label.sk-toggleable__label .caption {\n",
              "  font-size: 0.6rem;\n",
              "  font-weight: lighter;\n",
              "  color: var(--sklearn-color-text-muted);\n",
              "}\n",
              "\n",
              "#sk-container-id-1 label.sk-toggleable__label-arrow:before {\n",
              "  /* Arrow on the left of the label */\n",
              "  content: \"▸\";\n",
              "  float: left;\n",
              "  margin-right: 0.25em;\n",
              "  color: var(--sklearn-color-icon);\n",
              "}\n",
              "\n",
              "#sk-container-id-1 label.sk-toggleable__label-arrow:hover:before {\n",
              "  color: var(--sklearn-color-text);\n",
              "}\n",
              "\n",
              "/* Toggleable content - dropdown */\n",
              "\n",
              "#sk-container-id-1 div.sk-toggleable__content {\n",
              "  max-height: 0;\n",
              "  max-width: 0;\n",
              "  overflow: hidden;\n",
              "  text-align: left;\n",
              "  /* unfitted */\n",
              "  background-color: var(--sklearn-color-unfitted-level-0);\n",
              "}\n",
              "\n",
              "#sk-container-id-1 div.sk-toggleable__content.fitted {\n",
              "  /* fitted */\n",
              "  background-color: var(--sklearn-color-fitted-level-0);\n",
              "}\n",
              "\n",
              "#sk-container-id-1 div.sk-toggleable__content pre {\n",
              "  margin: 0.2em;\n",
              "  border-radius: 0.25em;\n",
              "  color: var(--sklearn-color-text);\n",
              "  /* unfitted */\n",
              "  background-color: var(--sklearn-color-unfitted-level-0);\n",
              "}\n",
              "\n",
              "#sk-container-id-1 div.sk-toggleable__content.fitted pre {\n",
              "  /* unfitted */\n",
              "  background-color: var(--sklearn-color-fitted-level-0);\n",
              "}\n",
              "\n",
              "#sk-container-id-1 input.sk-toggleable__control:checked~div.sk-toggleable__content {\n",
              "  /* Expand drop-down */\n",
              "  max-height: 200px;\n",
              "  max-width: 100%;\n",
              "  overflow: auto;\n",
              "}\n",
              "\n",
              "#sk-container-id-1 input.sk-toggleable__control:checked~label.sk-toggleable__label-arrow:before {\n",
              "  content: \"▾\";\n",
              "}\n",
              "\n",
              "/* Pipeline/ColumnTransformer-specific style */\n",
              "\n",
              "#sk-container-id-1 div.sk-label input.sk-toggleable__control:checked~label.sk-toggleable__label {\n",
              "  color: var(--sklearn-color-text);\n",
              "  background-color: var(--sklearn-color-unfitted-level-2);\n",
              "}\n",
              "\n",
              "#sk-container-id-1 div.sk-label.fitted input.sk-toggleable__control:checked~label.sk-toggleable__label {\n",
              "  background-color: var(--sklearn-color-fitted-level-2);\n",
              "}\n",
              "\n",
              "/* Estimator-specific style */\n",
              "\n",
              "/* Colorize estimator box */\n",
              "#sk-container-id-1 div.sk-estimator input.sk-toggleable__control:checked~label.sk-toggleable__label {\n",
              "  /* unfitted */\n",
              "  background-color: var(--sklearn-color-unfitted-level-2);\n",
              "}\n",
              "\n",
              "#sk-container-id-1 div.sk-estimator.fitted input.sk-toggleable__control:checked~label.sk-toggleable__label {\n",
              "  /* fitted */\n",
              "  background-color: var(--sklearn-color-fitted-level-2);\n",
              "}\n",
              "\n",
              "#sk-container-id-1 div.sk-label label.sk-toggleable__label,\n",
              "#sk-container-id-1 div.sk-label label {\n",
              "  /* The background is the default theme color */\n",
              "  color: var(--sklearn-color-text-on-default-background);\n",
              "}\n",
              "\n",
              "/* On hover, darken the color of the background */\n",
              "#sk-container-id-1 div.sk-label:hover label.sk-toggleable__label {\n",
              "  color: var(--sklearn-color-text);\n",
              "  background-color: var(--sklearn-color-unfitted-level-2);\n",
              "}\n",
              "\n",
              "/* Label box, darken color on hover, fitted */\n",
              "#sk-container-id-1 div.sk-label.fitted:hover label.sk-toggleable__label.fitted {\n",
              "  color: var(--sklearn-color-text);\n",
              "  background-color: var(--sklearn-color-fitted-level-2);\n",
              "}\n",
              "\n",
              "/* Estimator label */\n",
              "\n",
              "#sk-container-id-1 div.sk-label label {\n",
              "  font-family: monospace;\n",
              "  font-weight: bold;\n",
              "  display: inline-block;\n",
              "  line-height: 1.2em;\n",
              "}\n",
              "\n",
              "#sk-container-id-1 div.sk-label-container {\n",
              "  text-align: center;\n",
              "}\n",
              "\n",
              "/* Estimator-specific */\n",
              "#sk-container-id-1 div.sk-estimator {\n",
              "  font-family: monospace;\n",
              "  border: 1px dotted var(--sklearn-color-border-box);\n",
              "  border-radius: 0.25em;\n",
              "  box-sizing: border-box;\n",
              "  margin-bottom: 0.5em;\n",
              "  /* unfitted */\n",
              "  background-color: var(--sklearn-color-unfitted-level-0);\n",
              "}\n",
              "\n",
              "#sk-container-id-1 div.sk-estimator.fitted {\n",
              "  /* fitted */\n",
              "  background-color: var(--sklearn-color-fitted-level-0);\n",
              "}\n",
              "\n",
              "/* on hover */\n",
              "#sk-container-id-1 div.sk-estimator:hover {\n",
              "  /* unfitted */\n",
              "  background-color: var(--sklearn-color-unfitted-level-2);\n",
              "}\n",
              "\n",
              "#sk-container-id-1 div.sk-estimator.fitted:hover {\n",
              "  /* fitted */\n",
              "  background-color: var(--sklearn-color-fitted-level-2);\n",
              "}\n",
              "\n",
              "/* Specification for estimator info (e.g. \"i\" and \"?\") */\n",
              "\n",
              "/* Common style for \"i\" and \"?\" */\n",
              "\n",
              ".sk-estimator-doc-link,\n",
              "a:link.sk-estimator-doc-link,\n",
              "a:visited.sk-estimator-doc-link {\n",
              "  float: right;\n",
              "  font-size: smaller;\n",
              "  line-height: 1em;\n",
              "  font-family: monospace;\n",
              "  background-color: var(--sklearn-color-background);\n",
              "  border-radius: 1em;\n",
              "  height: 1em;\n",
              "  width: 1em;\n",
              "  text-decoration: none !important;\n",
              "  margin-left: 0.5em;\n",
              "  text-align: center;\n",
              "  /* unfitted */\n",
              "  border: var(--sklearn-color-unfitted-level-1) 1pt solid;\n",
              "  color: var(--sklearn-color-unfitted-level-1);\n",
              "}\n",
              "\n",
              ".sk-estimator-doc-link.fitted,\n",
              "a:link.sk-estimator-doc-link.fitted,\n",
              "a:visited.sk-estimator-doc-link.fitted {\n",
              "  /* fitted */\n",
              "  border: var(--sklearn-color-fitted-level-1) 1pt solid;\n",
              "  color: var(--sklearn-color-fitted-level-1);\n",
              "}\n",
              "\n",
              "/* On hover */\n",
              "div.sk-estimator:hover .sk-estimator-doc-link:hover,\n",
              ".sk-estimator-doc-link:hover,\n",
              "div.sk-label-container:hover .sk-estimator-doc-link:hover,\n",
              ".sk-estimator-doc-link:hover {\n",
              "  /* unfitted */\n",
              "  background-color: var(--sklearn-color-unfitted-level-3);\n",
              "  color: var(--sklearn-color-background);\n",
              "  text-decoration: none;\n",
              "}\n",
              "\n",
              "div.sk-estimator.fitted:hover .sk-estimator-doc-link.fitted:hover,\n",
              ".sk-estimator-doc-link.fitted:hover,\n",
              "div.sk-label-container:hover .sk-estimator-doc-link.fitted:hover,\n",
              ".sk-estimator-doc-link.fitted:hover {\n",
              "  /* fitted */\n",
              "  background-color: var(--sklearn-color-fitted-level-3);\n",
              "  color: var(--sklearn-color-background);\n",
              "  text-decoration: none;\n",
              "}\n",
              "\n",
              "/* Span, style for the box shown on hovering the info icon */\n",
              ".sk-estimator-doc-link span {\n",
              "  display: none;\n",
              "  z-index: 9999;\n",
              "  position: relative;\n",
              "  font-weight: normal;\n",
              "  right: .2ex;\n",
              "  padding: .5ex;\n",
              "  margin: .5ex;\n",
              "  width: min-content;\n",
              "  min-width: 20ex;\n",
              "  max-width: 50ex;\n",
              "  color: var(--sklearn-color-text);\n",
              "  box-shadow: 2pt 2pt 4pt #999;\n",
              "  /* unfitted */\n",
              "  background: var(--sklearn-color-unfitted-level-0);\n",
              "  border: .5pt solid var(--sklearn-color-unfitted-level-3);\n",
              "}\n",
              "\n",
              ".sk-estimator-doc-link.fitted span {\n",
              "  /* fitted */\n",
              "  background: var(--sklearn-color-fitted-level-0);\n",
              "  border: var(--sklearn-color-fitted-level-3);\n",
              "}\n",
              "\n",
              ".sk-estimator-doc-link:hover span {\n",
              "  display: block;\n",
              "}\n",
              "\n",
              "/* \"?\"-specific style due to the `<a>` HTML tag */\n",
              "\n",
              "#sk-container-id-1 a.estimator_doc_link {\n",
              "  float: right;\n",
              "  font-size: 1rem;\n",
              "  line-height: 1em;\n",
              "  font-family: monospace;\n",
              "  background-color: var(--sklearn-color-background);\n",
              "  border-radius: 1rem;\n",
              "  height: 1rem;\n",
              "  width: 1rem;\n",
              "  text-decoration: none;\n",
              "  /* unfitted */\n",
              "  color: var(--sklearn-color-unfitted-level-1);\n",
              "  border: var(--sklearn-color-unfitted-level-1) 1pt solid;\n",
              "}\n",
              "\n",
              "#sk-container-id-1 a.estimator_doc_link.fitted {\n",
              "  /* fitted */\n",
              "  border: var(--sklearn-color-fitted-level-1) 1pt solid;\n",
              "  color: var(--sklearn-color-fitted-level-1);\n",
              "}\n",
              "\n",
              "/* On hover */\n",
              "#sk-container-id-1 a.estimator_doc_link:hover {\n",
              "  /* unfitted */\n",
              "  background-color: var(--sklearn-color-unfitted-level-3);\n",
              "  color: var(--sklearn-color-background);\n",
              "  text-decoration: none;\n",
              "}\n",
              "\n",
              "#sk-container-id-1 a.estimator_doc_link.fitted:hover {\n",
              "  /* fitted */\n",
              "  background-color: var(--sklearn-color-fitted-level-3);\n",
              "}\n",
              "</style><div id=\"sk-container-id-1\" class=\"sk-top-container\"><div class=\"sk-text-repr-fallback\"><pre>GridSearchCV(cv=TimeSeriesSplit(gap=0, max_train_size=None, n_splits=2, test_size=None),\n",
              "             estimator=Pipeline(steps=[(&#x27;models&#x27;, LinearRegression())]),\n",
              "             n_jobs=-1,\n",
              "             param_grid=[{&#x27;models&#x27;: [LinearRegression()]},\n",
              "                         {&#x27;models&#x27;: [ElasticNet(random_state=42)],\n",
              "                          &#x27;models__l1_ratio&#x27;: [0, 0.5, 1]},\n",
              "                         {&#x27;models&#x27;: [DecisionTreeRegressor(random_state=42)],\n",
              "                          &#x27;models__max_depth&#x27;: [None, 2, 5],\n",
              "                          &#x27;...n_samples_split&#x27;: range(2, 4)},\n",
              "                         {&#x27;models&#x27;: [RandomForestRegressor(random_state=42)],\n",
              "                          &#x27;models__max_depth&#x27;: [None, 2, 5],\n",
              "                          &#x27;models__min_samples_leaf&#x27;: range(1, 3),\n",
              "                          &#x27;models__n_estimators&#x27;: [100, 200]},\n",
              "                         {&#x27;models&#x27;: [LGBMRegressor(random_state=42,\n",
              "                                                   verbosity=-1)],\n",
              "                          &#x27;models__n_estimators&#x27;: [100, 200],\n",
              "                          &#x27;models__num_leaves&#x27;: [4, 31]}],\n",
              "             scoring=&#x27;neg_root_mean_squared_error&#x27;, verbose=2)</pre><b>In a Jupyter environment, please rerun this cell to show the HTML representation or trust the notebook. <br />On GitHub, the HTML representation is unable to render, please try loading this page with nbviewer.org.</b></div><div class=\"sk-container\" hidden><div class=\"sk-item sk-dashed-wrapped\"><div class=\"sk-label-container\"><div class=\"sk-label fitted sk-toggleable\"><input class=\"sk-toggleable__control sk-hidden--visually\" id=\"sk-estimator-id-1\" type=\"checkbox\" ><label for=\"sk-estimator-id-1\" class=\"sk-toggleable__label fitted sk-toggleable__label-arrow\"><div><div>GridSearchCV</div></div><div><a class=\"sk-estimator-doc-link fitted\" rel=\"noreferrer\" target=\"_blank\" href=\"https://scikit-learn.org/1.6/modules/generated/sklearn.model_selection.GridSearchCV.html\">?<span>Documentation for GridSearchCV</span></a><span class=\"sk-estimator-doc-link fitted\">i<span>Fitted</span></span></div></label><div class=\"sk-toggleable__content fitted\"><pre>GridSearchCV(cv=TimeSeriesSplit(gap=0, max_train_size=None, n_splits=2, test_size=None),\n",
              "             estimator=Pipeline(steps=[(&#x27;models&#x27;, LinearRegression())]),\n",
              "             n_jobs=-1,\n",
              "             param_grid=[{&#x27;models&#x27;: [LinearRegression()]},\n",
              "                         {&#x27;models&#x27;: [ElasticNet(random_state=42)],\n",
              "                          &#x27;models__l1_ratio&#x27;: [0, 0.5, 1]},\n",
              "                         {&#x27;models&#x27;: [DecisionTreeRegressor(random_state=42)],\n",
              "                          &#x27;models__max_depth&#x27;: [None, 2, 5],\n",
              "                          &#x27;...n_samples_split&#x27;: range(2, 4)},\n",
              "                         {&#x27;models&#x27;: [RandomForestRegressor(random_state=42)],\n",
              "                          &#x27;models__max_depth&#x27;: [None, 2, 5],\n",
              "                          &#x27;models__min_samples_leaf&#x27;: range(1, 3),\n",
              "                          &#x27;models__n_estimators&#x27;: [100, 200]},\n",
              "                         {&#x27;models&#x27;: [LGBMRegressor(random_state=42,\n",
              "                                                   verbosity=-1)],\n",
              "                          &#x27;models__n_estimators&#x27;: [100, 200],\n",
              "                          &#x27;models__num_leaves&#x27;: [4, 31]}],\n",
              "             scoring=&#x27;neg_root_mean_squared_error&#x27;, verbose=2)</pre></div> </div></div><div class=\"sk-parallel\"><div class=\"sk-parallel-item\"><div class=\"sk-item\"><div class=\"sk-label-container\"><div class=\"sk-label fitted sk-toggleable\"><input class=\"sk-toggleable__control sk-hidden--visually\" id=\"sk-estimator-id-2\" type=\"checkbox\" ><label for=\"sk-estimator-id-2\" class=\"sk-toggleable__label fitted sk-toggleable__label-arrow\"><div><div>best_estimator_: Pipeline</div></div></label><div class=\"sk-toggleable__content fitted\"><pre>Pipeline(steps=[(&#x27;models&#x27;,\n",
              "                 RandomForestRegressor(n_estimators=200, random_state=42))])</pre></div> </div></div><div class=\"sk-serial\"><div class=\"sk-item\"><div class=\"sk-serial\"><div class=\"sk-item\"><div class=\"sk-estimator fitted sk-toggleable\"><input class=\"sk-toggleable__control sk-hidden--visually\" id=\"sk-estimator-id-3\" type=\"checkbox\" ><label for=\"sk-estimator-id-3\" class=\"sk-toggleable__label fitted sk-toggleable__label-arrow\"><div><div>RandomForestRegressor</div></div><div><a class=\"sk-estimator-doc-link fitted\" rel=\"noreferrer\" target=\"_blank\" href=\"https://scikit-learn.org/1.6/modules/generated/sklearn.ensemble.RandomForestRegressor.html\">?<span>Documentation for RandomForestRegressor</span></a></div></label><div class=\"sk-toggleable__content fitted\"><pre>RandomForestRegressor(n_estimators=200, random_state=42)</pre></div> </div></div></div></div></div></div></div></div></div></div></div>"
            ],
            "text/plain": [
              "GridSearchCV(cv=TimeSeriesSplit(gap=0, max_train_size=None, n_splits=2, test_size=None),\n",
              "             estimator=Pipeline(steps=[('models', LinearRegression())]),\n",
              "             n_jobs=-1,\n",
              "             param_grid=[{'models': [LinearRegression()]},\n",
              "                         {'models': [ElasticNet(random_state=42)],\n",
              "                          'models__l1_ratio': [0, 0.5, 1]},\n",
              "                         {'models': [DecisionTreeRegressor(random_state=42)],\n",
              "                          'models__max_depth': [None, 2, 5],\n",
              "                          '...n_samples_split': range(2, 4)},\n",
              "                         {'models': [RandomForestRegressor(random_state=42)],\n",
              "                          'models__max_depth': [None, 2, 5],\n",
              "                          'models__min_samples_leaf': range(1, 3),\n",
              "                          'models__n_estimators': [100, 200]},\n",
              "                         {'models': [LGBMRegressor(random_state=42,\n",
              "                                                   verbosity=-1)],\n",
              "                          'models__n_estimators': [100, 200],\n",
              "                          'models__num_leaves': [4, 31]}],\n",
              "             scoring='neg_root_mean_squared_error', verbose=2)"
            ]
          },
          "execution_count": 39,
          "metadata": {},
          "output_type": "execute_result"
        }
      ],
      "source": [
        "grid_search.fit(X_train, y_train)"
      ]
    },
    {
      "cell_type": "code",
      "execution_count": null,
      "metadata": {
        "id": "v5hHRMej6PC0"
      },
      "outputs": [],
      "source": [
        "df = pd.DataFrame(grid_search.cv_results_)[['param_models', 'params', 'mean_test_score']]\n",
        "df.columns = ['model', 'best_parameters', 'RMSE_cv']\n",
        "df['RMSE_cv'] = -df['RMSE_cv']"
      ]
    },
    {
      "cell_type": "code",
      "execution_count": null,
      "metadata": {
        "scrolled": false,
        "id": "-DSPrW9k6PC0",
        "outputId": "7d7b4e88-cb15-49c3-8710-1c588d874f3a"
      },
      "outputs": [
        {
          "data": {
            "text/html": [
              "<div>\n",
              "<style scoped>\n",
              "    .dataframe tbody tr th:only-of-type {\n",
              "        vertical-align: middle;\n",
              "    }\n",
              "\n",
              "    .dataframe tbody tr th {\n",
              "        vertical-align: top;\n",
              "    }\n",
              "\n",
              "    .dataframe thead th {\n",
              "        text-align: right;\n",
              "    }\n",
              "</style>\n",
              "<table border=\"1\" class=\"dataframe\">\n",
              "  <thead>\n",
              "    <tr style=\"text-align: right;\">\n",
              "      <th></th>\n",
              "      <th>best_parameters</th>\n",
              "      <th>RMSE_cv</th>\n",
              "    </tr>\n",
              "    <tr>\n",
              "      <th>model</th>\n",
              "      <th></th>\n",
              "      <th></th>\n",
              "    </tr>\n",
              "  </thead>\n",
              "  <tbody>\n",
              "    <tr>\n",
              "      <th>RandomForestRegressor(random_state=42)</th>\n",
              "      <td>{'models': RandomForestRegressor(random_state=...</td>\n",
              "      <td>27.063103</td>\n",
              "    </tr>\n",
              "    <tr>\n",
              "      <th>LGBMRegressor(random_state=42, verbosity=-1)</th>\n",
              "      <td>{'models': LGBMRegressor(random_state=42, verb...</td>\n",
              "      <td>27.502060</td>\n",
              "    </tr>\n",
              "    <tr>\n",
              "      <th>ElasticNet(random_state=42)</th>\n",
              "      <td>{'models': ElasticNet(random_state=42), 'model...</td>\n",
              "      <td>32.680015</td>\n",
              "    </tr>\n",
              "    <tr>\n",
              "      <th>LinearRegression()</th>\n",
              "      <td>{'models': LinearRegression()}</td>\n",
              "      <td>32.746141</td>\n",
              "    </tr>\n",
              "    <tr>\n",
              "      <th>DecisionTreeRegressor(random_state=42)</th>\n",
              "      <td>{'models': DecisionTreeRegressor(random_state=...</td>\n",
              "      <td>35.504356</td>\n",
              "    </tr>\n",
              "  </tbody>\n",
              "</table>\n",
              "</div>"
            ],
            "text/plain": [
              "                                                                                best_parameters  \\\n",
              "model                                                                                             \n",
              "RandomForestRegressor(random_state=42)        {'models': RandomForestRegressor(random_state=...   \n",
              "LGBMRegressor(random_state=42, verbosity=-1)  {'models': LGBMRegressor(random_state=42, verb...   \n",
              "ElasticNet(random_state=42)                   {'models': ElasticNet(random_state=42), 'model...   \n",
              "LinearRegression()                                               {'models': LinearRegression()}   \n",
              "DecisionTreeRegressor(random_state=42)        {'models': DecisionTreeRegressor(random_state=...   \n",
              "\n",
              "                                                RMSE_cv  \n",
              "model                                                    \n",
              "RandomForestRegressor(random_state=42)        27.063103  \n",
              "LGBMRegressor(random_state=42, verbosity=-1)  27.502060  \n",
              "ElasticNet(random_state=42)                   32.680015  \n",
              "LinearRegression()                            32.746141  \n",
              "DecisionTreeRegressor(random_state=42)        35.504356  "
            ]
          },
          "execution_count": 41,
          "metadata": {},
          "output_type": "execute_result"
        }
      ],
      "source": [
        "df.sort_values('RMSE_cv') \\\n",
        ".groupby('model', sort=False) \\\n",
        ".agg({'best_parameters': 'first', 'RMSE_cv': 'first'})"
      ]
    },
    {
      "cell_type": "markdown",
      "metadata": {
        "id": "yhbZuq9t6PC0"
      },
      "source": [
        "### Промежуточный вывод"
      ]
    },
    {
      "cell_type": "markdown",
      "metadata": {
        "id": "kepMyZqM6PC0"
      },
      "source": [
        "В ходе обучения моделей мы:\n",
        "- разделили данные на тренировочную и тестовую выборки;\n",
        "- построили референсные модели по среднему значению и на основе прошлого значения;\n",
        "- перебрали 5 типов моделей с различными гиперпараметрами;\n",
        "- лучшей моделью по метрике на кросс-валидации (27.1) стала модель на основе случайного леса."
      ]
    },
    {
      "cell_type": "markdown",
      "metadata": {
        "id": "Mzxmck2i6PC0"
      },
      "source": [
        "## Оценка модели"
      ]
    },
    {
      "cell_type": "markdown",
      "metadata": {
        "id": "OuijLeeg6PC0"
      },
      "source": [
        "### Метрика на тестовой выборке"
      ]
    },
    {
      "cell_type": "markdown",
      "metadata": {
        "id": "Ozi22hBK6PC0"
      },
      "source": [
        "Рассчитаем метрику лучшей модели на тестовой выборке."
      ]
    },
    {
      "cell_type": "code",
      "execution_count": null,
      "metadata": {
        "id": "JJsJnqtc6PC0",
        "outputId": "0e349702-380f-4b49-acce-65979d4a3358"
      },
      "outputs": [
        {
          "name": "stdout",
          "output_type": "stream",
          "text": [
            "RMSE on test: 44.0117549979291\n"
          ]
        }
      ],
      "source": [
        "y_pred = grid_search.predict(X_test)\n",
        "rmse = root_mean_squared_error(y_test, y_pred)\n",
        "print(\"RMSE on test:\", rmse)"
      ]
    },
    {
      "cell_type": "markdown",
      "metadata": {
        "id": "kXNDhw6s6PC1"
      },
      "source": [
        "Метрика лучше установленного критерия (48)."
      ]
    },
    {
      "cell_type": "markdown",
      "metadata": {
        "id": "GQufLjtg6PC1"
      },
      "source": [
        "Сравним с референсными моделями."
      ]
    },
    {
      "cell_type": "code",
      "execution_count": null,
      "metadata": {
        "scrolled": true,
        "id": "jlxlmPtt6PC1",
        "outputId": "b6e9fec8-bac7-4cfa-b400-1d71f95bc9fe"
      },
      "outputs": [
        {
          "data": {
            "text/html": [
              "<div>\n",
              "<style scoped>\n",
              "    .dataframe tbody tr th:only-of-type {\n",
              "        vertical-align: middle;\n",
              "    }\n",
              "\n",
              "    .dataframe tbody tr th {\n",
              "        vertical-align: top;\n",
              "    }\n",
              "\n",
              "    .dataframe thead th {\n",
              "        text-align: right;\n",
              "    }\n",
              "</style>\n",
              "<table border=\"1\" class=\"dataframe\">\n",
              "  <thead>\n",
              "    <tr style=\"text-align: right;\">\n",
              "      <th></th>\n",
              "      <th>model</th>\n",
              "      <th>RMSE_test</th>\n",
              "    </tr>\n",
              "  </thead>\n",
              "  <tbody>\n",
              "    <tr>\n",
              "      <th>0</th>\n",
              "      <td>RandomForestRegressor(random_state=42)</td>\n",
              "      <td>44.011755</td>\n",
              "    </tr>\n",
              "    <tr>\n",
              "      <th>1</th>\n",
              "      <td>Prev_value</td>\n",
              "      <td>58.856486</td>\n",
              "    </tr>\n",
              "    <tr>\n",
              "      <th>0</th>\n",
              "      <td>Mean</td>\n",
              "      <td>83.979414</td>\n",
              "    </tr>\n",
              "  </tbody>\n",
              "</table>\n",
              "</div>"
            ],
            "text/plain": [
              "                                    model  RMSE_test\n",
              "0  RandomForestRegressor(random_state=42)  44.011755\n",
              "1                              Prev_value  58.856486\n",
              "0                                    Mean  83.979414"
            ]
          },
          "execution_count": 43,
          "metadata": {},
          "output_type": "execute_result"
        }
      ],
      "source": [
        "best_model = df['model'][grid_search.best_index_]\n",
        "models = pd.DataFrame([[best_model, rmse]], columns=['model', 'RMSE_test'])\n",
        "models = pd.concat([models, ref_models])\n",
        "models.sort_values('RMSE_test')"
      ]
    },
    {
      "cell_type": "markdown",
      "metadata": {
        "id": "p9W76YmG6PC1"
      },
      "source": [
        "### Графический анализ"
      ]
    },
    {
      "cell_type": "markdown",
      "metadata": {
        "id": "UbKQvRrH6PC1"
      },
      "source": [
        "Построим график истинных и предсказанных значений на тестовой выборке."
      ]
    },
    {
      "cell_type": "code",
      "execution_count": null,
      "metadata": {
        "scrolled": true,
        "id": "Ggs6QZ3J6PC1",
        "outputId": "aec218b0-30f3-4568-ecfc-f0155007c1ae"
      },
      "outputs": [
        {
          "data": {
            "image/png": "[encoded data removed]",
            "text/plain": [
              "<Figure size 1080x360 with 1 Axes>"
            ]
          },
          "metadata": {
            "needs_background": "light"
          },
          "output_type": "display_data"
        }
      ],
      "source": [
        "df = pd.DataFrame(columns=['Факт', 'Прогноз'])\n",
        "df['Факт'] = y_test\n",
        "df['Прогноз'] = y_pred.astype(int)\n",
        "plot(df, 'Факт / прогноз')"
      ]
    },
    {
      "cell_type": "markdown",
      "metadata": {
        "id": "eZjJuRm_6PC1"
      },
      "source": [
        "Модель в целом улавливает \"сезонность\", однако не может спрогнозировать колебания с большой амплитудой. Это обусловлено тем, что в исторических данных подобных колебаний такого размаха не наблюдалось."
      ]
    },
    {
      "cell_type": "markdown",
      "metadata": {
        "id": "1Je92Lnq6PC1"
      },
      "source": [
        "### Анализ важности признаков"
      ]
    },
    {
      "cell_type": "markdown",
      "metadata": {
        "id": "XTx7PG0x6PC1"
      },
      "source": [
        "Построим график важности признаков с помощью метода Шепли."
      ]
    },
    {
      "cell_type": "code",
      "execution_count": null,
      "metadata": {
        "scrolled": false,
        "id": "ZS3mCowi6PC1",
        "outputId": "b713d3c7-edee-4b89-f85a-59deb1d61273"
      },
      "outputs": [
        {
          "name": "stderr",
          "output_type": "stream",
          "text": [
            "100%|===================| 441/442 [00:20<00:00]        "
          ]
        },
        {
          "data": {
            "image/png": "[encoded data removed]",
            "text/plain": [
              "<Figure size 576x396 with 2 Axes>"
            ]
          },
          "metadata": {
            "needs_background": "light"
          },
          "output_type": "display_data"
        }
      ],
      "source": [
        "explainer = shap.TreeExplainer(grid_search.best_estimator_['models'], X_test)\n",
        "shap_values = explainer(X_test)\n",
        "shap.plots.beeswarm(shap_values, show=False);\n",
        "\n",
        "fig, ax = plt.gcf(), plt.gca()\n",
        "fig.suptitle('Влияние факторов на целевой признак по методу Шепли', fontsize=16)\n",
        "ax.set_xlabel('Значения SHAP (влияние на целевой признак)')\n",
        "ax.set_ylabel('Признаки')\n",
        "cb_ax = fig.axes[1]\n",
        "cb_ax.set_ylabel('Значение признака')\n",
        "plt.show()"
      ]
    },
    {
      "cell_type": "markdown",
      "metadata": {
        "id": "7eMAndSO6PC2"
      },
      "source": [
        "Мы видим, что на значение целевого признака в большей степени влияют:\n",
        "- час (т.к. есть внутридневная сезонность);\n",
        "- 1-часовой лаг (прямая зависимость);\n",
        "- 7-часовой лаг (прямая зависимость)."
      ]
    },
    {
      "cell_type": "markdown",
      "metadata": {
        "id": "9wWVPkWd6PC2"
      },
      "source": [
        "### Промежуточный вывод"
      ]
    },
    {
      "cell_type": "markdown",
      "metadata": {
        "id": "Fp7xYRly6PC2"
      },
      "source": [
        "В ходе оценки лучшей модели мы:\n",
        "- рассчитали метрику RMSE на тестовой выборке - 44.0, что лучше целевого значения (48) и референсных моделей;\n",
        "- построили график факт/прогноз, из которого видно, что модель сильнее ошибается при больших колебаниях признака;\n",
        "- выявили, что на значение целевого признака в большей степени влияет внутридневная сезонность, а также 1- и 7-часовые лаги."
      ]
    },
    {
      "cell_type": "markdown",
      "metadata": {
        "id": "gVbyp1VW6PC2"
      },
      "source": [
        "## Общий вывод"
      ]
    },
    {
      "cell_type": "markdown",
      "metadata": {
        "id": "Fo919trn6PC2"
      },
      "source": [
        "Мы построили модель прогнозирования количества заказов такси на следующий час.\n",
        "\n",
        "В ходе **подготовки данных** мы:\n",
        "- установили, что в датасете представлены данные с 1 марта 2018 года по 31 августа 2018 года;\n",
        "- ресесемплировали данные по одному часу.\n",
        "\n",
        "В ходе **анализа данных**:\n",
        "- провели графический анализ;\n",
        "- выделили тренд, сезонность и случайную компоненту;\n",
        "- установили, что данные имеют ежедневную \"сезонность\".\n",
        "\n",
        "При **создании новых признаков**:\n",
        "- выделили значения месяца, дня, дня недели и часа;\n",
        "- добавили лаги до 10 включительно;\n",
        "- добавили 7-дневное скользящее среднее.\n",
        "\n",
        "При **построении моделей для прогнозирования**:\n",
        "- построили 2 референсные модели;\n",
        "- перебрали 5 типов моделей с различными гиперпараметрами;\n",
        "- лучшей моделью по метрике на кросс-валидации (27.1) стала модель на основе случайного леса.\n",
        "\n",
        "Для **оценки лучшей модели**:\n",
        "- рассчитали метрику RMSE на тестовой выборке - она составила 44.0, что лучше целевого значения (48) и референсных моделей;\n",
        "- построили график факт/прогноз, из которого видно, что модель сильнее ошибается при больших колебаниях признака;\n",
        "- выявили, что на значение целевого признака в большей степени влияет внутридневная сезонность, а также 1- и 7-часовые лаги.\n",
        "\n",
        "**Рекомендации заказчику:**\n",
        "- в целом полученная модель может использоваться для прогнозирования заказов в следующий час;\n",
        "- целесообразно дополнительно изучить причины больших выбросов в последний месяц рассматриваемого временного промежутка;\n",
        "- также полезным может быть добавление данных за другие годы с тем, чтобы выявить внутригодовую сезонность (если она есть)."
      ]
    }
  ],
  "metadata": {
    "ExecuteTimeLog": [
      {
        "duration": 7248,
        "start_time": "2025-02-10T10:10:20.873Z"
      },
      {
        "duration": 17054,
        "start_time": "2025-02-10T10:10:28.124Z"
      },
      {
        "duration": 3548,
        "start_time": "2025-02-10T10:10:45.180Z"
      },
      {
        "duration": 528,
        "start_time": "2025-02-10T10:10:48.731Z"
      },
      {
        "duration": 0,
        "start_time": "2025-02-10T10:10:49.261Z"
      },
      {
        "duration": 310,
        "start_time": "2025-02-10T10:11:13.118Z"
      },
      {
        "duration": 546,
        "start_time": "2025-02-10T10:11:48.031Z"
      },
      {
        "duration": 0,
        "start_time": "2025-02-10T10:11:48.579Z"
      },
      {
        "duration": 0,
        "start_time": "2025-02-10T10:11:48.580Z"
      },
      {
        "duration": 7047,
        "start_time": "2025-02-10T10:16:23.890Z"
      },
      {
        "duration": 2086,
        "start_time": "2025-02-10T10:16:34.142Z"
      },
      {
        "duration": 7188,
        "start_time": "2025-02-10T10:17:05.971Z"
      },
      {
        "duration": 1622,
        "start_time": "2025-02-10T10:17:13.162Z"
      },
      {
        "duration": 3,
        "start_time": "2025-02-10T10:17:14.786Z"
      },
      {
        "duration": 77,
        "start_time": "2025-02-10T10:17:14.790Z"
      },
      {
        "duration": 898,
        "start_time": "2025-02-10T10:17:26.646Z"
      },
      {
        "duration": 1652,
        "start_time": "2025-02-10T10:17:27.547Z"
      },
      {
        "duration": 3,
        "start_time": "2025-02-10T10:17:29.201Z"
      },
      {
        "duration": 62,
        "start_time": "2025-02-10T10:17:29.205Z"
      },
      {
        "duration": 892,
        "start_time": "2025-02-10T10:17:39.383Z"
      },
      {
        "duration": 1606,
        "start_time": "2025-02-10T10:17:40.277Z"
      },
      {
        "duration": 2,
        "start_time": "2025-02-10T10:17:41.885Z"
      },
      {
        "duration": 96,
        "start_time": "2025-02-10T10:17:41.889Z"
      },
      {
        "duration": 7027,
        "start_time": "2025-02-10T10:18:10.382Z"
      },
      {
        "duration": 4,
        "start_time": "2025-02-10T10:18:23.989Z"
      },
      {
        "duration": 3,
        "start_time": "2025-02-10T10:18:27.083Z"
      },
      {
        "duration": 2703,
        "start_time": "2025-02-10T10:18:32.256Z"
      },
      {
        "duration": 1524,
        "start_time": "2025-02-10T10:18:34.961Z"
      },
      {
        "duration": 3,
        "start_time": "2025-02-10T10:18:36.487Z"
      },
      {
        "duration": 57,
        "start_time": "2025-02-10T10:18:36.491Z"
      },
      {
        "duration": 25,
        "start_time": "2025-02-10T10:19:16.932Z"
      },
      {
        "duration": 209,
        "start_time": "2025-02-10T10:20:30.027Z"
      },
      {
        "duration": 13,
        "start_time": "2025-02-10T10:20:39.320Z"
      },
      {
        "duration": 16,
        "start_time": "2025-02-10T10:20:53.510Z"
      },
      {
        "duration": 128,
        "start_time": "2025-02-10T10:21:31.614Z"
      },
      {
        "duration": 4,
        "start_time": "2025-02-10T10:21:36.133Z"
      },
      {
        "duration": 7,
        "start_time": "2025-02-10T10:21:58.837Z"
      },
      {
        "duration": 10,
        "start_time": "2025-02-10T10:22:46.692Z"
      },
      {
        "duration": 11,
        "start_time": "2025-02-10T10:22:53.365Z"
      },
      {
        "duration": 8,
        "start_time": "2025-02-10T10:23:00.008Z"
      },
      {
        "duration": 5,
        "start_time": "2025-02-10T10:26:20.852Z"
      },
      {
        "duration": 707,
        "start_time": "2025-02-10T10:26:37.228Z"
      },
      {
        "duration": 3,
        "start_time": "2025-02-10T10:27:04.572Z"
      },
      {
        "duration": 401,
        "start_time": "2025-02-10T10:27:05.103Z"
      },
      {
        "duration": 3,
        "start_time": "2025-02-10T10:27:43.928Z"
      },
      {
        "duration": 421,
        "start_time": "2025-02-10T10:27:44.588Z"
      },
      {
        "duration": 3,
        "start_time": "2025-02-10T10:28:52.980Z"
      },
      {
        "duration": 493,
        "start_time": "2025-02-10T10:28:53.509Z"
      },
      {
        "duration": 3,
        "start_time": "2025-02-10T10:29:50.386Z"
      },
      {
        "duration": 498,
        "start_time": "2025-02-10T10:29:52.620Z"
      },
      {
        "duration": 113,
        "start_time": "2025-02-10T10:30:37.406Z"
      },
      {
        "duration": 3,
        "start_time": "2025-02-10T10:30:41.553Z"
      },
      {
        "duration": 498,
        "start_time": "2025-02-10T10:30:42.310Z"
      },
      {
        "duration": 4,
        "start_time": "2025-02-10T10:31:00.182Z"
      },
      {
        "duration": 526,
        "start_time": "2025-02-10T10:31:01.336Z"
      },
      {
        "duration": 4,
        "start_time": "2025-02-10T10:31:52.594Z"
      },
      {
        "duration": 616,
        "start_time": "2025-02-10T10:31:53.838Z"
      },
      {
        "duration": 4,
        "start_time": "2025-02-10T10:32:03.904Z"
      },
      {
        "duration": 5,
        "start_time": "2025-02-10T10:32:07.682Z"
      },
      {
        "duration": 4,
        "start_time": "2025-02-10T10:32:12.255Z"
      },
      {
        "duration": 435,
        "start_time": "2025-02-10T10:32:12.794Z"
      },
      {
        "duration": 4,
        "start_time": "2025-02-10T10:34:22.182Z"
      },
      {
        "duration": 549,
        "start_time": "2025-02-10T10:34:22.684Z"
      },
      {
        "duration": 8,
        "start_time": "2025-02-10T10:36:29.855Z"
      },
      {
        "duration": 17,
        "start_time": "2025-02-10T10:36:30.545Z"
      },
      {
        "duration": 7,
        "start_time": "2025-02-10T10:36:51.516Z"
      },
      {
        "duration": 4,
        "start_time": "2025-02-10T10:38:47.652Z"
      },
      {
        "duration": 5,
        "start_time": "2025-02-10T10:39:09.950Z"
      },
      {
        "duration": 7,
        "start_time": "2025-02-10T10:39:13.818Z"
      },
      {
        "duration": 4,
        "start_time": "2025-02-10T10:39:14.809Z"
      },
      {
        "duration": 16,
        "start_time": "2025-02-10T10:39:17.287Z"
      },
      {
        "duration": 4,
        "start_time": "2025-02-10T10:43:29.531Z"
      },
      {
        "duration": 589,
        "start_time": "2025-02-10T10:43:31.719Z"
      },
      {
        "duration": 11,
        "start_time": "2025-02-10T10:43:34.405Z"
      },
      {
        "duration": 7,
        "start_time": "2025-02-10T10:43:35.100Z"
      },
      {
        "duration": 18,
        "start_time": "2025-02-10T10:43:35.779Z"
      },
      {
        "duration": 7,
        "start_time": "2025-02-10T10:44:15.110Z"
      },
      {
        "duration": 517,
        "start_time": "2025-02-10T10:44:15.686Z"
      },
      {
        "duration": 8,
        "start_time": "2025-02-10T10:44:18.520Z"
      },
      {
        "duration": 4,
        "start_time": "2025-02-10T10:44:19.082Z"
      },
      {
        "duration": 15,
        "start_time": "2025-02-10T10:44:19.924Z"
      },
      {
        "duration": 12,
        "start_time": "2025-02-10T10:44:30.968Z"
      },
      {
        "duration": 13,
        "start_time": "2025-02-10T10:44:46.924Z"
      },
      {
        "duration": 5,
        "start_time": "2025-02-10T10:44:52.513Z"
      },
      {
        "duration": 3,
        "start_time": "2025-02-10T10:45:01.582Z"
      },
      {
        "duration": 4,
        "start_time": "2025-02-10T10:45:13.077Z"
      },
      {
        "duration": 11,
        "start_time": "2025-02-10T10:45:20.796Z"
      },
      {
        "duration": 5,
        "start_time": "2025-02-10T10:45:24.952Z"
      },
      {
        "duration": 4,
        "start_time": "2025-02-10T10:47:04.281Z"
      },
      {
        "duration": 536,
        "start_time": "2025-02-10T10:47:05.282Z"
      },
      {
        "duration": 8,
        "start_time": "2025-02-10T10:47:07.507Z"
      },
      {
        "duration": 4,
        "start_time": "2025-02-10T10:47:08.032Z"
      },
      {
        "duration": 597,
        "start_time": "2025-02-10T10:47:09.016Z"
      },
      {
        "duration": 582,
        "start_time": "2025-02-10T10:47:45.609Z"
      },
      {
        "duration": 32,
        "start_time": "2025-02-10T10:51:08.190Z"
      },
      {
        "duration": 9,
        "start_time": "2025-02-10T10:51:22.943Z"
      },
      {
        "duration": 464,
        "start_time": "2025-02-10T10:51:38.830Z"
      },
      {
        "duration": 301,
        "start_time": "2025-02-10T10:51:48.660Z"
      },
      {
        "duration": 474,
        "start_time": "2025-02-10T10:52:04.958Z"
      },
      {
        "duration": 487,
        "start_time": "2025-02-10T10:52:31.549Z"
      },
      {
        "duration": 464,
        "start_time": "2025-02-10T10:52:36.910Z"
      },
      {
        "duration": 449,
        "start_time": "2025-02-10T10:54:15.255Z"
      },
      {
        "duration": 477,
        "start_time": "2025-02-10T11:14:05.453Z"
      },
      {
        "duration": 2905,
        "start_time": "2025-02-10T11:23:15.775Z"
      },
      {
        "duration": 1663,
        "start_time": "2025-02-10T11:23:18.683Z"
      },
      {
        "duration": 4,
        "start_time": "2025-02-10T11:23:20.349Z"
      },
      {
        "duration": 361,
        "start_time": "2025-02-10T11:23:20.356Z"
      },
      {
        "duration": 13,
        "start_time": "2025-02-10T11:23:20.720Z"
      },
      {
        "duration": 20,
        "start_time": "2025-02-10T11:23:20.736Z"
      },
      {
        "duration": 16,
        "start_time": "2025-02-10T11:23:20.757Z"
      },
      {
        "duration": 17,
        "start_time": "2025-02-10T11:23:20.776Z"
      },
      {
        "duration": 45,
        "start_time": "2025-02-10T11:23:20.795Z"
      },
      {
        "duration": 20,
        "start_time": "2025-02-10T11:23:20.842Z"
      },
      {
        "duration": 10,
        "start_time": "2025-02-10T11:23:20.864Z"
      },
      {
        "duration": 11,
        "start_time": "2025-02-10T11:23:20.876Z"
      },
      {
        "duration": 698,
        "start_time": "2025-02-10T11:23:20.889Z"
      },
      {
        "duration": 8,
        "start_time": "2025-02-10T11:23:21.590Z"
      },
      {
        "duration": 471,
        "start_time": "2025-02-10T11:23:21.600Z"
      },
      {
        "duration": 479,
        "start_time": "2025-02-10T11:23:22.074Z"
      },
      {
        "duration": 583,
        "start_time": "2025-02-10T11:23:22.555Z"
      },
      {
        "duration": 442,
        "start_time": "2025-02-10T11:23:23.141Z"
      },
      {
        "duration": 504,
        "start_time": "2025-02-10T11:23:23.585Z"
      },
      {
        "duration": 506,
        "start_time": "2025-02-10T12:30:19.447Z"
      },
      {
        "duration": 2569,
        "start_time": "2025-02-10T12:33:28.969Z"
      },
      {
        "duration": 1961,
        "start_time": "2025-02-10T12:35:34.486Z"
      },
      {
        "duration": 2421,
        "start_time": "2025-02-10T12:35:48.812Z"
      },
      {
        "duration": 1220,
        "start_time": "2025-02-10T12:36:04.452Z"
      },
      {
        "duration": 1837,
        "start_time": "2025-02-10T12:58:31.897Z"
      },
      {
        "duration": 1610,
        "start_time": "2025-02-10T13:03:51.227Z"
      },
      {
        "duration": 1675,
        "start_time": "2025-02-10T13:12:46.566Z"
      },
      {
        "duration": 1570,
        "start_time": "2025-02-10T13:13:08.668Z"
      },
      {
        "duration": 1615,
        "start_time": "2025-02-10T13:14:09.523Z"
      },
      {
        "duration": 1537,
        "start_time": "2025-02-10T13:14:15.101Z"
      },
      {
        "duration": 77,
        "start_time": "2025-02-10T13:14:26.067Z"
      },
      {
        "duration": 1610,
        "start_time": "2025-02-10T13:14:31.426Z"
      },
      {
        "duration": 3,
        "start_time": "2025-02-10T13:38:12.517Z"
      },
      {
        "duration": 10,
        "start_time": "2025-02-10T13:38:13.245Z"
      },
      {
        "duration": 17,
        "start_time": "2025-02-10T13:38:21.934Z"
      },
      {
        "duration": 8,
        "start_time": "2025-02-10T13:40:12.199Z"
      },
      {
        "duration": 13,
        "start_time": "2025-02-10T13:40:16.810Z"
      },
      {
        "duration": 9,
        "start_time": "2025-02-10T13:40:29.172Z"
      },
      {
        "duration": 13,
        "start_time": "2025-02-10T13:40:29.716Z"
      },
      {
        "duration": 8,
        "start_time": "2025-02-10T13:45:36.794Z"
      },
      {
        "duration": 14,
        "start_time": "2025-02-10T13:45:59.979Z"
      },
      {
        "duration": 3,
        "start_time": "2025-02-10T13:46:20.078Z"
      },
      {
        "duration": 10,
        "start_time": "2025-02-10T13:49:50.379Z"
      },
      {
        "duration": 4,
        "start_time": "2025-02-10T13:49:53.792Z"
      },
      {
        "duration": 3,
        "start_time": "2025-02-10T13:49:56.815Z"
      },
      {
        "duration": 3,
        "start_time": "2025-02-10T13:49:57.994Z"
      },
      {
        "duration": 3,
        "start_time": "2025-02-10T13:49:58.660Z"
      },
      {
        "duration": 14,
        "start_time": "2025-02-10T13:50:06.070Z"
      },
      {
        "duration": 3,
        "start_time": "2025-02-10T13:50:50.393Z"
      },
      {
        "duration": 161,
        "start_time": "2025-02-10T13:50:50.953Z"
      },
      {
        "duration": 18,
        "start_time": "2025-02-10T13:52:22.635Z"
      },
      {
        "duration": 7,
        "start_time": "2025-02-10T13:53:07.203Z"
      },
      {
        "duration": 7,
        "start_time": "2025-02-10T13:53:10.640Z"
      },
      {
        "duration": 3,
        "start_time": "2025-02-10T13:53:11.214Z"
      },
      {
        "duration": 2,
        "start_time": "2025-02-10T13:53:13.062Z"
      },
      {
        "duration": 3,
        "start_time": "2025-02-10T13:53:13.565Z"
      },
      {
        "duration": 3,
        "start_time": "2025-02-10T13:53:14.058Z"
      },
      {
        "duration": 298,
        "start_time": "2025-02-10T13:53:14.801Z"
      },
      {
        "duration": 9,
        "start_time": "2025-02-10T13:54:12.750Z"
      },
      {
        "duration": 4,
        "start_time": "2025-02-10T13:55:06.624Z"
      },
      {
        "duration": 4,
        "start_time": "2025-02-10T13:55:07.075Z"
      },
      {
        "duration": 7831,
        "start_time": "2025-02-10T13:55:07.603Z"
      },
      {
        "duration": 42,
        "start_time": "2025-02-10T13:55:17.775Z"
      },
      {
        "duration": 4,
        "start_time": "2025-02-10T13:56:00.443Z"
      },
      {
        "duration": 3,
        "start_time": "2025-02-10T13:56:00.915Z"
      },
      {
        "duration": 6988,
        "start_time": "2025-02-10T13:56:01.354Z"
      },
      {
        "duration": 13,
        "start_time": "2025-02-10T13:56:10.905Z"
      },
      {
        "duration": 27,
        "start_time": "2025-02-10T14:00:07.811Z"
      },
      {
        "duration": 6,
        "start_time": "2025-02-10T14:00:08.421Z"
      },
      {
        "duration": 88622,
        "start_time": "2025-02-10T14:00:34.381Z"
      },
      {
        "duration": 17,
        "start_time": "2025-02-10T14:35:57.769Z"
      },
      {
        "duration": 4,
        "start_time": "2025-02-10T14:36:12.738Z"
      },
      {
        "duration": 12,
        "start_time": "2025-02-10T14:36:17.846Z"
      },
      {
        "duration": 5,
        "start_time": "2025-02-10T14:36:29.967Z"
      },
      {
        "duration": 3,
        "start_time": "2025-02-10T14:37:01.736Z"
      },
      {
        "duration": 5,
        "start_time": "2025-02-10T14:37:44.114Z"
      },
      {
        "duration": 5,
        "start_time": "2025-02-10T14:38:53.824Z"
      },
      {
        "duration": 3,
        "start_time": "2025-02-10T14:39:43.225Z"
      },
      {
        "duration": 5,
        "start_time": "2025-02-10T14:39:43.565Z"
      },
      {
        "duration": 4,
        "start_time": "2025-02-10T14:39:44.458Z"
      },
      {
        "duration": 14,
        "start_time": "2025-02-10T14:39:47.214Z"
      },
      {
        "duration": 4,
        "start_time": "2025-02-10T14:40:04.928Z"
      },
      {
        "duration": 6,
        "start_time": "2025-02-10T14:40:26.200Z"
      },
      {
        "duration": 6,
        "start_time": "2025-02-10T14:40:38.692Z"
      },
      {
        "duration": 5,
        "start_time": "2025-02-10T14:40:48.251Z"
      },
      {
        "duration": 4,
        "start_time": "2025-02-10T14:40:50.404Z"
      },
      {
        "duration": 7,
        "start_time": "2025-02-10T14:40:56.796Z"
      },
      {
        "duration": 3,
        "start_time": "2025-02-10T14:41:00.057Z"
      },
      {
        "duration": 5,
        "start_time": "2025-02-10T14:41:00.513Z"
      },
      {
        "duration": 5,
        "start_time": "2025-02-10T14:41:00.930Z"
      },
      {
        "duration": 6,
        "start_time": "2025-02-10T14:41:01.519Z"
      },
      {
        "duration": 4,
        "start_time": "2025-02-10T14:41:02.019Z"
      },
      {
        "duration": 6,
        "start_time": "2025-02-10T14:41:02.463Z"
      },
      {
        "duration": 14,
        "start_time": "2025-02-10T14:41:56.401Z"
      },
      {
        "duration": 3,
        "start_time": "2025-02-10T14:42:04.904Z"
      },
      {
        "duration": 6,
        "start_time": "2025-02-10T14:42:07.143Z"
      },
      {
        "duration": 15,
        "start_time": "2025-02-10T14:42:10.013Z"
      },
      {
        "duration": 15,
        "start_time": "2025-02-10T14:42:23.052Z"
      },
      {
        "duration": 5,
        "start_time": "2025-02-10T14:43:12.131Z"
      },
      {
        "duration": 5,
        "start_time": "2025-02-10T14:43:12.796Z"
      },
      {
        "duration": 19,
        "start_time": "2025-02-10T14:43:27.519Z"
      },
      {
        "duration": 10,
        "start_time": "2025-02-10T14:43:45.908Z"
      },
      {
        "duration": 4,
        "start_time": "2025-02-10T14:43:56.178Z"
      },
      {
        "duration": 5,
        "start_time": "2025-02-10T14:43:57.882Z"
      },
      {
        "duration": 10,
        "start_time": "2025-02-10T14:43:58.443Z"
      },
      {
        "duration": 3,
        "start_time": "2025-02-10T14:44:41.281Z"
      },
      {
        "duration": 5,
        "start_time": "2025-02-10T14:44:41.664Z"
      },
      {
        "duration": 4,
        "start_time": "2025-02-10T14:44:42.506Z"
      },
      {
        "duration": 3,
        "start_time": "2025-02-10T14:44:59.038Z"
      },
      {
        "duration": 4,
        "start_time": "2025-02-10T14:44:59.665Z"
      },
      {
        "duration": 3,
        "start_time": "2025-02-10T14:45:08.130Z"
      },
      {
        "duration": 5,
        "start_time": "2025-02-10T14:45:08.490Z"
      },
      {
        "duration": 3,
        "start_time": "2025-02-10T14:45:08.561Z"
      },
      {
        "duration": 5,
        "start_time": "2025-02-10T14:45:08.773Z"
      },
      {
        "duration": 3,
        "start_time": "2025-02-10T14:45:08.993Z"
      },
      {
        "duration": 3,
        "start_time": "2025-02-10T14:45:09.104Z"
      },
      {
        "duration": 3,
        "start_time": "2025-02-10T14:45:30.929Z"
      },
      {
        "duration": 5,
        "start_time": "2025-02-10T14:45:31.245Z"
      },
      {
        "duration": 70,
        "start_time": "2025-02-10T14:45:32.116Z"
      },
      {
        "duration": 7,
        "start_time": "2025-02-10T14:45:32.366Z"
      },
      {
        "duration": 75,
        "start_time": "2025-02-10T14:45:32.584Z"
      },
      {
        "duration": 3,
        "start_time": "2025-02-10T14:45:40.654Z"
      },
      {
        "duration": 6,
        "start_time": "2025-02-10T14:45:45.084Z"
      },
      {
        "duration": 2,
        "start_time": "2025-02-10T14:45:45.975Z"
      },
      {
        "duration": 13,
        "start_time": "2025-02-10T14:46:31.104Z"
      },
      {
        "duration": 10,
        "start_time": "2025-02-10T14:46:34.960Z"
      },
      {
        "duration": 3,
        "start_time": "2025-02-10T14:46:59.984Z"
      },
      {
        "duration": 7,
        "start_time": "2025-02-10T14:47:00.442Z"
      },
      {
        "duration": 15,
        "start_time": "2025-02-10T14:47:00.972Z"
      },
      {
        "duration": 12,
        "start_time": "2025-02-10T14:47:06.051Z"
      },
      {
        "duration": 3,
        "start_time": "2025-02-10T14:47:11.066Z"
      },
      {
        "duration": 5,
        "start_time": "2025-02-10T14:47:12.558Z"
      },
      {
        "duration": 2,
        "start_time": "2025-02-10T14:47:23.770Z"
      },
      {
        "duration": 5,
        "start_time": "2025-02-10T14:47:24.191Z"
      },
      {
        "duration": 63,
        "start_time": "2025-02-10T14:47:24.645Z"
      },
      {
        "duration": 5,
        "start_time": "2025-02-10T14:47:25.191Z"
      },
      {
        "duration": 3,
        "start_time": "2025-02-10T14:47:29.881Z"
      },
      {
        "duration": 5,
        "start_time": "2025-02-10T14:47:30.598Z"
      },
      {
        "duration": 2,
        "start_time": "2025-02-10T14:47:31.197Z"
      },
      {
        "duration": 9,
        "start_time": "2025-02-10T14:47:31.845Z"
      },
      {
        "duration": 3,
        "start_time": "2025-02-10T14:47:40.376Z"
      },
      {
        "duration": 5,
        "start_time": "2025-02-10T14:47:40.660Z"
      },
      {
        "duration": 3,
        "start_time": "2025-02-10T14:47:40.800Z"
      },
      {
        "duration": 6,
        "start_time": "2025-02-10T14:47:40.957Z"
      },
      {
        "duration": 3,
        "start_time": "2025-02-10T14:47:41.552Z"
      },
      {
        "duration": 9,
        "start_time": "2025-02-10T14:47:42.254Z"
      },
      {
        "duration": 15,
        "start_time": "2025-02-10T14:48:33.020Z"
      },
      {
        "duration": 16,
        "start_time": "2025-02-10T14:48:48.873Z"
      },
      {
        "duration": 5,
        "start_time": "2025-02-10T14:48:54.891Z"
      },
      {
        "duration": 19,
        "start_time": "2025-02-10T14:48:59.129Z"
      },
      {
        "duration": 3,
        "start_time": "2025-02-10T14:51:39.518Z"
      },
      {
        "duration": 5,
        "start_time": "2025-02-10T14:51:39.742Z"
      },
      {
        "duration": 3,
        "start_time": "2025-02-10T14:51:39.884Z"
      },
      {
        "duration": 6,
        "start_time": "2025-02-10T14:51:40.037Z"
      },
      {
        "duration": 3,
        "start_time": "2025-02-10T14:51:40.305Z"
      },
      {
        "duration": 11,
        "start_time": "2025-02-10T14:51:40.898Z"
      },
      {
        "duration": 8,
        "start_time": "2025-02-10T14:51:56.165Z"
      },
      {
        "duration": 5,
        "start_time": "2025-02-10T14:51:59.054Z"
      },
      {
        "duration": 7,
        "start_time": "2025-02-10T14:51:59.850Z"
      },
      {
        "duration": 3,
        "start_time": "2025-02-10T14:52:16.530Z"
      },
      {
        "duration": 5,
        "start_time": "2025-02-10T14:52:16.913Z"
      },
      {
        "duration": 3,
        "start_time": "2025-02-10T14:52:17.773Z"
      },
      {
        "duration": 5,
        "start_time": "2025-02-10T14:52:18.304Z"
      },
      {
        "duration": 2,
        "start_time": "2025-02-10T14:52:19.148Z"
      },
      {
        "duration": 6,
        "start_time": "2025-02-10T14:52:31.649Z"
      },
      {
        "duration": 3,
        "start_time": "2025-02-10T14:52:46.618Z"
      },
      {
        "duration": 5,
        "start_time": "2025-02-10T14:52:47.288Z"
      },
      {
        "duration": 4,
        "start_time": "2025-02-10T14:52:49.085Z"
      },
      {
        "duration": 5,
        "start_time": "2025-02-10T14:52:49.850Z"
      },
      {
        "duration": 3,
        "start_time": "2025-02-10T14:52:50.616Z"
      },
      {
        "duration": 4,
        "start_time": "2025-02-10T14:52:51.350Z"
      },
      {
        "duration": 8,
        "start_time": "2025-02-10T14:52:52.104Z"
      },
      {
        "duration": 4,
        "start_time": "2025-02-10T15:12:56.154Z"
      },
      {
        "duration": 9,
        "start_time": "2025-02-10T15:12:56.748Z"
      },
      {
        "duration": 3,
        "start_time": "2025-02-10T15:13:00.669Z"
      },
      {
        "duration": 6,
        "start_time": "2025-02-10T15:13:00.857Z"
      },
      {
        "duration": 3,
        "start_time": "2025-02-10T15:13:01.044Z"
      },
      {
        "duration": 6,
        "start_time": "2025-02-10T15:13:01.247Z"
      },
      {
        "duration": 3,
        "start_time": "2025-02-10T15:13:01.356Z"
      },
      {
        "duration": 4,
        "start_time": "2025-02-10T15:13:01.495Z"
      },
      {
        "duration": 7,
        "start_time": "2025-02-10T15:13:03.453Z"
      },
      {
        "duration": 19,
        "start_time": "2025-02-10T15:25:51.987Z"
      },
      {
        "duration": 12,
        "start_time": "2025-02-10T15:57:05.659Z"
      },
      {
        "duration": 4,
        "start_time": "2025-02-10T15:57:19.411Z"
      },
      {
        "duration": 4,
        "start_time": "2025-02-10T15:57:22.925Z"
      },
      {
        "duration": 3,
        "start_time": "2025-02-10T15:57:23.560Z"
      },
      {
        "duration": 26,
        "start_time": "2025-02-10T15:57:24.642Z"
      },
      {
        "duration": 4,
        "start_time": "2025-02-10T15:57:42.143Z"
      },
      {
        "duration": 3,
        "start_time": "2025-02-10T15:57:42.721Z"
      },
      {
        "duration": 8442,
        "start_time": "2025-02-10T15:57:43.408Z"
      },
      {
        "duration": 6,
        "start_time": "2025-02-10T15:59:06.315Z"
      },
      {
        "duration": 57,
        "start_time": "2025-02-10T15:59:07.909Z"
      },
      {
        "duration": 7,
        "start_time": "2025-02-10T16:00:12.487Z"
      },
      {
        "duration": 17,
        "start_time": "2025-02-10T16:00:13.065Z"
      },
      {
        "duration": 26,
        "start_time": "2025-02-10T16:23:17.420Z"
      },
      {
        "duration": 5,
        "start_time": "2025-02-10T16:25:40.235Z"
      },
      {
        "duration": 3,
        "start_time": "2025-02-10T16:25:40.951Z"
      },
      {
        "duration": 70082,
        "start_time": "2025-02-10T16:25:41.659Z"
      },
      {
        "duration": 8,
        "start_time": "2025-02-10T16:26:56.511Z"
      },
      {
        "duration": 19,
        "start_time": "2025-02-10T16:26:57.765Z"
      },
      {
        "duration": 40,
        "start_time": "2025-02-10T16:27:21.561Z"
      },
      {
        "duration": 221,
        "start_time": "2025-02-10T16:28:20.186Z"
      },
      {
        "duration": 105,
        "start_time": "2025-02-10T16:29:19.421Z"
      },
      {
        "duration": 66,
        "start_time": "2025-02-10T16:34:05.768Z"
      },
      {
        "duration": 5,
        "start_time": "2025-02-10T16:34:21.844Z"
      },
      {
        "duration": 3,
        "start_time": "2025-02-10T16:34:22.440Z"
      },
      {
        "duration": 82390,
        "start_time": "2025-02-10T16:34:23.158Z"
      },
      {
        "duration": 7,
        "start_time": "2025-02-10T16:36:09.908Z"
      },
      {
        "duration": 16,
        "start_time": "2025-02-10T16:36:10.909Z"
      },
      {
        "duration": 109,
        "start_time": "2025-02-10T16:36:46.503Z"
      },
      {
        "duration": 5,
        "start_time": "2025-02-10T16:45:20.463Z"
      },
      {
        "duration": 3,
        "start_time": "2025-02-10T16:45:20.849Z"
      },
      {
        "duration": 41092,
        "start_time": "2025-02-10T16:45:21.647Z"
      },
      {
        "duration": 18,
        "start_time": "2025-02-10T16:48:23.914Z"
      },
      {
        "duration": 32,
        "start_time": "2025-02-10T16:51:40.197Z"
      },
      {
        "duration": 19,
        "start_time": "2025-02-10T16:51:56.229Z"
      },
      {
        "duration": 30,
        "start_time": "2025-02-10T16:52:25.572Z"
      },
      {
        "duration": 17,
        "start_time": "2025-02-10T16:52:43.105Z"
      },
      {
        "duration": 23,
        "start_time": "2025-02-10T16:53:15.527Z"
      },
      {
        "duration": 26,
        "start_time": "2025-02-10T16:54:00.437Z"
      },
      {
        "duration": 24,
        "start_time": "2025-02-10T16:54:20.199Z"
      },
      {
        "duration": 4,
        "start_time": "2025-02-10T16:54:51.873Z"
      },
      {
        "duration": 18,
        "start_time": "2025-02-10T16:55:00.918Z"
      },
      {
        "duration": 19,
        "start_time": "2025-02-10T16:55:29.120Z"
      },
      {
        "duration": 8,
        "start_time": "2025-02-10T16:55:30.886Z"
      },
      {
        "duration": 119,
        "start_time": "2025-02-10T16:55:32.044Z"
      },
      {
        "duration": 13,
        "start_time": "2025-02-10T16:55:34.376Z"
      },
      {
        "duration": 10,
        "start_time": "2025-02-10T16:55:48.763Z"
      },
      {
        "duration": 15,
        "start_time": "2025-02-10T16:56:07.529Z"
      },
      {
        "duration": 8,
        "start_time": "2025-02-10T16:56:42.891Z"
      },
      {
        "duration": 15,
        "start_time": "2025-02-10T16:56:43.498Z"
      },
      {
        "duration": 34,
        "start_time": "2025-02-10T16:56:49.468Z"
      },
      {
        "duration": 6,
        "start_time": "2025-02-10T16:57:17.936Z"
      },
      {
        "duration": 10,
        "start_time": "2025-02-10T16:57:50.842Z"
      },
      {
        "duration": 6,
        "start_time": "2025-02-10T16:57:59.030Z"
      },
      {
        "duration": 20,
        "start_time": "2025-02-10T16:58:20.420Z"
      },
      {
        "duration": 26,
        "start_time": "2025-02-10T16:58:45.919Z"
      },
      {
        "duration": 11,
        "start_time": "2025-02-10T17:00:21.974Z"
      },
      {
        "duration": 12,
        "start_time": "2025-02-10T17:00:57.937Z"
      },
      {
        "duration": 10353,
        "start_time": "2025-02-11T05:36:36.100Z"
      },
      {
        "duration": 4,
        "start_time": "2025-02-11T05:36:46.456Z"
      },
      {
        "duration": 5906,
        "start_time": "2025-02-11T05:36:46.462Z"
      },
      {
        "duration": 0,
        "start_time": "2025-02-11T05:36:52.372Z"
      },
      {
        "duration": 0,
        "start_time": "2025-02-11T05:36:52.374Z"
      },
      {
        "duration": 0,
        "start_time": "2025-02-11T05:36:52.376Z"
      },
      {
        "duration": 0,
        "start_time": "2025-02-11T05:36:52.377Z"
      },
      {
        "duration": 0,
        "start_time": "2025-02-11T05:36:52.378Z"
      },
      {
        "duration": 0,
        "start_time": "2025-02-11T05:36:52.380Z"
      },
      {
        "duration": 0,
        "start_time": "2025-02-11T05:36:52.382Z"
      },
      {
        "duration": 0,
        "start_time": "2025-02-11T05:36:52.383Z"
      },
      {
        "duration": 0,
        "start_time": "2025-02-11T05:36:52.385Z"
      },
      {
        "duration": 0,
        "start_time": "2025-02-11T05:36:52.387Z"
      },
      {
        "duration": 0,
        "start_time": "2025-02-11T05:36:52.388Z"
      },
      {
        "duration": 0,
        "start_time": "2025-02-11T05:36:52.390Z"
      },
      {
        "duration": 0,
        "start_time": "2025-02-11T05:36:52.391Z"
      },
      {
        "duration": 0,
        "start_time": "2025-02-11T05:36:52.393Z"
      },
      {
        "duration": 0,
        "start_time": "2025-02-11T05:36:52.394Z"
      },
      {
        "duration": 0,
        "start_time": "2025-02-11T05:36:52.396Z"
      },
      {
        "duration": 0,
        "start_time": "2025-02-11T05:36:52.397Z"
      },
      {
        "duration": 0,
        "start_time": "2025-02-11T05:36:52.398Z"
      },
      {
        "duration": 0,
        "start_time": "2025-02-11T05:36:52.400Z"
      },
      {
        "duration": 0,
        "start_time": "2025-02-11T05:36:52.401Z"
      },
      {
        "duration": 0,
        "start_time": "2025-02-11T05:36:52.402Z"
      },
      {
        "duration": 0,
        "start_time": "2025-02-11T05:36:52.403Z"
      },
      {
        "duration": 0,
        "start_time": "2025-02-11T05:36:52.404Z"
      },
      {
        "duration": 0,
        "start_time": "2025-02-11T05:36:52.405Z"
      },
      {
        "duration": 0,
        "start_time": "2025-02-11T05:36:52.407Z"
      },
      {
        "duration": 0,
        "start_time": "2025-02-11T05:36:52.408Z"
      },
      {
        "duration": 0,
        "start_time": "2025-02-11T05:36:52.409Z"
      },
      {
        "duration": 0,
        "start_time": "2025-02-11T05:36:52.410Z"
      },
      {
        "duration": 0,
        "start_time": "2025-02-11T05:36:52.472Z"
      },
      {
        "duration": 0,
        "start_time": "2025-02-11T05:36:52.474Z"
      },
      {
        "duration": 0,
        "start_time": "2025-02-11T05:36:52.475Z"
      },
      {
        "duration": 0,
        "start_time": "2025-02-11T05:36:52.478Z"
      },
      {
        "duration": 0,
        "start_time": "2025-02-11T05:36:52.480Z"
      },
      {
        "duration": 0,
        "start_time": "2025-02-11T05:36:52.481Z"
      },
      {
        "duration": 0,
        "start_time": "2025-02-11T05:36:52.483Z"
      },
      {
        "duration": 0,
        "start_time": "2025-02-11T05:36:52.484Z"
      },
      {
        "duration": 0,
        "start_time": "2025-02-11T05:36:52.485Z"
      },
      {
        "duration": 0,
        "start_time": "2025-02-11T05:36:52.487Z"
      },
      {
        "duration": 0,
        "start_time": "2025-02-11T05:36:52.489Z"
      },
      {
        "duration": 0,
        "start_time": "2025-02-11T05:36:52.490Z"
      },
      {
        "duration": 0,
        "start_time": "2025-02-11T05:36:52.492Z"
      },
      {
        "duration": 0,
        "start_time": "2025-02-11T05:36:52.493Z"
      },
      {
        "duration": 14017,
        "start_time": "2025-02-11T05:37:06.616Z"
      },
      {
        "duration": 3,
        "start_time": "2025-02-11T05:37:20.635Z"
      },
      {
        "duration": 2568,
        "start_time": "2025-02-11T05:37:20.640Z"
      },
      {
        "duration": 3,
        "start_time": "2025-02-11T05:37:23.210Z"
      },
      {
        "duration": 2566,
        "start_time": "2025-02-11T05:37:23.215Z"
      },
      {
        "duration": 4088,
        "start_time": "2025-02-11T05:37:25.783Z"
      },
      {
        "duration": 3093,
        "start_time": "2025-02-11T05:37:29.873Z"
      },
      {
        "duration": 2327,
        "start_time": "2025-02-11T05:37:32.967Z"
      },
      {
        "duration": 2732,
        "start_time": "2025-02-11T05:37:35.295Z"
      },
      {
        "duration": 3647,
        "start_time": "2025-02-11T05:37:38.029Z"
      },
      {
        "duration": 1378,
        "start_time": "2025-02-11T05:37:41.677Z"
      },
      {
        "duration": 568,
        "start_time": "2025-02-11T05:37:43.057Z"
      },
      {
        "duration": 1007,
        "start_time": "2025-02-11T05:37:43.626Z"
      },
      {
        "duration": 3162,
        "start_time": "2025-02-11T05:37:44.636Z"
      },
      {
        "duration": 4386,
        "start_time": "2025-02-11T05:37:47.800Z"
      },
      {
        "duration": 633,
        "start_time": "2025-02-11T05:37:52.274Z"
      },
      {
        "duration": 3076,
        "start_time": "2025-02-11T05:37:52.909Z"
      },
      {
        "duration": 3364,
        "start_time": "2025-02-11T05:37:55.987Z"
      },
      {
        "duration": 4951,
        "start_time": "2025-02-11T05:37:59.353Z"
      },
      {
        "duration": 4231,
        "start_time": "2025-02-11T05:38:04.306Z"
      },
      {
        "duration": 1885,
        "start_time": "2025-02-11T05:38:08.539Z"
      },
      {
        "duration": 410,
        "start_time": "2025-02-11T05:38:10.427Z"
      },
      {
        "duration": 3,
        "start_time": "2025-02-11T05:38:10.839Z"
      },
      {
        "duration": 58,
        "start_time": "2025-02-11T05:38:10.843Z"
      },
      {
        "duration": 12,
        "start_time": "2025-02-11T05:38:10.903Z"
      },
      {
        "duration": 13,
        "start_time": "2025-02-11T05:38:10.918Z"
      },
      {
        "duration": 15,
        "start_time": "2025-02-11T05:38:10.932Z"
      },
      {
        "duration": 10,
        "start_time": "2025-02-11T05:38:10.949Z"
      },
      {
        "duration": 21,
        "start_time": "2025-02-11T05:38:10.961Z"
      },
      {
        "duration": 3,
        "start_time": "2025-02-11T05:38:10.984Z"
      },
      {
        "duration": 30,
        "start_time": "2025-02-11T05:38:10.989Z"
      },
      {
        "duration": 19,
        "start_time": "2025-02-11T05:38:11.022Z"
      },
      {
        "duration": 11,
        "start_time": "2025-02-11T05:38:11.043Z"
      },
      {
        "duration": 9,
        "start_time": "2025-02-11T05:38:11.056Z"
      },
      {
        "duration": 14,
        "start_time": "2025-02-11T05:38:11.067Z"
      },
      {
        "duration": 7,
        "start_time": "2025-02-11T05:38:11.083Z"
      },
      {
        "duration": 15,
        "start_time": "2025-02-11T05:38:11.092Z"
      },
      {
        "duration": 6,
        "start_time": "2025-02-11T05:38:11.109Z"
      },
      {
        "duration": 10,
        "start_time": "2025-02-11T05:38:11.118Z"
      },
      {
        "duration": 11,
        "start_time": "2025-02-11T05:38:11.130Z"
      },
      {
        "duration": 2943,
        "start_time": "2025-02-11T05:38:11.146Z"
      },
      {
        "duration": 9,
        "start_time": "2025-02-11T05:38:14.092Z"
      },
      {
        "duration": 96,
        "start_time": "2025-02-11T05:38:14.103Z"
      },
      {
        "duration": 9,
        "start_time": "2025-02-11T05:38:14.201Z"
      },
      {
        "duration": 55,
        "start_time": "2025-02-11T05:38:14.212Z"
      },
      {
        "duration": 13,
        "start_time": "2025-02-11T05:41:37.801Z"
      },
      {
        "duration": 6,
        "start_time": "2025-02-11T05:42:01.098Z"
      },
      {
        "duration": 13,
        "start_time": "2025-02-11T05:42:08.520Z"
      },
      {
        "duration": 26,
        "start_time": "2025-02-11T05:43:04.161Z"
      },
      {
        "duration": 9,
        "start_time": "2025-02-11T05:43:10.364Z"
      },
      {
        "duration": 12,
        "start_time": "2025-02-11T05:43:25.163Z"
      },
      {
        "duration": 3,
        "start_time": "2025-02-11T05:43:25.177Z"
      },
      {
        "duration": 4,
        "start_time": "2025-02-11T05:43:25.182Z"
      },
      {
        "duration": 11,
        "start_time": "2025-02-11T05:43:25.188Z"
      },
      {
        "duration": 3,
        "start_time": "2025-02-11T05:43:25.202Z"
      },
      {
        "duration": 11,
        "start_time": "2025-02-11T05:43:25.207Z"
      },
      {
        "duration": 4,
        "start_time": "2025-02-11T05:43:25.220Z"
      },
      {
        "duration": 5,
        "start_time": "2025-02-11T05:43:25.226Z"
      },
      {
        "duration": 9,
        "start_time": "2025-02-11T05:43:25.233Z"
      },
      {
        "duration": 3,
        "start_time": "2025-02-11T05:43:25.273Z"
      },
      {
        "duration": 10,
        "start_time": "2025-02-11T05:43:25.278Z"
      },
      {
        "duration": 7,
        "start_time": "2025-02-11T05:43:25.290Z"
      },
      {
        "duration": 44798,
        "start_time": "2025-02-11T05:43:25.298Z"
      },
      {
        "duration": 8,
        "start_time": "2025-02-11T05:44:10.099Z"
      },
      {
        "duration": 54,
        "start_time": "2025-02-11T05:44:10.108Z"
      },
      {
        "duration": 65,
        "start_time": "2025-02-11T05:44:10.164Z"
      },
      {
        "duration": 13,
        "start_time": "2025-02-11T05:44:10.231Z"
      },
      {
        "duration": 150,
        "start_time": "2025-02-11T05:45:14.179Z"
      },
      {
        "duration": 0,
        "start_time": "2025-02-11T05:45:14.331Z"
      },
      {
        "duration": 0,
        "start_time": "2025-02-11T05:45:14.333Z"
      },
      {
        "duration": 0,
        "start_time": "2025-02-11T05:45:14.334Z"
      },
      {
        "duration": 0,
        "start_time": "2025-02-11T05:45:14.336Z"
      },
      {
        "duration": 0,
        "start_time": "2025-02-11T05:45:14.336Z"
      },
      {
        "duration": 0,
        "start_time": "2025-02-11T05:45:14.337Z"
      },
      {
        "duration": 0,
        "start_time": "2025-02-11T05:45:14.338Z"
      },
      {
        "duration": 0,
        "start_time": "2025-02-11T05:45:14.339Z"
      },
      {
        "duration": 0,
        "start_time": "2025-02-11T05:45:14.340Z"
      },
      {
        "duration": 0,
        "start_time": "2025-02-11T05:45:14.341Z"
      },
      {
        "duration": 0,
        "start_time": "2025-02-11T05:45:14.342Z"
      },
      {
        "duration": 0,
        "start_time": "2025-02-11T05:45:14.343Z"
      },
      {
        "duration": 0,
        "start_time": "2025-02-11T05:45:14.344Z"
      },
      {
        "duration": 0,
        "start_time": "2025-02-11T05:45:14.345Z"
      },
      {
        "duration": 0,
        "start_time": "2025-02-11T05:45:14.372Z"
      },
      {
        "duration": 0,
        "start_time": "2025-02-11T05:45:14.374Z"
      },
      {
        "duration": 12,
        "start_time": "2025-02-11T05:45:28.735Z"
      },
      {
        "duration": 3024,
        "start_time": "2025-02-11T05:45:28.749Z"
      },
      {
        "duration": 128,
        "start_time": "2025-02-11T05:45:31.775Z"
      },
      {
        "duration": 6,
        "start_time": "2025-02-11T05:45:31.905Z"
      },
      {
        "duration": 3,
        "start_time": "2025-02-11T05:45:31.913Z"
      },
      {
        "duration": 6,
        "start_time": "2025-02-11T05:45:31.918Z"
      },
      {
        "duration": 6,
        "start_time": "2025-02-11T05:45:31.926Z"
      },
      {
        "duration": 34,
        "start_time": "2025-02-11T05:45:31.934Z"
      },
      {
        "duration": 17,
        "start_time": "2025-02-11T05:45:31.970Z"
      },
      {
        "duration": 8,
        "start_time": "2025-02-11T05:45:31.989Z"
      },
      {
        "duration": 5,
        "start_time": "2025-02-11T05:45:31.999Z"
      },
      {
        "duration": 6,
        "start_time": "2025-02-11T05:45:32.006Z"
      },
      {
        "duration": 252892,
        "start_time": "2025-02-11T05:45:32.013Z"
      },
      {
        "duration": 0,
        "start_time": "2025-02-11T05:49:44.907Z"
      },
      {
        "duration": 0,
        "start_time": "2025-02-11T05:49:44.908Z"
      },
      {
        "duration": 0,
        "start_time": "2025-02-11T05:49:44.909Z"
      },
      {
        "duration": 0,
        "start_time": "2025-02-11T05:49:44.910Z"
      },
      {
        "duration": 15,
        "start_time": "2025-02-11T05:49:50.086Z"
      },
      {
        "duration": 4,
        "start_time": "2025-02-11T05:57:33.999Z"
      },
      {
        "duration": 4,
        "start_time": "2025-02-11T05:57:37.467Z"
      },
      {
        "duration": 24857,
        "start_time": "2025-02-11T05:57:57.373Z"
      },
      {
        "duration": 1105,
        "start_time": "2025-02-11T05:58:28.609Z"
      },
      {
        "duration": 3,
        "start_time": "2025-02-11T05:58:30.405Z"
      },
      {
        "duration": 1441,
        "start_time": "2025-02-11T05:58:31.140Z"
      },
      {
        "duration": 1110,
        "start_time": "2025-02-11T05:58:58.939Z"
      },
      {
        "duration": 29,
        "start_time": "2025-02-11T05:59:23.749Z"
      },
      {
        "duration": 6,
        "start_time": "2025-02-11T05:59:37.437Z"
      },
      {
        "duration": 1359,
        "start_time": "2025-02-11T05:59:48.842Z"
      },
      {
        "duration": 15,
        "start_time": "2025-02-11T06:02:38.874Z"
      },
      {
        "duration": 42,
        "start_time": "2025-02-11T06:02:56.203Z"
      },
      {
        "duration": 14,
        "start_time": "2025-02-11T06:03:19.862Z"
      },
      {
        "duration": 31,
        "start_time": "2025-02-11T06:04:21.938Z"
      },
      {
        "duration": 7,
        "start_time": "2025-02-11T06:04:53.424Z"
      },
      {
        "duration": 5,
        "start_time": "2025-02-11T06:05:07.986Z"
      },
      {
        "duration": 16,
        "start_time": "2025-02-11T06:05:13.002Z"
      },
      {
        "duration": 2350,
        "start_time": "2025-02-11T06:05:18.956Z"
      },
      {
        "duration": 915,
        "start_time": "2025-02-11T06:05:26.441Z"
      },
      {
        "duration": 931,
        "start_time": "2025-02-11T06:05:35.481Z"
      },
      {
        "duration": 5,
        "start_time": "2025-02-11T06:05:53.317Z"
      },
      {
        "duration": 16,
        "start_time": "2025-02-11T06:05:53.862Z"
      },
      {
        "duration": 2392,
        "start_time": "2025-02-11T06:05:57.300Z"
      },
      {
        "duration": 1091,
        "start_time": "2025-02-11T06:06:01.051Z"
      },
      {
        "duration": 3,
        "start_time": "2025-02-11T06:08:55.210Z"
      },
      {
        "duration": 2316,
        "start_time": "2025-02-11T06:08:58.414Z"
      },
      {
        "duration": 904,
        "start_time": "2025-02-11T06:09:02.528Z"
      },
      {
        "duration": 13,
        "start_time": "2025-02-11T06:10:51.836Z"
      },
      {
        "duration": 3326,
        "start_time": "2025-02-11T06:13:29.913Z"
      },
      {
        "duration": 4,
        "start_time": "2025-02-11T06:18:04.477Z"
      },
      {
        "duration": 3,
        "start_time": "2025-02-11T06:18:12.603Z"
      },
      {
        "duration": 2275,
        "start_time": "2025-02-11T06:18:13.087Z"
      },
      {
        "duration": 3306,
        "start_time": "2025-02-11T06:18:18.541Z"
      },
      {
        "duration": 3698,
        "start_time": "2025-02-11T15:17:21.185Z"
      },
      {
        "duration": 3,
        "start_time": "2025-02-11T15:17:24.886Z"
      },
      {
        "duration": 1891,
        "start_time": "2025-02-11T15:17:24.892Z"
      },
      {
        "duration": 3,
        "start_time": "2025-02-11T15:17:26.785Z"
      },
      {
        "duration": 149,
        "start_time": "2025-02-11T15:17:26.790Z"
      },
      {
        "duration": 9,
        "start_time": "2025-02-11T15:17:26.941Z"
      },
      {
        "duration": 13,
        "start_time": "2025-02-11T15:17:26.952Z"
      },
      {
        "duration": 141,
        "start_time": "2025-02-11T15:17:26.967Z"
      },
      {
        "duration": 0,
        "start_time": "2025-02-11T15:17:27.110Z"
      },
      {
        "duration": 0,
        "start_time": "2025-02-11T15:17:27.112Z"
      },
      {
        "duration": 0,
        "start_time": "2025-02-11T15:17:27.113Z"
      },
      {
        "duration": 0,
        "start_time": "2025-02-11T15:17:27.114Z"
      },
      {
        "duration": 0,
        "start_time": "2025-02-11T15:17:27.115Z"
      },
      {
        "duration": 0,
        "start_time": "2025-02-11T15:17:27.117Z"
      },
      {
        "duration": 0,
        "start_time": "2025-02-11T15:17:27.118Z"
      },
      {
        "duration": 0,
        "start_time": "2025-02-11T15:17:27.119Z"
      },
      {
        "duration": 0,
        "start_time": "2025-02-11T15:17:27.120Z"
      },
      {
        "duration": 0,
        "start_time": "2025-02-11T15:17:27.121Z"
      },
      {
        "duration": 0,
        "start_time": "2025-02-11T15:17:27.123Z"
      },
      {
        "duration": 0,
        "start_time": "2025-02-11T15:17:27.124Z"
      },
      {
        "duration": 0,
        "start_time": "2025-02-11T15:17:27.126Z"
      },
      {
        "duration": 0,
        "start_time": "2025-02-11T15:17:27.127Z"
      },
      {
        "duration": 0,
        "start_time": "2025-02-11T15:17:27.129Z"
      },
      {
        "duration": 0,
        "start_time": "2025-02-11T15:17:27.130Z"
      },
      {
        "duration": 0,
        "start_time": "2025-02-11T15:17:27.132Z"
      },
      {
        "duration": 0,
        "start_time": "2025-02-11T15:17:27.133Z"
      },
      {
        "duration": 0,
        "start_time": "2025-02-11T15:17:27.135Z"
      },
      {
        "duration": 0,
        "start_time": "2025-02-11T15:17:27.172Z"
      },
      {
        "duration": 0,
        "start_time": "2025-02-11T15:17:27.173Z"
      },
      {
        "duration": 0,
        "start_time": "2025-02-11T15:17:27.175Z"
      },
      {
        "duration": 0,
        "start_time": "2025-02-11T15:17:27.176Z"
      },
      {
        "duration": 0,
        "start_time": "2025-02-11T15:17:27.177Z"
      },
      {
        "duration": 0,
        "start_time": "2025-02-11T15:17:27.179Z"
      },
      {
        "duration": 0,
        "start_time": "2025-02-11T15:17:27.180Z"
      },
      {
        "duration": 0,
        "start_time": "2025-02-11T15:17:27.181Z"
      },
      {
        "duration": 0,
        "start_time": "2025-02-11T15:17:27.182Z"
      },
      {
        "duration": 0,
        "start_time": "2025-02-11T15:17:27.183Z"
      },
      {
        "duration": 0,
        "start_time": "2025-02-11T15:17:27.184Z"
      },
      {
        "duration": 0,
        "start_time": "2025-02-11T15:17:27.185Z"
      },
      {
        "duration": 0,
        "start_time": "2025-02-11T15:17:27.187Z"
      },
      {
        "duration": 0,
        "start_time": "2025-02-11T15:17:27.188Z"
      },
      {
        "duration": 0,
        "start_time": "2025-02-11T15:17:27.189Z"
      },
      {
        "duration": 0,
        "start_time": "2025-02-11T15:17:27.191Z"
      },
      {
        "duration": 4,
        "start_time": "2025-02-11T15:23:33.201Z"
      },
      {
        "duration": 6,
        "start_time": "2025-02-11T15:23:48.085Z"
      },
      {
        "duration": 3757,
        "start_time": "2025-02-11T15:23:53.285Z"
      },
      {
        "duration": 3,
        "start_time": "2025-02-11T15:23:57.045Z"
      },
      {
        "duration": 1816,
        "start_time": "2025-02-11T15:23:57.050Z"
      },
      {
        "duration": 4,
        "start_time": "2025-02-11T15:23:58.868Z"
      },
      {
        "duration": 188,
        "start_time": "2025-02-11T15:23:58.874Z"
      },
      {
        "duration": 14,
        "start_time": "2025-02-11T15:23:59.065Z"
      },
      {
        "duration": 16,
        "start_time": "2025-02-11T15:23:59.081Z"
      },
      {
        "duration": 5,
        "start_time": "2025-02-11T15:23:59.098Z"
      },
      {
        "duration": 7,
        "start_time": "2025-02-11T15:23:59.105Z"
      },
      {
        "duration": 17,
        "start_time": "2025-02-11T15:23:59.114Z"
      },
      {
        "duration": 11,
        "start_time": "2025-02-11T15:23:59.133Z"
      },
      {
        "duration": 28,
        "start_time": "2025-02-11T15:23:59.146Z"
      },
      {
        "duration": 15,
        "start_time": "2025-02-11T15:23:59.177Z"
      },
      {
        "duration": 585,
        "start_time": "2025-02-11T15:23:59.195Z"
      },
      {
        "duration": 2291,
        "start_time": "2025-02-11T15:23:59.782Z"
      },
      {
        "duration": 99,
        "start_time": "2025-02-11T15:24:02.076Z"
      },
      {
        "duration": 615,
        "start_time": "2025-02-11T15:24:02.176Z"
      },
      {
        "duration": 403,
        "start_time": "2025-02-11T15:24:02.793Z"
      },
      {
        "duration": 333,
        "start_time": "2025-02-11T15:24:03.199Z"
      },
      {
        "duration": 233,
        "start_time": "2025-02-11T15:24:03.534Z"
      },
      {
        "duration": 221,
        "start_time": "2025-02-11T15:24:03.772Z"
      },
      {
        "duration": 314,
        "start_time": "2025-02-11T15:24:03.995Z"
      },
      {
        "duration": 4,
        "start_time": "2025-02-11T15:24:04.311Z"
      },
      {
        "duration": 6,
        "start_time": "2025-02-11T15:24:04.317Z"
      },
      {
        "duration": 14,
        "start_time": "2025-02-11T15:24:04.324Z"
      },
      {
        "duration": 141,
        "start_time": "2025-02-11T15:24:04.339Z"
      },
      {
        "duration": 13,
        "start_time": "2025-02-11T15:24:04.482Z"
      },
      {
        "duration": 17,
        "start_time": "2025-02-11T15:24:04.497Z"
      },
      {
        "duration": 19,
        "start_time": "2025-02-11T15:24:04.516Z"
      },
      {
        "duration": 37,
        "start_time": "2025-02-11T15:24:04.537Z"
      },
      {
        "duration": 90,
        "start_time": "2025-02-11T15:24:04.576Z"
      },
      {
        "duration": 88,
        "start_time": "2025-02-11T15:24:04.668Z"
      },
      {
        "duration": 40,
        "start_time": "2025-02-11T15:24:04.758Z"
      },
      {
        "duration": 6,
        "start_time": "2025-02-11T15:24:04.800Z"
      },
      {
        "duration": 9,
        "start_time": "2025-02-11T15:24:04.808Z"
      },
      {
        "duration": 8,
        "start_time": "2025-02-11T15:24:04.818Z"
      },
      {
        "duration": 9,
        "start_time": "2025-02-11T15:24:04.828Z"
      },
      {
        "duration": 89,
        "start_time": "2025-02-11T15:24:04.839Z"
      },
      {
        "duration": 46882,
        "start_time": "2025-02-11T15:24:04.930Z"
      },
      {
        "duration": 6,
        "start_time": "2025-02-11T15:24:51.814Z"
      },
      {
        "duration": 205,
        "start_time": "2025-02-11T15:24:51.824Z"
      },
      {
        "duration": 0,
        "start_time": "2025-02-11T15:24:52.030Z"
      },
      {
        "duration": 0,
        "start_time": "2025-02-11T15:24:52.031Z"
      },
      {
        "duration": 16,
        "start_time": "2025-02-11T15:25:49.124Z"
      },
      {
        "duration": 59,
        "start_time": "2025-02-11T15:26:06.236Z"
      },
      {
        "duration": 11,
        "start_time": "2025-02-11T15:26:06.297Z"
      },
      {
        "duration": 62,
        "start_time": "2025-02-11T15:27:55.422Z"
      },
      {
        "duration": 33,
        "start_time": "2025-02-11T15:30:09.102Z"
      },
      {
        "duration": 15,
        "start_time": "2025-02-11T15:30:21.971Z"
      },
      {
        "duration": 11,
        "start_time": "2025-02-11T15:30:56.094Z"
      },
      {
        "duration": 8,
        "start_time": "2025-02-11T15:31:27.675Z"
      },
      {
        "duration": 5,
        "start_time": "2025-02-11T15:31:50.644Z"
      },
      {
        "duration": 12,
        "start_time": "2025-02-11T15:31:54.941Z"
      },
      {
        "duration": 352,
        "start_time": "2025-02-11T15:32:37.817Z"
      },
      {
        "duration": 492,
        "start_time": "2025-02-11T15:32:49.926Z"
      },
      {
        "duration": 325,
        "start_time": "2025-02-11T15:33:10.319Z"
      },
      {
        "duration": 10,
        "start_time": "2025-02-11T15:34:47.440Z"
      },
      {
        "duration": 15,
        "start_time": "2025-02-11T15:34:57.176Z"
      },
      {
        "duration": 333,
        "start_time": "2025-02-11T15:35:05.691Z"
      },
      {
        "duration": 9,
        "start_time": "2025-02-11T15:35:10.378Z"
      },
      {
        "duration": 330,
        "start_time": "2025-02-11T15:38:02.194Z"
      },
      {
        "duration": 12,
        "start_time": "2025-02-11T16:01:13.877Z"
      },
      {
        "duration": 15,
        "start_time": "2025-02-11T16:01:23.471Z"
      },
      {
        "duration": 9,
        "start_time": "2025-02-11T16:01:31.846Z"
      },
      {
        "duration": 6,
        "start_time": "2025-02-11T16:02:01.940Z"
      },
      {
        "duration": 35,
        "start_time": "2025-02-11T16:02:09.080Z"
      },
      {
        "duration": 23,
        "start_time": "2025-02-11T16:02:35.893Z"
      },
      {
        "duration": 25,
        "start_time": "2025-02-11T16:02:41.376Z"
      },
      {
        "duration": 4367,
        "start_time": "2025-02-11T16:04:51.941Z"
      },
      {
        "duration": 42441,
        "start_time": "2025-02-11T16:05:02.066Z"
      },
      {
        "duration": 42798,
        "start_time": "2025-02-11T16:05:54.295Z"
      },
      {
        "duration": 4759,
        "start_time": "2025-02-11T16:19:45.322Z"
      },
      {
        "duration": 2298,
        "start_time": "2025-02-11T16:19:50.083Z"
      },
      {
        "duration": 4,
        "start_time": "2025-02-11T16:19:52.383Z"
      },
      {
        "duration": 159,
        "start_time": "2025-02-11T16:19:52.388Z"
      },
      {
        "duration": 12,
        "start_time": "2025-02-11T16:19:52.549Z"
      },
      {
        "duration": 18,
        "start_time": "2025-02-11T16:19:52.563Z"
      },
      {
        "duration": 19,
        "start_time": "2025-02-11T16:19:52.583Z"
      },
      {
        "duration": 14,
        "start_time": "2025-02-11T16:19:52.604Z"
      },
      {
        "duration": 11,
        "start_time": "2025-02-11T16:19:52.620Z"
      },
      {
        "duration": 28,
        "start_time": "2025-02-11T16:19:52.634Z"
      },
      {
        "duration": 41,
        "start_time": "2025-02-11T16:19:52.665Z"
      },
      {
        "duration": 24,
        "start_time": "2025-02-11T16:19:52.709Z"
      },
      {
        "duration": 491,
        "start_time": "2025-02-11T16:19:52.735Z"
      },
      {
        "duration": 1648,
        "start_time": "2025-02-11T16:19:53.230Z"
      },
      {
        "duration": 98,
        "start_time": "2025-02-11T16:19:54.881Z"
      },
      {
        "duration": 403,
        "start_time": "2025-02-11T16:19:54.981Z"
      },
      {
        "duration": 298,
        "start_time": "2025-02-11T16:19:55.386Z"
      },
      {
        "duration": 356,
        "start_time": "2025-02-11T16:19:55.686Z"
      },
      {
        "duration": 252,
        "start_time": "2025-02-11T16:19:56.044Z"
      },
      {
        "duration": 240,
        "start_time": "2025-02-11T16:19:56.298Z"
      },
      {
        "duration": 336,
        "start_time": "2025-02-11T16:19:56.541Z"
      },
      {
        "duration": 6,
        "start_time": "2025-02-11T16:19:56.879Z"
      },
      {
        "duration": 24,
        "start_time": "2025-02-11T16:19:56.887Z"
      },
      {
        "duration": 37,
        "start_time": "2025-02-11T16:19:56.913Z"
      },
      {
        "duration": 12,
        "start_time": "2025-02-11T16:19:56.952Z"
      },
      {
        "duration": 15,
        "start_time": "2025-02-11T16:19:56.966Z"
      },
      {
        "duration": 3,
        "start_time": "2025-02-11T16:19:56.983Z"
      },
      {
        "duration": 10,
        "start_time": "2025-02-11T16:19:56.988Z"
      },
      {
        "duration": 7,
        "start_time": "2025-02-11T16:19:57.000Z"
      },
      {
        "duration": 7,
        "start_time": "2025-02-11T16:19:57.009Z"
      },
      {
        "duration": 7,
        "start_time": "2025-02-11T16:19:57.019Z"
      },
      {
        "duration": 4,
        "start_time": "2025-02-11T16:19:57.029Z"
      },
      {
        "duration": 5,
        "start_time": "2025-02-11T16:19:57.036Z"
      },
      {
        "duration": 35,
        "start_time": "2025-02-11T16:19:57.044Z"
      },
      {
        "duration": 11,
        "start_time": "2025-02-11T16:19:57.081Z"
      },
      {
        "duration": 7,
        "start_time": "2025-02-11T16:19:57.094Z"
      },
      {
        "duration": 5,
        "start_time": "2025-02-11T16:19:57.103Z"
      },
      {
        "duration": 204529,
        "start_time": "2025-02-11T16:19:57.109Z"
      },
      {
        "duration": 0,
        "start_time": "2025-02-11T16:23:21.641Z"
      },
      {
        "duration": 0,
        "start_time": "2025-02-11T16:23:21.643Z"
      },
      {
        "duration": 0,
        "start_time": "2025-02-11T16:23:21.646Z"
      },
      {
        "duration": 0,
        "start_time": "2025-02-11T16:23:21.648Z"
      },
      {
        "duration": 0,
        "start_time": "2025-02-11T16:23:21.650Z"
      },
      {
        "duration": 0,
        "start_time": "2025-02-11T16:23:21.652Z"
      },
      {
        "duration": 0,
        "start_time": "2025-02-11T16:23:21.672Z"
      },
      {
        "duration": 266111,
        "start_time": "2025-02-11T16:23:22.774Z"
      },
      {
        "duration": 5,
        "start_time": "2025-02-11T16:28:19.450Z"
      },
      {
        "duration": 5,
        "start_time": "2025-02-11T16:28:19.457Z"
      },
      {
        "duration": 12,
        "start_time": "2025-02-11T16:28:19.546Z"
      },
      {
        "duration": 26,
        "start_time": "2025-02-11T16:28:19.560Z"
      },
      {
        "duration": 10,
        "start_time": "2025-02-11T16:28:19.588Z"
      },
      {
        "duration": 13,
        "start_time": "2025-02-11T16:28:19.600Z"
      },
      {
        "duration": 3,
        "start_time": "2025-02-11T16:28:19.616Z"
      },
      {
        "duration": 8,
        "start_time": "2025-02-11T16:28:19.620Z"
      },
      {
        "duration": 8,
        "start_time": "2025-02-11T16:28:19.629Z"
      },
      {
        "duration": 12,
        "start_time": "2025-02-11T16:28:19.638Z"
      },
      {
        "duration": 21,
        "start_time": "2025-02-11T16:28:19.652Z"
      },
      {
        "duration": 5,
        "start_time": "2025-02-11T16:28:19.682Z"
      },
      {
        "duration": 6,
        "start_time": "2025-02-11T16:28:19.689Z"
      },
      {
        "duration": 10,
        "start_time": "2025-02-11T16:28:19.696Z"
      },
      {
        "duration": 12,
        "start_time": "2025-02-11T16:28:19.707Z"
      },
      {
        "duration": 12,
        "start_time": "2025-02-11T16:28:19.722Z"
      },
      {
        "duration": 12,
        "start_time": "2025-02-11T16:28:19.736Z"
      },
      {
        "duration": 299633,
        "start_time": "2025-02-11T16:28:19.750Z"
      },
      {
        "duration": 0,
        "start_time": "2025-02-11T16:33:19.388Z"
      },
      {
        "duration": 0,
        "start_time": "2025-02-11T16:33:19.390Z"
      },
      {
        "duration": 0,
        "start_time": "2025-02-11T16:33:19.392Z"
      },
      {
        "duration": 0,
        "start_time": "2025-02-11T16:33:19.393Z"
      },
      {
        "duration": 0,
        "start_time": "2025-02-11T16:33:19.395Z"
      },
      {
        "duration": 0,
        "start_time": "2025-02-11T16:33:19.396Z"
      },
      {
        "duration": 5,
        "start_time": "2025-02-11T16:33:28.439Z"
      },
      {
        "duration": 4,
        "start_time": "2025-02-11T16:33:28.940Z"
      },
      {
        "duration": 45027,
        "start_time": "2025-02-11T16:33:29.372Z"
      },
      {
        "duration": 7,
        "start_time": "2025-02-11T16:34:25.295Z"
      },
      {
        "duration": 18,
        "start_time": "2025-02-11T16:34:27.797Z"
      },
      {
        "duration": 5123,
        "start_time": "2025-02-11T16:34:52.611Z"
      },
      {
        "duration": 2296,
        "start_time": "2025-02-11T16:34:57.737Z"
      },
      {
        "duration": 3,
        "start_time": "2025-02-11T16:35:00.035Z"
      },
      {
        "duration": 222,
        "start_time": "2025-02-11T16:35:00.040Z"
      },
      {
        "duration": 12,
        "start_time": "2025-02-11T16:35:00.264Z"
      },
      {
        "duration": 22,
        "start_time": "2025-02-11T16:35:00.283Z"
      },
      {
        "duration": 6,
        "start_time": "2025-02-11T16:35:00.307Z"
      },
      {
        "duration": 8,
        "start_time": "2025-02-11T16:35:00.315Z"
      },
      {
        "duration": 20,
        "start_time": "2025-02-11T16:35:00.325Z"
      },
      {
        "duration": 42,
        "start_time": "2025-02-11T16:35:00.346Z"
      },
      {
        "duration": 9,
        "start_time": "2025-02-11T16:35:00.390Z"
      },
      {
        "duration": 10,
        "start_time": "2025-02-11T16:35:00.401Z"
      },
      {
        "duration": 475,
        "start_time": "2025-02-11T16:35:00.413Z"
      },
      {
        "duration": 3003,
        "start_time": "2025-02-11T16:35:00.893Z"
      },
      {
        "duration": 95,
        "start_time": "2025-02-11T16:35:03.900Z"
      },
      {
        "duration": 327,
        "start_time": "2025-02-11T16:35:04.078Z"
      },
      {
        "duration": 321,
        "start_time": "2025-02-11T16:35:04.407Z"
      },
      {
        "duration": 384,
        "start_time": "2025-02-11T16:35:04.731Z"
      },
      {
        "duration": 247,
        "start_time": "2025-02-11T16:35:05.117Z"
      },
      {
        "duration": 262,
        "start_time": "2025-02-11T16:35:05.372Z"
      },
      {
        "duration": 369,
        "start_time": "2025-02-11T16:35:05.637Z"
      },
      {
        "duration": 5,
        "start_time": "2025-02-11T16:35:06.008Z"
      },
      {
        "duration": 7,
        "start_time": "2025-02-11T16:35:06.014Z"
      },
      {
        "duration": 14,
        "start_time": "2025-02-11T16:35:06.022Z"
      },
      {
        "duration": 10,
        "start_time": "2025-02-11T16:35:06.038Z"
      },
      {
        "duration": 18,
        "start_time": "2025-02-11T16:35:06.074Z"
      },
      {
        "duration": 3,
        "start_time": "2025-02-11T16:35:06.094Z"
      },
      {
        "duration": 6,
        "start_time": "2025-02-11T16:35:06.099Z"
      },
      {
        "duration": 7,
        "start_time": "2025-02-11T16:35:06.107Z"
      },
      {
        "duration": 17,
        "start_time": "2025-02-11T16:35:06.116Z"
      },
      {
        "duration": 12,
        "start_time": "2025-02-11T16:35:06.135Z"
      },
      {
        "duration": 38,
        "start_time": "2025-02-11T16:35:06.149Z"
      },
      {
        "duration": 21,
        "start_time": "2025-02-11T16:35:06.190Z"
      },
      {
        "duration": 9,
        "start_time": "2025-02-11T16:35:06.213Z"
      },
      {
        "duration": 5,
        "start_time": "2025-02-11T16:35:06.224Z"
      },
      {
        "duration": 6,
        "start_time": "2025-02-11T16:35:06.231Z"
      },
      {
        "duration": 8,
        "start_time": "2025-02-11T16:35:06.238Z"
      },
      {
        "duration": 45797,
        "start_time": "2025-02-11T16:35:06.248Z"
      },
      {
        "duration": 6,
        "start_time": "2025-02-11T16:35:52.047Z"
      },
      {
        "duration": 34,
        "start_time": "2025-02-11T16:35:52.055Z"
      },
      {
        "duration": 59,
        "start_time": "2025-02-11T16:35:52.093Z"
      },
      {
        "duration": 39,
        "start_time": "2025-02-11T16:35:52.154Z"
      },
      {
        "duration": 392,
        "start_time": "2025-02-11T16:35:52.196Z"
      },
      {
        "duration": 50102,
        "start_time": "2025-02-11T16:35:52.590Z"
      },
      {
        "duration": 3,
        "start_time": "2025-02-11T16:36:51.125Z"
      },
      {
        "duration": 9379,
        "start_time": "2025-02-11T16:36:52.441Z"
      },
      {
        "duration": 4,
        "start_time": "2025-02-11T16:37:05.766Z"
      },
      {
        "duration": 9284,
        "start_time": "2025-02-11T16:37:06.406Z"
      },
      {
        "duration": 4011,
        "start_time": "2025-02-11T16:37:24.800Z"
      },
      {
        "duration": 2313,
        "start_time": "2025-02-11T16:37:28.813Z"
      },
      {
        "duration": 2,
        "start_time": "2025-02-11T16:37:31.129Z"
      },
      {
        "duration": 163,
        "start_time": "2025-02-11T16:37:31.132Z"
      },
      {
        "duration": 15,
        "start_time": "2025-02-11T16:37:31.298Z"
      },
      {
        "duration": 13,
        "start_time": "2025-02-11T16:37:31.316Z"
      },
      {
        "duration": 5,
        "start_time": "2025-02-11T16:37:31.331Z"
      },
      {
        "duration": 41,
        "start_time": "2025-02-11T16:37:31.338Z"
      },
      {
        "duration": 9,
        "start_time": "2025-02-11T16:37:31.381Z"
      },
      {
        "duration": 10,
        "start_time": "2025-02-11T16:37:31.392Z"
      },
      {
        "duration": 19,
        "start_time": "2025-02-11T16:37:31.405Z"
      },
      {
        "duration": 13,
        "start_time": "2025-02-11T16:37:31.426Z"
      },
      {
        "duration": 485,
        "start_time": "2025-02-11T16:37:31.442Z"
      },
      {
        "duration": 2865,
        "start_time": "2025-02-11T16:37:31.930Z"
      },
      {
        "duration": 20,
        "start_time": "2025-02-11T16:37:34.875Z"
      },
      {
        "duration": 340,
        "start_time": "2025-02-11T16:37:34.974Z"
      },
      {
        "duration": 328,
        "start_time": "2025-02-11T16:37:35.316Z"
      },
      {
        "duration": 367,
        "start_time": "2025-02-11T16:37:35.645Z"
      },
      {
        "duration": 237,
        "start_time": "2025-02-11T16:37:36.014Z"
      },
      {
        "duration": 248,
        "start_time": "2025-02-11T16:37:36.253Z"
      },
      {
        "duration": 335,
        "start_time": "2025-02-11T16:37:36.503Z"
      },
      {
        "duration": 4,
        "start_time": "2025-02-11T16:37:36.840Z"
      },
      {
        "duration": 36,
        "start_time": "2025-02-11T16:37:36.846Z"
      },
      {
        "duration": 23,
        "start_time": "2025-02-11T16:37:36.884Z"
      },
      {
        "duration": 20,
        "start_time": "2025-02-11T16:37:36.909Z"
      },
      {
        "duration": 23,
        "start_time": "2025-02-11T16:37:36.932Z"
      },
      {
        "duration": 20,
        "start_time": "2025-02-11T16:37:36.957Z"
      },
      {
        "duration": 3,
        "start_time": "2025-02-11T16:37:36.981Z"
      },
      {
        "duration": 16,
        "start_time": "2025-02-11T16:37:36.988Z"
      },
      {
        "duration": 6,
        "start_time": "2025-02-11T16:37:37.006Z"
      },
      {
        "duration": 8,
        "start_time": "2025-02-11T16:37:37.014Z"
      },
      {
        "duration": 4,
        "start_time": "2025-02-11T16:37:37.024Z"
      },
      {
        "duration": 6,
        "start_time": "2025-02-11T16:37:37.030Z"
      },
      {
        "duration": 10,
        "start_time": "2025-02-11T16:37:37.037Z"
      },
      {
        "duration": 8,
        "start_time": "2025-02-11T16:37:37.049Z"
      },
      {
        "duration": 82,
        "start_time": "2025-02-11T16:37:37.075Z"
      },
      {
        "duration": 0,
        "start_time": "2025-02-11T16:37:37.159Z"
      },
      {
        "duration": 0,
        "start_time": "2025-02-11T16:37:37.161Z"
      },
      {
        "duration": 0,
        "start_time": "2025-02-11T16:37:37.161Z"
      },
      {
        "duration": 0,
        "start_time": "2025-02-11T16:37:37.163Z"
      },
      {
        "duration": 0,
        "start_time": "2025-02-11T16:37:37.164Z"
      },
      {
        "duration": 0,
        "start_time": "2025-02-11T16:37:37.165Z"
      },
      {
        "duration": 0,
        "start_time": "2025-02-11T16:37:37.166Z"
      },
      {
        "duration": 0,
        "start_time": "2025-02-11T16:37:37.168Z"
      },
      {
        "duration": 5226,
        "start_time": "2025-02-11T16:38:53.039Z"
      },
      {
        "duration": 2368,
        "start_time": "2025-02-11T16:38:58.269Z"
      },
      {
        "duration": 3,
        "start_time": "2025-02-11T16:39:00.639Z"
      },
      {
        "duration": 155,
        "start_time": "2025-02-11T16:39:00.643Z"
      },
      {
        "duration": 11,
        "start_time": "2025-02-11T16:39:00.801Z"
      },
      {
        "duration": 10,
        "start_time": "2025-02-11T16:39:00.814Z"
      },
      {
        "duration": 4,
        "start_time": "2025-02-11T16:39:00.826Z"
      },
      {
        "duration": 13,
        "start_time": "2025-02-11T16:39:00.831Z"
      },
      {
        "duration": 43,
        "start_time": "2025-02-11T16:39:00.845Z"
      },
      {
        "duration": 37,
        "start_time": "2025-02-11T16:39:00.889Z"
      },
      {
        "duration": 32,
        "start_time": "2025-02-11T16:39:00.928Z"
      },
      {
        "duration": 19,
        "start_time": "2025-02-11T16:39:00.962Z"
      },
      {
        "duration": 506,
        "start_time": "2025-02-11T16:39:00.983Z"
      },
      {
        "duration": 3281,
        "start_time": "2025-02-11T16:39:01.493Z"
      },
      {
        "duration": 8,
        "start_time": "2025-02-11T16:39:04.778Z"
      },
      {
        "duration": 409,
        "start_time": "2025-02-11T16:39:04.789Z"
      },
      {
        "duration": 309,
        "start_time": "2025-02-11T16:39:05.200Z"
      },
      {
        "duration": 356,
        "start_time": "2025-02-11T16:39:05.511Z"
      },
      {
        "duration": 243,
        "start_time": "2025-02-11T16:39:05.869Z"
      },
      {
        "duration": 241,
        "start_time": "2025-02-11T16:39:06.113Z"
      },
      {
        "duration": 341,
        "start_time": "2025-02-11T16:39:06.357Z"
      },
      {
        "duration": 5,
        "start_time": "2025-02-11T16:39:06.699Z"
      },
      {
        "duration": 17,
        "start_time": "2025-02-11T16:39:06.706Z"
      },
      {
        "duration": 13,
        "start_time": "2025-02-11T16:39:06.725Z"
      },
      {
        "duration": 11,
        "start_time": "2025-02-11T16:39:06.739Z"
      },
      {
        "duration": 38,
        "start_time": "2025-02-11T16:39:06.752Z"
      },
      {
        "duration": 19,
        "start_time": "2025-02-11T16:39:06.792Z"
      },
      {
        "duration": 18,
        "start_time": "2025-02-11T16:39:06.813Z"
      },
      {
        "duration": 9,
        "start_time": "2025-02-11T16:39:06.833Z"
      },
      {
        "duration": 21,
        "start_time": "2025-02-11T16:39:06.844Z"
      },
      {
        "duration": 21,
        "start_time": "2025-02-11T16:39:06.867Z"
      },
      {
        "duration": 15,
        "start_time": "2025-02-11T16:39:06.892Z"
      },
      {
        "duration": 4,
        "start_time": "2025-02-11T16:39:06.909Z"
      },
      {
        "duration": 11,
        "start_time": "2025-02-11T16:39:06.915Z"
      },
      {
        "duration": 4,
        "start_time": "2025-02-11T16:39:06.928Z"
      },
      {
        "duration": 89,
        "start_time": "2025-02-11T16:39:06.934Z"
      },
      {
        "duration": 0,
        "start_time": "2025-02-11T16:39:07.025Z"
      },
      {
        "duration": 0,
        "start_time": "2025-02-11T16:39:07.026Z"
      },
      {
        "duration": 0,
        "start_time": "2025-02-11T16:39:07.027Z"
      },
      {
        "duration": 0,
        "start_time": "2025-02-11T16:39:07.029Z"
      },
      {
        "duration": 0,
        "start_time": "2025-02-11T16:39:07.031Z"
      },
      {
        "duration": 0,
        "start_time": "2025-02-11T16:39:07.033Z"
      },
      {
        "duration": 0,
        "start_time": "2025-02-11T16:39:07.034Z"
      },
      {
        "duration": 0,
        "start_time": "2025-02-11T16:39:07.036Z"
      },
      {
        "duration": 4061,
        "start_time": "2025-02-11T16:39:49.772Z"
      },
      {
        "duration": 2275,
        "start_time": "2025-02-11T16:39:53.836Z"
      },
      {
        "duration": 3,
        "start_time": "2025-02-11T16:39:56.113Z"
      },
      {
        "duration": 145,
        "start_time": "2025-02-11T16:39:56.117Z"
      },
      {
        "duration": 23,
        "start_time": "2025-02-11T16:39:56.265Z"
      },
      {
        "duration": 14,
        "start_time": "2025-02-11T16:39:56.295Z"
      },
      {
        "duration": 4,
        "start_time": "2025-02-11T16:39:56.311Z"
      },
      {
        "duration": 7,
        "start_time": "2025-02-11T16:39:56.317Z"
      },
      {
        "duration": 34,
        "start_time": "2025-02-11T16:39:56.326Z"
      },
      {
        "duration": 8,
        "start_time": "2025-02-11T16:39:56.362Z"
      },
      {
        "duration": 13,
        "start_time": "2025-02-11T16:39:56.379Z"
      },
      {
        "duration": 7,
        "start_time": "2025-02-11T16:39:56.393Z"
      },
      {
        "duration": 470,
        "start_time": "2025-02-11T16:39:56.402Z"
      },
      {
        "duration": 2800,
        "start_time": "2025-02-11T16:39:56.876Z"
      },
      {
        "duration": 92,
        "start_time": "2025-02-11T16:39:59.691Z"
      },
      {
        "duration": 334,
        "start_time": "2025-02-11T16:39:59.788Z"
      },
      {
        "duration": 306,
        "start_time": "2025-02-11T16:40:00.124Z"
      },
      {
        "duration": 367,
        "start_time": "2025-02-11T16:40:00.432Z"
      },
      {
        "duration": 241,
        "start_time": "2025-02-11T16:40:00.801Z"
      },
      {
        "duration": 278,
        "start_time": "2025-02-11T16:40:01.043Z"
      },
      {
        "duration": 330,
        "start_time": "2025-02-11T16:40:01.323Z"
      },
      {
        "duration": 5,
        "start_time": "2025-02-11T16:40:01.655Z"
      },
      {
        "duration": 14,
        "start_time": "2025-02-11T16:40:01.672Z"
      },
      {
        "duration": 14,
        "start_time": "2025-02-11T16:40:01.689Z"
      },
      {
        "duration": 15,
        "start_time": "2025-02-11T16:40:01.705Z"
      },
      {
        "duration": 12,
        "start_time": "2025-02-11T16:40:01.722Z"
      },
      {
        "duration": 5,
        "start_time": "2025-02-11T16:40:01.736Z"
      },
      {
        "duration": 35,
        "start_time": "2025-02-11T16:40:01.742Z"
      },
      {
        "duration": 6,
        "start_time": "2025-02-11T16:40:01.787Z"
      },
      {
        "duration": 18,
        "start_time": "2025-02-11T16:40:01.795Z"
      },
      {
        "duration": 6,
        "start_time": "2025-02-11T16:40:01.815Z"
      },
      {
        "duration": 4,
        "start_time": "2025-02-11T16:40:01.823Z"
      },
      {
        "duration": 4,
        "start_time": "2025-02-11T16:40:01.829Z"
      },
      {
        "duration": 26,
        "start_time": "2025-02-11T16:40:01.834Z"
      },
      {
        "duration": 23,
        "start_time": "2025-02-11T16:40:01.863Z"
      },
      {
        "duration": 88,
        "start_time": "2025-02-11T16:40:01.888Z"
      },
      {
        "duration": 0,
        "start_time": "2025-02-11T16:40:01.980Z"
      },
      {
        "duration": 0,
        "start_time": "2025-02-11T16:40:01.983Z"
      },
      {
        "duration": 0,
        "start_time": "2025-02-11T16:40:01.987Z"
      },
      {
        "duration": 0,
        "start_time": "2025-02-11T16:40:01.989Z"
      },
      {
        "duration": 0,
        "start_time": "2025-02-11T16:40:01.990Z"
      },
      {
        "duration": 0,
        "start_time": "2025-02-11T16:40:01.991Z"
      },
      {
        "duration": 0,
        "start_time": "2025-02-11T16:40:01.993Z"
      },
      {
        "duration": 0,
        "start_time": "2025-02-11T16:40:01.994Z"
      },
      {
        "duration": 3995,
        "start_time": "2025-02-11T16:42:26.242Z"
      },
      {
        "duration": 2324,
        "start_time": "2025-02-11T16:42:30.240Z"
      },
      {
        "duration": 12,
        "start_time": "2025-02-11T16:42:32.566Z"
      },
      {
        "duration": 161,
        "start_time": "2025-02-11T16:42:32.580Z"
      },
      {
        "duration": 13,
        "start_time": "2025-02-11T16:42:32.745Z"
      },
      {
        "duration": 56,
        "start_time": "2025-02-11T16:42:32.760Z"
      },
      {
        "duration": 14,
        "start_time": "2025-02-11T16:42:32.819Z"
      },
      {
        "duration": 53,
        "start_time": "2025-02-11T16:42:32.835Z"
      },
      {
        "duration": 38,
        "start_time": "2025-02-11T16:42:32.889Z"
      },
      {
        "duration": 17,
        "start_time": "2025-02-11T16:42:32.929Z"
      },
      {
        "duration": 34,
        "start_time": "2025-02-11T16:42:32.948Z"
      },
      {
        "duration": 8,
        "start_time": "2025-02-11T16:42:32.984Z"
      },
      {
        "duration": 495,
        "start_time": "2025-02-11T16:42:32.993Z"
      },
      {
        "duration": 2891,
        "start_time": "2025-02-11T16:42:33.493Z"
      },
      {
        "duration": 87,
        "start_time": "2025-02-11T16:42:36.387Z"
      },
      {
        "duration": 419,
        "start_time": "2025-02-11T16:42:36.477Z"
      },
      {
        "duration": 310,
        "start_time": "2025-02-11T16:42:36.899Z"
      },
      {
        "duration": 358,
        "start_time": "2025-02-11T16:42:37.211Z"
      },
      {
        "duration": 260,
        "start_time": "2025-02-11T16:42:37.573Z"
      },
      {
        "duration": 234,
        "start_time": "2025-02-11T16:42:37.835Z"
      },
      {
        "duration": 340,
        "start_time": "2025-02-11T16:42:38.071Z"
      },
      {
        "duration": 4,
        "start_time": "2025-02-11T16:42:38.413Z"
      },
      {
        "duration": 5,
        "start_time": "2025-02-11T16:42:38.419Z"
      },
      {
        "duration": 13,
        "start_time": "2025-02-11T16:42:38.425Z"
      },
      {
        "duration": 48,
        "start_time": "2025-02-11T16:42:38.440Z"
      },
      {
        "duration": 15,
        "start_time": "2025-02-11T16:42:38.490Z"
      },
      {
        "duration": 3,
        "start_time": "2025-02-11T16:42:38.507Z"
      },
      {
        "duration": 8,
        "start_time": "2025-02-11T16:42:38.512Z"
      },
      {
        "duration": 6,
        "start_time": "2025-02-11T16:42:38.522Z"
      },
      {
        "duration": 6,
        "start_time": "2025-02-11T16:42:38.530Z"
      },
      {
        "duration": 8,
        "start_time": "2025-02-11T16:42:38.537Z"
      },
      {
        "duration": 59,
        "start_time": "2025-02-11T16:42:38.547Z"
      },
      {
        "duration": 12,
        "start_time": "2025-02-11T16:42:38.608Z"
      },
      {
        "duration": 10,
        "start_time": "2025-02-11T16:42:38.622Z"
      },
      {
        "duration": 10,
        "start_time": "2025-02-11T16:42:38.634Z"
      },
      {
        "duration": 17,
        "start_time": "2025-02-11T16:42:38.646Z"
      },
      {
        "duration": 15,
        "start_time": "2025-02-11T16:42:38.665Z"
      },
      {
        "duration": 3983,
        "start_time": "2025-02-11T16:52:21.153Z"
      },
      {
        "duration": 3304,
        "start_time": "2025-02-11T16:52:25.138Z"
      },
      {
        "duration": 3,
        "start_time": "2025-02-11T16:52:28.444Z"
      },
      {
        "duration": 136,
        "start_time": "2025-02-11T16:52:28.449Z"
      },
      {
        "duration": 11,
        "start_time": "2025-02-11T16:52:28.589Z"
      },
      {
        "duration": 53,
        "start_time": "2025-02-11T16:52:28.602Z"
      },
      {
        "duration": 9,
        "start_time": "2025-02-11T16:52:28.657Z"
      },
      {
        "duration": 30,
        "start_time": "2025-02-11T16:52:28.668Z"
      },
      {
        "duration": 15,
        "start_time": "2025-02-11T16:52:28.700Z"
      },
      {
        "duration": 16,
        "start_time": "2025-02-11T16:52:28.717Z"
      },
      {
        "duration": 69,
        "start_time": "2025-02-11T16:52:28.734Z"
      },
      {
        "duration": 6,
        "start_time": "2025-02-11T16:52:28.806Z"
      },
      {
        "duration": 492,
        "start_time": "2025-02-11T16:52:28.813Z"
      },
      {
        "duration": 3383,
        "start_time": "2025-02-11T16:52:29.309Z"
      },
      {
        "duration": 22,
        "start_time": "2025-02-11T16:52:32.773Z"
      },
      {
        "duration": 426,
        "start_time": "2025-02-11T16:52:32.798Z"
      },
      {
        "duration": 312,
        "start_time": "2025-02-11T16:52:33.226Z"
      },
      {
        "duration": 372,
        "start_time": "2025-02-11T16:52:33.539Z"
      },
      {
        "duration": 245,
        "start_time": "2025-02-11T16:52:33.913Z"
      },
      {
        "duration": 260,
        "start_time": "2025-02-11T16:52:34.159Z"
      },
      {
        "duration": 342,
        "start_time": "2025-02-11T16:52:34.422Z"
      },
      {
        "duration": 4,
        "start_time": "2025-02-11T16:52:34.766Z"
      },
      {
        "duration": 44,
        "start_time": "2025-02-11T16:52:34.778Z"
      },
      {
        "duration": 15,
        "start_time": "2025-02-11T16:52:34.824Z"
      },
      {
        "duration": 10,
        "start_time": "2025-02-11T16:52:34.841Z"
      },
      {
        "duration": 15,
        "start_time": "2025-02-11T16:52:34.853Z"
      },
      {
        "duration": 8,
        "start_time": "2025-02-11T16:52:34.870Z"
      },
      {
        "duration": 4,
        "start_time": "2025-02-11T16:52:34.884Z"
      },
      {
        "duration": 9,
        "start_time": "2025-02-11T16:52:34.889Z"
      },
      {
        "duration": 13,
        "start_time": "2025-02-11T16:52:34.900Z"
      },
      {
        "duration": 5,
        "start_time": "2025-02-11T16:52:34.915Z"
      },
      {
        "duration": 14,
        "start_time": "2025-02-11T16:52:34.922Z"
      },
      {
        "duration": 10,
        "start_time": "2025-02-11T16:52:34.938Z"
      },
      {
        "duration": 37,
        "start_time": "2025-02-11T16:52:34.949Z"
      },
      {
        "duration": 14,
        "start_time": "2025-02-11T16:52:34.988Z"
      },
      {
        "duration": 17,
        "start_time": "2025-02-11T16:52:35.004Z"
      },
      {
        "duration": 9,
        "start_time": "2025-02-11T16:52:35.023Z"
      },
      {
        "duration": 5670,
        "start_time": "2025-02-11T17:33:59.431Z"
      },
      {
        "duration": 2314,
        "start_time": "2025-02-11T17:34:05.103Z"
      },
      {
        "duration": 4,
        "start_time": "2025-02-11T17:34:07.418Z"
      },
      {
        "duration": 212,
        "start_time": "2025-02-11T17:34:07.424Z"
      },
      {
        "duration": 11,
        "start_time": "2025-02-11T17:34:07.638Z"
      },
      {
        "duration": 46,
        "start_time": "2025-02-11T17:34:07.651Z"
      },
      {
        "duration": 5,
        "start_time": "2025-02-11T17:34:07.699Z"
      },
      {
        "duration": 12,
        "start_time": "2025-02-11T17:34:07.705Z"
      },
      {
        "duration": 22,
        "start_time": "2025-02-11T17:34:07.719Z"
      },
      {
        "duration": 18,
        "start_time": "2025-02-11T17:34:07.744Z"
      },
      {
        "duration": 63,
        "start_time": "2025-02-11T17:34:07.764Z"
      },
      {
        "duration": 54,
        "start_time": "2025-02-11T17:34:07.829Z"
      },
      {
        "duration": 480,
        "start_time": "2025-02-11T17:34:07.893Z"
      },
      {
        "duration": 4823,
        "start_time": "2025-02-11T17:34:08.376Z"
      },
      {
        "duration": 99,
        "start_time": "2025-02-11T17:34:13.278Z"
      },
      {
        "duration": 334,
        "start_time": "2025-02-11T17:34:13.383Z"
      },
      {
        "duration": 312,
        "start_time": "2025-02-11T17:34:13.718Z"
      },
      {
        "duration": 370,
        "start_time": "2025-02-11T17:34:14.032Z"
      },
      {
        "duration": 240,
        "start_time": "2025-02-11T17:34:14.404Z"
      },
      {
        "duration": 256,
        "start_time": "2025-02-11T17:34:14.646Z"
      },
      {
        "duration": 336,
        "start_time": "2025-02-11T17:34:14.903Z"
      },
      {
        "duration": 5,
        "start_time": "2025-02-11T17:34:15.241Z"
      },
      {
        "duration": 8,
        "start_time": "2025-02-11T17:34:15.248Z"
      },
      {
        "duration": 23,
        "start_time": "2025-02-11T17:34:15.258Z"
      },
      {
        "duration": 19,
        "start_time": "2025-02-11T17:34:15.283Z"
      },
      {
        "duration": 24,
        "start_time": "2025-02-11T17:34:15.305Z"
      },
      {
        "duration": 2,
        "start_time": "2025-02-11T17:34:15.331Z"
      },
      {
        "duration": 12,
        "start_time": "2025-02-11T17:34:15.337Z"
      },
      {
        "duration": 18,
        "start_time": "2025-02-11T17:34:15.351Z"
      },
      {
        "duration": 25,
        "start_time": "2025-02-11T17:34:15.375Z"
      },
      {
        "duration": 9,
        "start_time": "2025-02-11T17:34:15.401Z"
      },
      {
        "duration": 4,
        "start_time": "2025-02-11T17:34:15.412Z"
      },
      {
        "duration": 5,
        "start_time": "2025-02-11T17:34:15.418Z"
      },
      {
        "duration": 35,
        "start_time": "2025-02-11T17:34:15.425Z"
      },
      {
        "duration": 37,
        "start_time": "2025-02-11T17:34:15.462Z"
      },
      {
        "duration": 8,
        "start_time": "2025-02-11T17:34:15.501Z"
      },
      {
        "duration": 7,
        "start_time": "2025-02-11T17:34:15.511Z"
      },
      {
        "duration": 535736,
        "start_time": "2025-02-11T17:34:15.520Z"
      },
      {
        "duration": 25,
        "start_time": "2025-02-11T17:43:11.258Z"
      },
      {
        "duration": 31,
        "start_time": "2025-02-11T17:43:11.295Z"
      },
      {
        "duration": 77,
        "start_time": "2025-02-11T17:43:11.328Z"
      },
      {
        "duration": 12,
        "start_time": "2025-02-11T17:43:11.406Z"
      },
      {
        "duration": 394,
        "start_time": "2025-02-11T17:43:11.419Z"
      },
      {
        "duration": 45302,
        "start_time": "2025-02-11T17:43:11.816Z"
      },
      {
        "duration": 5891,
        "start_time": "2025-02-11T19:37:56.867Z"
      },
      {
        "duration": 2404,
        "start_time": "2025-02-11T19:38:02.761Z"
      },
      {
        "duration": 3,
        "start_time": "2025-02-11T19:38:05.167Z"
      },
      {
        "duration": 297,
        "start_time": "2025-02-11T19:38:05.177Z"
      },
      {
        "duration": 14,
        "start_time": "2025-02-11T19:38:05.476Z"
      },
      {
        "duration": 47,
        "start_time": "2025-02-11T19:38:05.492Z"
      },
      {
        "duration": 23,
        "start_time": "2025-02-11T19:38:05.541Z"
      },
      {
        "duration": 29,
        "start_time": "2025-02-11T19:38:05.566Z"
      },
      {
        "duration": 22,
        "start_time": "2025-02-11T19:38:05.597Z"
      },
      {
        "duration": 14,
        "start_time": "2025-02-11T19:38:05.622Z"
      },
      {
        "duration": 49,
        "start_time": "2025-02-11T19:38:05.638Z"
      },
      {
        "duration": 5,
        "start_time": "2025-02-11T19:38:05.691Z"
      },
      {
        "duration": 461,
        "start_time": "2025-02-11T19:38:05.698Z"
      },
      {
        "duration": 3115,
        "start_time": "2025-02-11T19:38:06.160Z"
      },
      {
        "duration": 89,
        "start_time": "2025-02-11T19:38:09.283Z"
      },
      {
        "duration": 334,
        "start_time": "2025-02-11T19:38:09.378Z"
      },
      {
        "duration": 309,
        "start_time": "2025-02-11T19:38:09.713Z"
      },
      {
        "duration": 367,
        "start_time": "2025-02-11T19:38:10.023Z"
      },
      {
        "duration": 235,
        "start_time": "2025-02-11T19:38:10.392Z"
      },
      {
        "duration": 236,
        "start_time": "2025-02-11T19:38:10.629Z"
      },
      {
        "duration": 344,
        "start_time": "2025-02-11T19:38:10.867Z"
      },
      {
        "duration": 7,
        "start_time": "2025-02-11T19:38:11.214Z"
      },
      {
        "duration": 230,
        "start_time": "2025-02-11T19:38:11.223Z"
      },
      {
        "duration": 0,
        "start_time": "2025-02-11T19:38:11.455Z"
      },
      {
        "duration": 0,
        "start_time": "2025-02-11T19:38:11.457Z"
      },
      {
        "duration": 0,
        "start_time": "2025-02-11T19:38:11.458Z"
      },
      {
        "duration": 0,
        "start_time": "2025-02-11T19:38:11.460Z"
      },
      {
        "duration": 0,
        "start_time": "2025-02-11T19:38:11.474Z"
      },
      {
        "duration": 0,
        "start_time": "2025-02-11T19:38:11.475Z"
      },
      {
        "duration": 0,
        "start_time": "2025-02-11T19:38:11.483Z"
      },
      {
        "duration": 0,
        "start_time": "2025-02-11T19:38:11.484Z"
      },
      {
        "duration": 0,
        "start_time": "2025-02-11T19:38:11.485Z"
      },
      {
        "duration": 0,
        "start_time": "2025-02-11T19:38:11.486Z"
      },
      {
        "duration": 0,
        "start_time": "2025-02-11T19:38:11.487Z"
      },
      {
        "duration": 0,
        "start_time": "2025-02-11T19:38:11.488Z"
      },
      {
        "duration": 0,
        "start_time": "2025-02-11T19:38:11.488Z"
      },
      {
        "duration": 0,
        "start_time": "2025-02-11T19:38:11.489Z"
      },
      {
        "duration": 0,
        "start_time": "2025-02-11T19:38:11.490Z"
      },
      {
        "duration": 0,
        "start_time": "2025-02-11T19:38:11.491Z"
      },
      {
        "duration": 0,
        "start_time": "2025-02-11T19:38:11.491Z"
      },
      {
        "duration": 0,
        "start_time": "2025-02-11T19:38:11.496Z"
      },
      {
        "duration": 0,
        "start_time": "2025-02-11T19:38:11.496Z"
      },
      {
        "duration": 0,
        "start_time": "2025-02-11T19:38:11.498Z"
      },
      {
        "duration": 9,
        "start_time": "2025-02-11T19:39:13.999Z"
      },
      {
        "duration": 5488,
        "start_time": "2025-02-11T19:39:42.498Z"
      },
      {
        "duration": 2300,
        "start_time": "2025-02-11T19:39:47.989Z"
      },
      {
        "duration": 3,
        "start_time": "2025-02-11T19:39:50.291Z"
      },
      {
        "duration": 135,
        "start_time": "2025-02-11T19:39:50.297Z"
      },
      {
        "duration": 19,
        "start_time": "2025-02-11T19:39:50.434Z"
      },
      {
        "duration": 10,
        "start_time": "2025-02-11T19:39:50.455Z"
      },
      {
        "duration": 22,
        "start_time": "2025-02-11T19:39:50.466Z"
      },
      {
        "duration": 32,
        "start_time": "2025-02-11T19:39:50.490Z"
      },
      {
        "duration": 20,
        "start_time": "2025-02-11T19:39:50.524Z"
      },
      {
        "duration": 19,
        "start_time": "2025-02-11T19:39:50.547Z"
      },
      {
        "duration": 23,
        "start_time": "2025-02-11T19:39:50.568Z"
      },
      {
        "duration": 99,
        "start_time": "2025-02-11T19:39:50.592Z"
      },
      {
        "duration": 451,
        "start_time": "2025-02-11T19:39:50.693Z"
      },
      {
        "duration": 3130,
        "start_time": "2025-02-11T19:39:51.146Z"
      },
      {
        "duration": 12,
        "start_time": "2025-02-11T19:39:54.278Z"
      },
      {
        "duration": 490,
        "start_time": "2025-02-11T19:39:54.294Z"
      },
      {
        "duration": 381,
        "start_time": "2025-02-11T19:39:54.786Z"
      },
      {
        "duration": 379,
        "start_time": "2025-02-11T19:39:55.172Z"
      },
      {
        "duration": 269,
        "start_time": "2025-02-11T19:39:55.553Z"
      },
      {
        "duration": 263,
        "start_time": "2025-02-11T19:39:55.824Z"
      },
      {
        "duration": 359,
        "start_time": "2025-02-11T19:39:56.090Z"
      },
      {
        "duration": 5,
        "start_time": "2025-02-11T19:39:56.451Z"
      },
      {
        "duration": 30,
        "start_time": "2025-02-11T19:39:56.458Z"
      },
      {
        "duration": 12,
        "start_time": "2025-02-11T19:39:56.492Z"
      },
      {
        "duration": 13,
        "start_time": "2025-02-11T19:39:56.507Z"
      },
      {
        "duration": 4,
        "start_time": "2025-02-11T19:39:56.522Z"
      },
      {
        "duration": 12,
        "start_time": "2025-02-11T19:39:56.528Z"
      },
      {
        "duration": 32,
        "start_time": "2025-02-11T19:39:56.545Z"
      },
      {
        "duration": 4,
        "start_time": "2025-02-11T19:39:56.586Z"
      },
      {
        "duration": 6,
        "start_time": "2025-02-11T19:39:56.592Z"
      },
      {
        "duration": 5,
        "start_time": "2025-02-11T19:39:56.600Z"
      },
      {
        "duration": 8,
        "start_time": "2025-02-11T19:39:56.607Z"
      },
      {
        "duration": 33,
        "start_time": "2025-02-11T19:39:56.617Z"
      },
      {
        "duration": 3,
        "start_time": "2025-02-11T19:39:56.652Z"
      },
      {
        "duration": 24,
        "start_time": "2025-02-11T19:39:56.657Z"
      },
      {
        "duration": 4,
        "start_time": "2025-02-11T19:39:56.687Z"
      },
      {
        "duration": 5405,
        "start_time": "2025-02-11T19:46:52.585Z"
      },
      {
        "duration": 2350,
        "start_time": "2025-02-11T19:46:57.993Z"
      },
      {
        "duration": 3,
        "start_time": "2025-02-11T19:47:00.345Z"
      },
      {
        "duration": 163,
        "start_time": "2025-02-11T19:47:00.350Z"
      },
      {
        "duration": 12,
        "start_time": "2025-02-11T19:47:00.515Z"
      },
      {
        "duration": 24,
        "start_time": "2025-02-11T19:47:00.529Z"
      },
      {
        "duration": 30,
        "start_time": "2025-02-11T19:47:00.556Z"
      },
      {
        "duration": 15,
        "start_time": "2025-02-11T19:47:00.588Z"
      },
      {
        "duration": 11,
        "start_time": "2025-02-11T19:47:00.606Z"
      },
      {
        "duration": 52,
        "start_time": "2025-02-11T19:47:00.620Z"
      },
      {
        "duration": 28,
        "start_time": "2025-02-11T19:47:00.675Z"
      },
      {
        "duration": 12,
        "start_time": "2025-02-11T19:47:00.705Z"
      },
      {
        "duration": 494,
        "start_time": "2025-02-11T19:47:00.719Z"
      },
      {
        "duration": 2960,
        "start_time": "2025-02-11T19:47:01.215Z"
      },
      {
        "duration": 20,
        "start_time": "2025-02-11T19:47:04.178Z"
      },
      {
        "duration": 328,
        "start_time": "2025-02-11T19:47:04.274Z"
      },
      {
        "duration": 302,
        "start_time": "2025-02-11T19:47:04.604Z"
      },
      {
        "duration": 368,
        "start_time": "2025-02-11T19:47:04.908Z"
      },
      {
        "duration": 249,
        "start_time": "2025-02-11T19:47:05.278Z"
      },
      {
        "duration": 254,
        "start_time": "2025-02-11T19:47:05.529Z"
      },
      {
        "duration": 344,
        "start_time": "2025-02-11T19:47:05.785Z"
      },
      {
        "duration": 5,
        "start_time": "2025-02-11T19:47:06.131Z"
      },
      {
        "duration": 17,
        "start_time": "2025-02-11T19:47:06.137Z"
      },
      {
        "duration": 27,
        "start_time": "2025-02-11T19:47:06.156Z"
      },
      {
        "duration": 33,
        "start_time": "2025-02-11T19:47:06.186Z"
      },
      {
        "duration": 18,
        "start_time": "2025-02-11T19:47:06.221Z"
      },
      {
        "duration": 49,
        "start_time": "2025-02-11T19:47:06.241Z"
      },
      {
        "duration": 11,
        "start_time": "2025-02-11T19:47:06.296Z"
      },
      {
        "duration": 6,
        "start_time": "2025-02-11T19:47:06.309Z"
      },
      {
        "duration": 9,
        "start_time": "2025-02-11T19:47:06.317Z"
      },
      {
        "duration": 16,
        "start_time": "2025-02-11T19:47:06.328Z"
      },
      {
        "duration": 32,
        "start_time": "2025-02-11T19:47:06.346Z"
      },
      {
        "duration": 37,
        "start_time": "2025-02-11T19:47:06.381Z"
      },
      {
        "duration": 14,
        "start_time": "2025-02-11T19:47:06.421Z"
      },
      {
        "duration": 26,
        "start_time": "2025-02-11T19:47:06.437Z"
      },
      {
        "duration": 29,
        "start_time": "2025-02-11T19:47:06.465Z"
      },
      {
        "duration": 617558,
        "start_time": "2025-02-11T19:47:06.497Z"
      },
      {
        "duration": 0,
        "start_time": "2025-02-11T19:57:24.057Z"
      },
      {
        "duration": 0,
        "start_time": "2025-02-11T19:57:24.058Z"
      },
      {
        "duration": 0,
        "start_time": "2025-02-11T19:57:24.075Z"
      },
      {
        "duration": 0,
        "start_time": "2025-02-11T19:57:24.076Z"
      },
      {
        "duration": 0,
        "start_time": "2025-02-11T19:57:24.077Z"
      },
      {
        "duration": 0,
        "start_time": "2025-02-11T19:57:24.078Z"
      },
      {
        "duration": 5181,
        "start_time": "2025-02-11T19:58:11.893Z"
      },
      {
        "duration": 4173,
        "start_time": "2025-02-11T19:58:17.079Z"
      },
      {
        "duration": 3237,
        "start_time": "2025-02-11T19:58:21.255Z"
      },
      {
        "duration": 2365,
        "start_time": "2025-02-11T19:58:24.494Z"
      },
      {
        "duration": 3,
        "start_time": "2025-02-11T19:58:26.862Z"
      },
      {
        "duration": 118,
        "start_time": "2025-02-11T19:58:26.872Z"
      },
      {
        "duration": 10,
        "start_time": "2025-02-11T19:58:26.992Z"
      },
      {
        "duration": 11,
        "start_time": "2025-02-11T19:58:27.004Z"
      },
      {
        "duration": 5,
        "start_time": "2025-02-11T19:58:27.017Z"
      },
      {
        "duration": 11,
        "start_time": "2025-02-11T19:58:27.024Z"
      },
      {
        "duration": 14,
        "start_time": "2025-02-11T19:58:27.036Z"
      },
      {
        "duration": 12,
        "start_time": "2025-02-11T19:58:27.073Z"
      },
      {
        "duration": 7,
        "start_time": "2025-02-11T19:58:27.089Z"
      },
      {
        "duration": 4,
        "start_time": "2025-02-11T19:58:27.101Z"
      },
      {
        "duration": 501,
        "start_time": "2025-02-11T19:58:27.107Z"
      },
      {
        "duration": 3066,
        "start_time": "2025-02-11T19:58:27.610Z"
      },
      {
        "duration": 83,
        "start_time": "2025-02-11T19:58:30.697Z"
      },
      {
        "duration": 348,
        "start_time": "2025-02-11T19:58:30.787Z"
      },
      {
        "duration": 338,
        "start_time": "2025-02-11T19:58:31.137Z"
      },
      {
        "duration": 345,
        "start_time": "2025-02-11T19:58:31.484Z"
      },
      {
        "duration": 244,
        "start_time": "2025-02-11T19:58:31.831Z"
      },
      {
        "duration": 263,
        "start_time": "2025-02-11T19:58:32.077Z"
      },
      {
        "duration": 364,
        "start_time": "2025-02-11T19:58:32.342Z"
      },
      {
        "duration": 5,
        "start_time": "2025-02-11T19:58:32.707Z"
      },
      {
        "duration": 72,
        "start_time": "2025-02-11T19:58:32.713Z"
      },
      {
        "duration": 15,
        "start_time": "2025-02-11T19:58:32.787Z"
      },
      {
        "duration": 19,
        "start_time": "2025-02-11T19:58:32.804Z"
      },
      {
        "duration": 10,
        "start_time": "2025-02-11T19:58:32.825Z"
      },
      {
        "duration": 21,
        "start_time": "2025-02-11T19:58:32.836Z"
      },
      {
        "duration": 12,
        "start_time": "2025-02-11T19:58:32.859Z"
      },
      {
        "duration": 14,
        "start_time": "2025-02-11T19:58:32.873Z"
      },
      {
        "duration": 13,
        "start_time": "2025-02-11T19:58:32.889Z"
      },
      {
        "duration": 13,
        "start_time": "2025-02-11T19:58:32.904Z"
      },
      {
        "duration": 15,
        "start_time": "2025-02-11T19:58:32.919Z"
      },
      {
        "duration": 21,
        "start_time": "2025-02-11T19:58:32.936Z"
      },
      {
        "duration": 16,
        "start_time": "2025-02-11T19:58:32.959Z"
      },
      {
        "duration": 6,
        "start_time": "2025-02-11T19:58:32.977Z"
      },
      {
        "duration": 13,
        "start_time": "2025-02-11T19:58:32.985Z"
      },
      {
        "duration": 48217,
        "start_time": "2025-02-11T19:58:33.000Z"
      },
      {
        "duration": 13,
        "start_time": "2025-02-11T19:59:21.219Z"
      },
      {
        "duration": 38,
        "start_time": "2025-02-11T19:59:21.237Z"
      },
      {
        "duration": 50,
        "start_time": "2025-02-11T19:59:21.277Z"
      },
      {
        "duration": 11,
        "start_time": "2025-02-11T19:59:21.329Z"
      },
      {
        "duration": 380,
        "start_time": "2025-02-11T19:59:21.341Z"
      },
      {
        "duration": 20338,
        "start_time": "2025-02-11T19:59:21.723Z"
      },
      {
        "duration": 8,
        "start_time": "2025-02-11T20:03:13.221Z"
      },
      {
        "duration": 4,
        "start_time": "2025-02-11T20:03:13.865Z"
      },
      {
        "duration": 46470,
        "start_time": "2025-02-11T20:03:18.345Z"
      },
      {
        "duration": 170,
        "start_time": "2025-02-11T20:04:45.888Z"
      },
      {
        "duration": 23,
        "start_time": "2025-02-11T20:04:49.561Z"
      },
      {
        "duration": 5253,
        "start_time": "2025-02-11T20:05:26.132Z"
      },
      {
        "duration": 3447,
        "start_time": "2025-02-11T20:05:31.388Z"
      },
      {
        "duration": 3201,
        "start_time": "2025-02-11T20:05:34.837Z"
      },
      {
        "duration": 2448,
        "start_time": "2025-02-11T20:05:38.042Z"
      },
      {
        "duration": 4,
        "start_time": "2025-02-11T20:05:40.492Z"
      },
      {
        "duration": 130,
        "start_time": "2025-02-11T20:05:40.498Z"
      },
      {
        "duration": 12,
        "start_time": "2025-02-11T20:05:40.629Z"
      },
      {
        "duration": 14,
        "start_time": "2025-02-11T20:05:40.644Z"
      },
      {
        "duration": 13,
        "start_time": "2025-02-11T20:05:40.660Z"
      },
      {
        "duration": 16,
        "start_time": "2025-02-11T20:05:40.677Z"
      },
      {
        "duration": 8,
        "start_time": "2025-02-11T20:05:40.695Z"
      },
      {
        "duration": 11,
        "start_time": "2025-02-11T20:05:40.707Z"
      },
      {
        "duration": 9,
        "start_time": "2025-02-11T20:05:40.720Z"
      },
      {
        "duration": 42,
        "start_time": "2025-02-11T20:05:40.731Z"
      },
      {
        "duration": 510,
        "start_time": "2025-02-11T20:05:40.776Z"
      },
      {
        "duration": 1984,
        "start_time": "2025-02-11T20:05:41.289Z"
      },
      {
        "duration": 98,
        "start_time": "2025-02-11T20:05:43.277Z"
      },
      {
        "duration": 326,
        "start_time": "2025-02-11T20:05:43.378Z"
      },
      {
        "duration": 299,
        "start_time": "2025-02-11T20:05:43.706Z"
      },
      {
        "duration": 355,
        "start_time": "2025-02-11T20:05:44.007Z"
      },
      {
        "duration": 251,
        "start_time": "2025-02-11T20:05:44.364Z"
      },
      {
        "duration": 234,
        "start_time": "2025-02-11T20:05:44.618Z"
      },
      {
        "duration": 331,
        "start_time": "2025-02-11T20:05:44.854Z"
      },
      {
        "duration": 5,
        "start_time": "2025-02-11T20:05:45.187Z"
      },
      {
        "duration": 30,
        "start_time": "2025-02-11T20:05:45.195Z"
      },
      {
        "duration": 14,
        "start_time": "2025-02-11T20:05:45.228Z"
      },
      {
        "duration": 32,
        "start_time": "2025-02-11T20:05:45.244Z"
      },
      {
        "duration": 3,
        "start_time": "2025-02-11T20:05:45.282Z"
      },
      {
        "duration": 70,
        "start_time": "2025-02-11T20:05:45.287Z"
      },
      {
        "duration": 10,
        "start_time": "2025-02-11T20:05:45.360Z"
      },
      {
        "duration": 9,
        "start_time": "2025-02-11T20:05:45.372Z"
      },
      {
        "duration": 9,
        "start_time": "2025-02-11T20:05:45.383Z"
      },
      {
        "duration": 16,
        "start_time": "2025-02-11T20:05:45.395Z"
      },
      {
        "duration": 13,
        "start_time": "2025-02-11T20:05:45.414Z"
      },
      {
        "duration": 13,
        "start_time": "2025-02-11T20:05:45.430Z"
      },
      {
        "duration": 4,
        "start_time": "2025-02-11T20:05:45.445Z"
      },
      {
        "duration": 8,
        "start_time": "2025-02-11T20:05:45.451Z"
      },
      {
        "duration": 23,
        "start_time": "2025-02-11T20:05:45.461Z"
      },
      {
        "duration": 46769,
        "start_time": "2025-02-11T20:05:45.486Z"
      },
      {
        "duration": 15,
        "start_time": "2025-02-11T20:06:32.257Z"
      },
      {
        "duration": 18,
        "start_time": "2025-02-11T20:06:32.274Z"
      },
      {
        "duration": 56,
        "start_time": "2025-02-11T20:06:32.294Z"
      },
      {
        "duration": 29,
        "start_time": "2025-02-11T20:06:32.352Z"
      },
      {
        "duration": 389,
        "start_time": "2025-02-11T20:06:32.384Z"
      },
      {
        "duration": 20496,
        "start_time": "2025-02-11T20:06:32.776Z"
      },
      {
        "duration": 3948,
        "start_time": "2025-02-11T20:09:41.951Z"
      },
      {
        "duration": 3741,
        "start_time": "2025-02-11T20:09:45.901Z"
      },
      {
        "duration": 4066,
        "start_time": "2025-02-11T20:09:49.644Z"
      },
      {
        "duration": 2287,
        "start_time": "2025-02-11T20:09:53.712Z"
      },
      {
        "duration": 4,
        "start_time": "2025-02-11T20:09:56.001Z"
      },
      {
        "duration": 128,
        "start_time": "2025-02-11T20:09:56.006Z"
      },
      {
        "duration": 14,
        "start_time": "2025-02-11T20:09:56.136Z"
      },
      {
        "duration": 23,
        "start_time": "2025-02-11T20:09:56.152Z"
      },
      {
        "duration": 5,
        "start_time": "2025-02-11T20:09:56.178Z"
      },
      {
        "duration": 8,
        "start_time": "2025-02-11T20:09:56.185Z"
      },
      {
        "duration": 8,
        "start_time": "2025-02-11T20:09:56.195Z"
      },
      {
        "duration": 9,
        "start_time": "2025-02-11T20:09:56.205Z"
      },
      {
        "duration": 8,
        "start_time": "2025-02-11T20:09:56.216Z"
      },
      {
        "duration": 5,
        "start_time": "2025-02-11T20:09:56.272Z"
      },
      {
        "duration": 451,
        "start_time": "2025-02-11T20:09:56.280Z"
      },
      {
        "duration": 2540,
        "start_time": "2025-02-11T20:09:56.733Z"
      },
      {
        "duration": 97,
        "start_time": "2025-02-11T20:09:59.275Z"
      },
      {
        "duration": 323,
        "start_time": "2025-02-11T20:09:59.374Z"
      },
      {
        "duration": 306,
        "start_time": "2025-02-11T20:09:59.699Z"
      },
      {
        "duration": 371,
        "start_time": "2025-02-11T20:10:00.007Z"
      },
      {
        "duration": 237,
        "start_time": "2025-02-11T20:10:00.381Z"
      },
      {
        "duration": 240,
        "start_time": "2025-02-11T20:10:00.621Z"
      },
      {
        "duration": 345,
        "start_time": "2025-02-11T20:10:00.863Z"
      },
      {
        "duration": 5,
        "start_time": "2025-02-11T20:10:01.213Z"
      },
      {
        "duration": 32,
        "start_time": "2025-02-11T20:10:01.221Z"
      },
      {
        "duration": 25,
        "start_time": "2025-02-11T20:10:01.255Z"
      },
      {
        "duration": 11,
        "start_time": "2025-02-11T20:10:01.282Z"
      },
      {
        "duration": 75,
        "start_time": "2025-02-11T20:10:01.295Z"
      },
      {
        "duration": 5,
        "start_time": "2025-02-11T20:10:01.372Z"
      },
      {
        "duration": 12,
        "start_time": "2025-02-11T20:10:01.380Z"
      },
      {
        "duration": 10,
        "start_time": "2025-02-11T20:10:01.394Z"
      },
      {
        "duration": 9,
        "start_time": "2025-02-11T20:10:01.406Z"
      },
      {
        "duration": 5,
        "start_time": "2025-02-11T20:10:01.417Z"
      },
      {
        "duration": 26,
        "start_time": "2025-02-11T20:10:01.424Z"
      },
      {
        "duration": 24,
        "start_time": "2025-02-11T20:10:01.452Z"
      },
      {
        "duration": 7,
        "start_time": "2025-02-11T20:10:01.478Z"
      },
      {
        "duration": 21,
        "start_time": "2025-02-11T20:10:01.487Z"
      },
      {
        "duration": 5,
        "start_time": "2025-02-11T20:10:01.510Z"
      },
      {
        "duration": 47575,
        "start_time": "2025-02-11T20:10:01.517Z"
      },
      {
        "duration": 9,
        "start_time": "2025-02-11T20:10:49.094Z"
      },
      {
        "duration": 21,
        "start_time": "2025-02-11T20:10:49.108Z"
      },
      {
        "duration": 103,
        "start_time": "2025-02-11T20:10:49.131Z"
      },
      {
        "duration": 12,
        "start_time": "2025-02-11T20:10:49.236Z"
      },
      {
        "duration": 359,
        "start_time": "2025-02-11T20:10:49.250Z"
      },
      {
        "duration": 20554,
        "start_time": "2025-02-11T20:10:49.611Z"
      },
      {
        "duration": 20846,
        "start_time": "2025-02-11T20:11:32.210Z"
      },
      {
        "duration": 3970,
        "start_time": "2025-02-11T20:12:05.083Z"
      },
      {
        "duration": 3376,
        "start_time": "2025-02-11T20:12:09.056Z"
      },
      {
        "duration": 3125,
        "start_time": "2025-02-11T20:12:12.435Z"
      },
      {
        "duration": 2322,
        "start_time": "2025-02-11T20:12:15.563Z"
      },
      {
        "duration": 3,
        "start_time": "2025-02-11T20:12:17.888Z"
      },
      {
        "duration": 124,
        "start_time": "2025-02-11T20:12:17.893Z"
      },
      {
        "duration": 12,
        "start_time": "2025-02-11T20:12:18.019Z"
      },
      {
        "duration": 12,
        "start_time": "2025-02-11T20:12:18.033Z"
      },
      {
        "duration": 5,
        "start_time": "2025-02-11T20:12:18.047Z"
      },
      {
        "duration": 23,
        "start_time": "2025-02-11T20:12:18.054Z"
      },
      {
        "duration": 8,
        "start_time": "2025-02-11T20:12:18.079Z"
      },
      {
        "duration": 9,
        "start_time": "2025-02-11T20:12:18.089Z"
      },
      {
        "duration": 9,
        "start_time": "2025-02-11T20:12:18.100Z"
      },
      {
        "duration": 7,
        "start_time": "2025-02-11T20:12:18.114Z"
      },
      {
        "duration": 479,
        "start_time": "2025-02-11T20:12:18.122Z"
      },
      {
        "duration": 1678,
        "start_time": "2025-02-11T20:12:18.603Z"
      },
      {
        "duration": 97,
        "start_time": "2025-02-11T20:12:20.375Z"
      },
      {
        "duration": 322,
        "start_time": "2025-02-11T20:12:20.474Z"
      },
      {
        "duration": 314,
        "start_time": "2025-02-11T20:12:20.798Z"
      },
      {
        "duration": 373,
        "start_time": "2025-02-11T20:12:21.114Z"
      },
      {
        "duration": 234,
        "start_time": "2025-02-11T20:12:21.489Z"
      },
      {
        "duration": 240,
        "start_time": "2025-02-11T20:12:21.725Z"
      },
      {
        "duration": 315,
        "start_time": "2025-02-11T20:12:21.967Z"
      },
      {
        "duration": 5,
        "start_time": "2025-02-11T20:12:22.284Z"
      },
      {
        "duration": 26,
        "start_time": "2025-02-11T20:12:22.291Z"
      },
      {
        "duration": 15,
        "start_time": "2025-02-11T20:12:22.319Z"
      },
      {
        "duration": 15,
        "start_time": "2025-02-11T20:12:22.336Z"
      },
      {
        "duration": 4,
        "start_time": "2025-02-11T20:12:22.372Z"
      },
      {
        "duration": 4,
        "start_time": "2025-02-11T20:12:22.378Z"
      },
      {
        "duration": 10,
        "start_time": "2025-02-11T20:12:22.384Z"
      },
      {
        "duration": 7,
        "start_time": "2025-02-11T20:12:22.397Z"
      },
      {
        "duration": 11,
        "start_time": "2025-02-11T20:12:22.406Z"
      },
      {
        "duration": 7,
        "start_time": "2025-02-11T20:12:22.419Z"
      },
      {
        "duration": 15,
        "start_time": "2025-02-11T20:12:22.428Z"
      },
      {
        "duration": 28,
        "start_time": "2025-02-11T20:12:22.445Z"
      },
      {
        "duration": 9,
        "start_time": "2025-02-11T20:12:22.476Z"
      },
      {
        "duration": 16,
        "start_time": "2025-02-11T20:12:22.487Z"
      },
      {
        "duration": 11,
        "start_time": "2025-02-11T20:12:22.505Z"
      },
      {
        "duration": 48321,
        "start_time": "2025-02-11T20:12:22.518Z"
      },
      {
        "duration": 7,
        "start_time": "2025-02-11T20:13:10.841Z"
      },
      {
        "duration": 30,
        "start_time": "2025-02-11T20:13:10.853Z"
      },
      {
        "duration": 51,
        "start_time": "2025-02-11T20:13:10.885Z"
      },
      {
        "duration": 12,
        "start_time": "2025-02-11T20:13:10.938Z"
      },
      {
        "duration": 396,
        "start_time": "2025-02-11T20:13:10.973Z"
      },
      {
        "duration": 20402,
        "start_time": "2025-02-11T20:13:11.371Z"
      }
    ],
    "kernelspec": {
      "display_name": "Python 3 (ipykernel)",
      "language": "python",
      "name": "python3"
    },
    "language_info": {
      "codemirror_mode": {
        "name": "ipython",
        "version": 3
      },
      "file_extension": ".py",
      "mimetype": "text/x-python",
      "name": "python",
      "nbconvert_exporter": "python",
      "pygments_lexer": "ipython3",
      "version": "3.9.5"
    },
    "toc": {
      "base_numbering": 1,
      "nav_menu": {},
      "number_sections": true,
      "sideBar": true,
      "skip_h1_title": true,
      "title_cell": "Содержание",
      "title_sidebar": "Contents",
      "toc_cell": true,
      "toc_position": {
        "height": "calc(100% - 180px)",
        "left": "10px",
        "top": "150px",
        "width": "371.188px"
      },
      "toc_section_display": true,
      "toc_window_display": true
    },
    "colab": {
      "provenance": []
    }
  },
  "nbformat": 4,
  "nbformat_minor": 0
}