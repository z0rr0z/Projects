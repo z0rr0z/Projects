{
  "cells": [
    {
      "cell_type": "markdown",
      "metadata": {
        "id": "Rww9-j5x_hyy"
      },
      "source": [
        "# Определение тональности комментариев"
      ]
    },
    {
      "cell_type": "markdown",
      "metadata": {
        "toc": true,
        "id": "MjLcYC9f_hyz"
      },
      "source": [
        "<h1>Содержание<span class=\"tocSkip\"></span></h1>\n",
        "<div class=\"toc\"><ul class=\"toc-item\"><li><span><a href=\"#Цель-и-задачи-исследования\" data-toc-modified-id=\"Цель-и-задачи-исследования-1\"><span class=\"toc-item-num\">1&nbsp;&nbsp;</span>Цель и задачи исследования</a></span></li><li><span><a href=\"#Описание-данных\" data-toc-modified-id=\"Описание-данных-2\"><span class=\"toc-item-num\">2&nbsp;&nbsp;</span>Описание данных</a></span></li><li><span><a href=\"#Импорт-библиотек\" data-toc-modified-id=\"Импорт-библиотек-3\"><span class=\"toc-item-num\">3&nbsp;&nbsp;</span>Импорт библиотек</a></span></li><li><span><a href=\"#Загрузка-и-общий-обзор-данных\" data-toc-modified-id=\"Загрузка-и-общий-обзор-данных-4\"><span class=\"toc-item-num\">4&nbsp;&nbsp;</span>Загрузка и общий обзор данных</a></span><ul class=\"toc-item\"><li><span><a href=\"#Загрузка-данных\" data-toc-modified-id=\"Загрузка-данных-4.1\"><span class=\"toc-item-num\">4.1&nbsp;&nbsp;</span>Загрузка данных</a></span></li><li><span><a href=\"#Обзор-данных\" data-toc-modified-id=\"Обзор-данных-4.2\"><span class=\"toc-item-num\">4.2&nbsp;&nbsp;</span>Обзор данных</a></span></li><li><span><a href=\"#Промежуточные-выводы\" data-toc-modified-id=\"Промежуточные-выводы-4.3\"><span class=\"toc-item-num\">4.3&nbsp;&nbsp;</span>Промежуточные выводы</a></span></li></ul></li><li><span><a href=\"#Модели-на-основе-TF-IDF\" data-toc-modified-id=\"Модели-на-основе-TF-IDF-5\"><span class=\"toc-item-num\">5&nbsp;&nbsp;</span>Модели на основе TF-IDF</a></span><ul class=\"toc-item\"><li><span><a href=\"#Лемматизация\" data-toc-modified-id=\"Лемматизация-5.1\"><span class=\"toc-item-num\">5.1&nbsp;&nbsp;</span>Лемматизация</a></span></li><li><span><a href=\"#Разделение-на-выборки-и-формирование-пайплайна\" data-toc-modified-id=\"Разделение-на-выборки-и-формирование-пайплайна-5.2\"><span class=\"toc-item-num\">5.2&nbsp;&nbsp;</span>Разделение на выборки и формирование пайплайна</a></span></li><li><span><a href=\"#Обучение-моделей\" data-toc-modified-id=\"Обучение-моделей-5.3\"><span class=\"toc-item-num\">5.3&nbsp;&nbsp;</span>Обучение моделей</a></span></li><li><span><a href=\"#Промежуточные-выводы\" data-toc-modified-id=\"Промежуточные-выводы-5.4\"><span class=\"toc-item-num\">5.4&nbsp;&nbsp;</span>Промежуточные выводы</a></span></li></ul></li><li><span><a href=\"#Модель-на-основе-BERT\" data-toc-modified-id=\"Модель-на-основе-BERT-6\"><span class=\"toc-item-num\">6&nbsp;&nbsp;</span>Модель на основе BERT</a></span><ul class=\"toc-item\"><li><span><a href=\"#Токенизация\" data-toc-modified-id=\"Токенизация-6.1\"><span class=\"toc-item-num\">6.1&nbsp;&nbsp;</span>Токенизация</a></span></li><li><span><a href=\"#Создание-эмбеддингов\" data-toc-modified-id=\"Создание-эмбеддингов-6.2\"><span class=\"toc-item-num\">6.2&nbsp;&nbsp;</span>Создание эмбеддингов</a></span></li><li><span><a href=\"#Разделение-на-выборки-и-обучение-модели\" data-toc-modified-id=\"Разделение-на-выборки-и-обучение-модели-6.3\"><span class=\"toc-item-num\">6.3&nbsp;&nbsp;</span>Разделение на выборки и обучение модели</a></span></li><li><span><a href=\"#Промежуточные-выводы\" data-toc-modified-id=\"Промежуточные-выводы-6.4\"><span class=\"toc-item-num\">6.4&nbsp;&nbsp;</span>Промежуточные выводы</a></span></li></ul></li><li><span><a href=\"#Общий-вывод\" data-toc-modified-id=\"Общий-вывод-7\"><span class=\"toc-item-num\">7&nbsp;&nbsp;</span>Общий вывод</a></span></li></ul></div>"
      ]
    },
    {
      "cell_type": "markdown",
      "metadata": {
        "id": "XC2M-KN4_hyz"
      },
      "source": [
        "## Цель и задачи исследования"
      ]
    },
    {
      "cell_type": "markdown",
      "metadata": {
        "id": "tRUfB-yX_hy0"
      },
      "source": [
        "**Заказчик исследования:** интернет-магазин.\n",
        "\n",
        "**Цель:** построить модель для классификации комментариев к товарам на позитивные и негативные.\n",
        "\n",
        "**Критерий качества модели**: метрика *F1* не меньше 0.75.\n",
        "\n",
        "**Задачи (этапы) исследования:**\n",
        "1. Провести загрузку и общий обзор:\n",
        "- загрузить данные;\n",
        "- провести общий обзор.\n",
        "2. Повести подготовку данных для моделей TF-IDF:\n",
        "- провести лемматизацию;\n",
        "- провести векторизацию, используя TF-IDF.\n",
        "3. Построить модели классификации комментариев:\n",
        "- построить не менее 2 моделей;\n",
        "- выбрать лучшую модель;\n",
        "- рассчитать для лучшей модели метрику *F1* на тестовой выборке.\n",
        "4. Построить модель на основе BERT:\n",
        "- провести токенизацию;\n",
        "- сформировать эмбеддинги;\n",
        "- построить модель классификации;\n",
        "- рассчитать метрику *F1* на тестовой выборке.\n",
        "5. Сформулировать общие выводы."
      ]
    },
    {
      "cell_type": "markdown",
      "metadata": {
        "id": "0vkg9XBq_hy0"
      },
      "source": [
        "## Описание данных"
      ]
    },
    {
      "cell_type": "markdown",
      "metadata": {
        "id": "BSfytzZc_hy1"
      },
      "source": [
        "Датасет `toxic_comments.csv`:\n",
        "- столбец *text* — текст комментария;\n",
        "- столбец *toxic* — целевой признак."
      ]
    },
    {
      "cell_type": "markdown",
      "metadata": {
        "id": "p96teHxT_hy1"
      },
      "source": [
        "## Импорт библиотек"
      ]
    },
    {
      "cell_type": "markdown",
      "metadata": {
        "id": "RJlWHpeU_hy1"
      },
      "source": [
        "Обновим sklearn и lightgbm."
      ]
    },
    {
      "cell_type": "code",
      "execution_count": null,
      "metadata": {
        "id": "9LNy10k-_hy2",
        "outputId": "847c0a8c-70cf-47b1-96ac-a17628f2d0c3"
      },
      "outputs": [
        {
          "name": "stdout",
          "output_type": "stream",
          "text": [
            "Requirement already satisfied: scikit-learn in /opt/conda/lib/python3.9/site-packages (1.6.1)\n",
            "Requirement already satisfied: numpy>=1.19.5 in /opt/conda/lib/python3.9/site-packages (from scikit-learn) (1.21.1)\n",
            "Requirement already satisfied: joblib>=1.2.0 in /opt/conda/lib/python3.9/site-packages (from scikit-learn) (1.4.2)\n",
            "Requirement already satisfied: scipy>=1.6.0 in /opt/conda/lib/python3.9/site-packages (from scikit-learn) (1.9.1)\n",
            "Requirement already satisfied: threadpoolctl>=3.1.0 in /opt/conda/lib/python3.9/site-packages (from scikit-learn) (3.1.0)\n"
          ]
        }
      ],
      "source": [
        "!pip install -U scikit-learn"
      ]
    },
    {
      "cell_type": "code",
      "execution_count": null,
      "metadata": {
        "id": "Ty_OZV32_hy3",
        "outputId": "6ad61e92-2637-46fd-df11-d6e0af7ff376"
      },
      "outputs": [
        {
          "name": "stdout",
          "output_type": "stream",
          "text": [
            "Requirement already satisfied: lightgbm in /opt/conda/lib/python3.9/site-packages (4.6.0)\n",
            "Requirement already satisfied: numpy>=1.17.0 in /opt/conda/lib/python3.9/site-packages (from lightgbm) (1.21.1)\n",
            "Requirement already satisfied: scipy in /opt/conda/lib/python3.9/site-packages (from lightgbm) (1.9.1)\n"
          ]
        }
      ],
      "source": [
        "!pip install -U lightgbm"
      ]
    },
    {
      "cell_type": "markdown",
      "metadata": {
        "id": "KVXlpznc_hy3"
      },
      "source": [
        "Установим (обновим) wordcloud."
      ]
    },
    {
      "cell_type": "code",
      "execution_count": null,
      "metadata": {
        "id": "U6qJgGU1_hy3",
        "outputId": "dac26c0f-f322-4c4e-cc53-81a091ed07ae"
      },
      "outputs": [
        {
          "name": "stdout",
          "output_type": "stream",
          "text": [
            "Requirement already satisfied: Pillow in /opt/conda/lib/python3.9/site-packages (11.1.0)\n",
            "Requirement already satisfied: wordcloud in /opt/conda/lib/python3.9/site-packages (1.9.4)\n",
            "Requirement already satisfied: pillow in /opt/conda/lib/python3.9/site-packages (from wordcloud) (11.1.0)\n",
            "Requirement already satisfied: matplotlib in /opt/conda/lib/python3.9/site-packages (from wordcloud) (3.3.4)\n",
            "Requirement already satisfied: numpy>=1.6.1 in /opt/conda/lib/python3.9/site-packages (from wordcloud) (1.21.1)\n",
            "Requirement already satisfied: kiwisolver>=1.0.1 in /opt/conda/lib/python3.9/site-packages (from matplotlib->wordcloud) (1.4.4)\n",
            "Requirement already satisfied: python-dateutil>=2.1 in /opt/conda/lib/python3.9/site-packages (from matplotlib->wordcloud) (2.8.1)\n",
            "Requirement already satisfied: pyparsing!=2.0.4,!=2.1.2,!=2.1.6,>=2.0.3 in /opt/conda/lib/python3.9/site-packages (from matplotlib->wordcloud) (2.4.7)\n",
            "Requirement already satisfied: cycler>=0.10 in /opt/conda/lib/python3.9/site-packages (from matplotlib->wordcloud) (0.11.0)\n",
            "Requirement already satisfied: six>=1.5 in /opt/conda/lib/python3.9/site-packages (from python-dateutil>=2.1->matplotlib->wordcloud) (1.16.0)\n"
          ]
        }
      ],
      "source": [
        "!pip install -U Pillow\n",
        "!pip install -U wordcloud"
      ]
    },
    {
      "cell_type": "markdown",
      "metadata": {
        "id": "VWIpJYYB_hy4"
      },
      "source": [
        "Импортируем необходимые библиотеки."
      ]
    },
    {
      "cell_type": "code",
      "execution_count": null,
      "metadata": {
        "id": "FGBZ0cJv_hy4"
      },
      "outputs": [],
      "source": [
        "import pandas as pd\n",
        "import numpy as np\n",
        "import seaborn as sns\n",
        "import matplotlib.pyplot as plt\n",
        "\n",
        "import re\n",
        "import nltk\n",
        "from nltk.stem import WordNetLemmatizer\n",
        "from nltk.corpus import stopwords\n",
        "from sklearn.feature_extraction.text import TfidfVectorizer\n",
        "\n",
        "import torch\n",
        "import transformers\n",
        "from tqdm import notebook\n",
        "\n",
        "from sklearn.pipeline import Pipeline\n",
        "from sklearn.model_selection import (\n",
        "    train_test_split,\n",
        "    GridSearchCV\n",
        ")\n",
        "\n",
        "from sklearn.linear_model import LogisticRegression\n",
        "from sklearn.dummy import DummyClassifier\n",
        "\n",
        "from sklearn.metrics import f1_score\n",
        "\n",
        "from wordcloud import WordCloud\n",
        "from lightgbm import LGBMClassifier\n",
        "import joblib"
      ]
    },
    {
      "cell_type": "markdown",
      "metadata": {
        "id": "pqjL2206_hy4"
      },
      "source": [
        "Загрузим данные для NTLK."
      ]
    },
    {
      "cell_type": "code",
      "execution_count": null,
      "metadata": {
        "id": "TEOJAkz2_hy4",
        "outputId": "a1f2bf17-06bd-47d1-b098-31e85cd23c7d"
      },
      "outputs": [
        {
          "name": "stderr",
          "output_type": "stream",
          "text": [
            "[nltk_data] Downloading package wordnet to /home/jovyan/nltk_data...\n",
            "[nltk_data]   Package wordnet is already up-to-date!\n",
            "[nltk_data] Downloading package stopwords to /home/jovyan/nltk_data...\n",
            "[nltk_data]   Package stopwords is already up-to-date!\n",
            "[nltk_data] Downloading package averaged_perceptron_tagger to\n",
            "[nltk_data]     /home/jovyan/nltk_data...\n",
            "[nltk_data]   Package averaged_perceptron_tagger is already up-to-\n",
            "[nltk_data]       date!\n"
          ]
        },
        {
          "data": {
            "text/plain": [
              "True"
            ]
          },
          "execution_count": 5,
          "metadata": {},
          "output_type": "execute_result"
        }
      ],
      "source": [
        "nltk.download('wordnet')\n",
        "nltk.download('stopwords')\n",
        "nltk.download('averaged_perceptron_tagger')"
      ]
    },
    {
      "cell_type": "markdown",
      "metadata": {
        "id": "NdJwBccr_hy4"
      },
      "source": [
        "Установим значение для генератора случайных чисел"
      ]
    },
    {
      "cell_type": "code",
      "execution_count": null,
      "metadata": {
        "id": "PeKdE75p_hy5"
      },
      "outputs": [],
      "source": [
        "RANDOM_STATE = 42"
      ]
    },
    {
      "cell_type": "markdown",
      "metadata": {
        "id": "7QP_uQ0B_hy5"
      },
      "source": [
        "## Загрузка и общий обзор данных"
      ]
    },
    {
      "cell_type": "markdown",
      "metadata": {
        "id": "mLciunFy_hy5"
      },
      "source": [
        "### Загрузка данных"
      ]
    },
    {
      "cell_type": "code",
      "execution_count": null,
      "metadata": {
        "id": "3_iIpe6q_hy5"
      },
      "outputs": [],
      "source": [
        "try:\n",
        "    comments = pd.read_csv('...', index_col=[0])\n",
        "except:\n",
        "    comments = pd.read_csv('...', index_col=[0])"
      ]
    },
    {
      "cell_type": "markdown",
      "metadata": {
        "id": "5ptiloG-_hy5"
      },
      "source": [
        "### Обзор данных"
      ]
    },
    {
      "cell_type": "code",
      "execution_count": null,
      "metadata": {
        "id": "SYWbd0h9_hy7",
        "outputId": "9cfa59d7-908f-4007-c75c-c4e5d85441ba"
      },
      "outputs": [
        {
          "name": "stdout",
          "output_type": "stream",
          "text": [
            "<class 'pandas.core.frame.DataFrame'>\n",
            "Int64Index: 159292 entries, 0 to 159450\n",
            "Data columns (total 2 columns):\n",
            " #   Column  Non-Null Count   Dtype \n",
            "---  ------  --------------   ----- \n",
            " 0   text    159292 non-null  object\n",
            " 1   toxic   159292 non-null  int64 \n",
            "dtypes: int64(1), object(1)\n",
            "memory usage: 3.6+ MB\n"
          ]
        }
      ],
      "source": [
        "comments.info()"
      ]
    },
    {
      "cell_type": "code",
      "execution_count": null,
      "metadata": {
        "id": "za7idijY_hy7",
        "outputId": "b99048d2-0809-404f-9638-26eb3604dd14"
      },
      "outputs": [
        {
          "data": {
            "text/html": [
              "<div>\n",
              "<style scoped>\n",
              "    .dataframe tbody tr th:only-of-type {\n",
              "        vertical-align: middle;\n",
              "    }\n",
              "\n",
              "    .dataframe tbody tr th {\n",
              "        vertical-align: top;\n",
              "    }\n",
              "\n",
              "    .dataframe thead th {\n",
              "        text-align: right;\n",
              "    }\n",
              "</style>\n",
              "<table border=\"1\" class=\"dataframe\">\n",
              "  <thead>\n",
              "    <tr style=\"text-align: right;\">\n",
              "      <th></th>\n",
              "      <th>text</th>\n",
              "      <th>toxic</th>\n",
              "    </tr>\n",
              "  </thead>\n",
              "  <tbody>\n",
              "    <tr>\n",
              "      <th>0</th>\n",
              "      <td>Explanation\\nWhy the edits made under my usern...</td>\n",
              "      <td>0</td>\n",
              "    </tr>\n",
              "    <tr>\n",
              "      <th>1</th>\n",
              "      <td>D'aww! He matches this background colour I'm s...</td>\n",
              "      <td>0</td>\n",
              "    </tr>\n",
              "    <tr>\n",
              "      <th>2</th>\n",
              "      <td>Hey man, I'm really not trying to edit war. It...</td>\n",
              "      <td>0</td>\n",
              "    </tr>\n",
              "    <tr>\n",
              "      <th>3</th>\n",
              "      <td>\"\\nMore\\nI can't make any real suggestions on ...</td>\n",
              "      <td>0</td>\n",
              "    </tr>\n",
              "    <tr>\n",
              "      <th>4</th>\n",
              "      <td>You, sir, are my hero. Any chance you remember...</td>\n",
              "      <td>0</td>\n",
              "    </tr>\n",
              "  </tbody>\n",
              "</table>\n",
              "</div>"
            ],
            "text/plain": [
              "                                                text  toxic\n",
              "0  Explanation\\nWhy the edits made under my usern...      0\n",
              "1  D'aww! He matches this background colour I'm s...      0\n",
              "2  Hey man, I'm really not trying to edit war. It...      0\n",
              "3  \"\\nMore\\nI can't make any real suggestions on ...      0\n",
              "4  You, sir, are my hero. Any chance you remember...      0"
            ]
          },
          "execution_count": 9,
          "metadata": {},
          "output_type": "execute_result"
        }
      ],
      "source": [
        "comments.head()"
      ]
    },
    {
      "cell_type": "markdown",
      "metadata": {
        "id": "4WoSBnXr_hy7"
      },
      "source": [
        "В датасете представлены 159292 комментария."
      ]
    },
    {
      "cell_type": "markdown",
      "metadata": {
        "id": "4Zvvj3PL_hy8"
      },
      "source": [
        "Рассмотрим баланс положительных и отрицательных классов"
      ]
    },
    {
      "cell_type": "code",
      "execution_count": null,
      "metadata": {
        "id": "x6OnmHyJ_hy8",
        "outputId": "a0a703c4-aebf-4143-ed03-6651a1bf23c0"
      },
      "outputs": [
        {
          "data": {
            "image/png": "[encoded data removed]",
            "text/plain": [
              "<Figure size 432x288 with 1 Axes>"
            ]
          },
          "metadata": {
            "needs_background": "light"
          },
          "output_type": "display_data"
        }
      ],
      "source": [
        "sns.countplot(data=comments, x='toxic')\\\n",
        ".set(title='Распределение токсичности',\n",
        "     xlabel='Токсичность',\n",
        "     ylabel='Число');"
      ]
    },
    {
      "cell_type": "markdown",
      "metadata": {
        "id": "UDXVoaeb_hy8"
      },
      "source": [
        "Классы несбалансированы, что нужно будет учесть при моделировании."
      ]
    },
    {
      "cell_type": "markdown",
      "metadata": {
        "id": "-4DFzUhR_hy8"
      },
      "source": [
        "### Промежуточные выводы"
      ]
    },
    {
      "cell_type": "markdown",
      "metadata": {
        "id": "YJSNc9OT_hy9"
      },
      "source": [
        "Мы загрузили данные и установили, что:\n",
        "- в датасете представлены почти 160 тыс. комментариев;\n",
        "- классы в целевом признаке имеют достаточно сильный дисбаланс."
      ]
    },
    {
      "cell_type": "markdown",
      "metadata": {
        "id": "yTMr4bEP_hy9"
      },
      "source": [
        "## Модели на основе TF-IDF"
      ]
    },
    {
      "cell_type": "markdown",
      "metadata": {
        "id": "Bm959POa_hy9"
      },
      "source": [
        "### Лемматизация"
      ]
    },
    {
      "cell_type": "markdown",
      "metadata": {
        "id": "AlnnHFZK_hy9"
      },
      "source": [
        "Проведем очистку текста и его лемматизацию."
      ]
    },
    {
      "cell_type": "code",
      "execution_count": null,
      "metadata": {
        "id": "Ji9U4jBT_hy9"
      },
      "outputs": [],
      "source": [
        "corpus = list(comments['text'])"
      ]
    },
    {
      "cell_type": "code",
      "execution_count": null,
      "metadata": {
        "id": "bpPGEktS_hy-"
      },
      "outputs": [],
      "source": [
        "lemmatizer = WordNetLemmatizer()"
      ]
    },
    {
      "cell_type": "code",
      "execution_count": null,
      "metadata": {
        "id": "70nGHhNp_hy-"
      },
      "outputs": [],
      "source": [
        "stop_words = set(stopwords.words('english'))"
      ]
    },
    {
      "cell_type": "code",
      "execution_count": null,
      "metadata": {
        "id": "zu9cN5tm_hzC"
      },
      "outputs": [],
      "source": [
        "def pos_tagger(nltk_tag):\n",
        "    if nltk_tag.startswith('J'):\n",
        "        return nltk.corpus.wordnet.ADJ\n",
        "    elif nltk_tag.startswith('V'):\n",
        "        return nltk.corpus.wordnet.VERB\n",
        "    elif nltk_tag.startswith('N'):\n",
        "        return nltk.corpus.wordnet.NOUN\n",
        "    elif nltk_tag.startswith('R'):\n",
        "        return nltk.corpus.wordnet.ADV\n",
        "    else:\n",
        "        return None\n",
        "\n",
        "def clear_lemmatize(text):\n",
        "    cleared_text = re.sub(r'[^A-Za-z \\n]', '', text).lower()\n",
        "    cleared_text = [i for i in cleared_text.split() if i not in stop_words]\n",
        "    pos_tagged = nltk.pos_tag(cleared_text)\n",
        "    wordnet_tagged = list(map(lambda x: (x[0], pos_tagger(x[1])), pos_tagged))\n",
        "    lemmatized_text=[]\n",
        "    for word, tag in wordnet_tagged:\n",
        "        if tag is None:\n",
        "            lemmatized_text.append(word)\n",
        "        else:\n",
        "            lemmatized_text.append(lemmatizer.lemmatize(word, tag))\n",
        "\n",
        "    lemmatized_text = ' '.join(lemmatized_text)\n",
        "\n",
        "    return lemmatized_text"
      ]
    },
    {
      "cell_type": "code",
      "execution_count": null,
      "metadata": {
        "id": "0suXT0yP_hzD"
      },
      "outputs": [],
      "source": [
        "try:\n",
        "    comments['lemm_text'] = pd.read_csv('lemm_text.csv', index_col=[0])['lemm_text']\n",
        "    comments['lemm_text'] = comments['lemm_text'].apply(np.str_)\n",
        "except:\n",
        "    comments['lemm_text'] = [clear_lemmatize(corpus[i]) for i in notebook.tqdm(range(len(corpus)))]\n",
        "    comments['lemm_text'].to_csv('lemm_text.csv')"
      ]
    },
    {
      "cell_type": "code",
      "execution_count": null,
      "metadata": {
        "scrolled": true,
        "id": "Jh9Gtrx__hzE",
        "outputId": "7713632c-2630-4c64-d937-1465d4ab8c47"
      },
      "outputs": [
        {
          "data": {
            "text/html": [
              "<div>\n",
              "<style scoped>\n",
              "    .dataframe tbody tr th:only-of-type {\n",
              "        vertical-align: middle;\n",
              "    }\n",
              "\n",
              "    .dataframe tbody tr th {\n",
              "        vertical-align: top;\n",
              "    }\n",
              "\n",
              "    .dataframe thead th {\n",
              "        text-align: right;\n",
              "    }\n",
              "</style>\n",
              "<table border=\"1\" class=\"dataframe\">\n",
              "  <thead>\n",
              "    <tr style=\"text-align: right;\">\n",
              "      <th></th>\n",
              "      <th>text</th>\n",
              "      <th>toxic</th>\n",
              "      <th>lemm_text</th>\n",
              "    </tr>\n",
              "  </thead>\n",
              "  <tbody>\n",
              "    <tr>\n",
              "      <th>0</th>\n",
              "      <td>Explanation\\nWhy the edits made under my usern...</td>\n",
              "      <td>0</td>\n",
              "      <td>explanation edits make username hardcore metal...</td>\n",
              "    </tr>\n",
              "    <tr>\n",
              "      <th>1</th>\n",
              "      <td>D'aww! He matches this background colour I'm s...</td>\n",
              "      <td>0</td>\n",
              "      <td>daww match background colour im seemingly stuc...</td>\n",
              "    </tr>\n",
              "    <tr>\n",
              "      <th>2</th>\n",
              "      <td>Hey man, I'm really not trying to edit war. It...</td>\n",
              "      <td>0</td>\n",
              "      <td>hey man im really try edit war guy constantly ...</td>\n",
              "    </tr>\n",
              "    <tr>\n",
              "      <th>3</th>\n",
              "      <td>\"\\nMore\\nI can't make any real suggestions on ...</td>\n",
              "      <td>0</td>\n",
              "      <td>cant make real suggestion improvement wonder s...</td>\n",
              "    </tr>\n",
              "    <tr>\n",
              "      <th>4</th>\n",
              "      <td>You, sir, are my hero. Any chance you remember...</td>\n",
              "      <td>0</td>\n",
              "      <td>sir hero chance remember page thats</td>\n",
              "    </tr>\n",
              "  </tbody>\n",
              "</table>\n",
              "</div>"
            ],
            "text/plain": [
              "                                                text  toxic  \\\n",
              "0  Explanation\\nWhy the edits made under my usern...      0   \n",
              "1  D'aww! He matches this background colour I'm s...      0   \n",
              "2  Hey man, I'm really not trying to edit war. It...      0   \n",
              "3  \"\\nMore\\nI can't make any real suggestions on ...      0   \n",
              "4  You, sir, are my hero. Any chance you remember...      0   \n",
              "\n",
              "                                           lemm_text  \n",
              "0  explanation edits make username hardcore metal...  \n",
              "1  daww match background colour im seemingly stuc...  \n",
              "2  hey man im really try edit war guy constantly ...  \n",
              "3  cant make real suggestion improvement wonder s...  \n",
              "4                sir hero chance remember page thats  "
            ]
          },
          "execution_count": 16,
          "metadata": {},
          "output_type": "execute_result"
        }
      ],
      "source": [
        "comments.head()"
      ]
    },
    {
      "cell_type": "markdown",
      "metadata": {
        "id": "xxV3rP6o_hzF"
      },
      "source": [
        "Выведем наиболее часто встречающиеся слова в токсичных и нетоксичных комментариях."
      ]
    },
    {
      "cell_type": "code",
      "execution_count": null,
      "metadata": {
        "id": "2Q-_dV5B_hzF"
      },
      "outputs": [],
      "source": [
        "text_toxic = ' '.join(comments[comments['toxic']==1]['lemm_text'])\n",
        "text_nontoxic = ' '.join(comments[comments['toxic']==0]['lemm_text'])"
      ]
    },
    {
      "cell_type": "code",
      "execution_count": null,
      "metadata": {
        "id": "uE03Tnce_hzF"
      },
      "outputs": [],
      "source": [
        "wordcloud_toxic = WordCloud(collocations=False).generate(text_toxic)\n",
        "wordcloud_nontoxic = WordCloud(collocations=False).generate(text_nontoxic)"
      ]
    },
    {
      "cell_type": "code",
      "execution_count": null,
      "metadata": {
        "id": "a1SwLaTH_hzF",
        "outputId": "15078888-b22f-497f-968f-f91fcba78f4d"
      },
      "outputs": [
        {
          "data": {
            "image/png": "[encoded data removed]",
            "text/plain": [
              "<Figure size 864x576 with 1 Axes>"
            ]
          },
          "metadata": {
            "needs_background": "light"
          },
          "output_type": "display_data"
        },
        {
          "data": {
            "image/png": "[encoded data removed]",
            "text/plain": [
              "<Figure size 864x576 with 1 Axes>"
            ]
          },
          "metadata": {
            "needs_background": "light"
          },
          "output_type": "display_data"
        }
      ],
      "source": [
        "plt.figure(figsize=(12, 8))\n",
        "plt.imshow(wordcloud_toxic, interpolation='bilinear')\n",
        "plt.axis('off')\n",
        "plt.title('Наиболее часто встречающиеся в токсичных комментариях', fontsize=20)\n",
        "plt.show()\n",
        "\n",
        "plt.figure(figsize=(12, 8))\n",
        "plt.imshow(wordcloud_nontoxic, interpolation='bilinear')\n",
        "plt.axis('off')\n",
        "plt.title('Наиболее часто встречающиеся в нетоксичных комментариях', fontsize=20)\n",
        "plt.show()"
      ]
    },
    {
      "cell_type": "markdown",
      "metadata": {
        "id": "WZf5WW5q_hzG"
      },
      "source": [
        "\"Облака слов\" говорят сами за себя ). Вместе с тем отдельные слова (например, *page*, *don't*) достаточно часто встречаются как в токсичных, так и в нетоксичных комментария."
      ]
    },
    {
      "cell_type": "markdown",
      "metadata": {
        "id": "-CtRHZ8o_hzG"
      },
      "source": [
        "### Разделение на выборки и формирование пайплайна"
      ]
    },
    {
      "cell_type": "code",
      "execution_count": null,
      "metadata": {
        "id": "flkzApcp_hzG"
      },
      "outputs": [],
      "source": [
        "X_train, X_test, y_train, y_test = train_test_split(\n",
        "    comments['lemm_text'],\n",
        "    comments['toxic'],\n",
        "    test_size=0.33,\n",
        "    stratify=comments['toxic'],\n",
        "    random_state=RANDOM_STATE\n",
        ")"
      ]
    },
    {
      "cell_type": "code",
      "execution_count": null,
      "metadata": {
        "id": "bHSZyHWH_hzG"
      },
      "outputs": [],
      "source": [
        "pipe = Pipeline(\n",
        "    [\n",
        "        ('tfidf', TfidfVectorizer(stop_words=list(stop_words))),\n",
        "        ('models', LogisticRegression())\n",
        "    ]\n",
        ")"
      ]
    },
    {
      "cell_type": "markdown",
      "metadata": {
        "id": "pthS1quY_hzH"
      },
      "source": [
        "### Обучение моделей"
      ]
    },
    {
      "cell_type": "markdown",
      "metadata": {
        "id": "ZMAWjsjg_hzH"
      },
      "source": [
        "Т.к. в исходных данных наблюдается дисбаланс в целевом признаке, при обучении используем специальный параметр для балансирования весов классов."
      ]
    },
    {
      "cell_type": "code",
      "execution_count": null,
      "metadata": {
        "id": "l8_3vFCb_hzH"
      },
      "outputs": [],
      "source": [
        "param_grid = [\n",
        "    # словарь для модели LogisticRegression\n",
        "    {\n",
        "        'models': [\n",
        "            LogisticRegression(\n",
        "                class_weight='balanced',\n",
        "                max_iter=200,\n",
        "                solver='saga',\n",
        "                random_state=RANDOM_STATE\n",
        "            )\n",
        "        ],\n",
        "        'models__C': range(10, 16),\n",
        "        'models__penalty': [None, 'l2']\n",
        "    },\n",
        "\n",
        "    # словарь для модели LGBMClassifier\n",
        "    {\n",
        "        'models': [\n",
        "            LGBMClassifier(\n",
        "                class_weight='balanced',\n",
        "                random_state=RANDOM_STATE,\n",
        "                verbosity=-1\n",
        "            )\n",
        "        ],\n",
        "       'models__max_depth': [-1, 10]\n",
        "    }\n",
        "]"
      ]
    },
    {
      "cell_type": "code",
      "execution_count": null,
      "metadata": {
        "id": "PVdM8dcd_hzI"
      },
      "outputs": [],
      "source": [
        "try:\n",
        "    grid_search = joblib.load('gs_object.joblib')\n",
        "except:\n",
        "    grid_search = GridSearchCV(\n",
        "        pipe,\n",
        "        param_grid,\n",
        "        cv=2,\n",
        "        scoring='f1',\n",
        "        verbose=3\n",
        "    )\n",
        "    grid_search.fit(X_train, y_train)\n",
        "    joblib.dump(grid_search, 'gs_object.joblib')"
      ]
    },
    {
      "cell_type": "markdown",
      "metadata": {
        "id": "uL4VQ4Lf_hzI"
      },
      "source": [
        "Выведем таблицу с лучшими результатами для каждого типа моделей."
      ]
    },
    {
      "cell_type": "code",
      "execution_count": null,
      "metadata": {
        "id": "wZY77Emt_hzI",
        "outputId": "c6f0062c-0352-4d37-8297-f67da3762ada"
      },
      "outputs": [
        {
          "data": {
            "text/html": [
              "<div>\n",
              "<style scoped>\n",
              "    .dataframe tbody tr th:only-of-type {\n",
              "        vertical-align: middle;\n",
              "    }\n",
              "\n",
              "    .dataframe tbody tr th {\n",
              "        vertical-align: top;\n",
              "    }\n",
              "\n",
              "    .dataframe thead th {\n",
              "        text-align: right;\n",
              "    }\n",
              "</style>\n",
              "<table border=\"1\" class=\"dataframe\">\n",
              "  <thead>\n",
              "    <tr style=\"text-align: right;\">\n",
              "      <th></th>\n",
              "      <th>best_parameters</th>\n",
              "      <th>F1_cv</th>\n",
              "    </tr>\n",
              "    <tr>\n",
              "      <th>model</th>\n",
              "      <th></th>\n",
              "      <th></th>\n",
              "    </tr>\n",
              "  </thead>\n",
              "  <tbody>\n",
              "    <tr>\n",
              "      <th>LogisticRegression(class_weight='balanced', max_iter=200, random_state=42,\\n                   solver='saga')</th>\n",
              "      <td>{'models': LogisticRegression(class_weight='ba...</td>\n",
              "      <td>0.754813</td>\n",
              "    </tr>\n",
              "    <tr>\n",
              "      <th>LGBMClassifier(class_weight='balanced', random_state=42, verbosity=-1)</th>\n",
              "      <td>{'models': LGBMClassifier(class_weight='balanc...</td>\n",
              "      <td>0.723185</td>\n",
              "    </tr>\n",
              "  </tbody>\n",
              "</table>\n",
              "</div>"
            ],
            "text/plain": [
              "                                                                                      best_parameters  \\\n",
              "model                                                                                                   \n",
              "LogisticRegression(class_weight='balanced', max...  {'models': LogisticRegression(class_weight='ba...   \n",
              "LGBMClassifier(class_weight='balanced', random_...  {'models': LGBMClassifier(class_weight='balanc...   \n",
              "\n",
              "                                                       F1_cv  \n",
              "model                                                         \n",
              "LogisticRegression(class_weight='balanced', max...  0.754813  \n",
              "LGBMClassifier(class_weight='balanced', random_...  0.723185  "
            ]
          },
          "execution_count": 24,
          "metadata": {},
          "output_type": "execute_result"
        }
      ],
      "source": [
        "df = pd.DataFrame(grid_search.cv_results_)[['param_models', 'params', 'mean_test_score']]\n",
        "df.columns = ['model', 'best_parameters', 'F1_cv']\n",
        "df.sort_values('F1_cv', ascending=False) \\\n",
        ".groupby('model', sort=False) \\\n",
        ".agg({'best_parameters': 'first', 'F1_cv': 'first'})"
      ]
    },
    {
      "cell_type": "markdown",
      "metadata": {
        "id": "kOqwQHRd_hzJ"
      },
      "source": [
        "Лучшей моделью стала логистическая регрессия с l2-регуляризацией."
      ]
    },
    {
      "cell_type": "markdown",
      "metadata": {
        "id": "JORlVR-K_hzJ"
      },
      "source": [
        "Рассчитаем значение метрики F1 на тестовой выборке."
      ]
    },
    {
      "cell_type": "code",
      "execution_count": null,
      "metadata": {
        "scrolled": true,
        "id": "OK9izY1t_hzJ",
        "outputId": "78922c94-edee-4143-c6f5-14e777ddde4d"
      },
      "outputs": [
        {
          "name": "stdout",
          "output_type": "stream",
          "text": [
            "F1 на тестовой выборке: 0.7656\n"
          ]
        }
      ],
      "source": [
        "y_pred = grid_search.predict(X_test)\n",
        "f1 = f1_score(y_test, y_pred)\n",
        "print(f'F1 на тестовой выборке: {f1:.4f}')"
      ]
    },
    {
      "cell_type": "markdown",
      "metadata": {
        "id": "nK-WAj86_hzJ"
      },
      "source": [
        "Значение метрики превосходит минимальный пороговый уровень, определенный заказчиком."
      ]
    },
    {
      "cell_type": "markdown",
      "metadata": {
        "id": "4TU8yTYG_hzK"
      },
      "source": [
        "Сравним результат с dummy-моделью."
      ]
    },
    {
      "cell_type": "code",
      "execution_count": null,
      "metadata": {
        "id": "fkHOsF9I_hzK",
        "outputId": "ee674d60-0cfd-4499-c0d9-01e8ca556281"
      },
      "outputs": [
        {
          "name": "stdout",
          "output_type": "stream",
          "text": [
            "F1 для dummy-модели на тестовой выборке: 0.1048\n"
          ]
        }
      ],
      "source": [
        "dummy_clf = DummyClassifier(\n",
        "    strategy='stratified',\n",
        "    random_state=RANDOM_STATE\n",
        ")\n",
        "dummy_clf.fit(X_train, y_train)\n",
        "y_pred = dummy_clf.predict(X_test)\n",
        "f1 = f1_score(y_test, y_pred)\n",
        "print(f'F1 для dummy-модели на тестовой выборке: {f1:.4f}')"
      ]
    },
    {
      "cell_type": "markdown",
      "metadata": {
        "id": "y0t5jMkd_hzK"
      },
      "source": [
        "Показатель dummy-модели значительно ниже, т.е. лучшая модель действительно полезна при классификации."
      ]
    },
    {
      "cell_type": "markdown",
      "metadata": {
        "id": "d6JcONYp_hzK"
      },
      "source": [
        "### Промежуточные выводы"
      ]
    },
    {
      "cell_type": "markdown",
      "metadata": {
        "id": "cltAF_t__hzK"
      },
      "source": [
        "Мы построили модели на основе TF-IDF, в т.ч.:\n",
        "- провели лемматизацию;\n",
        "- разделили датасет на выборки и сформировали пайплайн, включающий в т.ч. векторизацию TF-IDF;\n",
        "- перебрали гиперпараметры для моделей на основе логистической регрессии и LGBM;\n",
        "- лучшей моделью на кросс-валидации стала логистическая регрессия с l2-регуляризацией, которая показала *F1* = 0.7656 на тестовой выборке."
      ]
    },
    {
      "cell_type": "markdown",
      "metadata": {
        "id": "gXas7nMU_hzL"
      },
      "source": [
        "## Модель на основе BERT"
      ]
    },
    {
      "cell_type": "markdown",
      "metadata": {
        "id": "TsVktKpw_hzL"
      },
      "source": [
        "Воспользуемся предобученной моделью."
      ]
    },
    {
      "cell_type": "code",
      "execution_count": null,
      "metadata": {
        "id": "ihdTJemg_hzL"
      },
      "outputs": [],
      "source": [
        "model_name = 'unitary/toxic-bert'"
      ]
    },
    {
      "cell_type": "markdown",
      "metadata": {
        "id": "ygF-yMC5_hzM"
      },
      "source": [
        "### Токенизация"
      ]
    },
    {
      "cell_type": "code",
      "execution_count": null,
      "metadata": {
        "id": "mMjJ3-hJ_hzM"
      },
      "outputs": [],
      "source": [
        "tokenizer = transformers.BertTokenizer.from_pretrained(model_name)"
      ]
    },
    {
      "cell_type": "code",
      "execution_count": null,
      "metadata": {
        "id": "gDPdGJuv_hzM"
      },
      "outputs": [],
      "source": [
        "notebook.tqdm.pandas()"
      ]
    },
    {
      "cell_type": "markdown",
      "metadata": {
        "id": "shhtgtuA_hzN"
      },
      "source": [
        "Здесь и далее - в целях сокращения времени запуска блокнота будем использовать данные и модели, сохраненные при обучении на машине с GPU."
      ]
    },
    {
      "cell_type": "code",
      "execution_count": null,
      "metadata": {
        "id": "2toLevQ8_hzN"
      },
      "outputs": [],
      "source": [
        "try:\n",
        "    padded = np.load('padded.npy')\n",
        "except:\n",
        "    tokenized = comments['text'].progress_apply(\n",
        "        lambda x: tokenizer.encode(x, add_special_tokens=True, truncation=True, max_length=512))\n",
        "\n",
        "    max_len = 512 # для предобученной модели это максимальная длина токена\n",
        "    padded = np.array([i + [0]*(max_len - len(i)) for i in tokenized.values])\n",
        "    np.save('padded.npy', padded)"
      ]
    },
    {
      "cell_type": "markdown",
      "metadata": {
        "id": "sjJX53nd_hzN"
      },
      "source": [
        "Создадим \"маску внимания\"."
      ]
    },
    {
      "cell_type": "code",
      "execution_count": null,
      "metadata": {
        "id": "P2Z7N2Ur_hzN"
      },
      "outputs": [],
      "source": [
        "attention_mask = np.where(padded != 0, 1, 0)"
      ]
    },
    {
      "cell_type": "markdown",
      "metadata": {
        "id": "Uj6yoFTz_hzO"
      },
      "source": [
        "### Создание эмбеддингов"
      ]
    },
    {
      "cell_type": "code",
      "execution_count": null,
      "metadata": {
        "id": "1w4suEv6_hzO"
      },
      "outputs": [],
      "source": [
        "try:\n",
        "    features = np.load('features.npy')\n",
        "except:\n",
        "    device = torch.device('cuda' if torch.cuda.is_available() else 'cpu')\n",
        "\n",
        "    model = transformers.BertModel.from_pretrained(model_name).to(device)\n",
        "    batch_size = 100\n",
        "    embeddings = []\n",
        "    for i in notebook.tqdm(range(padded.shape[0] // batch_size + 1)):\n",
        "        min = batch_size*i\n",
        "        max = batch_size*(i+1)\n",
        "        if max > padded.shape[0]:\n",
        "            max = padded.shape[0]\n",
        "        batch = torch.LongTensor(padded[min:max]).to(device)\n",
        "        attention_mask_batch = torch.LongTensor(attention_mask[min:max]).to(device)\n",
        "\n",
        "        with torch.no_grad():\n",
        "            batch_embeddings = model(batch, attention_mask=attention_mask_batch)\n",
        "\n",
        "        embeddings.append(batch_embeddings[0][:,0,:].to('cpu').numpy())\n",
        "\n",
        "    features = np.concatenate(embeddings)\n",
        "    np.save('features.npy', features)"
      ]
    },
    {
      "cell_type": "markdown",
      "metadata": {
        "id": "ZyRvzWJJ_hzP"
      },
      "source": [
        "### Разделение на выборки и обучение модели"
      ]
    },
    {
      "cell_type": "code",
      "execution_count": null,
      "metadata": {
        "id": "DP6-V5Gz_hzP"
      },
      "outputs": [],
      "source": [
        "X_train, X_test, y_train, y_test = train_test_split(\n",
        "    features,\n",
        "    comments['toxic'],\n",
        "    test_size=0.33,\n",
        "    stratify=comments['toxic'],\n",
        "    random_state=RANDOM_STATE\n",
        ")"
      ]
    },
    {
      "cell_type": "code",
      "execution_count": null,
      "metadata": {
        "id": "4hPe9_By_hzP"
      },
      "outputs": [],
      "source": [
        "try:\n",
        "    model_lr_bert = joblib.load('model_lr_bert.joblib')\n",
        "except:\n",
        "    model_lr_bert = LogisticRegression(\n",
        "        solver='saga',\n",
        "        random_state=RANDOM_STATE\n",
        "    )\n",
        "    model_lr_bert.fit(X_train, y_train)\n",
        "    joblib.dump(model_lr_bert, 'model_lr_bert.joblib')"
      ]
    },
    {
      "cell_type": "markdown",
      "metadata": {
        "id": "RkLOOxGD_hzP"
      },
      "source": [
        "Проверим результаты модели на тестовой выборке."
      ]
    },
    {
      "cell_type": "code",
      "execution_count": null,
      "metadata": {
        "id": "9eqOpRNd_hzP",
        "outputId": "08920e89-426f-4e16-b1d7-7c30904c9512"
      },
      "outputs": [
        {
          "name": "stdout",
          "output_type": "stream",
          "text": [
            "F1 на тестовой выборке: 0.9462\n"
          ]
        }
      ],
      "source": [
        "y_pred = model_lr_bert.predict(X_test)\n",
        "f1 = f1_score(y_test, y_pred)\n",
        "print(f'F1 на тестовой выборке: {f1:.4f}')"
      ]
    },
    {
      "cell_type": "markdown",
      "metadata": {
        "id": "IobwTaym_hzQ"
      },
      "source": [
        "Мы получили очень высокое значение метрики."
      ]
    },
    {
      "cell_type": "markdown",
      "metadata": {
        "id": "LAmWVFZy_hzQ"
      },
      "source": [
        "### Промежуточные выводы"
      ]
    },
    {
      "cell_type": "markdown",
      "metadata": {
        "id": "EUPx4Ey2_hzQ"
      },
      "source": [
        "Мы построили модели на основе BERT, в т.ч.:\n",
        "- использовали предобученную модель;\n",
        "- осуществили токенизацию и создание эмбеддингов;\n",
        "- модель показала *F1* = 0.9462 на тестовой выборке."
      ]
    },
    {
      "cell_type": "markdown",
      "metadata": {
        "id": "a3nyR7lD_hzQ"
      },
      "source": [
        "## Общий вывод"
      ]
    },
    {
      "cell_type": "markdown",
      "metadata": {
        "id": "f3sCfAxq_hzQ"
      },
      "source": [
        "Мы построили разные модели классификации комментариев к товарам на позитивные и негативные и выбрали из них лучшую.\n",
        "\n",
        "В том числе мы:\n",
        "1. Провели загрузку и общий обзор данных, установили наличие дисбаланса по целевому признаку.\n",
        "2. Построили модели на основе TF-IDF:\n",
        "- провели лемматизацию и векторизацию;\n",
        "- перебрали гиперпараметры для нескольких моделей (логичтическая регрессия и Light GBM);\n",
        "- установили, что лучшей моделью является логистическая регрессия с l2-регуляризацией, которая показала *F1* = 0.7656 на тестовой выборке, что выше целевого значения.\n",
        "3. Построили модель на основе BERT:\n",
        "- провели токенизацию и сформировали эмбеддинги;\n",
        "- используя логистическую регрессию, построили модель классификации, которая показала *F1* = 0.9462 на тестовой выборке, что значительно выше целевого значения.\n",
        "\n",
        "Таким образом, лучшей моделью стала модель на основе BERT. Однако у нее есть недостаток: долгое обучение.\n",
        "\n",
        "**Рекомендация заказчику:**\n",
        "- взять на вооружение полученные модели;\n",
        "- в зависимости от конкретной задачи можно использовать разные модели: для быстрой (но не всегда точной) оценки тональности - модель на основе TF-IDF, для значительно более точной - модель на основе BERT."
      ]
    }
  ],
  "metadata": {
    "ExecuteTimeLog": [
      {
        "duration": 1220,
        "start_time": "2025-02-24T10:17:04.476Z"
      },
      {
        "duration": 1221,
        "start_time": "2025-02-24T10:19:23.257Z"
      },
      {
        "duration": 2419,
        "start_time": "2025-02-24T10:20:52.288Z"
      },
      {
        "duration": 18,
        "start_time": "2025-02-24T10:20:56.578Z"
      },
      {
        "duration": 2307,
        "start_time": "2025-02-24T10:21:18.274Z"
      },
      {
        "duration": 10,
        "start_time": "2025-02-24T10:21:21.350Z"
      },
      {
        "duration": 33,
        "start_time": "2025-02-24T10:21:49.788Z"
      },
      {
        "duration": 8,
        "start_time": "2025-02-24T10:21:56.977Z"
      },
      {
        "duration": 109425,
        "start_time": "2025-02-24T10:24:35.945Z"
      },
      {
        "duration": 163,
        "start_time": "2025-02-24T10:26:39.107Z"
      },
      {
        "duration": 7,
        "start_time": "2025-02-24T10:28:13.607Z"
      },
      {
        "duration": 2,
        "start_time": "2025-02-24T10:29:04.891Z"
      },
      {
        "duration": 51,
        "start_time": "2025-02-24T10:29:17.889Z"
      },
      {
        "duration": 3,
        "start_time": "2025-02-24T10:29:55.363Z"
      },
      {
        "duration": 18,
        "start_time": "2025-02-24T10:29:55.368Z"
      },
      {
        "duration": 2662,
        "start_time": "2025-02-24T10:29:55.515Z"
      },
      {
        "duration": 2,
        "start_time": "2025-02-24T10:29:58.179Z"
      },
      {
        "duration": 3185,
        "start_time": "2025-02-24T10:29:58.182Z"
      },
      {
        "duration": 32,
        "start_time": "2025-02-24T10:30:01.369Z"
      },
      {
        "duration": 86,
        "start_time": "2025-02-24T10:30:01.403Z"
      },
      {
        "duration": 3,
        "start_time": "2025-02-24T10:30:05.686Z"
      },
      {
        "duration": 50,
        "start_time": "2025-02-24T10:30:28.264Z"
      },
      {
        "duration": 4,
        "start_time": "2025-02-25T06:18:26.969Z"
      },
      {
        "duration": 9,
        "start_time": "2025-02-25T06:18:26.974Z"
      },
      {
        "duration": 2667,
        "start_time": "2025-02-25T06:18:26.984Z"
      },
      {
        "duration": 307,
        "start_time": "2025-02-25T06:18:29.652Z"
      },
      {
        "duration": 3,
        "start_time": "2025-02-25T06:18:29.961Z"
      },
      {
        "duration": 2486,
        "start_time": "2025-02-25T06:18:29.965Z"
      },
      {
        "duration": 35,
        "start_time": "2025-02-25T06:18:32.452Z"
      },
      {
        "duration": 9,
        "start_time": "2025-02-25T06:18:32.488Z"
      },
      {
        "duration": 31,
        "start_time": "2025-02-25T06:18:32.499Z"
      },
      {
        "duration": 15,
        "start_time": "2025-02-25T06:18:32.532Z"
      },
      {
        "duration": 44,
        "start_time": "2025-02-25T06:18:32.549Z"
      },
      {
        "duration": 4,
        "start_time": "2025-02-25T06:18:32.595Z"
      },
      {
        "duration": 25225,
        "start_time": "2025-02-25T06:18:32.600Z"
      },
      {
        "duration": 8,
        "start_time": "2025-02-25T06:18:57.829Z"
      },
      {
        "duration": 194,
        "start_time": "2025-02-25T06:18:57.839Z"
      },
      {
        "duration": 0,
        "start_time": "2025-02-25T06:18:58.034Z"
      },
      {
        "duration": 0,
        "start_time": "2025-02-25T06:18:58.036Z"
      },
      {
        "duration": 0,
        "start_time": "2025-02-25T06:18:58.038Z"
      },
      {
        "duration": 0,
        "start_time": "2025-02-25T06:18:58.039Z"
      },
      {
        "duration": 0,
        "start_time": "2025-02-25T06:18:58.041Z"
      },
      {
        "duration": 0,
        "start_time": "2025-02-25T06:18:58.043Z"
      },
      {
        "duration": 0,
        "start_time": "2025-02-25T06:18:58.044Z"
      },
      {
        "duration": 7,
        "start_time": "2025-02-25T06:19:12.860Z"
      },
      {
        "duration": 81,
        "start_time": "2025-02-25T06:19:12.869Z"
      },
      {
        "duration": 5132,
        "start_time": "2025-02-25T06:19:12.952Z"
      },
      {
        "duration": 2,
        "start_time": "2025-02-25T06:19:18.086Z"
      },
      {
        "duration": 11,
        "start_time": "2025-02-25T06:19:18.090Z"
      },
      {
        "duration": 16,
        "start_time": "2025-02-25T06:19:18.103Z"
      },
      {
        "duration": 182860,
        "start_time": "2025-02-25T06:19:18.120Z"
      },
      {
        "duration": 103,
        "start_time": "2025-02-25T06:22:20.982Z"
      },
      {
        "duration": 32,
        "start_time": "2025-02-25T06:22:21.087Z"
      },
      {
        "duration": 4,
        "start_time": "2025-02-25T06:25:25.129Z"
      },
      {
        "duration": 3,
        "start_time": "2025-02-25T06:25:26.614Z"
      },
      {
        "duration": 38,
        "start_time": "2025-02-25T06:25:27.775Z"
      },
      {
        "duration": 4,
        "start_time": "2025-02-25T06:25:42.559Z"
      },
      {
        "duration": 3,
        "start_time": "2025-02-25T06:25:43.903Z"
      },
      {
        "duration": 0,
        "start_time": "2025-02-25T06:26:51.432Z"
      },
      {
        "duration": 0,
        "start_time": "2025-02-25T06:26:51.433Z"
      },
      {
        "duration": 0,
        "start_time": "2025-02-25T06:26:51.434Z"
      },
      {
        "duration": 4,
        "start_time": "2025-02-25T06:26:52.761Z"
      },
      {
        "duration": 3,
        "start_time": "2025-02-25T06:26:55.546Z"
      },
      {
        "duration": 220839,
        "start_time": "2025-02-25T06:26:56.144Z"
      },
      {
        "duration": 15,
        "start_time": "2025-02-25T06:30:40.545Z"
      },
      {
        "duration": 36,
        "start_time": "2025-02-25T06:30:42.506Z"
      },
      {
        "duration": 3,
        "start_time": "2025-02-25T06:31:03.445Z"
      },
      {
        "duration": 25,
        "start_time": "2025-02-25T06:31:03.450Z"
      },
      {
        "duration": 31,
        "start_time": "2025-02-25T06:31:03.477Z"
      },
      {
        "duration": 473968,
        "start_time": "2025-02-25T06:31:03.510Z"
      },
      {
        "duration": 17,
        "start_time": "2025-02-25T06:38:57.480Z"
      },
      {
        "duration": 27,
        "start_time": "2025-02-25T06:38:57.498Z"
      },
      {
        "duration": 4,
        "start_time": "2025-02-25T06:42:18.122Z"
      },
      {
        "duration": 6,
        "start_time": "2025-02-25T06:42:18.665Z"
      },
      {
        "duration": 537194,
        "start_time": "2025-02-25T06:42:21.088Z"
      },
      {
        "duration": 16,
        "start_time": "2025-02-25T06:51:18.374Z"
      },
      {
        "duration": 36,
        "start_time": "2025-02-25T06:51:18.391Z"
      },
      {
        "duration": 69,
        "start_time": "2025-02-25T06:52:59.447Z"
      },
      {
        "duration": 3,
        "start_time": "2025-02-25T06:52:59.518Z"
      },
      {
        "duration": 0,
        "start_time": "2025-02-25T06:52:59.523Z"
      },
      {
        "duration": 0,
        "start_time": "2025-02-25T06:52:59.524Z"
      },
      {
        "duration": 0,
        "start_time": "2025-02-25T06:52:59.526Z"
      },
      {
        "duration": 0,
        "start_time": "2025-02-25T06:52:59.527Z"
      },
      {
        "duration": 0,
        "start_time": "2025-02-25T06:52:59.528Z"
      },
      {
        "duration": 76,
        "start_time": "2025-02-25T06:53:52.328Z"
      },
      {
        "duration": 3,
        "start_time": "2025-02-25T06:53:52.405Z"
      },
      {
        "duration": 10,
        "start_time": "2025-02-25T06:53:52.411Z"
      },
      {
        "duration": 5,
        "start_time": "2025-02-25T06:53:52.422Z"
      },
      {
        "duration": 149,
        "start_time": "2025-02-25T06:53:52.429Z"
      },
      {
        "duration": 0,
        "start_time": "2025-02-25T06:53:52.581Z"
      },
      {
        "duration": 0,
        "start_time": "2025-02-25T06:53:52.582Z"
      },
      {
        "duration": 70,
        "start_time": "2025-02-25T06:54:16.313Z"
      },
      {
        "duration": 4,
        "start_time": "2025-02-25T06:54:16.386Z"
      },
      {
        "duration": 5,
        "start_time": "2025-02-25T06:54:16.392Z"
      },
      {
        "duration": 7,
        "start_time": "2025-02-25T06:54:16.399Z"
      },
      {
        "duration": 154,
        "start_time": "2025-02-25T06:54:16.408Z"
      },
      {
        "duration": 0,
        "start_time": "2025-02-25T06:54:16.563Z"
      },
      {
        "duration": 0,
        "start_time": "2025-02-25T06:54:16.564Z"
      },
      {
        "duration": 70,
        "start_time": "2025-02-25T06:54:22.151Z"
      },
      {
        "duration": 3,
        "start_time": "2025-02-25T06:54:22.978Z"
      },
      {
        "duration": 4,
        "start_time": "2025-02-25T06:54:24.045Z"
      },
      {
        "duration": 2,
        "start_time": "2025-02-25T06:54:24.686Z"
      },
      {
        "duration": 128,
        "start_time": "2025-02-25T06:54:25.452Z"
      },
      {
        "duration": 290802,
        "start_time": "2025-02-25T06:55:04.683Z"
      },
      {
        "duration": 16,
        "start_time": "2025-02-25T07:01:11.712Z"
      },
      {
        "duration": 19,
        "start_time": "2025-02-25T07:01:13.842Z"
      },
      {
        "duration": 1650,
        "start_time": "2025-02-25T07:01:20.763Z"
      },
      {
        "duration": 8,
        "start_time": "2025-02-25T07:08:05.459Z"
      },
      {
        "duration": 95,
        "start_time": "2025-02-25T07:08:05.469Z"
      },
      {
        "duration": 3,
        "start_time": "2025-02-25T07:08:05.565Z"
      },
      {
        "duration": 74,
        "start_time": "2025-02-25T07:08:05.569Z"
      },
      {
        "duration": 0,
        "start_time": "2025-02-25T07:08:05.645Z"
      },
      {
        "duration": 0,
        "start_time": "2025-02-25T07:08:05.646Z"
      },
      {
        "duration": 0,
        "start_time": "2025-02-25T07:08:05.648Z"
      },
      {
        "duration": 0,
        "start_time": "2025-02-25T07:08:05.649Z"
      },
      {
        "duration": 3,
        "start_time": "2025-02-25T07:08:17.289Z"
      },
      {
        "duration": 8,
        "start_time": "2025-02-25T07:08:17.294Z"
      },
      {
        "duration": 11,
        "start_time": "2025-02-25T07:08:17.303Z"
      },
      {
        "duration": 123906,
        "start_time": "2025-02-25T07:08:17.316Z"
      },
      {
        "duration": 16,
        "start_time": "2025-02-25T07:10:21.224Z"
      },
      {
        "duration": 2491,
        "start_time": "2025-02-25T07:10:21.242Z"
      },
      {
        "duration": 4,
        "start_time": "2025-02-25T07:22:58.980Z"
      },
      {
        "duration": 3,
        "start_time": "2025-02-25T07:22:59.858Z"
      },
      {
        "duration": 286206,
        "start_time": "2025-02-25T07:23:00.389Z"
      },
      {
        "duration": 14,
        "start_time": "2025-02-25T07:27:46.597Z"
      },
      {
        "duration": 6264,
        "start_time": "2025-02-25T07:27:46.613Z"
      },
      {
        "duration": 7,
        "start_time": "2025-02-25T08:10:13.733Z"
      },
      {
        "duration": 5,
        "start_time": "2025-02-25T08:10:29.200Z"
      },
      {
        "duration": 5,
        "start_time": "2025-02-25T08:12:17.085Z"
      },
      {
        "duration": 40,
        "start_time": "2025-02-25T08:12:23.393Z"
      },
      {
        "duration": 2,
        "start_time": "2025-02-25T08:12:23.924Z"
      },
      {
        "duration": 4,
        "start_time": "2025-02-25T08:12:24.874Z"
      },
      {
        "duration": 4,
        "start_time": "2025-02-25T08:12:37.060Z"
      },
      {
        "duration": 24178,
        "start_time": "2025-02-25T08:12:37.640Z"
      },
      {
        "duration": 8,
        "start_time": "2025-02-25T08:13:02.586Z"
      },
      {
        "duration": 109,
        "start_time": "2025-02-25T08:13:03.741Z"
      },
      {
        "duration": 4,
        "start_time": "2025-02-25T08:13:04.588Z"
      },
      {
        "duration": 4,
        "start_time": "2025-02-25T08:13:35.598Z"
      },
      {
        "duration": 3,
        "start_time": "2025-02-25T08:13:36.183Z"
      },
      {
        "duration": 231122,
        "start_time": "2025-02-25T08:13:37.383Z"
      },
      {
        "duration": 14,
        "start_time": "2025-02-25T08:17:30.394Z"
      },
      {
        "duration": 4,
        "start_time": "2025-02-25T08:17:49.715Z"
      },
      {
        "duration": 6,
        "start_time": "2025-02-25T08:17:49.721Z"
      },
      {
        "duration": 3311,
        "start_time": "2025-02-25T08:17:49.730Z"
      },
      {
        "duration": 173,
        "start_time": "2025-02-25T08:17:53.044Z"
      },
      {
        "duration": 0,
        "start_time": "2025-02-25T08:17:53.219Z"
      },
      {
        "duration": 0,
        "start_time": "2025-02-25T08:17:53.220Z"
      },
      {
        "duration": 0,
        "start_time": "2025-02-25T08:17:53.221Z"
      },
      {
        "duration": 0,
        "start_time": "2025-02-25T08:17:53.222Z"
      },
      {
        "duration": 1,
        "start_time": "2025-02-25T08:17:53.223Z"
      },
      {
        "duration": 0,
        "start_time": "2025-02-25T08:17:53.225Z"
      },
      {
        "duration": 0,
        "start_time": "2025-02-25T08:17:53.226Z"
      },
      {
        "duration": 0,
        "start_time": "2025-02-25T08:17:53.227Z"
      },
      {
        "duration": 0,
        "start_time": "2025-02-25T08:17:53.228Z"
      },
      {
        "duration": 0,
        "start_time": "2025-02-25T08:17:53.229Z"
      },
      {
        "duration": 0,
        "start_time": "2025-02-25T08:17:53.230Z"
      },
      {
        "duration": 0,
        "start_time": "2025-02-25T08:17:53.231Z"
      },
      {
        "duration": 0,
        "start_time": "2025-02-25T08:17:53.232Z"
      },
      {
        "duration": 0,
        "start_time": "2025-02-25T08:17:53.233Z"
      },
      {
        "duration": 0,
        "start_time": "2025-02-25T08:17:53.234Z"
      },
      {
        "duration": 0,
        "start_time": "2025-02-25T08:17:53.235Z"
      },
      {
        "duration": 0,
        "start_time": "2025-02-25T08:17:53.236Z"
      },
      {
        "duration": 4,
        "start_time": "2025-02-25T08:18:15.996Z"
      },
      {
        "duration": 6,
        "start_time": "2025-02-25T08:18:16.001Z"
      },
      {
        "duration": 3181,
        "start_time": "2025-02-25T08:18:16.008Z"
      },
      {
        "duration": 245,
        "start_time": "2025-02-25T08:18:19.191Z"
      },
      {
        "duration": 2,
        "start_time": "2025-02-25T08:18:19.438Z"
      },
      {
        "duration": 2874,
        "start_time": "2025-02-25T08:18:19.442Z"
      },
      {
        "duration": 31,
        "start_time": "2025-02-25T08:18:22.318Z"
      },
      {
        "duration": 9,
        "start_time": "2025-02-25T08:18:22.351Z"
      },
      {
        "duration": 45,
        "start_time": "2025-02-25T08:18:22.361Z"
      },
      {
        "duration": 18,
        "start_time": "2025-02-25T08:18:22.408Z"
      },
      {
        "duration": 5,
        "start_time": "2025-02-25T08:18:22.427Z"
      },
      {
        "duration": 11,
        "start_time": "2025-02-25T08:18:22.433Z"
      },
      {
        "duration": 7648,
        "start_time": "2025-02-25T08:18:22.446Z"
      },
      {
        "duration": 0,
        "start_time": "2025-02-25T08:18:30.096Z"
      },
      {
        "duration": 0,
        "start_time": "2025-02-25T08:18:30.097Z"
      },
      {
        "duration": 0,
        "start_time": "2025-02-25T08:18:30.099Z"
      },
      {
        "duration": 0,
        "start_time": "2025-02-25T08:18:30.100Z"
      },
      {
        "duration": 0,
        "start_time": "2025-02-25T08:18:30.101Z"
      },
      {
        "duration": 0,
        "start_time": "2025-02-25T08:18:30.102Z"
      },
      {
        "duration": 0,
        "start_time": "2025-02-25T08:18:30.103Z"
      },
      {
        "duration": 0,
        "start_time": "2025-02-25T08:18:30.104Z"
      },
      {
        "duration": 529,
        "start_time": "2025-02-25T08:18:50.895Z"
      },
      {
        "duration": 30,
        "start_time": "2025-02-25T08:18:57.623Z"
      },
      {
        "duration": 380,
        "start_time": "2025-02-25T08:19:03.171Z"
      },
      {
        "duration": 12,
        "start_time": "2025-02-25T08:20:13.787Z"
      },
      {
        "duration": 4,
        "start_time": "2025-02-25T08:20:23.248Z"
      },
      {
        "duration": 0,
        "start_time": "2025-02-25T08:20:56.707Z"
      },
      {
        "duration": 1121,
        "start_time": "2025-02-25T08:21:09.341Z"
      },
      {
        "duration": 131,
        "start_time": "2025-02-25T08:21:29.186Z"
      },
      {
        "duration": 121,
        "start_time": "2025-02-25T08:22:34.000Z"
      },
      {
        "duration": 124,
        "start_time": "2025-02-25T08:22:45.792Z"
      },
      {
        "duration": 3,
        "start_time": "2025-02-25T08:25:55.430Z"
      },
      {
        "duration": 5,
        "start_time": "2025-02-25T08:25:55.435Z"
      },
      {
        "duration": 4572,
        "start_time": "2025-02-25T08:25:55.441Z"
      },
      {
        "duration": 244,
        "start_time": "2025-02-25T08:26:00.015Z"
      },
      {
        "duration": 3,
        "start_time": "2025-02-25T08:26:00.263Z"
      },
      {
        "duration": 5032,
        "start_time": "2025-02-25T08:26:00.267Z"
      },
      {
        "duration": 96,
        "start_time": "2025-02-25T08:26:05.302Z"
      },
      {
        "duration": 13,
        "start_time": "2025-02-25T08:26:05.400Z"
      },
      {
        "duration": 208,
        "start_time": "2025-02-25T08:26:05.415Z"
      },
      {
        "duration": 30,
        "start_time": "2025-02-25T08:26:05.625Z"
      },
      {
        "duration": 19,
        "start_time": "2025-02-25T08:26:05.657Z"
      },
      {
        "duration": 17,
        "start_time": "2025-02-25T08:26:05.678Z"
      },
      {
        "duration": 13,
        "start_time": "2025-02-25T08:26:05.697Z"
      },
      {
        "duration": 27322,
        "start_time": "2025-02-25T08:26:05.713Z"
      },
      {
        "duration": 9,
        "start_time": "2025-02-25T08:26:33.037Z"
      },
      {
        "duration": 108,
        "start_time": "2025-02-25T08:26:33.048Z"
      },
      {
        "duration": 4,
        "start_time": "2025-02-25T08:26:33.158Z"
      },
      {
        "duration": 14,
        "start_time": "2025-02-25T08:26:33.163Z"
      },
      {
        "duration": 12,
        "start_time": "2025-02-25T08:26:33.179Z"
      },
      {
        "duration": 99270,
        "start_time": "2025-02-25T08:26:33.194Z"
      },
      {
        "duration": 0,
        "start_time": "2025-02-25T08:28:12.466Z"
      },
      {
        "duration": 0,
        "start_time": "2025-02-25T08:28:12.475Z"
      },
      {
        "duration": 3,
        "start_time": "2025-02-25T08:28:16.711Z"
      },
      {
        "duration": 547430,
        "start_time": "2025-02-25T08:28:18.353Z"
      },
      {
        "duration": 19,
        "start_time": "2025-02-25T08:37:33.574Z"
      },
      {
        "duration": 1816,
        "start_time": "2025-02-25T08:37:40.372Z"
      },
      {
        "duration": 1764,
        "start_time": "2025-02-25T08:39:20.277Z"
      },
      {
        "duration": 21,
        "start_time": "2025-02-25T08:40:06.123Z"
      },
      {
        "duration": 12,
        "start_time": "2025-02-25T08:40:21.105Z"
      },
      {
        "duration": 38,
        "start_time": "2025-02-25T08:40:27.824Z"
      },
      {
        "duration": 3721,
        "start_time": "2025-02-25T09:02:11.187Z"
      },
      {
        "duration": 2115,
        "start_time": "2025-02-25T09:03:10.087Z"
      },
      {
        "duration": 1728,
        "start_time": "2025-02-25T09:07:54.948Z"
      },
      {
        "duration": 9,
        "start_time": "2025-02-25T09:08:06.420Z"
      },
      {
        "duration": 14,
        "start_time": "2025-02-25T09:11:08.228Z"
      },
      {
        "duration": 266,
        "start_time": "2025-02-25T09:11:40.521Z"
      },
      {
        "duration": 12,
        "start_time": "2025-02-25T09:13:18.594Z"
      },
      {
        "duration": 3,
        "start_time": "2025-02-25T09:13:38.872Z"
      },
      {
        "duration": 1612,
        "start_time": "2025-02-25T09:13:41.089Z"
      },
      {
        "duration": 842,
        "start_time": "2025-02-25T09:16:12.114Z"
      },
      {
        "duration": 2771,
        "start_time": "2025-02-25T09:16:14.639Z"
      },
      {
        "duration": 860,
        "start_time": "2025-02-25T09:16:21.343Z"
      },
      {
        "duration": 17,
        "start_time": "2025-02-25T09:16:23.344Z"
      },
      {
        "duration": 4,
        "start_time": "2025-02-25T09:16:47.802Z"
      },
      {
        "duration": 7,
        "start_time": "2025-02-25T09:16:47.808Z"
      },
      {
        "duration": 5213,
        "start_time": "2025-02-25T09:16:47.817Z"
      },
      {
        "duration": 314,
        "start_time": "2025-02-25T09:16:53.032Z"
      },
      {
        "duration": 3,
        "start_time": "2025-02-25T09:16:53.350Z"
      },
      {
        "duration": 4538,
        "start_time": "2025-02-25T09:16:53.355Z"
      },
      {
        "duration": 40,
        "start_time": "2025-02-25T09:16:57.896Z"
      },
      {
        "duration": 9,
        "start_time": "2025-02-25T09:16:57.938Z"
      },
      {
        "duration": 181,
        "start_time": "2025-02-25T09:16:57.948Z"
      },
      {
        "duration": 32,
        "start_time": "2025-02-25T09:16:58.131Z"
      },
      {
        "duration": 13,
        "start_time": "2025-02-25T09:16:58.165Z"
      },
      {
        "duration": 17,
        "start_time": "2025-02-25T09:16:58.181Z"
      },
      {
        "duration": 14,
        "start_time": "2025-02-25T09:16:58.200Z"
      },
      {
        "duration": 1151,
        "start_time": "2025-02-25T09:16:58.217Z"
      },
      {
        "duration": 27,
        "start_time": "2025-02-25T09:16:59.369Z"
      },
      {
        "duration": 85,
        "start_time": "2025-02-25T09:16:59.399Z"
      },
      {
        "duration": 8,
        "start_time": "2025-02-25T09:16:59.490Z"
      },
      {
        "duration": 12,
        "start_time": "2025-02-25T09:16:59.500Z"
      },
      {
        "duration": 750,
        "start_time": "2025-02-25T09:16:59.514Z"
      },
      {
        "duration": 30,
        "start_time": "2025-02-25T09:17:00.266Z"
      },
      {
        "duration": 313,
        "start_time": "2025-02-25T09:17:00.298Z"
      },
      {
        "duration": 1,
        "start_time": "2025-02-25T09:17:00.613Z"
      },
      {
        "duration": 6,
        "start_time": "2025-02-25T09:18:54.280Z"
      },
      {
        "duration": 274,
        "start_time": "2025-02-25T09:18:55.734Z"
      },
      {
        "duration": 4,
        "start_time": "2025-02-25T09:22:54.911Z"
      },
      {
        "duration": 20,
        "start_time": "2025-02-25T09:22:54.918Z"
      },
      {
        "duration": 4295,
        "start_time": "2025-02-25T09:22:54.940Z"
      },
      {
        "duration": 163,
        "start_time": "2025-02-25T09:22:59.237Z"
      },
      {
        "duration": 3,
        "start_time": "2025-02-25T09:22:59.403Z"
      },
      {
        "duration": 2918,
        "start_time": "2025-02-25T09:22:59.407Z"
      },
      {
        "duration": 33,
        "start_time": "2025-02-25T09:23:02.326Z"
      },
      {
        "duration": 11,
        "start_time": "2025-02-25T09:23:02.374Z"
      },
      {
        "duration": 154,
        "start_time": "2025-02-25T09:23:02.386Z"
      },
      {
        "duration": 47,
        "start_time": "2025-02-25T09:23:02.543Z"
      },
      {
        "duration": 40,
        "start_time": "2025-02-25T09:23:02.592Z"
      },
      {
        "duration": 28,
        "start_time": "2025-02-25T09:23:02.634Z"
      },
      {
        "duration": 21,
        "start_time": "2025-02-25T09:23:02.664Z"
      },
      {
        "duration": 30342,
        "start_time": "2025-02-25T09:23:02.689Z"
      },
      {
        "duration": 9,
        "start_time": "2025-02-25T09:23:33.032Z"
      },
      {
        "duration": 117,
        "start_time": "2025-02-25T09:23:33.044Z"
      },
      {
        "duration": 4,
        "start_time": "2025-02-25T09:23:33.163Z"
      },
      {
        "duration": 12,
        "start_time": "2025-02-25T09:23:33.169Z"
      },
      {
        "duration": 33849,
        "start_time": "2025-02-25T09:23:33.183Z"
      },
      {
        "duration": 18,
        "start_time": "2025-02-25T09:24:07.034Z"
      },
      {
        "duration": 1748,
        "start_time": "2025-02-25T09:24:07.054Z"
      },
      {
        "duration": 3,
        "start_time": "2025-02-25T09:24:08.804Z"
      },
      {
        "duration": 722,
        "start_time": "2025-02-25T09:24:37.923Z"
      },
      {
        "duration": 24,
        "start_time": "2025-02-25T09:24:40.781Z"
      },
      {
        "duration": 1705,
        "start_time": "2025-02-25T09:24:43.425Z"
      },
      {
        "duration": 3,
        "start_time": "2025-02-25T09:25:15.194Z"
      },
      {
        "duration": 15,
        "start_time": "2025-02-25T09:25:15.199Z"
      },
      {
        "duration": 4670,
        "start_time": "2025-02-25T09:25:15.216Z"
      },
      {
        "duration": 250,
        "start_time": "2025-02-25T09:25:19.888Z"
      },
      {
        "duration": 2,
        "start_time": "2025-02-25T09:25:20.140Z"
      },
      {
        "duration": 2323,
        "start_time": "2025-02-25T09:25:20.144Z"
      },
      {
        "duration": 46,
        "start_time": "2025-02-25T09:25:22.469Z"
      },
      {
        "duration": 8,
        "start_time": "2025-02-25T09:25:22.517Z"
      },
      {
        "duration": 209,
        "start_time": "2025-02-25T09:25:22.527Z"
      },
      {
        "duration": 56,
        "start_time": "2025-02-25T09:25:22.738Z"
      },
      {
        "duration": 3,
        "start_time": "2025-02-25T09:25:22.796Z"
      },
      {
        "duration": 6,
        "start_time": "2025-02-25T09:25:22.801Z"
      },
      {
        "duration": 14,
        "start_time": "2025-02-25T09:25:22.808Z"
      },
      {
        "duration": 1159,
        "start_time": "2025-02-25T09:25:22.826Z"
      },
      {
        "duration": 9,
        "start_time": "2025-02-25T09:25:23.992Z"
      },
      {
        "duration": 87,
        "start_time": "2025-02-25T09:25:24.002Z"
      },
      {
        "duration": 6,
        "start_time": "2025-02-25T09:25:24.091Z"
      },
      {
        "duration": 13,
        "start_time": "2025-02-25T09:25:24.099Z"
      },
      {
        "duration": 724,
        "start_time": "2025-02-25T09:25:24.115Z"
      },
      {
        "duration": 39,
        "start_time": "2025-02-25T09:25:24.841Z"
      },
      {
        "duration": 267,
        "start_time": "2025-02-25T09:25:24.884Z"
      },
      {
        "duration": 0,
        "start_time": "2025-02-25T09:25:25.154Z"
      },
      {
        "duration": 8,
        "start_time": "2025-02-25T09:25:52.970Z"
      },
      {
        "duration": 15,
        "start_time": "2025-02-25T09:25:58.204Z"
      },
      {
        "duration": 30,
        "start_time": "2025-02-25T09:26:09.739Z"
      },
      {
        "duration": 415,
        "start_time": "2025-02-25T09:30:09.289Z"
      },
      {
        "duration": 10,
        "start_time": "2025-02-25T09:30:42.075Z"
      },
      {
        "duration": 277,
        "start_time": "2025-02-25T09:30:42.647Z"
      },
      {
        "duration": 37453,
        "start_time": "2025-02-25T09:32:17.846Z"
      },
      {
        "duration": 108,
        "start_time": "2025-02-25T09:33:02.903Z"
      },
      {
        "duration": 3,
        "start_time": "2025-02-25T09:33:04.139Z"
      },
      {
        "duration": 4,
        "start_time": "2025-02-25T09:33:05.741Z"
      },
      {
        "duration": 41246,
        "start_time": "2025-02-25T09:33:07.162Z"
      },
      {
        "duration": 29,
        "start_time": "2025-02-25T09:33:51.663Z"
      },
      {
        "duration": 2023,
        "start_time": "2025-02-25T09:33:54.210Z"
      },
      {
        "duration": 4,
        "start_time": "2025-02-25T09:34:16.965Z"
      },
      {
        "duration": 14,
        "start_time": "2025-02-25T09:34:16.971Z"
      },
      {
        "duration": 5481,
        "start_time": "2025-02-25T09:34:16.987Z"
      },
      {
        "duration": 268,
        "start_time": "2025-02-25T09:34:22.470Z"
      },
      {
        "duration": 2,
        "start_time": "2025-02-25T09:34:22.741Z"
      },
      {
        "duration": 2956,
        "start_time": "2025-02-25T09:34:22.745Z"
      },
      {
        "duration": 40,
        "start_time": "2025-02-25T09:34:25.711Z"
      },
      {
        "duration": 9,
        "start_time": "2025-02-25T09:34:25.753Z"
      },
      {
        "duration": 175,
        "start_time": "2025-02-25T09:34:25.764Z"
      },
      {
        "duration": 58,
        "start_time": "2025-02-25T09:34:25.941Z"
      },
      {
        "duration": 5,
        "start_time": "2025-02-25T09:34:26.003Z"
      },
      {
        "duration": 20,
        "start_time": "2025-02-25T09:34:26.010Z"
      },
      {
        "duration": 19,
        "start_time": "2025-02-25T09:34:26.033Z"
      },
      {
        "duration": 39916,
        "start_time": "2025-02-25T09:34:26.055Z"
      },
      {
        "duration": 26,
        "start_time": "2025-02-25T09:35:05.973Z"
      },
      {
        "duration": 83,
        "start_time": "2025-02-25T09:35:06.001Z"
      },
      {
        "duration": 13,
        "start_time": "2025-02-25T09:35:06.089Z"
      },
      {
        "duration": 5,
        "start_time": "2025-02-25T09:35:06.108Z"
      },
      {
        "duration": 2671,
        "start_time": "2025-02-25T09:35:06.114Z"
      },
      {
        "duration": 36,
        "start_time": "2025-02-25T09:35:08.792Z"
      },
      {
        "duration": 1930,
        "start_time": "2025-02-25T09:35:08.830Z"
      },
      {
        "duration": 3,
        "start_time": "2025-02-25T09:35:10.762Z"
      },
      {
        "duration": 1420,
        "start_time": "2025-02-25T09:35:31.495Z"
      },
      {
        "duration": 6,
        "start_time": "2025-02-25T09:35:35.053Z"
      },
      {
        "duration": 230,
        "start_time": "2025-02-25T09:35:47.828Z"
      },
      {
        "duration": 7,
        "start_time": "2025-02-25T09:36:03.162Z"
      },
      {
        "duration": 20,
        "start_time": "2025-02-25T09:36:23.334Z"
      },
      {
        "duration": 15,
        "start_time": "2025-02-25T09:36:32.481Z"
      },
      {
        "duration": 8,
        "start_time": "2025-02-25T09:36:41.476Z"
      },
      {
        "duration": 782,
        "start_time": "2025-02-25T09:37:51.987Z"
      },
      {
        "duration": 11,
        "start_time": "2025-02-25T09:37:54.299Z"
      },
      {
        "duration": 63,
        "start_time": "2025-02-25T09:38:24.750Z"
      },
      {
        "duration": 7,
        "start_time": "2025-02-25T09:38:31.533Z"
      },
      {
        "duration": 3926,
        "start_time": "2025-02-25T09:38:36.477Z"
      },
      {
        "duration": 2898,
        "start_time": "2025-02-25T09:38:43.913Z"
      },
      {
        "duration": 811,
        "start_time": "2025-02-25T09:38:55.115Z"
      },
      {
        "duration": 7,
        "start_time": "2025-02-25T09:38:56.663Z"
      },
      {
        "duration": 3276,
        "start_time": "2025-02-25T09:39:09.069Z"
      },
      {
        "duration": 849,
        "start_time": "2025-02-25T09:39:36.349Z"
      },
      {
        "duration": 717,
        "start_time": "2025-02-25T09:39:49.811Z"
      },
      {
        "duration": 20,
        "start_time": "2025-02-25T09:39:52.132Z"
      },
      {
        "duration": 14,
        "start_time": "2025-02-25T09:39:54.903Z"
      },
      {
        "duration": 14,
        "start_time": "2025-02-25T09:40:00.336Z"
      },
      {
        "duration": 90,
        "start_time": "2025-02-25T09:40:06.837Z"
      },
      {
        "duration": 858,
        "start_time": "2025-02-25T09:40:14.431Z"
      },
      {
        "duration": 16,
        "start_time": "2025-02-25T09:40:16.759Z"
      },
      {
        "duration": 70,
        "start_time": "2025-02-25T09:40:19.165Z"
      },
      {
        "duration": 89,
        "start_time": "2025-02-25T09:40:40.929Z"
      },
      {
        "duration": 34,
        "start_time": "2025-02-25T09:40:49.399Z"
      },
      {
        "duration": 3,
        "start_time": "2025-02-25T09:40:50.322Z"
      },
      {
        "duration": 13,
        "start_time": "2025-02-25T09:40:51.336Z"
      },
      {
        "duration": 18,
        "start_time": "2025-02-25T09:40:51.995Z"
      },
      {
        "duration": 33384,
        "start_time": "2025-02-25T09:40:59.836Z"
      },
      {
        "duration": 1039,
        "start_time": "2025-02-25T09:41:33.222Z"
      },
      {
        "duration": 6,
        "start_time": "2025-02-25T09:41:35.317Z"
      },
      {
        "duration": 5,
        "start_time": "2025-02-25T09:41:42.133Z"
      },
      {
        "duration": 53,
        "start_time": "2025-02-25T09:41:47.463Z"
      },
      {
        "duration": 46,
        "start_time": "2025-02-25T09:41:54.291Z"
      },
      {
        "duration": 7,
        "start_time": "2025-02-25T09:43:03.303Z"
      },
      {
        "duration": 6,
        "start_time": "2025-02-25T09:43:03.312Z"
      },
      {
        "duration": 5193,
        "start_time": "2025-02-25T09:43:03.319Z"
      },
      {
        "duration": 176,
        "start_time": "2025-02-25T09:43:08.515Z"
      },
      {
        "duration": 10,
        "start_time": "2025-02-25T09:43:08.693Z"
      },
      {
        "duration": 2753,
        "start_time": "2025-02-25T09:43:08.706Z"
      },
      {
        "duration": 48,
        "start_time": "2025-02-25T09:43:11.461Z"
      },
      {
        "duration": 9,
        "start_time": "2025-02-25T09:43:11.511Z"
      },
      {
        "duration": 180,
        "start_time": "2025-02-25T09:43:11.522Z"
      },
      {
        "duration": 32,
        "start_time": "2025-02-25T09:43:11.705Z"
      },
      {
        "duration": 15,
        "start_time": "2025-02-25T09:43:11.739Z"
      },
      {
        "duration": 14,
        "start_time": "2025-02-25T09:43:11.756Z"
      },
      {
        "duration": 28,
        "start_time": "2025-02-25T09:43:11.772Z"
      },
      {
        "duration": 30224,
        "start_time": "2025-02-25T09:43:11.810Z"
      },
      {
        "duration": 8,
        "start_time": "2025-02-25T09:43:42.036Z"
      },
      {
        "duration": 32,
        "start_time": "2025-02-25T09:43:42.046Z"
      },
      {
        "duration": 83,
        "start_time": "2025-02-25T09:43:42.080Z"
      },
      {
        "duration": 4,
        "start_time": "2025-02-25T09:43:42.165Z"
      },
      {
        "duration": 29,
        "start_time": "2025-02-25T09:43:42.170Z"
      },
      {
        "duration": 1230,
        "start_time": "2025-02-25T09:43:42.201Z"
      },
      {
        "duration": 18,
        "start_time": "2025-02-25T09:43:43.433Z"
      },
      {
        "duration": 1907,
        "start_time": "2025-02-25T09:43:43.453Z"
      },
      {
        "duration": 3,
        "start_time": "2025-02-25T09:43:45.362Z"
      },
      {
        "duration": 36622,
        "start_time": "2025-02-25T09:44:34.951Z"
      },
      {
        "duration": 2983,
        "start_time": "2025-02-25T09:45:30.230Z"
      },
      {
        "duration": 735,
        "start_time": "2025-02-25T09:45:46.530Z"
      },
      {
        "duration": 23,
        "start_time": "2025-02-25T09:45:47.908Z"
      },
      {
        "duration": 1989,
        "start_time": "2025-02-25T09:45:49.450Z"
      },
      {
        "duration": 4,
        "start_time": "2025-02-25T09:46:14.204Z"
      },
      {
        "duration": 7,
        "start_time": "2025-02-25T09:46:14.210Z"
      },
      {
        "duration": 3594,
        "start_time": "2025-02-25T09:46:14.219Z"
      },
      {
        "duration": 182,
        "start_time": "2025-02-25T09:46:17.814Z"
      },
      {
        "duration": 6,
        "start_time": "2025-02-25T09:46:18.001Z"
      },
      {
        "duration": 2858,
        "start_time": "2025-02-25T09:46:18.010Z"
      },
      {
        "duration": 45,
        "start_time": "2025-02-25T09:46:20.870Z"
      },
      {
        "duration": 9,
        "start_time": "2025-02-25T09:46:20.917Z"
      },
      {
        "duration": 164,
        "start_time": "2025-02-25T09:46:20.927Z"
      },
      {
        "duration": 34,
        "start_time": "2025-02-25T09:46:21.098Z"
      },
      {
        "duration": 19,
        "start_time": "2025-02-25T09:46:21.134Z"
      },
      {
        "duration": 12,
        "start_time": "2025-02-25T09:46:21.155Z"
      },
      {
        "duration": 35,
        "start_time": "2025-02-25T09:46:21.168Z"
      },
      {
        "duration": 2959,
        "start_time": "2025-02-25T09:46:21.206Z"
      },
      {
        "duration": 11,
        "start_time": "2025-02-25T09:46:24.166Z"
      },
      {
        "duration": 82,
        "start_time": "2025-02-25T09:46:24.182Z"
      },
      {
        "duration": 4,
        "start_time": "2025-02-25T09:46:24.265Z"
      },
      {
        "duration": 35,
        "start_time": "2025-02-25T09:46:24.270Z"
      },
      {
        "duration": 1038,
        "start_time": "2025-02-25T09:46:24.306Z"
      },
      {
        "duration": 18,
        "start_time": "2025-02-25T09:46:25.345Z"
      },
      {
        "duration": 244,
        "start_time": "2025-02-25T09:46:25.374Z"
      },
      {
        "duration": 0,
        "start_time": "2025-02-25T09:46:25.619Z"
      },
      {
        "duration": 29871,
        "start_time": "2025-02-25T09:47:47.465Z"
      },
      {
        "duration": 13,
        "start_time": "2025-02-25T09:48:24.951Z"
      },
      {
        "duration": 5656,
        "start_time": "2025-02-25T09:48:43.403Z"
      },
      {
        "duration": 38724,
        "start_time": "2025-02-25T09:48:56.466Z"
      },
      {
        "duration": 9715,
        "start_time": "2025-02-25T09:49:40.748Z"
      },
      {
        "duration": 686,
        "start_time": "2025-02-25T09:50:10.906Z"
      },
      {
        "duration": 8,
        "start_time": "2025-02-25T09:50:18.919Z"
      },
      {
        "duration": 737,
        "start_time": "2025-02-25T09:50:24.243Z"
      },
      {
        "duration": 38,
        "start_time": "2025-02-25T09:50:25.570Z"
      },
      {
        "duration": 57,
        "start_time": "2025-02-25T09:50:27.093Z"
      },
      {
        "duration": 32084,
        "start_time": "2025-02-25T09:51:44.656Z"
      },
      {
        "duration": 3259,
        "start_time": "2025-02-25T09:52:22.787Z"
      },
      {
        "duration": 747,
        "start_time": "2025-02-25T09:52:31.160Z"
      },
      {
        "duration": 23,
        "start_time": "2025-02-25T09:52:31.909Z"
      },
      {
        "duration": 83,
        "start_time": "2025-02-25T09:52:31.934Z"
      },
      {
        "duration": 54,
        "start_time": "2025-02-25T09:52:35.906Z"
      },
      {
        "duration": 87,
        "start_time": "2025-02-25T09:52:51.671Z"
      },
      {
        "duration": 903,
        "start_time": "2025-02-25T09:52:55.844Z"
      },
      {
        "duration": 17,
        "start_time": "2025-02-25T09:52:57.289Z"
      },
      {
        "duration": 68,
        "start_time": "2025-02-25T09:52:58.471Z"
      },
      {
        "duration": 3434,
        "start_time": "2025-02-25T09:53:06.697Z"
      },
      {
        "duration": 6235,
        "start_time": "2025-02-25T09:53:28.687Z"
      },
      {
        "duration": 3748,
        "start_time": "2025-02-25T10:15:02.965Z"
      },
      {
        "duration": 197,
        "start_time": "2025-02-25T10:15:17.838Z"
      },
      {
        "duration": 3,
        "start_time": "2025-02-25T10:15:19.641Z"
      },
      {
        "duration": 2986,
        "start_time": "2025-02-25T10:15:21.260Z"
      },
      {
        "duration": 47,
        "start_time": "2025-02-25T10:15:24.248Z"
      },
      {
        "duration": 12,
        "start_time": "2025-02-25T10:15:29.586Z"
      },
      {
        "duration": 161,
        "start_time": "2025-02-25T10:15:31.635Z"
      },
      {
        "duration": 33,
        "start_time": "2025-02-25T10:15:37.448Z"
      },
      {
        "duration": 8,
        "start_time": "2025-02-25T10:15:38.684Z"
      },
      {
        "duration": 9,
        "start_time": "2025-02-25T10:15:39.986Z"
      },
      {
        "duration": 13,
        "start_time": "2025-02-25T10:15:41.244Z"
      },
      {
        "duration": 7995,
        "start_time": "2025-02-25T10:15:46.299Z"
      },
      {
        "duration": 2397,
        "start_time": "2025-02-25T10:16:00.573Z"
      },
      {
        "duration": 11,
        "start_time": "2025-02-25T10:16:05.293Z"
      },
      {
        "duration": 73,
        "start_time": "2025-02-25T10:16:08.292Z"
      },
      {
        "duration": 3,
        "start_time": "2025-02-25T10:16:09.713Z"
      },
      {
        "duration": 4,
        "start_time": "2025-02-25T10:16:11.396Z"
      },
      {
        "duration": 819,
        "start_time": "2025-02-25T10:16:12.897Z"
      },
      {
        "duration": 18,
        "start_time": "2025-02-25T10:16:13.718Z"
      },
      {
        "duration": 1850,
        "start_time": "2025-02-25T10:16:14.998Z"
      },
      {
        "duration": 4,
        "start_time": "2025-02-25T10:16:40.451Z"
      },
      {
        "duration": 2,
        "start_time": "2025-02-25T10:16:40.459Z"
      },
      {
        "duration": 4231,
        "start_time": "2025-02-25T10:16:40.463Z"
      },
      {
        "duration": 251,
        "start_time": "2025-02-25T10:16:44.696Z"
      },
      {
        "duration": 3,
        "start_time": "2025-02-25T10:16:44.949Z"
      },
      {
        "duration": 2926,
        "start_time": "2025-02-25T10:16:44.953Z"
      },
      {
        "duration": 37,
        "start_time": "2025-02-25T10:16:47.881Z"
      },
      {
        "duration": 16,
        "start_time": "2025-02-25T10:16:47.922Z"
      },
      {
        "duration": 181,
        "start_time": "2025-02-25T10:16:47.940Z"
      },
      {
        "duration": 33,
        "start_time": "2025-02-25T10:16:48.123Z"
      },
      {
        "duration": 3,
        "start_time": "2025-02-25T10:16:48.158Z"
      },
      {
        "duration": 4,
        "start_time": "2025-02-25T10:16:48.176Z"
      },
      {
        "duration": 19,
        "start_time": "2025-02-25T10:16:48.182Z"
      },
      {
        "duration": 2255,
        "start_time": "2025-02-25T10:16:48.204Z"
      },
      {
        "duration": 23,
        "start_time": "2025-02-25T10:16:50.461Z"
      },
      {
        "duration": 67,
        "start_time": "2025-02-25T10:16:50.492Z"
      },
      {
        "duration": 3,
        "start_time": "2025-02-25T10:16:50.560Z"
      },
      {
        "duration": 11,
        "start_time": "2025-02-25T10:16:50.565Z"
      },
      {
        "duration": 847,
        "start_time": "2025-02-25T10:16:50.579Z"
      },
      {
        "duration": 19,
        "start_time": "2025-02-25T10:16:51.427Z"
      },
      {
        "duration": 1864,
        "start_time": "2025-02-25T10:16:51.448Z"
      },
      {
        "duration": 4,
        "start_time": "2025-02-25T10:16:53.316Z"
      },
      {
        "duration": 5,
        "start_time": "2025-02-25T10:17:28.057Z"
      },
      {
        "duration": 315160,
        "start_time": "2025-02-25T10:17:28.901Z"
      },
      {
        "duration": 7,
        "start_time": "2025-02-25T10:22:54.769Z"
      },
      {
        "duration": 473683,
        "start_time": "2025-02-25T10:22:54.935Z"
      },
      {
        "duration": 18,
        "start_time": "2025-02-25T10:30:48.620Z"
      },
      {
        "duration": 1912,
        "start_time": "2025-02-25T10:30:48.639Z"
      },
      {
        "duration": 21,
        "start_time": "2025-02-25T10:31:36.173Z"
      },
      {
        "duration": 16,
        "start_time": "2025-02-25T10:31:40.455Z"
      },
      {
        "duration": 17,
        "start_time": "2025-02-25T10:32:22.831Z"
      },
      {
        "duration": 9159,
        "start_time": "2025-02-25T10:32:58.085Z"
      },
      {
        "duration": 24,
        "start_time": "2025-02-25T10:33:14.708Z"
      },
      {
        "duration": 20,
        "start_time": "2025-02-25T10:33:19.897Z"
      },
      {
        "duration": 17,
        "start_time": "2025-02-25T10:33:47.754Z"
      },
      {
        "duration": 20,
        "start_time": "2025-02-25T10:34:22.601Z"
      },
      {
        "duration": 13,
        "start_time": "2025-02-25T10:34:56.221Z"
      },
      {
        "duration": 4023,
        "start_time": "2025-02-25T10:34:59.598Z"
      },
      {
        "duration": 24,
        "start_time": "2025-02-25T10:35:06.644Z"
      },
      {
        "duration": 5,
        "start_time": "2025-02-25T10:36:11.088Z"
      },
      {
        "duration": 4,
        "start_time": "2025-02-25T10:36:11.096Z"
      },
      {
        "duration": 4821,
        "start_time": "2025-02-25T10:36:11.101Z"
      },
      {
        "duration": 264,
        "start_time": "2025-02-25T10:36:15.924Z"
      },
      {
        "duration": 6,
        "start_time": "2025-02-25T10:36:16.190Z"
      },
      {
        "duration": 3161,
        "start_time": "2025-02-25T10:36:16.197Z"
      },
      {
        "duration": 54,
        "start_time": "2025-02-25T10:36:19.360Z"
      },
      {
        "duration": 10,
        "start_time": "2025-02-25T10:36:19.419Z"
      },
      {
        "duration": 306,
        "start_time": "2025-02-25T10:36:19.431Z"
      },
      {
        "duration": 43,
        "start_time": "2025-02-25T10:36:19.739Z"
      },
      {
        "duration": 4,
        "start_time": "2025-02-25T10:36:19.791Z"
      },
      {
        "duration": 5,
        "start_time": "2025-02-25T10:36:19.798Z"
      },
      {
        "duration": 15,
        "start_time": "2025-02-25T10:36:19.806Z"
      },
      {
        "duration": 1172,
        "start_time": "2025-02-25T10:36:19.825Z"
      },
      {
        "duration": 10,
        "start_time": "2025-02-25T10:36:21.009Z"
      },
      {
        "duration": 118,
        "start_time": "2025-02-25T10:36:21.021Z"
      },
      {
        "duration": 3,
        "start_time": "2025-02-25T10:36:21.140Z"
      },
      {
        "duration": 19,
        "start_time": "2025-02-25T10:36:21.146Z"
      },
      {
        "duration": 91521,
        "start_time": "2025-02-25T10:36:21.167Z"
      },
      {
        "duration": 0,
        "start_time": "2025-02-25T10:37:52.692Z"
      },
      {
        "duration": 0,
        "start_time": "2025-02-25T10:37:52.693Z"
      },
      {
        "duration": 0,
        "start_time": "2025-02-25T10:37:52.694Z"
      },
      {
        "duration": 0,
        "start_time": "2025-02-25T10:37:52.696Z"
      },
      {
        "duration": 0,
        "start_time": "2025-02-25T10:37:52.697Z"
      },
      {
        "duration": 4874,
        "start_time": "2025-02-25T10:38:11.184Z"
      },
      {
        "duration": 4194,
        "start_time": "2025-02-25T10:38:16.060Z"
      },
      {
        "duration": 4182,
        "start_time": "2025-02-25T10:38:20.257Z"
      },
      {
        "duration": 256,
        "start_time": "2025-02-25T10:38:24.442Z"
      },
      {
        "duration": 3,
        "start_time": "2025-02-25T10:38:24.700Z"
      },
      {
        "duration": 2664,
        "start_time": "2025-02-25T10:38:24.705Z"
      },
      {
        "duration": 47,
        "start_time": "2025-02-25T10:38:27.370Z"
      },
      {
        "duration": 12,
        "start_time": "2025-02-25T10:38:27.419Z"
      },
      {
        "duration": 194,
        "start_time": "2025-02-25T10:38:27.433Z"
      },
      {
        "duration": 33,
        "start_time": "2025-02-25T10:38:27.630Z"
      },
      {
        "duration": 29,
        "start_time": "2025-02-25T10:38:27.665Z"
      },
      {
        "duration": 8,
        "start_time": "2025-02-25T10:38:27.702Z"
      },
      {
        "duration": 5,
        "start_time": "2025-02-25T10:38:27.712Z"
      },
      {
        "duration": 36987,
        "start_time": "2025-02-25T10:38:27.719Z"
      },
      {
        "duration": 14,
        "start_time": "2025-02-25T10:39:04.708Z"
      },
      {
        "duration": 171,
        "start_time": "2025-02-25T10:39:04.724Z"
      },
      {
        "duration": 15,
        "start_time": "2025-02-25T10:39:04.898Z"
      },
      {
        "duration": 11,
        "start_time": "2025-02-25T10:39:04.919Z"
      },
      {
        "duration": 208036,
        "start_time": "2025-02-25T10:39:04.932Z"
      },
      {
        "duration": 47,
        "start_time": "2025-02-25T10:42:32.970Z"
      },
      {
        "duration": 2090,
        "start_time": "2025-02-25T10:42:33.020Z"
      },
      {
        "duration": 3,
        "start_time": "2025-02-25T10:42:35.115Z"
      },
      {
        "duration": 215,
        "start_time": "2025-02-25T10:42:35.120Z"
      },
      {
        "duration": 0,
        "start_time": "2025-02-25T10:42:35.337Z"
      },
      {
        "duration": 269173,
        "start_time": "2025-02-25T10:43:37.516Z"
      },
      {
        "duration": 91,
        "start_time": "2025-02-25T10:48:27.730Z"
      },
      {
        "duration": 112673,
        "start_time": "2025-02-25T10:48:38.785Z"
      },
      {
        "duration": 2276,
        "start_time": "2025-02-25T10:50:46.295Z"
      },
      {
        "duration": 5960,
        "start_time": "2025-02-25T10:51:47.304Z"
      },
      {
        "duration": 3650,
        "start_time": "2025-02-25T10:51:53.269Z"
      },
      {
        "duration": 7546,
        "start_time": "2025-02-25T10:51:56.923Z"
      },
      {
        "duration": 251,
        "start_time": "2025-02-25T10:52:04.471Z"
      },
      {
        "duration": 3,
        "start_time": "2025-02-25T10:52:04.725Z"
      },
      {
        "duration": 3077,
        "start_time": "2025-02-25T10:52:04.730Z"
      },
      {
        "duration": 36,
        "start_time": "2025-02-25T10:52:07.818Z"
      },
      {
        "duration": 30,
        "start_time": "2025-02-25T10:52:07.856Z"
      },
      {
        "duration": 232,
        "start_time": "2025-02-25T10:52:07.888Z"
      },
      {
        "duration": 43,
        "start_time": "2025-02-25T10:52:08.123Z"
      },
      {
        "duration": 34,
        "start_time": "2025-02-25T10:52:08.168Z"
      },
      {
        "duration": 20,
        "start_time": "2025-02-25T10:52:08.206Z"
      },
      {
        "duration": 7,
        "start_time": "2025-02-25T10:52:08.228Z"
      },
      {
        "duration": 1201,
        "start_time": "2025-02-25T10:52:08.239Z"
      },
      {
        "duration": 9,
        "start_time": "2025-02-25T10:52:09.442Z"
      },
      {
        "duration": 108,
        "start_time": "2025-02-25T10:52:09.453Z"
      },
      {
        "duration": 14,
        "start_time": "2025-02-25T10:52:09.563Z"
      },
      {
        "duration": 16,
        "start_time": "2025-02-25T10:52:09.579Z"
      },
      {
        "duration": 1360,
        "start_time": "2025-02-25T10:52:09.597Z"
      },
      {
        "duration": 34,
        "start_time": "2025-02-25T10:52:10.960Z"
      },
      {
        "duration": 2274,
        "start_time": "2025-02-25T10:52:10.996Z"
      },
      {
        "duration": 15,
        "start_time": "2025-02-25T10:52:13.272Z"
      },
      {
        "duration": 16,
        "start_time": "2025-02-25T10:52:29.640Z"
      },
      {
        "duration": 27,
        "start_time": "2025-02-25T10:52:37.036Z"
      },
      {
        "duration": 6,
        "start_time": "2025-02-25T10:54:32.921Z"
      },
      {
        "duration": 242117,
        "start_time": "2025-02-25T10:54:34.109Z"
      },
      {
        "duration": 27,
        "start_time": "2025-02-25T10:58:36.228Z"
      },
      {
        "duration": 31,
        "start_time": "2025-02-25T10:58:57.187Z"
      },
      {
        "duration": 2151,
        "start_time": "2025-02-25T10:58:59.669Z"
      },
      {
        "duration": 5,
        "start_time": "2025-02-25T10:59:28.827Z"
      },
      {
        "duration": 1265,
        "start_time": "2025-02-25T10:59:30.894Z"
      },
      {
        "duration": 31550,
        "start_time": "2025-02-25T10:59:40.717Z"
      },
      {
        "duration": 0,
        "start_time": "2025-02-25T11:00:12.283Z"
      },
      {
        "duration": 87471,
        "start_time": "2025-02-25T11:00:33.859Z"
      },
      {
        "duration": 7,
        "start_time": "2025-02-25T11:02:03.580Z"
      },
      {
        "duration": 264619,
        "start_time": "2025-02-25T11:02:05.129Z"
      },
      {
        "duration": 40,
        "start_time": "2025-02-25T11:06:29.750Z"
      },
      {
        "duration": 19,
        "start_time": "2025-02-25T11:06:29.797Z"
      },
      {
        "duration": 2487,
        "start_time": "2025-02-25T11:06:29.818Z"
      },
      {
        "duration": 6,
        "start_time": "2025-02-25T11:12:49.568Z"
      },
      {
        "duration": 1942,
        "start_time": "2025-02-25T11:12:50.790Z"
      },
      {
        "duration": 65562,
        "start_time": "2025-02-25T11:13:02.695Z"
      },
      {
        "duration": 31,
        "start_time": "2025-02-25T11:14:08.259Z"
      },
      {
        "duration": 16,
        "start_time": "2025-02-25T11:14:19.520Z"
      },
      {
        "duration": 1944,
        "start_time": "2025-02-25T11:14:22.817Z"
      },
      {
        "duration": 4,
        "start_time": "2025-02-25T11:14:42.036Z"
      },
      {
        "duration": 830,
        "start_time": "2025-02-25T11:14:43.022Z"
      },
      {
        "duration": 24,
        "start_time": "2025-02-25T11:14:43.854Z"
      },
      {
        "duration": 17,
        "start_time": "2025-02-25T11:14:44.631Z"
      },
      {
        "duration": 42734,
        "start_time": "2025-02-25T11:14:52.870Z"
      },
      {
        "duration": 17,
        "start_time": "2025-02-25T11:15:35.606Z"
      },
      {
        "duration": 45,
        "start_time": "2025-02-25T11:15:35.624Z"
      },
      {
        "duration": 1840,
        "start_time": "2025-02-25T11:15:35.671Z"
      },
      {
        "duration": 5,
        "start_time": "2025-02-25T11:16:31.432Z"
      },
      {
        "duration": 50,
        "start_time": "2025-02-25T11:16:31.439Z"
      },
      {
        "duration": 5645,
        "start_time": "2025-02-25T11:16:31.491Z"
      },
      {
        "duration": 182,
        "start_time": "2025-02-25T11:16:37.138Z"
      },
      {
        "duration": 3,
        "start_time": "2025-02-25T11:16:37.323Z"
      },
      {
        "duration": 3307,
        "start_time": "2025-02-25T11:16:37.328Z"
      },
      {
        "duration": 48,
        "start_time": "2025-02-25T11:16:40.637Z"
      },
      {
        "duration": 18,
        "start_time": "2025-02-25T11:16:40.688Z"
      },
      {
        "duration": 190,
        "start_time": "2025-02-25T11:16:40.708Z"
      },
      {
        "duration": 40,
        "start_time": "2025-02-25T11:16:40.905Z"
      },
      {
        "duration": 7,
        "start_time": "2025-02-25T11:16:40.947Z"
      },
      {
        "duration": 6,
        "start_time": "2025-02-25T11:16:40.956Z"
      },
      {
        "duration": 9,
        "start_time": "2025-02-25T11:16:40.979Z"
      },
      {
        "duration": 1562,
        "start_time": "2025-02-25T11:16:40.992Z"
      },
      {
        "duration": 8,
        "start_time": "2025-02-25T11:16:42.555Z"
      },
      {
        "duration": 85,
        "start_time": "2025-02-25T11:16:42.565Z"
      },
      {
        "duration": 4,
        "start_time": "2025-02-25T11:16:42.652Z"
      },
      {
        "duration": 21,
        "start_time": "2025-02-25T11:16:42.675Z"
      },
      {
        "duration": 45313,
        "start_time": "2025-02-25T11:16:42.706Z"
      },
      {
        "duration": 23,
        "start_time": "2025-02-25T11:17:28.022Z"
      },
      {
        "duration": 25,
        "start_time": "2025-02-25T11:17:28.047Z"
      },
      {
        "duration": 2034,
        "start_time": "2025-02-25T11:17:28.074Z"
      },
      {
        "duration": 4,
        "start_time": "2025-02-25T11:17:30.110Z"
      },
      {
        "duration": 7,
        "start_time": "2025-02-25T11:18:01.701Z"
      },
      {
        "duration": 832,
        "start_time": "2025-02-25T11:18:03.054Z"
      },
      {
        "duration": 4110,
        "start_time": "2025-02-25T11:23:46.517Z"
      },
      {
        "duration": 3640,
        "start_time": "2025-02-25T11:23:50.630Z"
      },
      {
        "duration": 4508,
        "start_time": "2025-02-25T11:23:54.272Z"
      },
      {
        "duration": 217,
        "start_time": "2025-02-25T11:23:58.790Z"
      },
      {
        "duration": 4,
        "start_time": "2025-02-25T11:23:59.010Z"
      },
      {
        "duration": 2840,
        "start_time": "2025-02-25T11:23:59.016Z"
      },
      {
        "duration": 49,
        "start_time": "2025-02-25T11:24:01.858Z"
      },
      {
        "duration": 16,
        "start_time": "2025-02-25T11:24:01.910Z"
      },
      {
        "duration": 203,
        "start_time": "2025-02-25T11:24:01.929Z"
      },
      {
        "duration": 32,
        "start_time": "2025-02-25T11:24:02.134Z"
      },
      {
        "duration": 8,
        "start_time": "2025-02-25T11:24:02.181Z"
      },
      {
        "duration": 20,
        "start_time": "2025-02-25T11:24:02.191Z"
      },
      {
        "duration": 50,
        "start_time": "2025-02-25T11:24:02.214Z"
      },
      {
        "duration": 1690,
        "start_time": "2025-02-25T11:24:02.269Z"
      },
      {
        "duration": 7,
        "start_time": "2025-02-25T11:24:03.961Z"
      },
      {
        "duration": 103,
        "start_time": "2025-02-25T11:24:03.970Z"
      },
      {
        "duration": 3,
        "start_time": "2025-02-25T11:24:04.075Z"
      },
      {
        "duration": 5,
        "start_time": "2025-02-25T11:24:04.080Z"
      },
      {
        "duration": 256633,
        "start_time": "2025-02-25T11:24:04.086Z"
      },
      {
        "duration": 39,
        "start_time": "2025-02-25T11:28:20.721Z"
      },
      {
        "duration": 32,
        "start_time": "2025-02-25T11:28:20.762Z"
      },
      {
        "duration": 1894,
        "start_time": "2025-02-25T11:28:20.796Z"
      },
      {
        "duration": 5,
        "start_time": "2025-02-25T11:28:22.694Z"
      },
      {
        "duration": 425,
        "start_time": "2025-02-25T11:31:07.305Z"
      },
      {
        "duration": 744,
        "start_time": "2025-02-25T11:31:08.208Z"
      },
      {
        "duration": 829,
        "start_time": "2025-02-25T11:31:28.331Z"
      },
      {
        "duration": 275,
        "start_time": "2025-02-25T11:31:44.583Z"
      },
      {
        "duration": 11,
        "start_time": "2025-02-25T11:32:11.411Z"
      },
      {
        "duration": 879,
        "start_time": "2025-02-25T11:32:12.443Z"
      },
      {
        "duration": 3725,
        "start_time": "2025-02-25T11:32:35.288Z"
      },
      {
        "duration": 3226,
        "start_time": "2025-02-25T11:32:39.017Z"
      },
      {
        "duration": 4639,
        "start_time": "2025-02-25T11:32:42.246Z"
      },
      {
        "duration": 242,
        "start_time": "2025-02-25T11:32:46.887Z"
      },
      {
        "duration": 3,
        "start_time": "2025-02-25T11:32:47.132Z"
      },
      {
        "duration": 4299,
        "start_time": "2025-02-25T11:32:47.137Z"
      },
      {
        "duration": 50,
        "start_time": "2025-02-25T11:32:51.438Z"
      },
      {
        "duration": 12,
        "start_time": "2025-02-25T11:32:51.490Z"
      },
      {
        "duration": 174,
        "start_time": "2025-02-25T11:32:51.504Z"
      },
      {
        "duration": 41,
        "start_time": "2025-02-25T11:32:51.680Z"
      },
      {
        "duration": 17,
        "start_time": "2025-02-25T11:32:51.723Z"
      },
      {
        "duration": 17,
        "start_time": "2025-02-25T11:32:51.742Z"
      },
      {
        "duration": 6,
        "start_time": "2025-02-25T11:32:51.761Z"
      },
      {
        "duration": 2569,
        "start_time": "2025-02-25T11:32:51.775Z"
      },
      {
        "duration": 9,
        "start_time": "2025-02-25T11:32:54.346Z"
      },
      {
        "duration": 107,
        "start_time": "2025-02-25T11:32:54.357Z"
      },
      {
        "duration": 9,
        "start_time": "2025-02-25T11:32:54.466Z"
      },
      {
        "duration": 13,
        "start_time": "2025-02-25T11:32:54.477Z"
      },
      {
        "duration": 818,
        "start_time": "2025-02-25T11:32:54.493Z"
      },
      {
        "duration": 28,
        "start_time": "2025-02-25T11:32:55.314Z"
      },
      {
        "duration": 41,
        "start_time": "2025-02-25T11:32:55.344Z"
      },
      {
        "duration": 2024,
        "start_time": "2025-02-25T11:32:55.388Z"
      },
      {
        "duration": 3,
        "start_time": "2025-02-25T11:32:57.414Z"
      },
      {
        "duration": 4,
        "start_time": "2025-02-25T11:36:48.078Z"
      },
      {
        "duration": 2265,
        "start_time": "2025-02-25T11:36:50.316Z"
      },
      {
        "duration": 26,
        "start_time": "2025-02-25T11:36:52.583Z"
      },
      {
        "duration": 24,
        "start_time": "2025-02-25T11:36:52.611Z"
      },
      {
        "duration": 1774,
        "start_time": "2025-02-25T11:36:53.222Z"
      },
      {
        "duration": 130198,
        "start_time": "2025-02-25T11:37:06.370Z"
      },
      {
        "duration": 27,
        "start_time": "2025-02-25T11:39:16.576Z"
      },
      {
        "duration": 17,
        "start_time": "2025-02-25T11:39:16.604Z"
      },
      {
        "duration": 1949,
        "start_time": "2025-02-25T11:46:10.911Z"
      },
      {
        "duration": 3877,
        "start_time": "2025-02-25T11:47:00.495Z"
      },
      {
        "duration": 3251,
        "start_time": "2025-02-25T11:47:04.375Z"
      },
      {
        "duration": 4487,
        "start_time": "2025-02-25T11:47:07.628Z"
      },
      {
        "duration": 267,
        "start_time": "2025-02-25T11:47:12.117Z"
      },
      {
        "duration": 6,
        "start_time": "2025-02-25T11:47:12.389Z"
      },
      {
        "duration": 3531,
        "start_time": "2025-02-25T11:47:12.396Z"
      },
      {
        "duration": 49,
        "start_time": "2025-02-25T11:47:15.929Z"
      },
      {
        "duration": 12,
        "start_time": "2025-02-25T11:47:15.984Z"
      },
      {
        "duration": 163,
        "start_time": "2025-02-25T11:47:15.998Z"
      },
      {
        "duration": 37,
        "start_time": "2025-02-25T11:47:16.163Z"
      },
      {
        "duration": 11,
        "start_time": "2025-02-25T11:47:16.202Z"
      },
      {
        "duration": 23,
        "start_time": "2025-02-25T11:47:16.215Z"
      },
      {
        "duration": 3,
        "start_time": "2025-02-25T11:47:16.240Z"
      },
      {
        "duration": 1022,
        "start_time": "2025-02-25T11:47:16.246Z"
      },
      {
        "duration": 22,
        "start_time": "2025-02-25T11:47:17.270Z"
      },
      {
        "duration": 103,
        "start_time": "2025-02-25T11:47:17.298Z"
      },
      {
        "duration": 3,
        "start_time": "2025-02-25T11:47:17.403Z"
      },
      {
        "duration": 8,
        "start_time": "2025-02-25T11:47:17.407Z"
      },
      {
        "duration": 105205,
        "start_time": "2025-02-25T11:47:17.417Z"
      },
      {
        "duration": 20,
        "start_time": "2025-02-25T11:49:02.624Z"
      },
      {
        "duration": 49,
        "start_time": "2025-02-25T11:49:02.646Z"
      },
      {
        "duration": 1851,
        "start_time": "2025-02-25T11:49:02.698Z"
      },
      {
        "duration": 3,
        "start_time": "2025-02-25T11:49:04.550Z"
      },
      {
        "duration": 3694,
        "start_time": "2025-02-25T19:53:00.837Z"
      },
      {
        "duration": 7178,
        "start_time": "2025-02-25T19:57:42.092Z"
      },
      {
        "duration": 3305,
        "start_time": "2025-02-25T19:57:49.272Z"
      },
      {
        "duration": 2698,
        "start_time": "2025-02-25T19:57:52.579Z"
      },
      {
        "duration": 296,
        "start_time": "2025-02-25T19:57:55.279Z"
      },
      {
        "duration": 3,
        "start_time": "2025-02-25T19:57:55.576Z"
      },
      {
        "duration": 2243,
        "start_time": "2025-02-25T19:57:55.580Z"
      },
      {
        "duration": 28,
        "start_time": "2025-02-25T19:57:57.825Z"
      },
      {
        "duration": 110,
        "start_time": "2025-02-25T19:57:57.854Z"
      },
      {
        "duration": 122,
        "start_time": "2025-02-25T19:57:57.965Z"
      },
      {
        "duration": 29,
        "start_time": "2025-02-25T19:57:58.089Z"
      },
      {
        "duration": 9,
        "start_time": "2025-02-25T19:57:58.119Z"
      },
      {
        "duration": 5,
        "start_time": "2025-02-25T19:57:58.129Z"
      },
      {
        "duration": 5,
        "start_time": "2025-02-25T19:57:58.135Z"
      },
      {
        "duration": 790,
        "start_time": "2025-02-25T19:57:58.141Z"
      },
      {
        "duration": 7,
        "start_time": "2025-02-25T19:57:58.932Z"
      },
      {
        "duration": 72,
        "start_time": "2025-02-25T19:57:58.941Z"
      },
      {
        "duration": 3,
        "start_time": "2025-02-25T19:57:59.015Z"
      },
      {
        "duration": 25,
        "start_time": "2025-02-25T19:57:59.019Z"
      },
      {
        "duration": 657,
        "start_time": "2025-02-25T19:57:59.046Z"
      },
      {
        "duration": 19,
        "start_time": "2025-02-25T19:57:59.704Z"
      },
      {
        "duration": 16,
        "start_time": "2025-02-25T19:57:59.724Z"
      },
      {
        "duration": 1516,
        "start_time": "2025-02-25T19:57:59.741Z"
      },
      {
        "duration": 17,
        "start_time": "2025-02-25T19:58:01.259Z"
      },
      {
        "duration": 2,
        "start_time": "2025-02-25T19:58:01.277Z"
      },
      {
        "duration": 5114,
        "start_time": "2025-02-25T19:58:01.281Z"
      },
      {
        "duration": 3,
        "start_time": "2025-02-25T19:58:06.396Z"
      },
      {
        "duration": 4949,
        "start_time": "2025-02-25T19:58:06.401Z"
      },
      {
        "duration": 658,
        "start_time": "2025-02-25T19:58:11.353Z"
      },
      {
        "duration": 48,
        "start_time": "2025-02-25T19:59:04.411Z"
      },
      {
        "duration": 2937,
        "start_time": "2025-02-25T19:59:22.027Z"
      },
      {
        "duration": 2691,
        "start_time": "2025-02-25T19:59:24.967Z"
      },
      {
        "duration": 3234,
        "start_time": "2025-02-25T19:59:27.660Z"
      },
      {
        "duration": 253,
        "start_time": "2025-02-25T19:59:30.895Z"
      },
      {
        "duration": 3,
        "start_time": "2025-02-25T19:59:31.150Z"
      },
      {
        "duration": 2841,
        "start_time": "2025-02-25T19:59:31.154Z"
      },
      {
        "duration": 43,
        "start_time": "2025-02-25T19:59:33.998Z"
      },
      {
        "duration": 118,
        "start_time": "2025-02-25T19:59:34.043Z"
      },
      {
        "duration": 127,
        "start_time": "2025-02-25T19:59:34.162Z"
      },
      {
        "duration": 29,
        "start_time": "2025-02-25T19:59:34.291Z"
      },
      {
        "duration": 17,
        "start_time": "2025-02-25T19:59:34.322Z"
      },
      {
        "duration": 19,
        "start_time": "2025-02-25T19:59:34.341Z"
      },
      {
        "duration": 6,
        "start_time": "2025-02-25T19:59:34.362Z"
      },
      {
        "duration": 797,
        "start_time": "2025-02-25T19:59:34.370Z"
      },
      {
        "duration": 8,
        "start_time": "2025-02-25T19:59:35.169Z"
      },
      {
        "duration": 86,
        "start_time": "2025-02-25T19:59:35.178Z"
      },
      {
        "duration": 9,
        "start_time": "2025-02-25T19:59:35.266Z"
      },
      {
        "duration": 24,
        "start_time": "2025-02-25T19:59:35.276Z"
      },
      {
        "duration": 580,
        "start_time": "2025-02-25T19:59:35.301Z"
      },
      {
        "duration": 19,
        "start_time": "2025-02-25T19:59:35.882Z"
      },
      {
        "duration": 23,
        "start_time": "2025-02-25T19:59:35.903Z"
      },
      {
        "duration": 1438,
        "start_time": "2025-02-25T19:59:35.927Z"
      },
      {
        "duration": 16,
        "start_time": "2025-02-25T19:59:37.366Z"
      },
      {
        "duration": 4,
        "start_time": "2025-02-25T20:00:17.572Z"
      },
      {
        "duration": 5,
        "start_time": "2025-02-25T20:00:27.666Z"
      },
      {
        "duration": 20,
        "start_time": "2025-02-25T20:00:56.357Z"
      },
      {
        "duration": 20,
        "start_time": "2025-02-25T20:01:14.894Z"
      },
      {
        "duration": 2,
        "start_time": "2025-02-25T20:01:33.470Z"
      },
      {
        "duration": 3577,
        "start_time": "2025-02-25T20:01:33.474Z"
      },
      {
        "duration": 3,
        "start_time": "2025-02-25T20:01:37.053Z"
      },
      {
        "duration": 4588,
        "start_time": "2025-02-25T20:01:37.057Z"
      },
      {
        "duration": 330,
        "start_time": "2025-02-25T20:01:45.833Z"
      },
      {
        "duration": 2968,
        "start_time": "2025-02-25T20:03:17.646Z"
      },
      {
        "duration": 2706,
        "start_time": "2025-02-25T20:03:20.617Z"
      },
      {
        "duration": 2808,
        "start_time": "2025-02-25T20:03:23.324Z"
      },
      {
        "duration": 239,
        "start_time": "2025-02-25T20:03:26.134Z"
      },
      {
        "duration": 2,
        "start_time": "2025-02-25T20:03:26.375Z"
      },
      {
        "duration": 2582,
        "start_time": "2025-02-25T20:03:26.379Z"
      },
      {
        "duration": 33,
        "start_time": "2025-02-25T20:03:28.963Z"
      },
      {
        "duration": 104,
        "start_time": "2025-02-25T20:03:28.998Z"
      },
      {
        "duration": 162,
        "start_time": "2025-02-25T20:03:29.104Z"
      },
      {
        "duration": 29,
        "start_time": "2025-02-25T20:03:29.267Z"
      },
      {
        "duration": 7,
        "start_time": "2025-02-25T20:03:29.298Z"
      },
      {
        "duration": 12,
        "start_time": "2025-02-25T20:03:29.306Z"
      },
      {
        "duration": 11,
        "start_time": "2025-02-25T20:03:29.319Z"
      },
      {
        "duration": 737,
        "start_time": "2025-02-25T20:03:29.332Z"
      },
      {
        "duration": 8,
        "start_time": "2025-02-25T20:03:30.071Z"
      },
      {
        "duration": 88,
        "start_time": "2025-02-25T20:03:30.080Z"
      },
      {
        "duration": 3,
        "start_time": "2025-02-25T20:03:30.170Z"
      },
      {
        "duration": 39,
        "start_time": "2025-02-25T20:03:30.175Z"
      },
      {
        "duration": 187113,
        "start_time": "2025-02-25T20:03:30.215Z"
      },
      {
        "duration": 23,
        "start_time": "2025-02-25T20:06:37.330Z"
      },
      {
        "duration": 50,
        "start_time": "2025-02-25T20:06:37.354Z"
      },
      {
        "duration": 1398,
        "start_time": "2025-02-25T20:06:37.405Z"
      },
      {
        "duration": 27,
        "start_time": "2025-02-25T20:06:38.804Z"
      },
      {
        "duration": 5,
        "start_time": "2025-02-25T20:06:38.832Z"
      },
      {
        "duration": 4372,
        "start_time": "2025-02-25T20:06:38.839Z"
      },
      {
        "duration": 3,
        "start_time": "2025-02-25T20:06:43.213Z"
      },
      {
        "duration": 4808,
        "start_time": "2025-02-25T20:06:43.217Z"
      },
      {
        "duration": 326,
        "start_time": "2025-02-25T20:06:48.027Z"
      },
      {
        "duration": 4171,
        "start_time": "2025-02-25T20:06:48.354Z"
      },
      {
        "duration": 489,
        "start_time": "2025-02-25T20:06:52.527Z"
      },
      {
        "duration": 131840,
        "start_time": "2025-02-25T20:06:53.018Z"
      },
      {
        "duration": 0,
        "start_time": "2025-02-25T20:09:04.860Z"
      },
      {
        "duration": 45933,
        "start_time": "2025-02-25T20:09:11.197Z"
      },
      {
        "duration": 570,
        "start_time": "2025-02-25T20:10:18.469Z"
      },
      {
        "duration": 128546,
        "start_time": "2025-02-25T20:10:27.885Z"
      },
      {
        "duration": 2876,
        "start_time": "2025-02-25T20:12:54.288Z"
      },
      {
        "duration": 2427,
        "start_time": "2025-02-25T20:12:57.166Z"
      },
      {
        "duration": 3874,
        "start_time": "2025-02-25T20:12:59.595Z"
      },
      {
        "duration": 172,
        "start_time": "2025-02-25T20:13:03.471Z"
      },
      {
        "duration": 2,
        "start_time": "2025-02-25T20:13:03.645Z"
      },
      {
        "duration": 2349,
        "start_time": "2025-02-25T20:13:03.649Z"
      },
      {
        "duration": 39,
        "start_time": "2025-02-25T20:13:05.999Z"
      },
      {
        "duration": 109,
        "start_time": "2025-02-25T20:13:06.040Z"
      },
      {
        "duration": 124,
        "start_time": "2025-02-25T20:13:06.150Z"
      },
      {
        "duration": 29,
        "start_time": "2025-02-25T20:13:06.276Z"
      },
      {
        "duration": 73,
        "start_time": "2025-02-25T20:13:06.307Z"
      },
      {
        "duration": 26,
        "start_time": "2025-02-25T20:13:06.382Z"
      },
      {
        "duration": 25,
        "start_time": "2025-02-25T20:13:06.410Z"
      },
      {
        "duration": 793,
        "start_time": "2025-02-25T20:13:06.437Z"
      },
      {
        "duration": 8,
        "start_time": "2025-02-25T20:13:07.231Z"
      },
      {
        "duration": 89,
        "start_time": "2025-02-25T20:13:07.240Z"
      },
      {
        "duration": 3,
        "start_time": "2025-02-25T20:13:07.331Z"
      },
      {
        "duration": 21,
        "start_time": "2025-02-25T20:13:07.335Z"
      },
      {
        "duration": 610,
        "start_time": "2025-02-25T20:13:07.357Z"
      },
      {
        "duration": 24,
        "start_time": "2025-02-25T20:13:07.969Z"
      },
      {
        "duration": 15,
        "start_time": "2025-02-25T20:13:07.994Z"
      },
      {
        "duration": 1441,
        "start_time": "2025-02-25T20:13:08.011Z"
      },
      {
        "duration": 17,
        "start_time": "2025-02-25T20:13:09.454Z"
      },
      {
        "duration": 2,
        "start_time": "2025-02-25T20:13:09.473Z"
      },
      {
        "duration": 3483,
        "start_time": "2025-02-25T20:13:09.476Z"
      },
      {
        "duration": 3,
        "start_time": "2025-02-25T20:13:12.960Z"
      },
      {
        "duration": 5120,
        "start_time": "2025-02-25T20:13:12.965Z"
      },
      {
        "duration": 319,
        "start_time": "2025-02-25T20:13:18.087Z"
      },
      {
        "duration": 3736,
        "start_time": "2025-02-25T20:13:18.408Z"
      },
      {
        "duration": 266,
        "start_time": "2025-02-25T20:13:22.145Z"
      },
      {
        "duration": 46127,
        "start_time": "2025-02-25T20:13:22.412Z"
      },
      {
        "duration": 402,
        "start_time": "2025-02-25T20:14:08.631Z"
      },
      {
        "duration": 130016,
        "start_time": "2025-02-25T20:14:20.054Z"
      },
      {
        "duration": 160,
        "start_time": "2025-02-25T20:16:30.072Z"
      },
      {
        "duration": 45297,
        "start_time": "2025-02-25T20:19:16.034Z"
      },
      {
        "duration": 397,
        "start_time": "2025-02-25T20:20:01.334Z"
      },
      {
        "duration": 129155,
        "start_time": "2025-02-25T20:21:41.792Z"
      },
      {
        "duration": 185,
        "start_time": "2025-02-25T20:23:50.949Z"
      },
      {
        "duration": 128643,
        "start_time": "2025-02-25T20:24:30.737Z"
      },
      {
        "duration": 317,
        "start_time": "2025-02-25T20:26:45.533Z"
      },
      {
        "duration": 56,
        "start_time": "2025-02-25T20:27:08.380Z"
      },
      {
        "duration": 21,
        "start_time": "2025-02-25T20:27:09.595Z"
      },
      {
        "duration": 20,
        "start_time": "2025-02-25T20:27:20.136Z"
      },
      {
        "duration": 127971,
        "start_time": "2025-02-25T20:27:21.928Z"
      },
      {
        "duration": 134,
        "start_time": "2025-02-25T20:29:29.901Z"
      },
      {
        "duration": 2875,
        "start_time": "2025-02-25T20:29:53.214Z"
      },
      {
        "duration": 2580,
        "start_time": "2025-02-25T20:29:56.091Z"
      },
      {
        "duration": 4007,
        "start_time": "2025-02-25T20:29:58.673Z"
      },
      {
        "duration": 178,
        "start_time": "2025-02-25T20:30:02.681Z"
      },
      {
        "duration": 3,
        "start_time": "2025-02-25T20:30:02.860Z"
      },
      {
        "duration": 2687,
        "start_time": "2025-02-25T20:30:02.864Z"
      },
      {
        "duration": 33,
        "start_time": "2025-02-25T20:30:05.553Z"
      },
      {
        "duration": 78,
        "start_time": "2025-02-25T20:30:05.587Z"
      },
      {
        "duration": 229,
        "start_time": "2025-02-25T20:30:05.666Z"
      },
      {
        "duration": 35,
        "start_time": "2025-02-25T20:30:05.898Z"
      },
      {
        "duration": 16,
        "start_time": "2025-02-25T20:30:05.935Z"
      },
      {
        "duration": 11,
        "start_time": "2025-02-25T20:30:05.953Z"
      },
      {
        "duration": 4,
        "start_time": "2025-02-25T20:30:05.966Z"
      },
      {
        "duration": 864,
        "start_time": "2025-02-25T20:30:05.971Z"
      },
      {
        "duration": 8,
        "start_time": "2025-02-25T20:30:06.837Z"
      },
      {
        "duration": 124,
        "start_time": "2025-02-25T20:30:06.846Z"
      },
      {
        "duration": 2,
        "start_time": "2025-02-25T20:30:06.972Z"
      },
      {
        "duration": 4,
        "start_time": "2025-02-25T20:30:06.976Z"
      },
      {
        "duration": 632,
        "start_time": "2025-02-25T20:30:06.981Z"
      },
      {
        "duration": 28,
        "start_time": "2025-02-25T20:30:07.614Z"
      },
      {
        "duration": 22,
        "start_time": "2025-02-25T20:30:07.643Z"
      },
      {
        "duration": 1424,
        "start_time": "2025-02-25T20:30:07.667Z"
      },
      {
        "duration": 19,
        "start_time": "2025-02-25T20:30:09.092Z"
      },
      {
        "duration": 2,
        "start_time": "2025-02-25T20:30:09.112Z"
      },
      {
        "duration": 3934,
        "start_time": "2025-02-25T20:30:09.116Z"
      },
      {
        "duration": 3,
        "start_time": "2025-02-25T20:30:13.052Z"
      },
      {
        "duration": 6416,
        "start_time": "2025-02-25T20:30:13.057Z"
      },
      {
        "duration": 325,
        "start_time": "2025-02-25T20:30:19.477Z"
      },
      {
        "duration": 4169,
        "start_time": "2025-02-25T20:30:19.803Z"
      },
      {
        "duration": 266,
        "start_time": "2025-02-25T20:30:23.974Z"
      },
      {
        "duration": 27,
        "start_time": "2025-02-25T20:30:24.242Z"
      },
      {
        "duration": 166,
        "start_time": "2025-02-25T20:30:24.270Z"
      },
      {
        "duration": 3505,
        "start_time": "2025-02-25T20:52:50.312Z"
      },
      {
        "duration": 2552,
        "start_time": "2025-02-25T20:52:53.820Z"
      },
      {
        "duration": 2715,
        "start_time": "2025-02-25T20:52:56.374Z"
      },
      {
        "duration": 254,
        "start_time": "2025-02-25T20:52:59.091Z"
      },
      {
        "duration": 2,
        "start_time": "2025-02-25T20:52:59.346Z"
      },
      {
        "duration": 2482,
        "start_time": "2025-02-25T20:52:59.350Z"
      },
      {
        "duration": 36,
        "start_time": "2025-02-25T20:53:01.834Z"
      },
      {
        "duration": 26,
        "start_time": "2025-02-25T20:53:01.872Z"
      },
      {
        "duration": 227,
        "start_time": "2025-02-25T20:53:01.899Z"
      },
      {
        "duration": 30,
        "start_time": "2025-02-25T20:53:02.131Z"
      },
      {
        "duration": 42,
        "start_time": "2025-02-25T20:53:02.163Z"
      },
      {
        "duration": 21,
        "start_time": "2025-02-25T20:53:02.207Z"
      },
      {
        "duration": 23,
        "start_time": "2025-02-25T20:53:02.230Z"
      },
      {
        "duration": 856,
        "start_time": "2025-02-25T20:53:02.254Z"
      },
      {
        "duration": 8,
        "start_time": "2025-02-25T20:53:03.112Z"
      },
      {
        "duration": 80,
        "start_time": "2025-02-25T20:53:03.122Z"
      },
      {
        "duration": 3,
        "start_time": "2025-02-25T20:53:03.204Z"
      },
      {
        "duration": 56,
        "start_time": "2025-02-25T20:53:03.208Z"
      },
      {
        "duration": 768,
        "start_time": "2025-02-25T20:53:03.266Z"
      },
      {
        "duration": 18,
        "start_time": "2025-02-25T20:53:04.035Z"
      },
      {
        "duration": 1431,
        "start_time": "2025-02-25T20:53:04.055Z"
      },
      {
        "duration": 19,
        "start_time": "2025-02-25T20:53:05.487Z"
      },
      {
        "duration": 5,
        "start_time": "2025-02-25T20:53:05.507Z"
      },
      {
        "duration": 3399,
        "start_time": "2025-02-25T20:53:05.513Z"
      },
      {
        "duration": 4,
        "start_time": "2025-02-25T20:53:08.914Z"
      },
      {
        "duration": 5488,
        "start_time": "2025-02-25T20:53:08.919Z"
      },
      {
        "duration": 321,
        "start_time": "2025-02-25T20:53:14.409Z"
      },
      {
        "duration": 6439,
        "start_time": "2025-02-25T20:53:14.733Z"
      },
      {
        "duration": 265,
        "start_time": "2025-02-25T20:53:21.173Z"
      },
      {
        "duration": 18,
        "start_time": "2025-02-25T20:53:21.440Z"
      },
      {
        "duration": 85,
        "start_time": "2025-02-25T20:53:21.460Z"
      },
      {
        "duration": 95,
        "start_time": "2025-02-26T05:32:36.010Z"
      },
      {
        "duration": 6528,
        "start_time": "2025-02-26T05:46:46.629Z"
      },
      {
        "duration": 3167,
        "start_time": "2025-02-26T05:46:53.159Z"
      },
      {
        "duration": 2900,
        "start_time": "2025-02-26T05:46:56.328Z"
      },
      {
        "duration": 304,
        "start_time": "2025-02-26T05:46:59.230Z"
      },
      {
        "duration": 2,
        "start_time": "2025-02-26T05:46:59.537Z"
      },
      {
        "duration": 2717,
        "start_time": "2025-02-26T05:46:59.540Z"
      },
      {
        "duration": 33,
        "start_time": "2025-02-26T05:47:02.259Z"
      },
      {
        "duration": 115,
        "start_time": "2025-02-26T05:47:02.294Z"
      },
      {
        "duration": 134,
        "start_time": "2025-02-26T05:47:02.410Z"
      },
      {
        "duration": 29,
        "start_time": "2025-02-26T05:47:02.545Z"
      },
      {
        "duration": 26,
        "start_time": "2025-02-26T05:47:02.575Z"
      },
      {
        "duration": 27,
        "start_time": "2025-02-26T05:47:02.603Z"
      },
      {
        "duration": 54,
        "start_time": "2025-02-26T05:47:02.631Z"
      },
      {
        "duration": 214,
        "start_time": "2025-02-26T05:47:36.861Z"
      },
      {
        "duration": 475,
        "start_time": "2025-02-26T05:48:08.689Z"
      },
      {
        "duration": 1343,
        "start_time": "2025-02-26T05:48:14.300Z"
      },
      {
        "duration": 5,
        "start_time": "2025-02-26T05:52:23.194Z"
      },
      {
        "duration": 38,
        "start_time": "2025-02-26T05:52:25.395Z"
      },
      {
        "duration": 5,
        "start_time": "2025-02-26T05:53:46.241Z"
      },
      {
        "duration": 56,
        "start_time": "2025-02-26T05:53:47.631Z"
      },
      {
        "duration": 5,
        "start_time": "2025-02-26T05:54:35.258Z"
      },
      {
        "duration": 49,
        "start_time": "2025-02-26T05:54:35.835Z"
      },
      {
        "duration": 5,
        "start_time": "2025-02-26T05:54:49.372Z"
      },
      {
        "duration": 51,
        "start_time": "2025-02-26T05:54:49.885Z"
      },
      {
        "duration": 5,
        "start_time": "2025-02-26T05:55:24.478Z"
      },
      {
        "duration": 39,
        "start_time": "2025-02-26T05:55:25.385Z"
      },
      {
        "duration": 6,
        "start_time": "2025-02-26T05:55:53.150Z"
      },
      {
        "duration": 34,
        "start_time": "2025-02-26T05:55:53.948Z"
      },
      {
        "duration": 6,
        "start_time": "2025-02-26T05:56:15.195Z"
      },
      {
        "duration": 55,
        "start_time": "2025-02-26T05:56:15.742Z"
      },
      {
        "duration": 5,
        "start_time": "2025-02-26T05:56:53.260Z"
      },
      {
        "duration": 52,
        "start_time": "2025-02-26T05:56:53.732Z"
      },
      {
        "duration": 5,
        "start_time": "2025-02-26T05:56:57.587Z"
      },
      {
        "duration": 36,
        "start_time": "2025-02-26T05:56:58.028Z"
      },
      {
        "duration": 6,
        "start_time": "2025-02-26T05:57:17.135Z"
      },
      {
        "duration": 56,
        "start_time": "2025-02-26T05:57:17.664Z"
      },
      {
        "duration": 5,
        "start_time": "2025-02-26T05:57:52.821Z"
      },
      {
        "duration": 63,
        "start_time": "2025-02-26T05:57:53.415Z"
      },
      {
        "duration": 5,
        "start_time": "2025-02-26T05:58:15.213Z"
      },
      {
        "duration": 46,
        "start_time": "2025-02-26T05:58:16.149Z"
      },
      {
        "duration": 9,
        "start_time": "2025-02-26T05:58:50.876Z"
      },
      {
        "duration": 37,
        "start_time": "2025-02-26T05:58:51.697Z"
      },
      {
        "duration": 2953,
        "start_time": "2025-02-26T06:00:30.715Z"
      },
      {
        "duration": 2656,
        "start_time": "2025-02-26T06:00:33.670Z"
      },
      {
        "duration": 2835,
        "start_time": "2025-02-26T06:00:36.330Z"
      },
      {
        "duration": 205,
        "start_time": "2025-02-26T06:00:39.167Z"
      },
      {
        "duration": 2,
        "start_time": "2025-02-26T06:00:39.374Z"
      },
      {
        "duration": 2576,
        "start_time": "2025-02-26T06:00:39.377Z"
      },
      {
        "duration": 27,
        "start_time": "2025-02-26T06:00:41.954Z"
      },
      {
        "duration": 118,
        "start_time": "2025-02-26T06:00:41.983Z"
      },
      {
        "duration": 138,
        "start_time": "2025-02-26T06:00:42.103Z"
      },
      {
        "duration": 29,
        "start_time": "2025-02-26T06:00:42.243Z"
      },
      {
        "duration": 19,
        "start_time": "2025-02-26T06:00:42.273Z"
      },
      {
        "duration": 11,
        "start_time": "2025-02-26T06:00:42.293Z"
      },
      {
        "duration": 11,
        "start_time": "2025-02-26T06:00:42.306Z"
      },
      {
        "duration": 7334,
        "start_time": "2025-02-26T06:00:42.319Z"
      },
      {
        "duration": 0,
        "start_time": "2025-02-26T06:00:49.655Z"
      },
      {
        "duration": 2923,
        "start_time": "2025-02-26T06:03:16.956Z"
      },
      {
        "duration": 2653,
        "start_time": "2025-02-26T06:03:19.881Z"
      },
      {
        "duration": 2973,
        "start_time": "2025-02-26T06:03:22.536Z"
      },
      {
        "duration": 22,
        "start_time": "2025-02-26T06:03:25.512Z"
      },
      {
        "duration": 7,
        "start_time": "2025-02-26T06:03:25.537Z"
      },
      {
        "duration": 14,
        "start_time": "2025-02-26T06:03:25.545Z"
      },
      {
        "duration": 2031,
        "start_time": "2025-02-26T06:03:25.561Z"
      },
      {
        "duration": 39,
        "start_time": "2025-02-26T06:03:27.594Z"
      },
      {
        "duration": 7,
        "start_time": "2025-02-26T06:03:27.634Z"
      },
      {
        "duration": 129,
        "start_time": "2025-02-26T06:03:27.643Z"
      },
      {
        "duration": 61,
        "start_time": "2025-02-26T06:03:27.774Z"
      },
      {
        "duration": 3,
        "start_time": "2025-02-26T06:03:27.837Z"
      },
      {
        "duration": 12,
        "start_time": "2025-02-26T06:03:27.841Z"
      },
      {
        "duration": 65,
        "start_time": "2025-02-26T06:03:27.855Z"
      },
      {
        "duration": 891,
        "start_time": "2025-02-26T06:03:27.921Z"
      },
      {
        "duration": 7,
        "start_time": "2025-02-26T06:03:28.814Z"
      },
      {
        "duration": 64,
        "start_time": "2025-02-26T06:03:28.830Z"
      },
      {
        "duration": 29301,
        "start_time": "2025-02-26T06:03:28.896Z"
      },
      {
        "duration": 3622,
        "start_time": "2025-02-26T06:05:44.137Z"
      },
      {
        "duration": 2645,
        "start_time": "2025-02-26T06:05:47.761Z"
      },
      {
        "duration": 2302,
        "start_time": "2025-02-26T06:05:50.408Z"
      },
      {
        "duration": 4209,
        "start_time": "2025-02-26T06:05:52.712Z"
      },
      {
        "duration": 4334,
        "start_time": "2025-02-26T06:05:56.923Z"
      },
      {
        "duration": 188,
        "start_time": "2025-02-26T06:06:01.259Z"
      },
      {
        "duration": 3,
        "start_time": "2025-02-26T06:06:01.450Z"
      },
      {
        "duration": 1964,
        "start_time": "2025-02-26T06:06:01.454Z"
      },
      {
        "duration": 145,
        "start_time": "2025-02-26T06:06:03.420Z"
      },
      {
        "duration": 9,
        "start_time": "2025-02-26T06:06:03.566Z"
      },
      {
        "duration": 140,
        "start_time": "2025-02-26T06:06:03.576Z"
      },
      {
        "duration": 36,
        "start_time": "2025-02-26T06:06:03.718Z"
      },
      {
        "duration": 55,
        "start_time": "2025-02-26T06:06:03.756Z"
      },
      {
        "duration": 23,
        "start_time": "2025-02-26T06:06:03.813Z"
      },
      {
        "duration": 11,
        "start_time": "2025-02-26T06:06:03.837Z"
      },
      {
        "duration": 834,
        "start_time": "2025-02-26T06:06:03.850Z"
      },
      {
        "duration": 8,
        "start_time": "2025-02-26T06:06:04.685Z"
      },
      {
        "duration": 76,
        "start_time": "2025-02-26T06:06:04.694Z"
      },
      {
        "duration": 28888,
        "start_time": "2025-02-26T06:06:04.772Z"
      },
      {
        "duration": 3133,
        "start_time": "2025-02-26T06:06:56.126Z"
      },
      {
        "duration": 30138,
        "start_time": "2025-02-26T06:07:21.906Z"
      },
      {
        "duration": 2992,
        "start_time": "2025-02-26T06:09:06.583Z"
      },
      {
        "duration": 2622,
        "start_time": "2025-02-26T06:09:09.578Z"
      },
      {
        "duration": 2302,
        "start_time": "2025-02-26T06:09:12.202Z"
      },
      {
        "duration": 3870,
        "start_time": "2025-02-26T06:09:14.506Z"
      },
      {
        "duration": 254,
        "start_time": "2025-02-26T06:09:18.378Z"
      },
      {
        "duration": 2,
        "start_time": "2025-02-26T06:09:18.634Z"
      },
      {
        "duration": 1977,
        "start_time": "2025-02-26T06:09:18.638Z"
      },
      {
        "duration": 146,
        "start_time": "2025-02-26T06:09:20.617Z"
      },
      {
        "duration": 9,
        "start_time": "2025-02-26T06:09:20.765Z"
      },
      {
        "duration": 130,
        "start_time": "2025-02-26T06:09:20.776Z"
      },
      {
        "duration": 32,
        "start_time": "2025-02-26T06:09:20.908Z"
      },
      {
        "duration": 44,
        "start_time": "2025-02-26T06:09:20.942Z"
      },
      {
        "duration": 8,
        "start_time": "2025-02-26T06:09:20.988Z"
      },
      {
        "duration": 36,
        "start_time": "2025-02-26T06:09:20.999Z"
      },
      {
        "duration": 793,
        "start_time": "2025-02-26T06:09:21.037Z"
      },
      {
        "duration": 9,
        "start_time": "2025-02-26T06:09:21.831Z"
      },
      {
        "duration": 66,
        "start_time": "2025-02-26T06:09:21.842Z"
      },
      {
        "duration": 29823,
        "start_time": "2025-02-26T06:09:21.909Z"
      },
      {
        "duration": 3,
        "start_time": "2025-02-26T06:10:09.456Z"
      },
      {
        "duration": 32,
        "start_time": "2025-02-26T06:10:42.138Z"
      },
      {
        "duration": 156,
        "start_time": "2025-02-26T06:11:39.178Z"
      },
      {
        "duration": 29411,
        "start_time": "2025-02-26T06:12:06.098Z"
      },
      {
        "duration": 201,
        "start_time": "2025-02-26T06:12:35.511Z"
      },
      {
        "duration": 74,
        "start_time": "2025-02-26T06:13:32.272Z"
      },
      {
        "duration": 199,
        "start_time": "2025-02-26T06:13:35.445Z"
      },
      {
        "duration": 1042,
        "start_time": "2025-02-26T06:14:08.185Z"
      },
      {
        "duration": 981,
        "start_time": "2025-02-26T06:14:16.681Z"
      },
      {
        "duration": 68,
        "start_time": "2025-02-26T06:14:21.952Z"
      },
      {
        "duration": 37,
        "start_time": "2025-02-26T06:14:33.734Z"
      },
      {
        "duration": 82,
        "start_time": "2025-02-26T06:16:42.776Z"
      },
      {
        "duration": 30273,
        "start_time": "2025-02-26T06:16:43.390Z"
      },
      {
        "duration": 408,
        "start_time": "2025-02-26T06:17:18.107Z"
      },
      {
        "duration": 220,
        "start_time": "2025-02-26T06:18:53.522Z"
      },
      {
        "duration": 211,
        "start_time": "2025-02-26T06:19:01.593Z"
      },
      {
        "duration": 408,
        "start_time": "2025-02-26T06:19:17.177Z"
      },
      {
        "duration": 406,
        "start_time": "2025-02-26T06:19:27.906Z"
      },
      {
        "duration": 28325,
        "start_time": "2025-02-26T06:21:46.827Z"
      },
      {
        "duration": 435,
        "start_time": "2025-02-26T06:22:15.155Z"
      },
      {
        "duration": 793,
        "start_time": "2025-02-26T07:19:34.247Z"
      },
      {
        "duration": 74,
        "start_time": "2025-02-26T07:19:36.919Z"
      },
      {
        "duration": 83,
        "start_time": "2025-02-26T07:19:47.916Z"
      },
      {
        "duration": 1040,
        "start_time": "2025-02-26T07:21:09.182Z"
      },
      {
        "duration": 9461,
        "start_time": "2025-02-26T07:21:27.012Z"
      },
      {
        "duration": 1266,
        "start_time": "2025-02-26T07:21:52.788Z"
      },
      {
        "duration": 9691,
        "start_time": "2025-02-26T07:21:55.713Z"
      },
      {
        "duration": 787,
        "start_time": "2025-02-26T07:22:14.152Z"
      },
      {
        "duration": 9419,
        "start_time": "2025-02-26T07:22:16.238Z"
      },
      {
        "duration": 3766,
        "start_time": "2025-02-26T07:28:25.403Z"
      },
      {
        "duration": 2666,
        "start_time": "2025-02-26T07:28:29.171Z"
      },
      {
        "duration": 2348,
        "start_time": "2025-02-26T07:28:31.839Z"
      },
      {
        "duration": 3957,
        "start_time": "2025-02-26T07:28:34.189Z"
      },
      {
        "duration": 255,
        "start_time": "2025-02-26T07:28:38.148Z"
      },
      {
        "duration": 2,
        "start_time": "2025-02-26T07:28:38.405Z"
      },
      {
        "duration": 2254,
        "start_time": "2025-02-26T07:28:38.409Z"
      },
      {
        "duration": 135,
        "start_time": "2025-02-26T07:28:40.664Z"
      },
      {
        "duration": 8,
        "start_time": "2025-02-26T07:28:40.800Z"
      },
      {
        "duration": 169,
        "start_time": "2025-02-26T07:28:40.810Z"
      },
      {
        "duration": 29,
        "start_time": "2025-02-26T07:28:40.981Z"
      },
      {
        "duration": 32,
        "start_time": "2025-02-26T07:28:41.011Z"
      },
      {
        "duration": 23,
        "start_time": "2025-02-26T07:28:41.045Z"
      },
      {
        "duration": 13,
        "start_time": "2025-02-26T07:28:41.072Z"
      },
      {
        "duration": 349651,
        "start_time": "2025-02-26T07:28:41.086Z"
      },
      {
        "duration": 10,
        "start_time": "2025-02-26T07:34:30.739Z"
      },
      {
        "duration": 231,
        "start_time": "2025-02-26T07:34:30.751Z"
      },
      {
        "duration": 7594,
        "start_time": "2025-02-26T07:34:30.984Z"
      },
      {
        "duration": 469,
        "start_time": "2025-02-26T07:34:38.579Z"
      },
      {
        "duration": 56,
        "start_time": "2025-02-26T07:34:39.050Z"
      },
      {
        "duration": 3,
        "start_time": "2025-02-26T07:34:39.107Z"
      },
      {
        "duration": 25,
        "start_time": "2025-02-26T07:34:39.112Z"
      },
      {
        "duration": 195652,
        "start_time": "2025-02-26T07:34:39.142Z"
      },
      {
        "duration": 17,
        "start_time": "2025-02-26T07:37:54.795Z"
      },
      {
        "duration": 1416,
        "start_time": "2025-02-26T07:37:54.814Z"
      },
      {
        "duration": 18,
        "start_time": "2025-02-26T07:37:56.232Z"
      },
      {
        "duration": 56,
        "start_time": "2025-02-26T07:37:56.252Z"
      },
      {
        "duration": 5031,
        "start_time": "2025-02-26T07:37:56.310Z"
      },
      {
        "duration": 3,
        "start_time": "2025-02-26T07:38:01.343Z"
      },
      {
        "duration": 6189,
        "start_time": "2025-02-26T07:38:01.348Z"
      },
      {
        "duration": 338,
        "start_time": "2025-02-26T07:38:07.538Z"
      },
      {
        "duration": 4012,
        "start_time": "2025-02-26T07:38:07.877Z"
      },
      {
        "duration": 290,
        "start_time": "2025-02-26T07:38:11.892Z"
      },
      {
        "duration": 44,
        "start_time": "2025-02-26T07:38:12.183Z"
      },
      {
        "duration": 204,
        "start_time": "2025-02-26T07:38:12.228Z"
      },
      {
        "duration": 3525,
        "start_time": "2025-02-26T09:05:45.710Z"
      },
      {
        "duration": 3079,
        "start_time": "2025-02-26T09:05:49.238Z"
      },
      {
        "duration": 2237,
        "start_time": "2025-02-26T09:05:52.319Z"
      },
      {
        "duration": 3917,
        "start_time": "2025-02-26T09:05:54.558Z"
      },
      {
        "duration": 258,
        "start_time": "2025-02-26T09:05:58.477Z"
      },
      {
        "duration": 3,
        "start_time": "2025-02-26T09:05:58.736Z"
      },
      {
        "duration": 2342,
        "start_time": "2025-02-26T09:05:58.740Z"
      },
      {
        "duration": 132,
        "start_time": "2025-02-26T09:06:01.084Z"
      },
      {
        "duration": 13,
        "start_time": "2025-02-26T09:06:01.217Z"
      },
      {
        "duration": 120,
        "start_time": "2025-02-26T09:06:01.232Z"
      },
      {
        "duration": 31,
        "start_time": "2025-02-26T09:06:01.354Z"
      },
      {
        "duration": 48,
        "start_time": "2025-02-26T09:06:01.386Z"
      },
      {
        "duration": 28,
        "start_time": "2025-02-26T09:06:01.436Z"
      },
      {
        "duration": 38,
        "start_time": "2025-02-26T09:06:01.467Z"
      },
      {
        "duration": 826,
        "start_time": "2025-02-26T09:06:01.507Z"
      },
      {
        "duration": 8,
        "start_time": "2025-02-26T09:06:02.335Z"
      },
      {
        "duration": 156,
        "start_time": "2025-02-26T09:06:02.344Z"
      },
      {
        "duration": 11641,
        "start_time": "2025-02-26T09:06:02.502Z"
      },
      {
        "duration": 361,
        "start_time": "2025-02-26T09:06:14.145Z"
      },
      {
        "duration": 55,
        "start_time": "2025-02-26T09:06:14.507Z"
      },
      {
        "duration": 4,
        "start_time": "2025-02-26T09:06:14.563Z"
      },
      {
        "duration": 65,
        "start_time": "2025-02-26T09:06:14.568Z"
      },
      {
        "duration": 640,
        "start_time": "2025-02-26T09:06:14.634Z"
      },
      {
        "duration": 18,
        "start_time": "2025-02-26T09:06:15.276Z"
      },
      {
        "duration": 3081,
        "start_time": "2025-02-26T09:06:15.296Z"
      },
      {
        "duration": 22,
        "start_time": "2025-02-26T09:06:18.379Z"
      },
      {
        "duration": 3,
        "start_time": "2025-02-26T09:06:18.402Z"
      },
      {
        "duration": 3675,
        "start_time": "2025-02-26T09:06:18.407Z"
      },
      {
        "duration": 4,
        "start_time": "2025-02-26T09:06:22.084Z"
      },
      {
        "duration": 5215,
        "start_time": "2025-02-26T09:06:22.090Z"
      },
      {
        "duration": 318,
        "start_time": "2025-02-26T09:06:27.307Z"
      },
      {
        "duration": 49,
        "start_time": "2025-02-26T09:08:34.557Z"
      },
      {
        "duration": 2924,
        "start_time": "2025-02-26T09:08:40.988Z"
      },
      {
        "duration": 2544,
        "start_time": "2025-02-26T09:08:43.914Z"
      },
      {
        "duration": 7046,
        "start_time": "2025-02-26T09:08:46.460Z"
      },
      {
        "duration": 3363,
        "start_time": "2025-02-26T09:08:53.507Z"
      },
      {
        "duration": 370,
        "start_time": "2025-02-26T09:08:56.873Z"
      },
      {
        "duration": 3,
        "start_time": "2025-02-26T09:08:57.245Z"
      },
      {
        "duration": 2249,
        "start_time": "2025-02-26T09:08:57.249Z"
      },
      {
        "duration": 30,
        "start_time": "2025-02-26T09:08:59.500Z"
      },
      {
        "duration": 8,
        "start_time": "2025-02-26T09:08:59.531Z"
      },
      {
        "duration": 163,
        "start_time": "2025-02-26T09:08:59.541Z"
      },
      {
        "duration": 30,
        "start_time": "2025-02-26T09:08:59.706Z"
      },
      {
        "duration": 4,
        "start_time": "2025-02-26T09:08:59.738Z"
      },
      {
        "duration": 7,
        "start_time": "2025-02-26T09:08:59.743Z"
      },
      {
        "duration": 11,
        "start_time": "2025-02-26T09:08:59.752Z"
      },
      {
        "duration": 709,
        "start_time": "2025-02-26T09:08:59.764Z"
      },
      {
        "duration": 7,
        "start_time": "2025-02-26T09:09:00.475Z"
      },
      {
        "duration": 605,
        "start_time": "2025-02-26T09:09:18.103Z"
      },
      {
        "duration": 7,
        "start_time": "2025-02-26T09:09:20.087Z"
      },
      {
        "duration": 679,
        "start_time": "2025-02-26T09:10:45.623Z"
      },
      {
        "duration": 7,
        "start_time": "2025-02-26T09:10:47.738Z"
      },
      {
        "duration": 4830,
        "start_time": "2025-02-26T09:11:36.428Z"
      },
      {
        "duration": 3863,
        "start_time": "2025-02-26T09:12:07.308Z"
      },
      {
        "duration": 2713,
        "start_time": "2025-02-26T09:12:11.173Z"
      },
      {
        "duration": 6212,
        "start_time": "2025-02-26T09:12:13.889Z"
      },
      {
        "duration": 2988,
        "start_time": "2025-02-26T09:12:20.103Z"
      },
      {
        "duration": 359,
        "start_time": "2025-02-26T09:12:23.093Z"
      },
      {
        "duration": 3,
        "start_time": "2025-02-26T09:12:23.454Z"
      },
      {
        "duration": 2495,
        "start_time": "2025-02-26T09:12:23.459Z"
      },
      {
        "duration": 30,
        "start_time": "2025-02-26T09:12:25.955Z"
      },
      {
        "duration": 50,
        "start_time": "2025-02-26T09:12:25.986Z"
      },
      {
        "duration": 142,
        "start_time": "2025-02-26T09:12:26.038Z"
      },
      {
        "duration": 30,
        "start_time": "2025-02-26T09:12:26.181Z"
      },
      {
        "duration": 26,
        "start_time": "2025-02-26T09:12:26.213Z"
      },
      {
        "duration": 16,
        "start_time": "2025-02-26T09:12:26.241Z"
      },
      {
        "duration": 12,
        "start_time": "2025-02-26T09:12:26.260Z"
      },
      {
        "duration": 825,
        "start_time": "2025-02-26T09:12:26.273Z"
      },
      {
        "duration": 9,
        "start_time": "2025-02-26T09:12:27.100Z"
      },
      {
        "duration": 123,
        "start_time": "2025-02-26T09:12:27.110Z"
      },
      {
        "duration": 7390,
        "start_time": "2025-02-26T09:12:27.235Z"
      },
      {
        "duration": 448,
        "start_time": "2025-02-26T09:12:34.629Z"
      },
      {
        "duration": 79,
        "start_time": "2025-02-26T09:12:35.078Z"
      },
      {
        "duration": 3,
        "start_time": "2025-02-26T09:12:35.158Z"
      },
      {
        "duration": 15,
        "start_time": "2025-02-26T09:12:35.162Z"
      },
      {
        "duration": 638,
        "start_time": "2025-02-26T09:12:35.178Z"
      },
      {
        "duration": 25,
        "start_time": "2025-02-26T09:12:35.818Z"
      },
      {
        "duration": 1512,
        "start_time": "2025-02-26T09:12:35.845Z"
      },
      {
        "duration": 21,
        "start_time": "2025-02-26T09:12:37.358Z"
      },
      {
        "duration": 38,
        "start_time": "2025-02-26T09:12:37.381Z"
      },
      {
        "duration": 3472,
        "start_time": "2025-02-26T09:12:37.421Z"
      },
      {
        "duration": 3,
        "start_time": "2025-02-26T09:12:40.894Z"
      },
      {
        "duration": 4908,
        "start_time": "2025-02-26T09:12:40.898Z"
      },
      {
        "duration": 328,
        "start_time": "2025-02-26T09:12:45.808Z"
      },
      {
        "duration": 6344,
        "start_time": "2025-02-26T09:12:46.138Z"
      },
      {
        "duration": 260,
        "start_time": "2025-02-26T09:12:52.484Z"
      },
      {
        "duration": 55,
        "start_time": "2025-02-26T09:12:52.745Z"
      },
      {
        "duration": 133,
        "start_time": "2025-02-26T09:12:52.802Z"
      },
      {
        "duration": 10,
        "start_time": "2025-02-26T09:14:06.717Z"
      },
      {
        "duration": 30,
        "start_time": "2025-02-26T09:14:11.582Z"
      },
      {
        "duration": 4,
        "start_time": "2025-02-26T09:15:31.615Z"
      },
      {
        "duration": 1227,
        "start_time": "2025-02-26T09:15:32.431Z"
      },
      {
        "duration": 1017,
        "start_time": "2025-02-26T09:16:24.943Z"
      },
      {
        "duration": 61,
        "start_time": "2025-02-26T09:16:30.605Z"
      },
      {
        "duration": 3,
        "start_time": "2025-02-26T09:16:31.614Z"
      },
      {
        "duration": 4,
        "start_time": "2025-02-26T09:16:34.161Z"
      },
      {
        "duration": 6821,
        "start_time": "2025-02-26T09:16:35.114Z"
      },
      {
        "duration": 3,
        "start_time": "2025-02-26T09:16:57.672Z"
      },
      {
        "duration": 33847,
        "start_time": "2025-02-26T09:16:58.457Z"
      },
      {
        "duration": 5,
        "start_time": "2025-02-26T09:17:49.694Z"
      },
      {
        "duration": 32436,
        "start_time": "2025-02-26T09:17:51.370Z"
      },
      {
        "duration": 4,
        "start_time": "2025-02-26T09:18:31.235Z"
      },
      {
        "duration": 32179,
        "start_time": "2025-02-26T09:18:31.738Z"
      },
      {
        "duration": 4,
        "start_time": "2025-02-26T09:19:22.006Z"
      },
      {
        "duration": 65290,
        "start_time": "2025-02-26T09:19:23.107Z"
      },
      {
        "duration": 4,
        "start_time": "2025-02-26T09:21:07.796Z"
      },
      {
        "duration": 53572,
        "start_time": "2025-02-26T09:21:08.819Z"
      },
      {
        "duration": 4,
        "start_time": "2025-02-26T09:22:27.227Z"
      },
      {
        "duration": 133170,
        "start_time": "2025-02-26T09:22:28.803Z"
      },
      {
        "duration": 33,
        "start_time": "2025-02-26T09:25:08.820Z"
      },
      {
        "duration": 3,
        "start_time": "2025-02-26T09:25:31.283Z"
      },
      {
        "duration": 55874,
        "start_time": "2025-02-26T09:25:31.730Z"
      },
      {
        "duration": 4,
        "start_time": "2025-02-26T09:27:06.150Z"
      },
      {
        "duration": 90347,
        "start_time": "2025-02-26T09:27:06.822Z"
      },
      {
        "duration": 4479,
        "start_time": "2025-02-26T09:29:11.498Z"
      },
      {
        "duration": 3002,
        "start_time": "2025-02-26T09:29:15.979Z"
      },
      {
        "duration": 6251,
        "start_time": "2025-02-26T09:29:18.983Z"
      },
      {
        "duration": 3141,
        "start_time": "2025-02-26T09:29:25.236Z"
      },
      {
        "duration": 346,
        "start_time": "2025-02-26T09:29:28.379Z"
      },
      {
        "duration": 3,
        "start_time": "2025-02-26T09:29:28.727Z"
      },
      {
        "duration": 2576,
        "start_time": "2025-02-26T09:29:28.732Z"
      },
      {
        "duration": 42,
        "start_time": "2025-02-26T09:29:31.310Z"
      },
      {
        "duration": 50,
        "start_time": "2025-02-26T09:29:31.354Z"
      },
      {
        "duration": 144,
        "start_time": "2025-02-26T09:29:31.406Z"
      },
      {
        "duration": 27,
        "start_time": "2025-02-26T09:29:31.552Z"
      },
      {
        "duration": 6,
        "start_time": "2025-02-26T09:29:31.580Z"
      },
      {
        "duration": 5,
        "start_time": "2025-02-26T09:29:31.587Z"
      },
      {
        "duration": 10,
        "start_time": "2025-02-26T09:29:31.595Z"
      },
      {
        "duration": 977,
        "start_time": "2025-02-26T09:29:31.607Z"
      },
      {
        "duration": 8,
        "start_time": "2025-02-26T09:29:32.585Z"
      },
      {
        "duration": 121,
        "start_time": "2025-02-26T09:29:32.594Z"
      },
      {
        "duration": 7252,
        "start_time": "2025-02-26T09:29:32.717Z"
      },
      {
        "duration": 449,
        "start_time": "2025-02-26T09:29:39.971Z"
      },
      {
        "duration": 60,
        "start_time": "2025-02-26T09:29:40.421Z"
      },
      {
        "duration": 3,
        "start_time": "2025-02-26T09:29:40.483Z"
      },
      {
        "duration": 8,
        "start_time": "2025-02-26T09:29:40.487Z"
      },
      {
        "duration": 579,
        "start_time": "2025-02-26T09:29:40.496Z"
      },
      {
        "duration": 17,
        "start_time": "2025-02-26T09:29:41.076Z"
      },
      {
        "duration": 1498,
        "start_time": "2025-02-26T09:29:41.094Z"
      },
      {
        "duration": 22,
        "start_time": "2025-02-26T09:29:42.594Z"
      },
      {
        "duration": 13,
        "start_time": "2025-02-26T09:29:42.617Z"
      },
      {
        "duration": 3791,
        "start_time": "2025-02-26T09:29:42.632Z"
      },
      {
        "duration": 3,
        "start_time": "2025-02-26T09:29:46.425Z"
      },
      {
        "duration": 5960,
        "start_time": "2025-02-26T09:29:46.430Z"
      },
      {
        "duration": 341,
        "start_time": "2025-02-26T09:29:52.391Z"
      },
      {
        "duration": 8396,
        "start_time": "2025-02-26T09:29:52.738Z"
      },
      {
        "duration": 276,
        "start_time": "2025-02-26T09:30:01.136Z"
      },
      {
        "duration": 62,
        "start_time": "2025-02-26T09:30:01.414Z"
      },
      {
        "duration": 156,
        "start_time": "2025-02-26T09:30:01.478Z"
      },
      {
        "duration": 3976,
        "start_time": "2025-02-26T09:30:18.120Z"
      },
      {
        "duration": 2801,
        "start_time": "2025-02-26T09:30:22.098Z"
      },
      {
        "duration": 8307,
        "start_time": "2025-02-26T09:30:24.902Z"
      },
      {
        "duration": 2973,
        "start_time": "2025-02-26T09:30:33.211Z"
      },
      {
        "duration": 268,
        "start_time": "2025-02-26T09:30:36.187Z"
      },
      {
        "duration": 2,
        "start_time": "2025-02-26T09:30:36.457Z"
      },
      {
        "duration": 2033,
        "start_time": "2025-02-26T09:30:36.461Z"
      },
      {
        "duration": 25,
        "start_time": "2025-02-26T09:30:38.496Z"
      },
      {
        "duration": 12,
        "start_time": "2025-02-26T09:30:38.531Z"
      },
      {
        "duration": 136,
        "start_time": "2025-02-26T09:30:38.545Z"
      },
      {
        "duration": 29,
        "start_time": "2025-02-26T09:30:38.682Z"
      },
      {
        "duration": 28,
        "start_time": "2025-02-26T09:30:38.712Z"
      },
      {
        "duration": 9,
        "start_time": "2025-02-26T09:30:38.743Z"
      },
      {
        "duration": 11,
        "start_time": "2025-02-26T09:30:38.755Z"
      },
      {
        "duration": 343944,
        "start_time": "2025-02-26T09:30:38.767Z"
      },
      {
        "duration": 8,
        "start_time": "2025-02-26T09:36:22.713Z"
      },
      {
        "duration": 159,
        "start_time": "2025-02-26T09:36:22.723Z"
      },
      {
        "duration": 7007,
        "start_time": "2025-02-26T09:36:22.884Z"
      },
      {
        "duration": 420,
        "start_time": "2025-02-26T09:36:29.893Z"
      },
      {
        "duration": 69,
        "start_time": "2025-02-26T09:36:30.315Z"
      },
      {
        "duration": 4,
        "start_time": "2025-02-26T09:36:30.386Z"
      },
      {
        "duration": 63,
        "start_time": "2025-02-26T09:36:30.392Z"
      },
      {
        "duration": 257568,
        "start_time": "2025-02-26T09:36:30.457Z"
      },
      {
        "duration": 19,
        "start_time": "2025-02-26T09:40:48.026Z"
      },
      {
        "duration": 1586,
        "start_time": "2025-02-26T09:40:48.047Z"
      },
      {
        "duration": 21,
        "start_time": "2025-02-26T09:40:49.634Z"
      },
      {
        "duration": 3,
        "start_time": "2025-02-26T09:40:49.656Z"
      },
      {
        "duration": 3445,
        "start_time": "2025-02-26T09:40:49.660Z"
      },
      {
        "duration": 3,
        "start_time": "2025-02-26T09:40:53.107Z"
      },
      {
        "duration": 5411,
        "start_time": "2025-02-26T09:40:53.112Z"
      },
      {
        "duration": 348,
        "start_time": "2025-02-26T09:40:58.525Z"
      },
      {
        "duration": 7592,
        "start_time": "2025-02-26T09:40:58.874Z"
      },
      {
        "duration": 291,
        "start_time": "2025-02-26T09:41:06.468Z"
      },
      {
        "duration": 28,
        "start_time": "2025-02-26T09:41:06.761Z"
      },
      {
        "duration": 141,
        "start_time": "2025-02-26T09:41:06.791Z"
      },
      {
        "duration": 32,
        "start_time": "2025-02-26T09:55:20.767Z"
      },
      {
        "duration": 4,
        "start_time": "2025-02-26T09:56:29.267Z"
      },
      {
        "duration": 655,
        "start_time": "2025-02-26T09:56:30.508Z"
      },
      {
        "duration": 3,
        "start_time": "2025-02-26T09:56:47.547Z"
      },
      {
        "duration": 322,
        "start_time": "2025-02-26T09:56:50.642Z"
      },
      {
        "duration": 72,
        "start_time": "2025-02-26T09:57:00.191Z"
      },
      {
        "duration": 3,
        "start_time": "2025-02-26T09:57:00.649Z"
      },
      {
        "duration": 4,
        "start_time": "2025-02-26T09:57:02.926Z"
      },
      {
        "duration": 55992,
        "start_time": "2025-02-26T09:57:06.807Z"
      },
      {
        "duration": 3,
        "start_time": "2025-02-26T09:59:33.517Z"
      },
      {
        "duration": 56035,
        "start_time": "2025-02-26T09:59:34.658Z"
      },
      {
        "duration": 4,
        "start_time": "2025-02-26T10:00:47.712Z"
      },
      {
        "duration": 55747,
        "start_time": "2025-02-26T10:00:48.933Z"
      },
      {
        "duration": 4,
        "start_time": "2025-02-26T10:02:18.159Z"
      },
      {
        "duration": 55451,
        "start_time": "2025-02-26T10:02:22.849Z"
      },
      {
        "duration": 3258,
        "start_time": "2025-02-26T10:04:06.116Z"
      },
      {
        "duration": 2944,
        "start_time": "2025-02-26T10:04:09.377Z"
      },
      {
        "duration": 6523,
        "start_time": "2025-02-26T10:04:12.323Z"
      },
      {
        "duration": 6,
        "start_time": "2025-02-26T10:04:18.848Z"
      },
      {
        "duration": 22,
        "start_time": "2025-02-26T10:04:18.856Z"
      },
      {
        "duration": 31,
        "start_time": "2025-02-26T10:04:18.880Z"
      },
      {
        "duration": 3495,
        "start_time": "2025-02-26T10:04:18.913Z"
      },
      {
        "duration": 41,
        "start_time": "2025-02-26T10:04:22.410Z"
      },
      {
        "duration": 22,
        "start_time": "2025-02-26T10:04:22.452Z"
      },
      {
        "duration": 131,
        "start_time": "2025-02-26T10:04:22.476Z"
      },
      {
        "duration": 41,
        "start_time": "2025-02-26T10:04:22.609Z"
      },
      {
        "duration": 22,
        "start_time": "2025-02-26T10:04:22.651Z"
      },
      {
        "duration": 38,
        "start_time": "2025-02-26T10:04:22.675Z"
      },
      {
        "duration": 20,
        "start_time": "2025-02-26T10:04:22.715Z"
      },
      {
        "duration": 867,
        "start_time": "2025-02-26T10:04:22.737Z"
      },
      {
        "duration": 8,
        "start_time": "2025-02-26T10:04:23.606Z"
      },
      {
        "duration": 121,
        "start_time": "2025-02-26T10:04:23.616Z"
      },
      {
        "duration": 7215,
        "start_time": "2025-02-26T10:04:23.739Z"
      },
      {
        "duration": 409,
        "start_time": "2025-02-26T10:04:30.956Z"
      },
      {
        "duration": 111,
        "start_time": "2025-02-26T10:04:31.367Z"
      },
      {
        "duration": 5,
        "start_time": "2025-02-26T10:04:31.480Z"
      },
      {
        "duration": 32,
        "start_time": "2025-02-26T10:04:31.487Z"
      },
      {
        "duration": 56032,
        "start_time": "2025-02-26T10:04:31.521Z"
      },
      {
        "duration": 3670,
        "start_time": "2025-02-26T10:06:22.865Z"
      },
      {
        "duration": 2747,
        "start_time": "2025-02-26T10:06:26.538Z"
      },
      {
        "duration": 6273,
        "start_time": "2025-02-26T10:06:29.287Z"
      },
      {
        "duration": 2973,
        "start_time": "2025-02-26T10:06:35.563Z"
      },
      {
        "duration": 361,
        "start_time": "2025-02-26T10:06:38.539Z"
      },
      {
        "duration": 2,
        "start_time": "2025-02-26T10:06:38.902Z"
      },
      {
        "duration": 2291,
        "start_time": "2025-02-26T10:06:38.906Z"
      },
      {
        "duration": 37,
        "start_time": "2025-02-26T10:06:41.198Z"
      },
      {
        "duration": 13,
        "start_time": "2025-02-26T10:06:41.237Z"
      },
      {
        "duration": 151,
        "start_time": "2025-02-26T10:06:41.251Z"
      },
      {
        "duration": 39,
        "start_time": "2025-02-26T10:06:41.404Z"
      },
      {
        "duration": 5,
        "start_time": "2025-02-26T10:06:41.454Z"
      },
      {
        "duration": 11,
        "start_time": "2025-02-26T10:06:41.461Z"
      },
      {
        "duration": 15,
        "start_time": "2025-02-26T10:06:41.475Z"
      },
      {
        "duration": 349293,
        "start_time": "2025-02-26T10:06:41.492Z"
      },
      {
        "duration": 8,
        "start_time": "2025-02-26T10:12:30.787Z"
      },
      {
        "duration": 186,
        "start_time": "2025-02-26T10:12:30.796Z"
      },
      {
        "duration": 7901,
        "start_time": "2025-02-26T10:12:30.983Z"
      },
      {
        "duration": 452,
        "start_time": "2025-02-26T10:12:38.886Z"
      },
      {
        "duration": 61,
        "start_time": "2025-02-26T10:12:39.340Z"
      },
      {
        "duration": 28,
        "start_time": "2025-02-26T10:12:39.403Z"
      },
      {
        "duration": 13,
        "start_time": "2025-02-26T10:12:39.433Z"
      },
      {
        "duration": 210885,
        "start_time": "2025-02-26T10:12:39.448Z"
      },
      {
        "duration": 19,
        "start_time": "2025-02-26T10:16:10.341Z"
      },
      {
        "duration": 1771,
        "start_time": "2025-02-26T10:16:10.361Z"
      },
      {
        "duration": 26,
        "start_time": "2025-02-26T10:16:12.134Z"
      },
      {
        "duration": 78,
        "start_time": "2025-02-26T10:16:12.162Z"
      },
      {
        "duration": 3551,
        "start_time": "2025-02-26T10:16:12.246Z"
      },
      {
        "duration": 4,
        "start_time": "2025-02-26T10:16:15.798Z"
      },
      {
        "duration": 8199,
        "start_time": "2025-02-26T10:16:15.804Z"
      },
      {
        "duration": 365,
        "start_time": "2025-02-26T10:16:24.005Z"
      },
      {
        "duration": 8633,
        "start_time": "2025-02-26T10:16:24.373Z"
      },
      {
        "duration": 289,
        "start_time": "2025-02-26T10:16:33.007Z"
      },
      {
        "duration": 155,
        "start_time": "2025-02-26T10:16:33.298Z"
      },
      {
        "duration": 191,
        "start_time": "2025-02-26T10:16:33.455Z"
      },
      {
        "duration": 716,
        "start_time": "2025-02-26T10:19:43.498Z"
      },
      {
        "duration": 78,
        "start_time": "2025-02-26T10:19:48.106Z"
      },
      {
        "duration": 3,
        "start_time": "2025-02-26T10:19:48.571Z"
      },
      {
        "duration": 57209,
        "start_time": "2025-02-26T10:19:59.309Z"
      },
      {
        "duration": 5,
        "start_time": "2025-02-26T10:22:09.693Z"
      },
      {
        "duration": 666,
        "start_time": "2025-02-26T10:22:21.778Z"
      },
      {
        "duration": 240170,
        "start_time": "2025-02-26T10:22:40.651Z"
      },
      {
        "duration": 1579,
        "start_time": "2025-02-26T10:27:49.303Z"
      },
      {
        "duration": 5,
        "start_time": "2025-02-26T12:34:48.224Z"
      },
      {
        "duration": 650,
        "start_time": "2025-02-26T12:34:49.048Z"
      },
      {
        "duration": 155277,
        "start_time": "2025-02-26T12:35:00.388Z"
      },
      {
        "duration": 1455,
        "start_time": "2025-02-26T12:37:35.668Z"
      },
      {
        "duration": 4,
        "start_time": "2025-02-26T12:40:22.646Z"
      },
      {
        "duration": 633,
        "start_time": "2025-02-26T12:40:23.667Z"
      },
      {
        "duration": 223727,
        "start_time": "2025-02-26T12:40:41.274Z"
      },
      {
        "duration": 1478,
        "start_time": "2025-02-26T12:44:25.004Z"
      },
      {
        "duration": 4,
        "start_time": "2025-02-26T12:44:55.560Z"
      },
      {
        "duration": 505,
        "start_time": "2025-02-26T12:44:58.047Z"
      },
      {
        "duration": 1508,
        "start_time": "2025-02-26T12:45:01.530Z"
      },
      {
        "duration": 3,
        "start_time": "2025-02-26T12:47:05.649Z"
      },
      {
        "duration": 233100,
        "start_time": "2025-02-26T12:47:06.450Z"
      },
      {
        "duration": 1627,
        "start_time": "2025-02-26T12:50:59.552Z"
      },
      {
        "duration": 28,
        "start_time": "2025-02-26T12:51:28.227Z"
      },
      {
        "duration": 4,
        "start_time": "2025-02-26T12:53:15.235Z"
      },
      {
        "duration": 563,
        "start_time": "2025-02-26T12:53:16.469Z"
      },
      {
        "duration": 54644,
        "start_time": "2025-02-26T12:53:23.173Z"
      },
      {
        "duration": 1550,
        "start_time": "2025-02-26T12:54:17.819Z"
      },
      {
        "duration": 3,
        "start_time": "2025-02-26T13:08:28.851Z"
      },
      {
        "duration": 590,
        "start_time": "2025-02-26T13:08:30.440Z"
      },
      {
        "duration": 1473,
        "start_time": "2025-02-26T13:08:33.539Z"
      },
      {
        "duration": 4,
        "start_time": "2025-02-26T13:08:59.491Z"
      },
      {
        "duration": 304980,
        "start_time": "2025-02-26T13:09:01.132Z"
      },
      {
        "duration": 1446,
        "start_time": "2025-02-26T13:14:06.113Z"
      },
      {
        "duration": 15,
        "start_time": "2025-02-26T13:14:14.187Z"
      },
      {
        "duration": 3,
        "start_time": "2025-02-26T13:14:41.342Z"
      },
      {
        "duration": 138622,
        "start_time": "2025-02-26T13:14:48.456Z"
      },
      {
        "duration": 1436,
        "start_time": "2025-02-26T13:17:07.080Z"
      },
      {
        "duration": 4,
        "start_time": "2025-02-26T13:17:31.708Z"
      },
      {
        "duration": 567,
        "start_time": "2025-02-26T13:17:32.482Z"
      },
      {
        "duration": 1423,
        "start_time": "2025-02-26T13:17:35.153Z"
      },
      {
        "duration": 4,
        "start_time": "2025-02-26T13:20:43.072Z"
      },
      {
        "duration": 72796,
        "start_time": "2025-02-26T13:20:45.326Z"
      },
      {
        "duration": 1412,
        "start_time": "2025-02-26T13:21:58.124Z"
      },
      {
        "duration": 3,
        "start_time": "2025-02-26T13:28:20.343Z"
      },
      {
        "duration": 548,
        "start_time": "2025-02-26T13:28:22.177Z"
      },
      {
        "duration": 1376,
        "start_time": "2025-02-26T13:28:24.382Z"
      },
      {
        "duration": 4,
        "start_time": "2025-02-26T13:28:39.970Z"
      },
      {
        "duration": 29761,
        "start_time": "2025-02-26T13:28:41.124Z"
      },
      {
        "duration": 1458,
        "start_time": "2025-02-26T13:29:10.887Z"
      },
      {
        "duration": 4,
        "start_time": "2025-02-26T13:29:20.388Z"
      },
      {
        "duration": 29545,
        "start_time": "2025-02-26T13:29:29.090Z"
      },
      {
        "duration": 1430,
        "start_time": "2025-02-26T13:29:58.637Z"
      },
      {
        "duration": 3,
        "start_time": "2025-02-26T13:30:56.693Z"
      },
      {
        "duration": 46686,
        "start_time": "2025-02-26T13:31:05.389Z"
      },
      {
        "duration": 1425,
        "start_time": "2025-02-26T13:31:52.077Z"
      },
      {
        "duration": 3,
        "start_time": "2025-02-26T13:32:24.405Z"
      },
      {
        "duration": 70529,
        "start_time": "2025-02-26T13:32:30.534Z"
      },
      {
        "duration": 1457,
        "start_time": "2025-02-26T13:33:41.065Z"
      },
      {
        "duration": 4,
        "start_time": "2025-02-26T13:33:58.395Z"
      },
      {
        "duration": 116078,
        "start_time": "2025-02-26T13:34:09.067Z"
      },
      {
        "duration": 1461,
        "start_time": "2025-02-26T13:36:05.147Z"
      },
      {
        "duration": 20,
        "start_time": "2025-02-26T13:37:03.843Z"
      },
      {
        "duration": 4,
        "start_time": "2025-02-26T13:37:53.366Z"
      },
      {
        "duration": 115276,
        "start_time": "2025-02-26T13:38:01.054Z"
      },
      {
        "duration": 1408,
        "start_time": "2025-02-26T13:39:56.331Z"
      },
      {
        "duration": 20,
        "start_time": "2025-02-26T13:40:18.706Z"
      },
      {
        "duration": 4,
        "start_time": "2025-02-26T13:40:54.679Z"
      },
      {
        "duration": 122080,
        "start_time": "2025-02-26T13:40:55.963Z"
      },
      {
        "duration": 1465,
        "start_time": "2025-02-26T13:42:58.045Z"
      },
      {
        "duration": 21,
        "start_time": "2025-02-26T13:44:09.750Z"
      },
      {
        "duration": 4,
        "start_time": "2025-02-26T13:44:30.420Z"
      },
      {
        "duration": 123084,
        "start_time": "2025-02-26T13:44:31.951Z"
      },
      {
        "duration": 1518,
        "start_time": "2025-02-26T13:46:35.037Z"
      },
      {
        "duration": 22,
        "start_time": "2025-02-26T13:46:53.502Z"
      },
      {
        "duration": 4,
        "start_time": "2025-02-26T13:47:24.734Z"
      },
      {
        "duration": 77233,
        "start_time": "2025-02-26T13:47:27.290Z"
      },
      {
        "duration": 1487,
        "start_time": "2025-02-26T13:48:44.525Z"
      },
      {
        "duration": 18,
        "start_time": "2025-02-26T13:48:50.110Z"
      },
      {
        "duration": 4,
        "start_time": "2025-02-26T13:49:34.163Z"
      },
      {
        "duration": 261731,
        "start_time": "2025-02-26T13:49:36.970Z"
      },
      {
        "duration": 30,
        "start_time": "2025-02-26T13:53:58.703Z"
      },
      {
        "duration": 1483,
        "start_time": "2025-02-26T13:53:58.734Z"
      },
      {
        "duration": 4,
        "start_time": "2025-02-26T13:57:36.092Z"
      },
      {
        "duration": 600481,
        "start_time": "2025-02-26T13:57:40.093Z"
      },
      {
        "duration": 1454,
        "start_time": "2025-02-26T14:07:40.576Z"
      },
      {
        "duration": 83,
        "start_time": "2025-02-26T14:14:29.337Z"
      },
      {
        "duration": 52,
        "start_time": "2025-02-26T14:14:36.493Z"
      },
      {
        "duration": 4,
        "start_time": "2025-02-26T14:15:22.384Z"
      },
      {
        "duration": 396442,
        "start_time": "2025-02-26T14:15:23.826Z"
      },
      {
        "duration": 1460,
        "start_time": "2025-02-26T14:22:00.270Z"
      },
      {
        "duration": 3945,
        "start_time": "2025-02-26T14:22:51.530Z"
      },
      {
        "duration": 2597,
        "start_time": "2025-02-26T14:22:55.477Z"
      },
      {
        "duration": 6000,
        "start_time": "2025-02-26T14:22:58.076Z"
      },
      {
        "duration": 3226,
        "start_time": "2025-02-26T14:23:04.078Z"
      },
      {
        "duration": 345,
        "start_time": "2025-02-26T14:23:07.306Z"
      },
      {
        "duration": 2,
        "start_time": "2025-02-26T14:23:07.653Z"
      },
      {
        "duration": 3775,
        "start_time": "2025-02-26T14:23:07.656Z"
      },
      {
        "duration": 41,
        "start_time": "2025-02-26T14:23:11.433Z"
      },
      {
        "duration": 14,
        "start_time": "2025-02-26T14:23:11.476Z"
      },
      {
        "duration": 136,
        "start_time": "2025-02-26T14:23:11.492Z"
      },
      {
        "duration": 30,
        "start_time": "2025-02-26T14:23:11.630Z"
      },
      {
        "duration": 16,
        "start_time": "2025-02-26T14:23:11.661Z"
      },
      {
        "duration": 8,
        "start_time": "2025-02-26T14:23:11.678Z"
      },
      {
        "duration": 11,
        "start_time": "2025-02-26T14:23:11.689Z"
      },
      {
        "duration": 71138,
        "start_time": "2025-02-26T14:23:11.701Z"
      },
      {
        "duration": 0,
        "start_time": "2025-02-26T14:24:22.840Z"
      },
      {
        "duration": 0,
        "start_time": "2025-02-26T14:24:22.841Z"
      },
      {
        "duration": 0,
        "start_time": "2025-02-26T14:24:22.843Z"
      },
      {
        "duration": 0,
        "start_time": "2025-02-26T14:24:22.844Z"
      },
      {
        "duration": 0,
        "start_time": "2025-02-26T14:24:22.845Z"
      },
      {
        "duration": 0,
        "start_time": "2025-02-26T14:24:22.846Z"
      },
      {
        "duration": 0,
        "start_time": "2025-02-26T14:24:22.848Z"
      },
      {
        "duration": 0,
        "start_time": "2025-02-26T14:24:22.849Z"
      },
      {
        "duration": 0,
        "start_time": "2025-02-26T14:24:22.850Z"
      },
      {
        "duration": 0,
        "start_time": "2025-02-26T14:24:22.851Z"
      },
      {
        "duration": 0,
        "start_time": "2025-02-26T14:24:22.852Z"
      },
      {
        "duration": 0,
        "start_time": "2025-02-26T14:24:22.853Z"
      },
      {
        "duration": 0,
        "start_time": "2025-02-26T14:24:22.854Z"
      },
      {
        "duration": 0,
        "start_time": "2025-02-26T14:24:22.856Z"
      },
      {
        "duration": 0,
        "start_time": "2025-02-26T14:24:22.857Z"
      },
      {
        "duration": 0,
        "start_time": "2025-02-26T14:24:22.858Z"
      },
      {
        "duration": 0,
        "start_time": "2025-02-26T14:24:22.859Z"
      },
      {
        "duration": 0,
        "start_time": "2025-02-26T14:24:22.860Z"
      },
      {
        "duration": 0,
        "start_time": "2025-02-26T14:24:22.861Z"
      },
      {
        "duration": 0,
        "start_time": "2025-02-26T14:24:22.862Z"
      },
      {
        "duration": 2680,
        "start_time": "2025-02-26T14:24:25.720Z"
      },
      {
        "duration": 845,
        "start_time": "2025-02-26T14:24:36.008Z"
      },
      {
        "duration": 13,
        "start_time": "2025-02-26T14:24:41.976Z"
      },
      {
        "duration": 27,
        "start_time": "2025-02-26T14:24:52.701Z"
      },
      {
        "duration": 731,
        "start_time": "2025-02-26T14:25:01.634Z"
      },
      {
        "duration": 8,
        "start_time": "2025-02-26T14:25:02.367Z"
      },
      {
        "duration": 60,
        "start_time": "2025-02-26T14:25:02.377Z"
      },
      {
        "duration": 0,
        "start_time": "2025-02-26T14:25:02.439Z"
      },
      {
        "duration": 0,
        "start_time": "2025-02-26T14:25:02.440Z"
      },
      {
        "duration": 0,
        "start_time": "2025-02-26T14:25:02.440Z"
      },
      {
        "duration": 0,
        "start_time": "2025-02-26T14:25:02.441Z"
      },
      {
        "duration": 0,
        "start_time": "2025-02-26T14:25:02.442Z"
      },
      {
        "duration": 0,
        "start_time": "2025-02-26T14:25:02.443Z"
      },
      {
        "duration": 0,
        "start_time": "2025-02-26T14:25:02.444Z"
      },
      {
        "duration": 0,
        "start_time": "2025-02-26T14:25:02.445Z"
      },
      {
        "duration": 0,
        "start_time": "2025-02-26T14:25:02.446Z"
      },
      {
        "duration": 0,
        "start_time": "2025-02-26T14:25:02.446Z"
      },
      {
        "duration": 0,
        "start_time": "2025-02-26T14:25:02.447Z"
      },
      {
        "duration": 0,
        "start_time": "2025-02-26T14:25:02.448Z"
      },
      {
        "duration": 0,
        "start_time": "2025-02-26T14:25:02.450Z"
      },
      {
        "duration": 0,
        "start_time": "2025-02-26T14:25:02.451Z"
      },
      {
        "duration": 0,
        "start_time": "2025-02-26T14:25:02.451Z"
      },
      {
        "duration": 0,
        "start_time": "2025-02-26T14:25:02.452Z"
      },
      {
        "duration": 0,
        "start_time": "2025-02-26T14:25:02.453Z"
      },
      {
        "duration": 0,
        "start_time": "2025-02-26T14:25:02.454Z"
      },
      {
        "duration": 612,
        "start_time": "2025-02-26T14:25:26.221Z"
      },
      {
        "duration": 7,
        "start_time": "2025-02-26T14:25:26.835Z"
      },
      {
        "duration": 108,
        "start_time": "2025-02-26T14:25:26.844Z"
      },
      {
        "duration": 8873,
        "start_time": "2025-02-26T14:25:26.953Z"
      },
      {
        "duration": 402,
        "start_time": "2025-02-26T14:25:35.828Z"
      },
      {
        "duration": 54,
        "start_time": "2025-02-26T14:25:36.232Z"
      },
      {
        "duration": 3,
        "start_time": "2025-02-26T14:25:36.287Z"
      },
      {
        "duration": 15,
        "start_time": "2025-02-26T14:25:36.292Z"
      },
      {
        "duration": 598,
        "start_time": "2025-02-26T14:25:36.308Z"
      },
      {
        "duration": 23,
        "start_time": "2025-02-26T14:25:36.908Z"
      },
      {
        "duration": 1461,
        "start_time": "2025-02-26T14:25:36.932Z"
      },
      {
        "duration": 19,
        "start_time": "2025-02-26T14:25:38.394Z"
      },
      {
        "duration": 16,
        "start_time": "2025-02-26T14:25:38.414Z"
      },
      {
        "duration": 3480,
        "start_time": "2025-02-26T14:25:38.432Z"
      },
      {
        "duration": 3,
        "start_time": "2025-02-26T14:25:41.913Z"
      },
      {
        "duration": 5259,
        "start_time": "2025-02-26T14:25:41.918Z"
      },
      {
        "duration": 320,
        "start_time": "2025-02-26T14:25:47.178Z"
      },
      {
        "duration": 4041,
        "start_time": "2025-02-26T14:25:47.499Z"
      },
      {
        "duration": 288,
        "start_time": "2025-02-26T14:25:51.542Z"
      },
      {
        "duration": 0,
        "start_time": "2025-02-26T14:28:02.513Z"
      },
      {
        "duration": 0,
        "start_time": "2025-02-26T14:28:02.516Z"
      },
      {
        "duration": 3717,
        "start_time": "2025-02-26T14:29:00.180Z"
      },
      {
        "duration": 2686,
        "start_time": "2025-02-26T14:29:03.899Z"
      },
      {
        "duration": 6195,
        "start_time": "2025-02-26T14:29:06.587Z"
      },
      {
        "duration": 2930,
        "start_time": "2025-02-26T14:29:12.784Z"
      },
      {
        "duration": 273,
        "start_time": "2025-02-26T14:29:15.716Z"
      },
      {
        "duration": 3,
        "start_time": "2025-02-26T14:29:15.990Z"
      },
      {
        "duration": 3011,
        "start_time": "2025-02-26T14:29:15.994Z"
      },
      {
        "duration": 31,
        "start_time": "2025-02-26T14:29:19.007Z"
      },
      {
        "duration": 8,
        "start_time": "2025-02-26T14:29:19.039Z"
      },
      {
        "duration": 124,
        "start_time": "2025-02-26T14:29:19.048Z"
      },
      {
        "duration": 28,
        "start_time": "2025-02-26T14:29:19.174Z"
      },
      {
        "duration": 3,
        "start_time": "2025-02-26T14:29:19.203Z"
      },
      {
        "duration": 3,
        "start_time": "2025-02-26T14:29:19.208Z"
      },
      {
        "duration": 11,
        "start_time": "2025-02-26T14:29:19.230Z"
      },
      {
        "duration": 626,
        "start_time": "2025-02-26T14:29:19.242Z"
      },
      {
        "duration": 7,
        "start_time": "2025-02-26T14:29:19.870Z"
      },
      {
        "duration": 143,
        "start_time": "2025-02-26T14:29:19.879Z"
      },
      {
        "duration": 7150,
        "start_time": "2025-02-26T14:29:20.023Z"
      },
      {
        "duration": 410,
        "start_time": "2025-02-26T14:29:27.175Z"
      },
      {
        "duration": 71,
        "start_time": "2025-02-26T14:29:27.587Z"
      },
      {
        "duration": 3,
        "start_time": "2025-02-26T14:29:27.660Z"
      },
      {
        "duration": 14,
        "start_time": "2025-02-26T14:29:27.665Z"
      },
      {
        "duration": 570,
        "start_time": "2025-02-26T14:29:27.680Z"
      },
      {
        "duration": 17,
        "start_time": "2025-02-26T14:29:28.251Z"
      },
      {
        "duration": 1407,
        "start_time": "2025-02-26T14:29:28.270Z"
      },
      {
        "duration": 21,
        "start_time": "2025-02-26T14:29:29.678Z"
      },
      {
        "duration": 2,
        "start_time": "2025-02-26T14:29:29.701Z"
      },
      {
        "duration": 4218,
        "start_time": "2025-02-26T14:29:29.704Z"
      },
      {
        "duration": 3,
        "start_time": "2025-02-26T14:29:33.924Z"
      },
      {
        "duration": 4376,
        "start_time": "2025-02-26T14:29:33.928Z"
      },
      {
        "duration": 325,
        "start_time": "2025-02-26T14:29:38.305Z"
      },
      {
        "duration": 3725,
        "start_time": "2025-02-26T14:29:38.631Z"
      },
      {
        "duration": 260,
        "start_time": "2025-02-26T14:29:42.357Z"
      },
      {
        "duration": 128465,
        "start_time": "2025-02-26T14:29:42.619Z"
      },
      {
        "duration": 48,
        "start_time": "2025-02-26T14:31:51.086Z"
      },
      {
        "duration": 823,
        "start_time": "2025-02-26T14:32:38.920Z"
      },
      {
        "duration": 8,
        "start_time": "2025-02-26T14:32:49.733Z"
      },
      {
        "duration": 3923,
        "start_time": "2025-02-26T14:32:59.518Z"
      },
      {
        "duration": 2744,
        "start_time": "2025-02-26T14:33:03.443Z"
      },
      {
        "duration": 6071,
        "start_time": "2025-02-26T14:33:06.189Z"
      },
      {
        "duration": 3068,
        "start_time": "2025-02-26T14:33:12.262Z"
      },
      {
        "duration": 306,
        "start_time": "2025-02-26T14:33:15.332Z"
      },
      {
        "duration": 2,
        "start_time": "2025-02-26T14:33:15.640Z"
      },
      {
        "duration": 2180,
        "start_time": "2025-02-26T14:33:15.644Z"
      },
      {
        "duration": 34,
        "start_time": "2025-02-26T14:33:17.826Z"
      },
      {
        "duration": 27,
        "start_time": "2025-02-26T14:33:17.862Z"
      },
      {
        "duration": 122,
        "start_time": "2025-02-26T14:33:17.891Z"
      },
      {
        "duration": 35,
        "start_time": "2025-02-26T14:33:18.015Z"
      },
      {
        "duration": 7,
        "start_time": "2025-02-26T14:33:18.052Z"
      },
      {
        "duration": 7,
        "start_time": "2025-02-26T14:33:18.060Z"
      },
      {
        "duration": 12,
        "start_time": "2025-02-26T14:33:18.069Z"
      },
      {
        "duration": 897,
        "start_time": "2025-02-26T14:33:18.082Z"
      },
      {
        "duration": 8,
        "start_time": "2025-02-26T14:33:18.980Z"
      },
      {
        "duration": 112,
        "start_time": "2025-02-26T14:33:18.989Z"
      },
      {
        "duration": 7340,
        "start_time": "2025-02-26T14:33:19.102Z"
      },
      {
        "duration": 432,
        "start_time": "2025-02-26T14:33:26.444Z"
      },
      {
        "duration": 71,
        "start_time": "2025-02-26T14:33:26.878Z"
      },
      {
        "duration": 24,
        "start_time": "2025-02-26T14:33:26.951Z"
      },
      {
        "duration": 42,
        "start_time": "2025-02-26T14:33:26.977Z"
      },
      {
        "duration": 617,
        "start_time": "2025-02-26T14:33:27.020Z"
      },
      {
        "duration": 17,
        "start_time": "2025-02-26T14:33:27.639Z"
      },
      {
        "duration": 1438,
        "start_time": "2025-02-26T14:33:27.657Z"
      },
      {
        "duration": 20,
        "start_time": "2025-02-26T14:33:29.097Z"
      },
      {
        "duration": 41,
        "start_time": "2025-02-26T14:33:29.118Z"
      },
      {
        "duration": 3947,
        "start_time": "2025-02-26T14:33:29.161Z"
      },
      {
        "duration": 3,
        "start_time": "2025-02-26T14:33:33.110Z"
      },
      {
        "duration": 4207,
        "start_time": "2025-02-26T14:33:33.115Z"
      },
      {
        "duration": 336,
        "start_time": "2025-02-26T14:33:37.324Z"
      },
      {
        "duration": 3893,
        "start_time": "2025-02-26T14:33:37.662Z"
      },
      {
        "duration": 264,
        "start_time": "2025-02-26T14:33:41.556Z"
      },
      {
        "duration": 16,
        "start_time": "2025-02-26T14:33:41.822Z"
      },
      {
        "duration": 191,
        "start_time": "2025-02-26T14:33:41.840Z"
      },
      {
        "duration": 993,
        "start_time": "2025-02-26T14:34:13.155Z"
      },
      {
        "duration": 679,
        "start_time": "2025-02-26T14:34:19.139Z"
      },
      {
        "duration": 4,
        "start_time": "2025-02-26T14:34:58.326Z"
      },
      {
        "duration": 1403,
        "start_time": "2025-02-26T14:35:13.641Z"
      },
      {
        "duration": 34,
        "start_time": "2025-02-26T14:38:16.832Z"
      },
      {
        "duration": 45,
        "start_time": "2025-02-26T14:38:43.128Z"
      },
      {
        "duration": 27,
        "start_time": "2025-02-26T14:38:50.190Z"
      },
      {
        "duration": 48,
        "start_time": "2025-02-26T14:38:56.369Z"
      },
      {
        "duration": 3085,
        "start_time": "2025-02-26T14:42:59.476Z"
      },
      {
        "duration": 2697,
        "start_time": "2025-02-26T14:43:02.563Z"
      },
      {
        "duration": 6234,
        "start_time": "2025-02-26T14:43:05.261Z"
      },
      {
        "duration": 3563,
        "start_time": "2025-02-26T14:43:11.496Z"
      },
      {
        "duration": 281,
        "start_time": "2025-02-26T14:43:15.061Z"
      },
      {
        "duration": 3,
        "start_time": "2025-02-26T14:43:15.343Z"
      },
      {
        "duration": 2162,
        "start_time": "2025-02-26T14:43:15.347Z"
      },
      {
        "duration": 37,
        "start_time": "2025-02-26T14:43:17.510Z"
      },
      {
        "duration": 9,
        "start_time": "2025-02-26T14:43:17.549Z"
      },
      {
        "duration": 176,
        "start_time": "2025-02-26T14:43:17.560Z"
      },
      {
        "duration": 31,
        "start_time": "2025-02-26T14:43:17.738Z"
      },
      {
        "duration": 7,
        "start_time": "2025-02-26T14:43:17.771Z"
      },
      {
        "duration": 8,
        "start_time": "2025-02-26T14:43:17.779Z"
      },
      {
        "duration": 12,
        "start_time": "2025-02-26T14:43:17.790Z"
      },
      {
        "duration": 874,
        "start_time": "2025-02-26T14:43:17.803Z"
      },
      {
        "duration": 50,
        "start_time": "2025-02-26T15:42:27.360Z"
      },
      {
        "duration": 151,
        "start_time": "2025-02-26T15:42:40.297Z"
      },
      {
        "duration": 169,
        "start_time": "2025-02-26T15:43:11.701Z"
      },
      {
        "duration": 53,
        "start_time": "2025-02-26T15:43:21.593Z"
      },
      {
        "duration": 3442,
        "start_time": "2025-02-26T15:51:45.255Z"
      },
      {
        "duration": 2747,
        "start_time": "2025-02-26T15:51:48.699Z"
      },
      {
        "duration": 27962,
        "start_time": "2025-02-26T15:51:51.448Z"
      },
      {
        "duration": 2871,
        "start_time": "2025-02-26T15:52:19.412Z"
      },
      {
        "duration": 416,
        "start_time": "2025-02-26T15:52:22.286Z"
      },
      {
        "duration": 2,
        "start_time": "2025-02-26T15:52:22.703Z"
      },
      {
        "duration": 2416,
        "start_time": "2025-02-26T15:52:22.706Z"
      },
      {
        "duration": 32,
        "start_time": "2025-02-26T15:52:25.123Z"
      },
      {
        "duration": 34,
        "start_time": "2025-02-26T15:52:25.156Z"
      },
      {
        "duration": 152,
        "start_time": "2025-02-26T15:52:25.192Z"
      },
      {
        "duration": 29,
        "start_time": "2025-02-26T15:52:25.345Z"
      },
      {
        "duration": 3,
        "start_time": "2025-02-26T15:52:25.376Z"
      },
      {
        "duration": 42,
        "start_time": "2025-02-26T15:52:25.381Z"
      },
      {
        "duration": 21,
        "start_time": "2025-02-26T15:52:25.425Z"
      },
      {
        "duration": 1105,
        "start_time": "2025-02-26T15:52:25.447Z"
      },
      {
        "duration": 8,
        "start_time": "2025-02-26T15:52:26.553Z"
      },
      {
        "duration": 91,
        "start_time": "2025-02-26T15:52:26.562Z"
      },
      {
        "duration": 7097,
        "start_time": "2025-02-26T15:52:26.655Z"
      },
      {
        "duration": 435,
        "start_time": "2025-02-26T15:52:33.754Z"
      },
      {
        "duration": 68,
        "start_time": "2025-02-26T15:52:34.190Z"
      },
      {
        "duration": 12,
        "start_time": "2025-02-26T15:52:34.259Z"
      },
      {
        "duration": 17,
        "start_time": "2025-02-26T15:52:34.272Z"
      },
      {
        "duration": 977,
        "start_time": "2025-02-26T15:52:34.290Z"
      },
      {
        "duration": 20,
        "start_time": "2025-02-26T15:52:35.269Z"
      },
      {
        "duration": 1520,
        "start_time": "2025-02-26T15:52:35.290Z"
      },
      {
        "duration": 27,
        "start_time": "2025-02-26T15:52:36.812Z"
      },
      {
        "duration": 2,
        "start_time": "2025-02-26T15:52:36.840Z"
      },
      {
        "duration": 3716,
        "start_time": "2025-02-26T15:52:36.844Z"
      },
      {
        "duration": 4,
        "start_time": "2025-02-26T15:52:40.561Z"
      },
      {
        "duration": 5490,
        "start_time": "2025-02-26T15:52:40.566Z"
      },
      {
        "duration": 322,
        "start_time": "2025-02-26T15:52:46.058Z"
      },
      {
        "duration": 4452,
        "start_time": "2025-02-26T15:52:46.382Z"
      },
      {
        "duration": 263,
        "start_time": "2025-02-26T15:52:50.836Z"
      },
      {
        "duration": 80,
        "start_time": "2025-02-26T15:52:51.101Z"
      },
      {
        "duration": 150,
        "start_time": "2025-02-26T15:52:51.183Z"
      },
      {
        "duration": 3063,
        "start_time": "2025-02-26T16:01:42.530Z"
      },
      {
        "duration": 2574,
        "start_time": "2025-02-26T16:01:45.596Z"
      },
      {
        "duration": 6275,
        "start_time": "2025-02-26T16:01:48.172Z"
      },
      {
        "duration": 2843,
        "start_time": "2025-02-26T16:01:54.449Z"
      },
      {
        "duration": 284,
        "start_time": "2025-02-26T16:01:57.294Z"
      },
      {
        "duration": 3,
        "start_time": "2025-02-26T16:01:57.579Z"
      },
      {
        "duration": 2110,
        "start_time": "2025-02-26T16:01:57.583Z"
      },
      {
        "duration": 26,
        "start_time": "2025-02-26T16:01:59.695Z"
      },
      {
        "duration": 7,
        "start_time": "2025-02-26T16:01:59.730Z"
      },
      {
        "duration": 133,
        "start_time": "2025-02-26T16:01:59.738Z"
      },
      {
        "duration": 29,
        "start_time": "2025-02-26T16:01:59.873Z"
      },
      {
        "duration": 36,
        "start_time": "2025-02-26T16:01:59.904Z"
      },
      {
        "duration": 11,
        "start_time": "2025-02-26T16:01:59.941Z"
      },
      {
        "duration": 12,
        "start_time": "2025-02-26T16:01:59.955Z"
      },
      {
        "duration": 1107,
        "start_time": "2025-02-26T16:01:59.968Z"
      },
      {
        "duration": 7,
        "start_time": "2025-02-26T16:02:01.077Z"
      },
      {
        "duration": 112,
        "start_time": "2025-02-26T16:02:01.086Z"
      },
      {
        "duration": 7240,
        "start_time": "2025-02-26T16:02:01.200Z"
      },
      {
        "duration": 428,
        "start_time": "2025-02-26T16:02:08.441Z"
      },
      {
        "duration": 70,
        "start_time": "2025-02-26T16:02:08.870Z"
      },
      {
        "duration": 2,
        "start_time": "2025-02-26T16:02:08.942Z"
      },
      {
        "duration": 73,
        "start_time": "2025-02-26T16:02:08.946Z"
      },
      {
        "duration": 703,
        "start_time": "2025-02-26T16:02:09.021Z"
      },
      {
        "duration": 19,
        "start_time": "2025-02-26T16:02:09.725Z"
      },
      {
        "duration": 1500,
        "start_time": "2025-02-26T16:02:09.745Z"
      },
      {
        "duration": 19,
        "start_time": "2025-02-26T16:02:11.246Z"
      },
      {
        "duration": 34,
        "start_time": "2025-02-26T16:02:11.267Z"
      },
      {
        "duration": 3997,
        "start_time": "2025-02-26T16:02:11.303Z"
      },
      {
        "duration": 4,
        "start_time": "2025-02-26T16:02:15.301Z"
      },
      {
        "duration": 5508,
        "start_time": "2025-02-26T16:02:15.306Z"
      },
      {
        "duration": 332,
        "start_time": "2025-02-26T16:02:20.815Z"
      },
      {
        "duration": 3876,
        "start_time": "2025-02-26T16:02:21.149Z"
      },
      {
        "duration": 264,
        "start_time": "2025-02-26T16:02:25.026Z"
      },
      {
        "duration": 27,
        "start_time": "2025-02-26T16:02:25.292Z"
      },
      {
        "duration": 116,
        "start_time": "2025-02-26T16:02:25.321Z"
      }
    ],
    "kernelspec": {
      "display_name": "Python 3 (ipykernel)",
      "language": "python",
      "name": "python3"
    },
    "language_info": {
      "codemirror_mode": {
        "name": "ipython",
        "version": 3
      },
      "file_extension": ".py",
      "mimetype": "text/x-python",
      "name": "python",
      "nbconvert_exporter": "python",
      "pygments_lexer": "ipython3",
      "version": "3.9.5"
    },
    "toc": {
      "base_numbering": 1,
      "nav_menu": {},
      "number_sections": true,
      "sideBar": true,
      "skip_h1_title": true,
      "title_cell": "Содержание",
      "title_sidebar": "Contents",
      "toc_cell": true,
      "toc_position": {
        "height": "calc(100% - 180px)",
        "left": "10px",
        "top": "150px",
        "width": "302.391px"
      },
      "toc_section_display": true,
      "toc_window_display": true
    },
    "colab": {
      "provenance": []
    }
  },
  "nbformat": 4,
  "nbformat_minor": 0
}