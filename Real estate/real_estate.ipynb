{
  "cells": [
    {
      "cell_type": "markdown",
      "id": "GEqQaHzsZ_bA",
      "metadata": {
        "id": "GEqQaHzsZ_bA"
      },
      "source": [
        "# Предсказание стоимости жилья"
      ]
    },
    {
      "cell_type": "markdown",
      "id": "fce5d486",
      "metadata": {
        "id": "fce5d486"
      },
      "source": [
        "## Описание исследования"
      ]
    },
    {
      "cell_type": "markdown",
      "id": "fa73317b",
      "metadata": {
        "id": "fa73317b"
      },
      "source": [
        "### Цель и задачи"
      ]
    },
    {
      "cell_type": "markdown",
      "id": "79c7967f",
      "metadata": {
        "id": "79c7967f"
      },
      "source": [
        "**Цель:** построить модель прогнозирования медианной стоимости дома в жилом массиве.\n",
        "\n",
        "**Задачи:**\n",
        "* провести загрузку и обзор данных;\n",
        "* провести подготовку данных (изменение типов, заполнение пропусков, трансформация);\n",
        "* построить и обучить модели линейной регрессии и оценить их качество (метрики RMSE, MAE и R2)."
      ]
    },
    {
      "cell_type": "markdown",
      "id": "c43c949a",
      "metadata": {
        "id": "c43c949a"
      },
      "source": [
        "### Описание данных"
      ]
    },
    {
      "cell_type": "markdown",
      "id": "13196b2f",
      "metadata": {
        "id": "13196b2f"
      },
      "source": [
        "Файл housing.csv содержит данные о жилье в Калифорнии в 1990 году, которые включают следующие признаки:\n",
        "\n",
        "* longitude — широта;\n",
        "* latitude — долгота;\n",
        "* housing_median_age — медианный возраст жителей жилого массива (примечание: вероятнее всего, имеется в виду медианный возраст домов, а не жителей);\n",
        "* total_rooms — общее количество комнат в домах жилого массива;\n",
        "* total_bedrooms — общее количество спален в домах жилого массива;\n",
        "* population — количество человек, которые проживают в жилом массиве;\n",
        "* households — количество домовладений в жилом массиве;\n",
        "* median_income — медианный доход жителей жилого массива;\n",
        "* median_house_value — медианная стоимость дома в жилом массиве (целевой признак);\n",
        "* ocean_proximity — близость к океану."
      ]
    },
    {
      "cell_type": "markdown",
      "id": "ad21836e",
      "metadata": {
        "id": "ad21836e"
      },
      "source": [
        "## Импорт библиотек и запуск Spark-сессии"
      ]
    },
    {
      "cell_type": "code",
      "execution_count": null,
      "id": "dd54f750",
      "metadata": {
        "scrolled": true,
        "id": "dd54f750"
      },
      "outputs": [],
      "source": [
        "import pandas as pd\n",
        "import numpy as np\n",
        "\n",
        "import pyspark\n",
        "from pyspark.sql import SparkSession\n",
        "from pyspark.sql.types import *\n",
        "import pyspark.sql.functions as F\n",
        "\n",
        "from pyspark.ml.feature import StringIndexer, VectorAssembler, StandardScaler\n",
        "from pyspark.ml.regression import LinearRegression\n",
        "from pyspark.ml.evaluation import RegressionEvaluator\n",
        "from pyspark.ml import Pipeline\n",
        "from pyspark.ml.tuning import CrossValidator, ParamGridBuilder\n",
        "\n",
        "pyspark_version = pyspark.__version__\n",
        "if int(pyspark_version[:1]) == 3:\n",
        "    from pyspark.ml.feature import OneHotEncoder\n",
        "elif int(pyspark_version[:1]) == 2:\n",
        "    from pyspark.ml.feature import OneHotEncodeEstimator"
      ]
    },
    {
      "cell_type": "code",
      "execution_count": null,
      "id": "0f5203fb",
      "metadata": {
        "id": "0f5203fb"
      },
      "outputs": [],
      "source": [
        "RANDOM_SEED = 42"
      ]
    },
    {
      "cell_type": "code",
      "execution_count": null,
      "id": "237d5e74",
      "metadata": {
        "id": "237d5e74"
      },
      "outputs": [],
      "source": [
        "spark = SparkSession.builder \\\n",
        "                    .master(\"local\") \\\n",
        "                    .appName(\"California Housing\") \\\n",
        "                    .getOrCreate()"
      ]
    },
    {
      "cell_type": "markdown",
      "id": "bb252745",
      "metadata": {
        "id": "bb252745"
      },
      "source": [
        "## Загрузка и обзор данных"
      ]
    },
    {
      "cell_type": "code",
      "execution_count": null,
      "id": "35a479c3",
      "metadata": {
        "scrolled": true,
        "id": "35a479c3",
        "outputId": "cc8ee803-4100-4785-9787-d3524305d8f0"
      },
      "outputs": [
        {
          "name": "stderr",
          "output_type": "stream",
          "text": [
            "                                                                                \r"
          ]
        }
      ],
      "source": [
        "df_housing = spark.read.option('header', 'true').csv('...', inferSchema = True)"
      ]
    },
    {
      "cell_type": "code",
      "execution_count": null,
      "id": "4d07979f",
      "metadata": {
        "scrolled": false,
        "id": "4d07979f",
        "outputId": "e4ff3c5c-be2a-43aa-8d58-6543d80b17d2"
      },
      "outputs": [
        {
          "name": "stdout",
          "output_type": "stream",
          "text": [
            "root\n",
            " |-- longitude: double (nullable = true)\n",
            " |-- latitude: double (nullable = true)\n",
            " |-- housing_median_age: double (nullable = true)\n",
            " |-- total_rooms: double (nullable = true)\n",
            " |-- total_bedrooms: double (nullable = true)\n",
            " |-- population: double (nullable = true)\n",
            " |-- households: double (nullable = true)\n",
            " |-- median_income: double (nullable = true)\n",
            " |-- median_house_value: double (nullable = true)\n",
            " |-- ocean_proximity: string (nullable = true)\n",
            "\n"
          ]
        }
      ],
      "source": [
        "df_housing.printSchema()"
      ]
    },
    {
      "cell_type": "code",
      "execution_count": null,
      "id": "840f4e27",
      "metadata": {
        "scrolled": true,
        "id": "840f4e27",
        "outputId": "d40cb713-6da7-4e04-9044-79789c5f7af7"
      },
      "outputs": [
        {
          "name": "stdout",
          "output_type": "stream",
          "text": [
            "+---------+--------+------------------+-----------+--------------+----------+----------+-------------+------------------+---------------+\n",
            "|longitude|latitude|housing_median_age|total_rooms|total_bedrooms|population|households|median_income|median_house_value|ocean_proximity|\n",
            "+---------+--------+------------------+-----------+--------------+----------+----------+-------------+------------------+---------------+\n",
            "|  -122.23|   37.88|              41.0|      880.0|         129.0|     322.0|     126.0|       8.3252|          452600.0|       NEAR BAY|\n",
            "|  -122.22|   37.86|              21.0|     7099.0|        1106.0|    2401.0|    1138.0|       8.3014|          358500.0|       NEAR BAY|\n",
            "|  -122.24|   37.85|              52.0|     1467.0|         190.0|     496.0|     177.0|       7.2574|          352100.0|       NEAR BAY|\n",
            "|  -122.25|   37.85|              52.0|     1274.0|         235.0|     558.0|     219.0|       5.6431|          341300.0|       NEAR BAY|\n",
            "|  -122.25|   37.85|              52.0|     1627.0|         280.0|     565.0|     259.0|       3.8462|          342200.0|       NEAR BAY|\n",
            "+---------+--------+------------------+-----------+--------------+----------+----------+-------------+------------------+---------------+\n",
            "only showing top 5 rows\n",
            "\n"
          ]
        }
      ],
      "source": [
        "df_housing.show(5)"
      ]
    },
    {
      "cell_type": "markdown",
      "id": "a781432b",
      "metadata": {
        "id": "a781432b"
      },
      "source": [
        "Признаки housing_median_age, total_rooms, total_bedrooms, population, households по сути являются целочисленными и могут быть преобразованы."
      ]
    },
    {
      "cell_type": "code",
      "execution_count": null,
      "id": "9895ecfa",
      "metadata": {
        "id": "9895ecfa",
        "outputId": "a0328b4e-963e-40df-c007-e0237987c70a"
      },
      "outputs": [
        {
          "name": "stderr",
          "output_type": "stream",
          "text": [
            "                                                                                \r"
          ]
        },
        {
          "data": {
            "text/html": [
              "<div>\n",
              "<style scoped>\n",
              "    .dataframe tbody tr th:only-of-type {\n",
              "        vertical-align: middle;\n",
              "    }\n",
              "\n",
              "    .dataframe tbody tr th {\n",
              "        vertical-align: top;\n",
              "    }\n",
              "\n",
              "    .dataframe thead th {\n",
              "        text-align: right;\n",
              "    }\n",
              "</style>\n",
              "<table border=\"1\" class=\"dataframe\">\n",
              "  <thead>\n",
              "    <tr style=\"text-align: right;\">\n",
              "      <th>summary</th>\n",
              "      <th>count</th>\n",
              "      <th>mean</th>\n",
              "      <th>stddev</th>\n",
              "      <th>min</th>\n",
              "      <th>25%</th>\n",
              "      <th>50%</th>\n",
              "      <th>75%</th>\n",
              "      <th>max</th>\n",
              "    </tr>\n",
              "  </thead>\n",
              "  <tbody>\n",
              "    <tr>\n",
              "      <th>longitude</th>\n",
              "      <td>20640</td>\n",
              "      <td>-119.569704</td>\n",
              "      <td>2.003532</td>\n",
              "      <td>-124.35</td>\n",
              "      <td>-121.8</td>\n",
              "      <td>-118.49</td>\n",
              "      <td>-118.01</td>\n",
              "      <td>-114.31</td>\n",
              "    </tr>\n",
              "    <tr>\n",
              "      <th>latitude</th>\n",
              "      <td>20640</td>\n",
              "      <td>35.631861</td>\n",
              "      <td>2.135952</td>\n",
              "      <td>32.54</td>\n",
              "      <td>33.93</td>\n",
              "      <td>34.26</td>\n",
              "      <td>37.71</td>\n",
              "      <td>41.95</td>\n",
              "    </tr>\n",
              "    <tr>\n",
              "      <th>housing_median_age</th>\n",
              "      <td>20640</td>\n",
              "      <td>28.639486</td>\n",
              "      <td>12.585558</td>\n",
              "      <td>1.0</td>\n",
              "      <td>18.0</td>\n",
              "      <td>29.0</td>\n",
              "      <td>37.0</td>\n",
              "      <td>52.0</td>\n",
              "    </tr>\n",
              "    <tr>\n",
              "      <th>total_rooms</th>\n",
              "      <td>20640</td>\n",
              "      <td>2635.763081</td>\n",
              "      <td>2181.615252</td>\n",
              "      <td>2.0</td>\n",
              "      <td>1447.0</td>\n",
              "      <td>2127.0</td>\n",
              "      <td>3146.0</td>\n",
              "      <td>39320.0</td>\n",
              "    </tr>\n",
              "    <tr>\n",
              "      <th>total_bedrooms</th>\n",
              "      <td>20433</td>\n",
              "      <td>537.870553</td>\n",
              "      <td>421.385070</td>\n",
              "      <td>1.0</td>\n",
              "      <td>296.0</td>\n",
              "      <td>435.0</td>\n",
              "      <td>647.0</td>\n",
              "      <td>6445.0</td>\n",
              "    </tr>\n",
              "    <tr>\n",
              "      <th>population</th>\n",
              "      <td>20640</td>\n",
              "      <td>1425.476744</td>\n",
              "      <td>1132.462122</td>\n",
              "      <td>3.0</td>\n",
              "      <td>787.0</td>\n",
              "      <td>1166.0</td>\n",
              "      <td>1724.0</td>\n",
              "      <td>35682.0</td>\n",
              "    </tr>\n",
              "    <tr>\n",
              "      <th>households</th>\n",
              "      <td>20640</td>\n",
              "      <td>499.539680</td>\n",
              "      <td>382.329753</td>\n",
              "      <td>1.0</td>\n",
              "      <td>280.0</td>\n",
              "      <td>409.0</td>\n",
              "      <td>605.0</td>\n",
              "      <td>6082.0</td>\n",
              "    </tr>\n",
              "    <tr>\n",
              "      <th>median_income</th>\n",
              "      <td>20640</td>\n",
              "      <td>3.870671</td>\n",
              "      <td>1.899822</td>\n",
              "      <td>0.4999</td>\n",
              "      <td>2.5625</td>\n",
              "      <td>3.5347</td>\n",
              "      <td>4.7426</td>\n",
              "      <td>15.0001</td>\n",
              "    </tr>\n",
              "    <tr>\n",
              "      <th>median_house_value</th>\n",
              "      <td>20640</td>\n",
              "      <td>206855.816909</td>\n",
              "      <td>115395.615874</td>\n",
              "      <td>14999.0</td>\n",
              "      <td>119600.0</td>\n",
              "      <td>179700.0</td>\n",
              "      <td>264700.0</td>\n",
              "      <td>500001.0</td>\n",
              "    </tr>\n",
              "    <tr>\n",
              "      <th>ocean_proximity</th>\n",
              "      <td>20640</td>\n",
              "      <td>NaN</td>\n",
              "      <td>NaN</td>\n",
              "      <td>&lt;1H OCEAN</td>\n",
              "      <td>None</td>\n",
              "      <td>None</td>\n",
              "      <td>None</td>\n",
              "      <td>NEAR OCEAN</td>\n",
              "    </tr>\n",
              "  </tbody>\n",
              "</table>\n",
              "</div>"
            ],
            "text/plain": [
              "summary             count           mean         stddev        min       25%  \\\n",
              "longitude           20640    -119.569704       2.003532    -124.35    -121.8   \n",
              "latitude            20640      35.631861       2.135952      32.54     33.93   \n",
              "housing_median_age  20640      28.639486      12.585558        1.0      18.0   \n",
              "total_rooms         20640    2635.763081    2181.615252        2.0    1447.0   \n",
              "total_bedrooms      20433     537.870553     421.385070        1.0     296.0   \n",
              "population          20640    1425.476744    1132.462122        3.0     787.0   \n",
              "households          20640     499.539680     382.329753        1.0     280.0   \n",
              "median_income       20640       3.870671       1.899822     0.4999    2.5625   \n",
              "median_house_value  20640  206855.816909  115395.615874    14999.0  119600.0   \n",
              "ocean_proximity     20640            NaN            NaN  <1H OCEAN      None   \n",
              "\n",
              "summary                  50%       75%         max  \n",
              "longitude            -118.49   -118.01     -114.31  \n",
              "latitude               34.26     37.71       41.95  \n",
              "housing_median_age      29.0      37.0        52.0  \n",
              "total_rooms           2127.0    3146.0     39320.0  \n",
              "total_bedrooms         435.0     647.0      6445.0  \n",
              "population            1166.0    1724.0     35682.0  \n",
              "households             409.0     605.0      6082.0  \n",
              "median_income         3.5347    4.7426     15.0001  \n",
              "median_house_value  179700.0  264700.0    500001.0  \n",
              "ocean_proximity         None      None  NEAR OCEAN  "
            ]
          },
          "execution_count": 7,
          "metadata": {},
          "output_type": "execute_result"
        }
      ],
      "source": [
        "df_housing.summary().toPandas().set_index('summary').T \\\n",
        "          .astype({'mean': 'float', 'stddev': 'float'})"
      ]
    },
    {
      "cell_type": "markdown",
      "id": "82977650",
      "metadata": {
        "id": "82977650"
      },
      "source": [
        "Описательная статистика не показывает явных аномалий в значениях признаков (если под housing_median_age все-таки понимать медианный возраст домов)."
      ]
    },
    {
      "cell_type": "markdown",
      "id": "2da59fdf",
      "metadata": {
        "id": "2da59fdf"
      },
      "source": [
        "Рассмотрим уникальные значения признака ocean_proximity."
      ]
    },
    {
      "cell_type": "code",
      "execution_count": null,
      "id": "5dc9088b",
      "metadata": {
        "id": "5dc9088b",
        "outputId": "d45f9fcc-a091-4a00-fab6-857eee9de5f0"
      },
      "outputs": [
        {
          "name": "stderr",
          "output_type": "stream",
          "text": [
            "[Stage 14:=========================================>              (56 + 2) / 75]\r"
          ]
        },
        {
          "name": "stdout",
          "output_type": "stream",
          "text": [
            "+---------------+\n",
            "|ocean_proximity|\n",
            "+---------------+\n",
            "|         ISLAND|\n",
            "|     NEAR OCEAN|\n",
            "|       NEAR BAY|\n",
            "|      <1H OCEAN|\n",
            "|         INLAND|\n",
            "+---------------+\n",
            "\n"
          ]
        },
        {
          "name": "stderr",
          "output_type": "stream",
          "text": [
            "                                                                                \r"
          ]
        }
      ],
      "source": [
        "df_housing.select('ocean_proximity').distinct().show()"
      ]
    },
    {
      "cell_type": "markdown",
      "id": "d0fac999",
      "metadata": {
        "id": "d0fac999"
      },
      "source": [
        "Всего 5 значений, неявных дубликатов нет."
      ]
    },
    {
      "cell_type": "markdown",
      "id": "53871372",
      "metadata": {
        "id": "53871372"
      },
      "source": [
        "## Подготовка данных"
      ]
    },
    {
      "cell_type": "markdown",
      "id": "d84d9629",
      "metadata": {
        "id": "d84d9629"
      },
      "source": [
        "### Изменение типов данных"
      ]
    },
    {
      "cell_type": "markdown",
      "id": "f06e2728",
      "metadata": {
        "id": "f06e2728"
      },
      "source": [
        "Изменим типы данных в housing_median_age, total_rooms, total_bedrooms, population и households на целочисленные."
      ]
    },
    {
      "cell_type": "code",
      "execution_count": null,
      "id": "70860ea9",
      "metadata": {
        "scrolled": true,
        "id": "70860ea9",
        "outputId": "ae9671a3-7cc0-44dd-f5d1-fc2921bb952d"
      },
      "outputs": [
        {
          "name": "stdout",
          "output_type": "stream",
          "text": [
            "root\n",
            " |-- longitude: double (nullable = true)\n",
            " |-- latitude: double (nullable = true)\n",
            " |-- housing_median_age: integer (nullable = true)\n",
            " |-- total_rooms: integer (nullable = true)\n",
            " |-- total_bedrooms: integer (nullable = true)\n",
            " |-- population: integer (nullable = true)\n",
            " |-- households: integer (nullable = true)\n",
            " |-- median_income: double (nullable = true)\n",
            " |-- median_house_value: double (nullable = true)\n",
            " |-- ocean_proximity: string (nullable = true)\n",
            "\n"
          ]
        }
      ],
      "source": [
        "columns = ['housing_median_age', 'total_rooms', 'total_bedrooms', 'population', 'households']\n",
        "\n",
        "for column in columns:\n",
        "    df_housing = df_housing.withColumn(column, df_housing[column].cast(IntegerType()))\n",
        "\n",
        "df_housing.printSchema()"
      ]
    },
    {
      "cell_type": "markdown",
      "id": "fc6c23e0",
      "metadata": {
        "id": "fc6c23e0"
      },
      "source": [
        "Типы изменены."
      ]
    },
    {
      "cell_type": "markdown",
      "id": "f45621b0",
      "metadata": {
        "id": "f45621b0"
      },
      "source": [
        "### Обработка пропусков"
      ]
    },
    {
      "cell_type": "markdown",
      "id": "0c22afbc",
      "metadata": {
        "id": "0c22afbc"
      },
      "source": [
        "Подсчитаем количество пропусков в каждом столбце."
      ]
    },
    {
      "cell_type": "code",
      "execution_count": null,
      "id": "258a6a23",
      "metadata": {
        "scrolled": true,
        "id": "258a6a23",
        "outputId": "03660eaf-d7de-4834-ab13-69b8dba92e16"
      },
      "outputs": [
        {
          "name": "stdout",
          "output_type": "stream",
          "text": [
            "longitude 0\n",
            "latitude 0\n",
            "housing_median_age 0\n",
            "total_rooms 0\n",
            "total_bedrooms 207\n",
            "population 0\n",
            "households 0\n",
            "median_income 0\n",
            "median_house_value 0\n",
            "ocean_proximity 0\n"
          ]
        }
      ],
      "source": [
        "columns = df_housing.columns\n",
        "\n",
        "for column in columns:\n",
        "    print(column, df_housing.filter(df_housing[column].isNull()).count())"
      ]
    },
    {
      "cell_type": "markdown",
      "id": "4714d078",
      "metadata": {
        "id": "4714d078"
      },
      "source": [
        "Обнаружено 207 пропусков в total_bedrooms. Заменим их по следующей формуле:\n",
        "\n",
        "total_bedrooms = total_rooms * avg(total_bedrooms / total_rooms)"
      ]
    },
    {
      "cell_type": "code",
      "execution_count": null,
      "id": "b058cb46",
      "metadata": {
        "id": "b058cb46"
      },
      "outputs": [],
      "source": [
        "df_housing = df_housing.withColumn('bedrooms_ratio', F.col('total_bedrooms') /  F.col('total_rooms'))\n",
        "bedrooms_ratio_avg = df_housing.groupBy().avg('bedrooms_ratio').take(1)[0][0]\n",
        "df_housing = df_housing.withColumn('suggested_total_bedrooms', bedrooms_ratio_avg * F.col('total_rooms'))\n",
        "df_housing = df_housing.withColumn('total_bedrooms', F.coalesce('total_bedrooms', 'suggested_total_bedrooms').cast(IntegerType()))\n",
        "df_housing = df_housing.drop('bedrooms_ratio', 'suggested_total_bedrooms')"
      ]
    },
    {
      "cell_type": "code",
      "execution_count": null,
      "id": "813e7f6a",
      "metadata": {
        "scrolled": false,
        "id": "813e7f6a",
        "outputId": "a01d2ab3-de6f-4d73-81f2-ced20e299df1"
      },
      "outputs": [
        {
          "name": "stdout",
          "output_type": "stream",
          "text": [
            "longitude 0\n",
            "latitude 0\n",
            "housing_median_age 0\n",
            "total_rooms 0\n",
            "total_bedrooms 0\n",
            "population 0\n",
            "households 0\n",
            "median_income 0\n",
            "median_house_value 0\n",
            "ocean_proximity 0\n"
          ]
        }
      ],
      "source": [
        "columns = df_housing.columns\n",
        "\n",
        "for column in columns:\n",
        "    print(column, df_housing.filter(df_housing[column].isNull()).count())"
      ]
    },
    {
      "cell_type": "markdown",
      "id": "fab94d9b",
      "metadata": {
        "id": "fab94d9b"
      },
      "source": [
        "Пропуски устранены."
      ]
    },
    {
      "cell_type": "markdown",
      "id": "bab2bde9",
      "metadata": {
        "id": "bab2bde9"
      },
      "source": [
        "### Добавление признаков"
      ]
    },
    {
      "cell_type": "markdown",
      "id": "3d1d6ce4",
      "metadata": {
        "id": "3d1d6ce4"
      },
      "source": [
        "Добавим признаки:\n",
        "* число комнат на одно домовладение;\n",
        "* число жителей в одном домовладении;\n",
        "* отношение числа спален к общему числу комнат."
      ]
    },
    {
      "cell_type": "code",
      "execution_count": null,
      "id": "d96c17b1",
      "metadata": {
        "id": "d96c17b1",
        "outputId": "63b49dfb-198f-43ce-efb2-e33721d2adf4"
      },
      "outputs": [
        {
          "name": "stdout",
          "output_type": "stream",
          "text": [
            "root\n",
            " |-- longitude: double (nullable = true)\n",
            " |-- latitude: double (nullable = true)\n",
            " |-- housing_median_age: integer (nullable = true)\n",
            " |-- total_rooms: integer (nullable = true)\n",
            " |-- total_bedrooms: integer (nullable = true)\n",
            " |-- population: integer (nullable = true)\n",
            " |-- households: integer (nullable = true)\n",
            " |-- median_income: double (nullable = true)\n",
            " |-- median_house_value: double (nullable = true)\n",
            " |-- ocean_proximity: string (nullable = true)\n",
            " |-- rooms_per_household: double (nullable = true)\n",
            " |-- population_per_household: double (nullable = true)\n",
            " |-- bedroom_index: double (nullable = true)\n",
            "\n"
          ]
        }
      ],
      "source": [
        "df_housing = df_housing.withColumn('rooms_per_household', F.col('total_rooms')/F.col('households'))\n",
        "df_housing = df_housing.withColumn('population_per_household', F.col('population')/F.col('households'))\n",
        "df_housing = df_housing.withColumn('bedroom_index', F.col('total_bedrooms')/F.col('total_rooms'))\n",
        "\n",
        "df_housing.printSchema()"
      ]
    },
    {
      "cell_type": "markdown",
      "id": "5f1d2bde",
      "metadata": {
        "id": "5f1d2bde"
      },
      "source": [
        "### Трансформация признаков"
      ]
    },
    {
      "cell_type": "markdown",
      "id": "c22851d1",
      "metadata": {
        "id": "c22851d1"
      },
      "source": [
        "Разделим данные на тренировочную (75%) и тестовую (25%) выборки."
      ]
    },
    {
      "cell_type": "code",
      "execution_count": null,
      "id": "fc428f2b",
      "metadata": {
        "scrolled": true,
        "id": "fc428f2b",
        "outputId": "d499492d-3d01-499e-c4a0-d4155541832b"
      },
      "outputs": [
        {
          "name": "stdout",
          "output_type": "stream",
          "text": [
            "15500 5140\n"
          ]
        }
      ],
      "source": [
        "train_data, test_data = df_housing.randomSplit([.75,.25], seed=RANDOM_SEED)\n",
        "print(train_data.count(), test_data.count())"
      ]
    },
    {
      "cell_type": "markdown",
      "id": "683064d3",
      "metadata": {
        "id": "683064d3"
      },
      "source": [
        "Сохраним исходный train_data (понадобится в будущем для пайплайна)."
      ]
    },
    {
      "cell_type": "code",
      "execution_count": null,
      "id": "09cfbeeb",
      "metadata": {
        "id": "09cfbeeb"
      },
      "outputs": [],
      "source": [
        "train_data_orig = train_data"
      ]
    },
    {
      "cell_type": "markdown",
      "id": "7e32ce17",
      "metadata": {
        "id": "7e32ce17"
      },
      "source": [
        "Разделим столбцы на типы."
      ]
    },
    {
      "cell_type": "code",
      "execution_count": null,
      "id": "5c5aaf48",
      "metadata": {
        "id": "5c5aaf48"
      },
      "outputs": [],
      "source": [
        "categorical_col = 'ocean_proximity'\n",
        "numerical_cols  = ['longitude', 'latitude', 'housing_median_age', 'total_rooms', \\\n",
        "                   'total_bedrooms', 'population', 'households', 'median_income', \\\n",
        "                   'rooms_per_household', 'population_per_household', 'bedroom_index']\n",
        "target = 'median_house_value'"
      ]
    },
    {
      "cell_type": "markdown",
      "id": "1ca206e1",
      "metadata": {
        "id": "1ca206e1"
      },
      "source": [
        "Трансформируем категориальные признаки с помощью трансформера StringIndexer"
      ]
    },
    {
      "cell_type": "code",
      "execution_count": null,
      "id": "5f5dd4ef",
      "metadata": {
        "id": "5f5dd4ef",
        "outputId": "5d6e3c02-0ef8-45e7-f478-1f07d325919b"
      },
      "outputs": [
        {
          "name": "stderr",
          "output_type": "stream",
          "text": [
            "                                                                                \r"
          ]
        },
        {
          "name": "stdout",
          "output_type": "stream",
          "text": [
            "+-------------------+\n",
            "|ocean_proximity_idx|\n",
            "+-------------------+\n",
            "|                2.0|\n",
            "|                2.0|\n",
            "|                2.0|\n",
            "+-------------------+\n",
            "only showing top 3 rows\n",
            "\n"
          ]
        }
      ],
      "source": [
        "indexer = StringIndexer(inputCol=categorical_col,\n",
        "                        outputCol=categorical_col+'_idx',\n",
        "                        handleInvalid='skip'\n",
        "                       )\n",
        "\n",
        "train_data = indexer.fit(train_data).transform(train_data)\n",
        "\n",
        "train_data.select(categorical_col+'_idx').show(3)"
      ]
    },
    {
      "cell_type": "markdown",
      "id": "6a999a4f",
      "metadata": {
        "id": "6a999a4f"
      },
      "source": [
        "Закодируем с помощью OneHotEncoder."
      ]
    },
    {
      "cell_type": "code",
      "execution_count": null,
      "id": "1398adc6",
      "metadata": {
        "scrolled": false,
        "id": "1398adc6",
        "outputId": "ca5e5798-ea77-4f94-9d58-4227825fc1d5"
      },
      "outputs": [
        {
          "name": "stdout",
          "output_type": "stream",
          "text": [
            "+-------------------+\n",
            "|ocean_proximity_ohe|\n",
            "+-------------------+\n",
            "|      (5,[2],[1.0])|\n",
            "|      (5,[2],[1.0])|\n",
            "|      (5,[2],[1.0])|\n",
            "+-------------------+\n",
            "only showing top 3 rows\n",
            "\n"
          ]
        }
      ],
      "source": [
        "encoder = OneHotEncoder(inputCol=categorical_col+'_idx',\n",
        "                        outputCol=categorical_col+'_ohe',\n",
        "                        handleInvalid='keep',\n",
        "                        dropLast=True\n",
        "                       )\n",
        "train_data = encoder.fit(train_data).transform(train_data)\n",
        "\n",
        "train_data.select(categorical_col+'_ohe').show(3)"
      ]
    },
    {
      "cell_type": "markdown",
      "id": "4c18b8df",
      "metadata": {
        "id": "4c18b8df"
      },
      "source": [
        "Проведем масштабирование числовых признаков."
      ]
    },
    {
      "cell_type": "code",
      "execution_count": null,
      "id": "774cc765",
      "metadata": {
        "id": "774cc765",
        "outputId": "6b7cb828-fcb4-4115-b02e-b6aabd2674db"
      },
      "outputs": [
        {
          "name": "stderr",
          "output_type": "stream",
          "text": [
            "                                                                                \r"
          ]
        }
      ],
      "source": [
        "numerical_assembler = VectorAssembler(inputCols=numerical_cols,\n",
        "                                      outputCol='numerical_features')\n",
        "train_data = numerical_assembler.transform(train_data)\n",
        "\n",
        "standardScaler = StandardScaler(inputCol='numerical_features',\n",
        "                                outputCol=\"numerical_features_scaled\")\n",
        "train_data = standardScaler.fit(train_data).transform(train_data)"
      ]
    },
    {
      "cell_type": "code",
      "execution_count": null,
      "id": "9ca31453",
      "metadata": {
        "scrolled": false,
        "id": "9ca31453",
        "outputId": "053bcab9-9e74-4483-9e5c-011b9fd0a967"
      },
      "outputs": [
        {
          "data": {
            "text/plain": [
              "['longitude',\n",
              " 'latitude',\n",
              " 'housing_median_age',\n",
              " 'total_rooms',\n",
              " 'total_bedrooms',\n",
              " 'population',\n",
              " 'households',\n",
              " 'median_income',\n",
              " 'median_house_value',\n",
              " 'ocean_proximity',\n",
              " 'rooms_per_household',\n",
              " 'population_per_household',\n",
              " 'bedroom_index',\n",
              " 'ocean_proximity_idx',\n",
              " 'ocean_proximity_ohe',\n",
              " 'numerical_features',\n",
              " 'numerical_features_scaled']"
            ]
          },
          "execution_count": 20,
          "metadata": {},
          "output_type": "execute_result"
        }
      ],
      "source": [
        "train_data.columns"
      ]
    },
    {
      "cell_type": "markdown",
      "id": "966fd630",
      "metadata": {
        "id": "966fd630"
      },
      "source": [
        "Cоберем все трансформированные признаки в вектора."
      ]
    },
    {
      "cell_type": "code",
      "execution_count": null,
      "id": "786f2c57",
      "metadata": {
        "scrolled": true,
        "id": "786f2c57",
        "outputId": "8eeaaeb5-e1ec-4312-8be5-530d5128b559"
      },
      "outputs": [
        {
          "name": "stdout",
          "output_type": "stream",
          "text": [
            "+--------------------+\n",
            "| features_vector_all|\n",
            "+--------------------+\n",
            "|[0.0,0.0,1.0,0.0,...|\n",
            "|[0.0,0.0,1.0,0.0,...|\n",
            "|[0.0,0.0,1.0,0.0,...|\n",
            "+--------------------+\n",
            "only showing top 3 rows\n",
            "\n"
          ]
        },
        {
          "name": "stderr",
          "output_type": "stream",
          "text": [
            "                                                                                \r"
          ]
        }
      ],
      "source": [
        "all_features = ['ocean_proximity_ohe','numerical_features_scaled']\n",
        "\n",
        "final_assembler = VectorAssembler(inputCols=all_features,\n",
        "                                  outputCol='features_vector_all')\n",
        "train_data = final_assembler.transform(train_data)\n",
        "\n",
        "train_data.select('features_vector_all').show(3)"
      ]
    },
    {
      "cell_type": "markdown",
      "id": "e6847b11",
      "metadata": {
        "id": "e6847b11"
      },
      "source": [
        "## Обучение моделей"
      ]
    },
    {
      "cell_type": "markdown",
      "id": "5934873f",
      "metadata": {
        "id": "5934873f"
      },
      "source": [
        "### Построение модели (все признаки)"
      ]
    },
    {
      "cell_type": "markdown",
      "id": "5b8e9933",
      "metadata": {
        "id": "5b8e9933"
      },
      "source": [
        "Инициализируем модель."
      ]
    },
    {
      "cell_type": "code",
      "execution_count": null,
      "id": "cb3e2241",
      "metadata": {
        "id": "cb3e2241"
      },
      "outputs": [],
      "source": [
        "lr_all= LinearRegression(labelCol=target, featuresCol='features_vector_all')"
      ]
    },
    {
      "cell_type": "markdown",
      "id": "06b9826b",
      "metadata": {
        "id": "06b9826b"
      },
      "source": [
        "Сформируем пайплайн."
      ]
    },
    {
      "cell_type": "code",
      "execution_count": null,
      "id": "8148cd65",
      "metadata": {
        "id": "8148cd65"
      },
      "outputs": [],
      "source": [
        "pipeline_all = Pipeline(stages=[indexer, encoder, numerical_assembler, standardScaler, final_assembler, lr_all])"
      ]
    },
    {
      "cell_type": "markdown",
      "id": "e234ca6f",
      "metadata": {
        "id": "e234ca6f"
      },
      "source": [
        "Обучим модель на тренировочных данных."
      ]
    },
    {
      "cell_type": "code",
      "execution_count": null,
      "id": "1401a8b0",
      "metadata": {
        "id": "1401a8b0"
      },
      "outputs": [],
      "source": [
        "train_data = train_data_orig"
      ]
    },
    {
      "cell_type": "code",
      "execution_count": null,
      "id": "0fc4fc16",
      "metadata": {
        "scrolled": false,
        "id": "0fc4fc16",
        "outputId": "10318d97-0010-41aa-befe-8b4017804a88"
      },
      "outputs": [
        {
          "name": "stderr",
          "output_type": "stream",
          "text": [
            "24/10/18 06:29:07 WARN Instrumentation: [d4429d51] regParam is zero, which might cause numerical instability and overfitting.\n",
            "24/10/18 06:29:07 WARN BLAS: Failed to load implementation from: com.github.fommil.netlib.NativeSystemBLAS\n",
            "24/10/18 06:29:07 WARN BLAS: Failed to load implementation from: com.github.fommil.netlib.NativeRefBLAS\n",
            "24/10/18 06:29:08 WARN LAPACK: Failed to load implementation from: com.github.fommil.netlib.NativeSystemLAPACK\n",
            "24/10/18 06:29:08 WARN LAPACK: Failed to load implementation from: com.github.fommil.netlib.NativeRefLAPACK\n",
            "24/10/18 06:29:08 WARN Instrumentation: [d4429d51] Cholesky solver failed due to singular covariance matrix. Retrying with Quasi-Newton solver.\n",
            "                                                                                \r"
          ]
        }
      ],
      "source": [
        "model_all = pipeline_all.fit(train_data)"
      ]
    },
    {
      "cell_type": "markdown",
      "id": "160df1f8",
      "metadata": {
        "id": "160df1f8"
      },
      "source": [
        "Рассчитаем прогноз по тестовым данным."
      ]
    },
    {
      "cell_type": "code",
      "execution_count": null,
      "id": "a2dcca90",
      "metadata": {
        "id": "a2dcca90"
      },
      "outputs": [],
      "source": [
        "predictions = model_all.transform(test_data)"
      ]
    },
    {
      "cell_type": "markdown",
      "id": "bf8e95b1",
      "metadata": {
        "id": "bf8e95b1"
      },
      "source": [
        "Сравним прогнозы модели с фактическими значениями."
      ]
    },
    {
      "cell_type": "code",
      "execution_count": null,
      "id": "d38c8110",
      "metadata": {
        "id": "d38c8110",
        "outputId": "eb973239-2957-42f3-8a30-98917bc7c75c"
      },
      "outputs": [
        {
          "name": "stdout",
          "output_type": "stream",
          "text": [
            "+------------------+------------------+\n",
            "|median_house_value|        prediction|\n",
            "+------------------+------------------+\n",
            "|          103600.0|141070.95117979078|\n",
            "|          106700.0|208419.22512170626|\n",
            "|           73200.0| 114155.8161535575|\n",
            "|           78300.0|118362.74095215462|\n",
            "|           90100.0|187551.75832259795|\n",
            "|           67000.0|147182.33354985062|\n",
            "|           86400.0|177986.33904408012|\n",
            "|           70500.0| 155867.5552616478|\n",
            "|           60000.0|193487.78904044395|\n",
            "|           75500.0|158737.61068140622|\n",
            "|          109400.0| 158557.5952445669|\n",
            "|           85100.0|173717.64104787633|\n",
            "|           92700.0| 176060.9773799493|\n",
            "|           80500.0| 179541.0197153655|\n",
            "|           96000.0|  162475.556768307|\n",
            "|           75500.0|131402.24326224625|\n",
            "|           75000.0| 92704.42324697645|\n",
            "|          100600.0|182298.19835487613|\n",
            "|           74100.0|150981.18114304077|\n",
            "|           66800.0|130784.45854256907|\n",
            "+------------------+------------------+\n",
            "only showing top 20 rows\n",
            "\n"
          ]
        }
      ],
      "source": [
        "predicted_values = predictions.select(target, 'prediction')\n",
        "predicted_values.show()"
      ]
    },
    {
      "cell_type": "markdown",
      "id": "2b637a79",
      "metadata": {
        "id": "2b637a79"
      },
      "source": [
        "Рассчитаем метрики RMSE, MAE и R2."
      ]
    },
    {
      "cell_type": "code",
      "execution_count": null,
      "id": "b9b03c3e",
      "metadata": {
        "scrolled": true,
        "id": "b9b03c3e",
        "outputId": "782ccae4-e58e-4911-974f-ec667714b425"
      },
      "outputs": [
        {
          "data": {
            "text/html": [
              "<div>\n",
              "<style scoped>\n",
              "    .dataframe tbody tr th:only-of-type {\n",
              "        vertical-align: middle;\n",
              "    }\n",
              "\n",
              "    .dataframe tbody tr th {\n",
              "        vertical-align: top;\n",
              "    }\n",
              "\n",
              "    .dataframe thead th {\n",
              "        text-align: right;\n",
              "    }\n",
              "</style>\n",
              "<table border=\"1\" class=\"dataframe\">\n",
              "  <thead>\n",
              "    <tr style=\"text-align: right;\">\n",
              "      <th></th>\n",
              "      <th>all_features</th>\n",
              "    </tr>\n",
              "  </thead>\n",
              "  <tbody>\n",
              "    <tr>\n",
              "      <th>RMSE</th>\n",
              "      <td>69507.472482</td>\n",
              "    </tr>\n",
              "    <tr>\n",
              "      <th>MAE</th>\n",
              "      <td>49590.334253</td>\n",
              "    </tr>\n",
              "    <tr>\n",
              "      <th>R2</th>\n",
              "      <td>0.644045</td>\n",
              "    </tr>\n",
              "  </tbody>\n",
              "</table>\n",
              "</div>"
            ],
            "text/plain": [
              "      all_features\n",
              "RMSE  69507.472482\n",
              "MAE   49590.334253\n",
              "R2        0.644045"
            ]
          },
          "execution_count": 28,
          "metadata": {},
          "output_type": "execute_result"
        }
      ],
      "source": [
        "def compute_metrics(predicted_values):\n",
        "    metrics = {}\n",
        "    metrics['RMSE'] = RegressionEvaluator(predictionCol='prediction',\n",
        "                                          labelCol=target,\n",
        "                                          metricName='rmse'\n",
        "                                         ).evaluate(predicted_values)\n",
        "\n",
        "    metrics['MAE'] = RegressionEvaluator(predictionCol='prediction',\n",
        "                                         labelCol=target,\n",
        "                                         metricName='mae'\n",
        "                                        ).evaluate(predicted_values)\n",
        "\n",
        "    metrics['R2'] = RegressionEvaluator(predictionCol='prediction',\n",
        "                                        labelCol=target,\n",
        "                                        metricName='r2'\n",
        "                                       ).evaluate(predicted_values)\n",
        "    return metrics\n",
        "\n",
        "metrics = compute_metrics(predicted_values)\n",
        "\n",
        "df_metrics_all = pd.DataFrame.from_dict(metrics,\n",
        "                                        orient='index',\n",
        "                                        columns=['all_features']\n",
        "                                       )\n",
        "df_metrics_all"
      ]
    },
    {
      "cell_type": "markdown",
      "id": "2675b7a9",
      "metadata": {
        "id": "2675b7a9"
      },
      "source": [
        "Модель показала невысокие метрики."
      ]
    },
    {
      "cell_type": "markdown",
      "id": "3a2756f3",
      "metadata": {
        "id": "3a2756f3"
      },
      "source": [
        "### Построение модели (только числовые признаки)"
      ]
    },
    {
      "cell_type": "markdown",
      "id": "83d45f6b",
      "metadata": {
        "id": "83d45f6b"
      },
      "source": [
        "Инициализируем модель только с числовыми признаками"
      ]
    },
    {
      "cell_type": "code",
      "execution_count": null,
      "id": "b1c26022",
      "metadata": {
        "scrolled": true,
        "id": "b1c26022"
      },
      "outputs": [],
      "source": [
        "lr_numeric = LinearRegression(labelCol=target, featuresCol='numerical_features_scaled')"
      ]
    },
    {
      "cell_type": "markdown",
      "id": "c386fd9b",
      "metadata": {
        "id": "c386fd9b"
      },
      "source": [
        "Обновим пайплайн."
      ]
    },
    {
      "cell_type": "code",
      "execution_count": null,
      "id": "db8507cb",
      "metadata": {
        "id": "db8507cb"
      },
      "outputs": [],
      "source": [
        "pipeline_numerical = Pipeline(stages=[numerical_assembler, standardScaler, lr_numeric])"
      ]
    },
    {
      "cell_type": "markdown",
      "id": "ba6af461",
      "metadata": {
        "id": "ba6af461"
      },
      "source": [
        "Обучим модель."
      ]
    },
    {
      "cell_type": "code",
      "execution_count": null,
      "id": "66825b94",
      "metadata": {
        "id": "66825b94",
        "outputId": "f0518e40-5de5-4b30-d3e4-90daf3fadb3b"
      },
      "outputs": [
        {
          "name": "stderr",
          "output_type": "stream",
          "text": [
            "24/10/18 06:29:15 WARN Instrumentation: [fc7c5cf1] regParam is zero, which might cause numerical instability and overfitting.\n"
          ]
        }
      ],
      "source": [
        "model_numerical = pipeline_numerical.fit(train_data)"
      ]
    },
    {
      "cell_type": "markdown",
      "id": "e7610946",
      "metadata": {
        "id": "e7610946"
      },
      "source": [
        "Сделаем прогноз а тестовой выборке."
      ]
    },
    {
      "cell_type": "code",
      "execution_count": null,
      "id": "bd52d80f",
      "metadata": {
        "id": "bd52d80f"
      },
      "outputs": [],
      "source": [
        "predictions = model_numerical.transform(test_data)"
      ]
    },
    {
      "cell_type": "code",
      "execution_count": null,
      "id": "5bf4654d",
      "metadata": {
        "scrolled": false,
        "id": "5bf4654d",
        "outputId": "9937e3e8-1e74-4ee2-c04f-106b66e71783"
      },
      "outputs": [
        {
          "name": "stdout",
          "output_type": "stream",
          "text": [
            "+------------------+------------------+\n",
            "|median_house_value|        prediction|\n",
            "+------------------+------------------+\n",
            "|          103600.0| 97215.64453976694|\n",
            "|          106700.0| 183991.8275730987|\n",
            "|           73200.0| 69567.91299050767|\n",
            "|           78300.0| 75684.56591266766|\n",
            "|           90100.0|158534.82029258646|\n",
            "|           67000.0|118324.38211245881|\n",
            "|           86400.0|151000.48688858794|\n",
            "|           70500.0|126610.38510251511|\n",
            "|           60000.0|172405.10137913935|\n",
            "|           75500.0| 131163.3858633628|\n",
            "|          109400.0|113407.67666679062|\n",
            "|           85100.0|147449.01770643098|\n",
            "|           92700.0|147113.70280819898|\n",
            "|           80500.0|152153.31436240347|\n",
            "|           96000.0|130122.41700290097|\n",
            "|           75500.0| 98117.30022368627|\n",
            "|           75000.0| 44761.40289472975|\n",
            "|          100600.0| 152385.3749035853|\n",
            "|           74100.0|121779.62134737289|\n",
            "|           66800.0|103421.30984601425|\n",
            "+------------------+------------------+\n",
            "only showing top 20 rows\n",
            "\n"
          ]
        }
      ],
      "source": [
        "predicted_values = predictions.select(target, 'prediction')\n",
        "predicted_values.show()"
      ]
    },
    {
      "cell_type": "markdown",
      "id": "253ecb4e",
      "metadata": {
        "id": "253ecb4e"
      },
      "source": [
        "Рассчитаем метрики."
      ]
    },
    {
      "cell_type": "code",
      "execution_count": null,
      "id": "da8102a5",
      "metadata": {
        "scrolled": false,
        "id": "da8102a5",
        "outputId": "a72e93fc-d793-43a2-83e7-29f9f821dc62"
      },
      "outputs": [
        {
          "data": {
            "text/html": [
              "<div>\n",
              "<style scoped>\n",
              "    .dataframe tbody tr th:only-of-type {\n",
              "        vertical-align: middle;\n",
              "    }\n",
              "\n",
              "    .dataframe tbody tr th {\n",
              "        vertical-align: top;\n",
              "    }\n",
              "\n",
              "    .dataframe thead th {\n",
              "        text-align: right;\n",
              "    }\n",
              "</style>\n",
              "<table border=\"1\" class=\"dataframe\">\n",
              "  <thead>\n",
              "    <tr style=\"text-align: right;\">\n",
              "      <th></th>\n",
              "      <th>num_features</th>\n",
              "    </tr>\n",
              "  </thead>\n",
              "  <tbody>\n",
              "    <tr>\n",
              "      <th>RMSE</th>\n",
              "      <td>70345.573274</td>\n",
              "    </tr>\n",
              "    <tr>\n",
              "      <th>MAE</th>\n",
              "      <td>50308.277758</td>\n",
              "    </tr>\n",
              "    <tr>\n",
              "      <th>R2</th>\n",
              "      <td>0.635409</td>\n",
              "    </tr>\n",
              "  </tbody>\n",
              "</table>\n",
              "</div>"
            ],
            "text/plain": [
              "      num_features\n",
              "RMSE  70345.573274\n",
              "MAE   50308.277758\n",
              "R2        0.635409"
            ]
          },
          "execution_count": 34,
          "metadata": {},
          "output_type": "execute_result"
        }
      ],
      "source": [
        "metrics = compute_metrics(predicted_values)\n",
        "\n",
        "df_metrics_num = pd.DataFrame.from_dict(metrics,\n",
        "                                        orient='index',\n",
        "                                        columns=['num_features']\n",
        "                                       )\n",
        "df_metrics_num"
      ]
    },
    {
      "cell_type": "markdown",
      "id": "8bc438a7",
      "metadata": {
        "id": "8bc438a7"
      },
      "source": [
        "Метрики данной модели ниже (хотя и несильно), чем у модели со всеми признаками."
      ]
    },
    {
      "cell_type": "markdown",
      "id": "01bc6f05",
      "metadata": {
        "id": "01bc6f05"
      },
      "source": [
        "### Подбор параметров модели"
      ]
    },
    {
      "cell_type": "markdown",
      "id": "fb041e30",
      "metadata": {
        "id": "fb041e30"
      },
      "source": [
        "Выполним подбор гиперпараметров для модели со всеми признаками. Будем перебирать параметры:\n",
        "* фактор регуляризации regParam;\n",
        "* максимальное число итераций maxIter;\n",
        "* фактор вида регуляризации elasticNetParam."
      ]
    },
    {
      "cell_type": "code",
      "execution_count": null,
      "id": "b75c707b",
      "metadata": {
        "id": "b75c707b"
      },
      "outputs": [],
      "source": [
        "paramGrid = ParamGridBuilder() \\\n",
        "    .addGrid(lr_all.regParam, [1, 0.5, 0.01]) \\\n",
        "    .addGrid(lr_all.maxIter, [200, 100, 10]) \\\n",
        "    .addGrid(lr_all.elasticNetParam, [1, 0.5, 0]) \\\n",
        "    .build()"
      ]
    },
    {
      "cell_type": "markdown",
      "id": "8a3da4e0",
      "metadata": {
        "id": "8a3da4e0"
      },
      "source": [
        "Целевая метрика - RMSE."
      ]
    },
    {
      "cell_type": "code",
      "execution_count": null,
      "id": "a085e6d2",
      "metadata": {
        "id": "a085e6d2"
      },
      "outputs": [],
      "source": [
        "evaluator = RegressionEvaluator(predictionCol='prediction',\n",
        "                                labelCol=target,\n",
        "                                metricName='rmse'\n",
        "                               )"
      ]
    },
    {
      "cell_type": "markdown",
      "id": "8178644d",
      "metadata": {
        "id": "8178644d"
      },
      "source": [
        "Проведем подбор параметров с кросс-валидацией."
      ]
    },
    {
      "cell_type": "code",
      "execution_count": null,
      "id": "e2c974ff",
      "metadata": {
        "id": "e2c974ff"
      },
      "outputs": [],
      "source": [
        "crossval = CrossValidator(estimator=pipeline_all,\n",
        "                          estimatorParamMaps=paramGrid,\n",
        "                          evaluator=evaluator,\n",
        "                          numFolds=3,\n",
        "                          seed=RANDOM_SEED\n",
        "                         )"
      ]
    },
    {
      "cell_type": "code",
      "execution_count": null,
      "id": "c3c5a087",
      "metadata": {
        "id": "c3c5a087",
        "outputId": "1386d78a-83d2-4d7e-ae4b-4c1aebbfa96a"
      },
      "outputs": [
        {
          "name": "stderr",
          "output_type": "stream",
          "text": [
            "                                                                                \r"
          ]
        }
      ],
      "source": [
        "cv_model = crossval.fit(train_data)"
      ]
    },
    {
      "cell_type": "markdown",
      "id": "c3349fcf",
      "metadata": {
        "id": "c3349fcf"
      },
      "source": [
        "Выведем параметры лучшей модели."
      ]
    },
    {
      "cell_type": "code",
      "execution_count": null,
      "id": "8fae3a7c",
      "metadata": {
        "scrolled": true,
        "id": "8fae3a7c",
        "outputId": "9b20b372-7e88-4283-aca0-3efa47de54f9"
      },
      "outputs": [
        {
          "data": {
            "text/plain": [
              "{Param(parent='LinearRegression_5ccb1db14a61', name='aggregationDepth', doc='suggested depth for treeAggregate (>= 2).'): 2,\n",
              " Param(parent='LinearRegression_5ccb1db14a61', name='elasticNetParam', doc='the ElasticNet mixing parameter, in range [0, 1]. For alpha = 0, the penalty is an L2 penalty. For alpha = 1, it is an L1 penalty.'): 1.0,\n",
              " Param(parent='LinearRegression_5ccb1db14a61', name='epsilon', doc='The shape parameter to control the amount of robustness. Must be > 1.0. Only valid when loss is huber'): 1.35,\n",
              " Param(parent='LinearRegression_5ccb1db14a61', name='featuresCol', doc='features column name.'): 'features_vector_all',\n",
              " Param(parent='LinearRegression_5ccb1db14a61', name='fitIntercept', doc='whether to fit an intercept term.'): True,\n",
              " Param(parent='LinearRegression_5ccb1db14a61', name='labelCol', doc='label column name.'): 'median_house_value',\n",
              " Param(parent='LinearRegression_5ccb1db14a61', name='loss', doc='The loss function to be optimized. Supported options: squaredError, huber.'): 'squaredError',\n",
              " Param(parent='LinearRegression_5ccb1db14a61', name='maxIter', doc='max number of iterations (>= 0).'): 100,\n",
              " Param(parent='LinearRegression_5ccb1db14a61', name='predictionCol', doc='prediction column name.'): 'prediction',\n",
              " Param(parent='LinearRegression_5ccb1db14a61', name='regParam', doc='regularization parameter (>= 0).'): 0.01,\n",
              " Param(parent='LinearRegression_5ccb1db14a61', name='solver', doc='The solver algorithm for optimization. Supported options: auto, normal, l-bfgs.'): 'auto',\n",
              " Param(parent='LinearRegression_5ccb1db14a61', name='standardization', doc='whether to standardize the training features before fitting the model.'): True,\n",
              " Param(parent='LinearRegression_5ccb1db14a61', name='tol', doc='the convergence tolerance for iterative algorithms (>= 0).'): 1e-06}"
            ]
          },
          "execution_count": 39,
          "metadata": {},
          "output_type": "execute_result"
        }
      ],
      "source": [
        "cv_model.bestModel.stages[-1].extractParamMap()"
      ]
    },
    {
      "cell_type": "markdown",
      "id": "519b139b",
      "metadata": {
        "id": "519b139b"
      },
      "source": [
        "Модель использует L2-регуляризацию с фактором регуляризации 0.5."
      ]
    },
    {
      "cell_type": "markdown",
      "id": "039098d9",
      "metadata": {
        "id": "039098d9"
      },
      "source": [
        "Сделаем прогноз на тестовой выборке и рассчитаем метрики."
      ]
    },
    {
      "cell_type": "code",
      "execution_count": null,
      "id": "87f5f6fb",
      "metadata": {
        "id": "87f5f6fb"
      },
      "outputs": [],
      "source": [
        "predictions = cv_model.transform(test_data)\n",
        "predicted_values = predictions.select(target, 'prediction')"
      ]
    },
    {
      "cell_type": "code",
      "execution_count": null,
      "id": "fdb104aa",
      "metadata": {
        "id": "fdb104aa",
        "outputId": "17d29eee-309f-4696-ba4b-e1e1f2de4635"
      },
      "outputs": [
        {
          "data": {
            "text/html": [
              "<div>\n",
              "<style scoped>\n",
              "    .dataframe tbody tr th:only-of-type {\n",
              "        vertical-align: middle;\n",
              "    }\n",
              "\n",
              "    .dataframe tbody tr th {\n",
              "        vertical-align: top;\n",
              "    }\n",
              "\n",
              "    .dataframe thead th {\n",
              "        text-align: right;\n",
              "    }\n",
              "</style>\n",
              "<table border=\"1\" class=\"dataframe\">\n",
              "  <thead>\n",
              "    <tr style=\"text-align: right;\">\n",
              "      <th></th>\n",
              "      <th>tuned</th>\n",
              "    </tr>\n",
              "  </thead>\n",
              "  <tbody>\n",
              "    <tr>\n",
              "      <th>RMSE</th>\n",
              "      <td>69412.226681</td>\n",
              "    </tr>\n",
              "    <tr>\n",
              "      <th>MAE</th>\n",
              "      <td>49589.665063</td>\n",
              "    </tr>\n",
              "    <tr>\n",
              "      <th>R2</th>\n",
              "      <td>0.645020</td>\n",
              "    </tr>\n",
              "  </tbody>\n",
              "</table>\n",
              "</div>"
            ],
            "text/plain": [
              "             tuned\n",
              "RMSE  69412.226681\n",
              "MAE   49589.665063\n",
              "R2        0.645020"
            ]
          },
          "execution_count": 41,
          "metadata": {},
          "output_type": "execute_result"
        }
      ],
      "source": [
        "metrics = compute_metrics(predicted_values)\n",
        "\n",
        "df_metrics_tuned = pd.DataFrame.from_dict(metrics,\n",
        "                                          orient='index',\n",
        "                                          columns=['tuned']\n",
        "                                         )\n",
        "df_metrics_tuned"
      ]
    },
    {
      "cell_type": "markdown",
      "id": "422686a0",
      "metadata": {
        "id": "422686a0"
      },
      "source": [
        "Сравним метрики всех полученных моделей."
      ]
    },
    {
      "cell_type": "code",
      "execution_count": null,
      "id": "c2158367",
      "metadata": {
        "scrolled": true,
        "id": "c2158367",
        "outputId": "d68d5fab-7012-43a5-d0ab-683e987d0214"
      },
      "outputs": [
        {
          "data": {
            "text/html": [
              "<div>\n",
              "<style scoped>\n",
              "    .dataframe tbody tr th:only-of-type {\n",
              "        vertical-align: middle;\n",
              "    }\n",
              "\n",
              "    .dataframe tbody tr th {\n",
              "        vertical-align: top;\n",
              "    }\n",
              "\n",
              "    .dataframe thead th {\n",
              "        text-align: right;\n",
              "    }\n",
              "</style>\n",
              "<table border=\"1\" class=\"dataframe\">\n",
              "  <thead>\n",
              "    <tr style=\"text-align: right;\">\n",
              "      <th></th>\n",
              "      <th>all_features</th>\n",
              "      <th>num_features</th>\n",
              "      <th>tuned</th>\n",
              "    </tr>\n",
              "  </thead>\n",
              "  <tbody>\n",
              "    <tr>\n",
              "      <th>RMSE</th>\n",
              "      <td>69507.472482</td>\n",
              "      <td>70345.573274</td>\n",
              "      <td>69412.226681</td>\n",
              "    </tr>\n",
              "    <tr>\n",
              "      <th>MAE</th>\n",
              "      <td>49590.334253</td>\n",
              "      <td>50308.277758</td>\n",
              "      <td>49589.665063</td>\n",
              "    </tr>\n",
              "    <tr>\n",
              "      <th>R2</th>\n",
              "      <td>0.644045</td>\n",
              "      <td>0.635409</td>\n",
              "      <td>0.645020</td>\n",
              "    </tr>\n",
              "  </tbody>\n",
              "</table>\n",
              "</div>"
            ],
            "text/plain": [
              "      all_features  num_features         tuned\n",
              "RMSE  69507.472482  70345.573274  69412.226681\n",
              "MAE   49590.334253  50308.277758  49589.665063\n",
              "R2        0.644045      0.635409      0.645020"
            ]
          },
          "execution_count": 42,
          "metadata": {},
          "output_type": "execute_result"
        }
      ],
      "source": [
        "df_metrics_all.join([df_metrics_num, df_metrics_tuned])"
      ]
    },
    {
      "cell_type": "markdown",
      "id": "f8dc4b2b",
      "metadata": {
        "id": "f8dc4b2b"
      },
      "source": [
        "У модели с подбором параметров все метрики незначительно лучше, чем у модели со всеми признаками. Подбор параметров не привел к значимому улучшению качества модели."
      ]
    },
    {
      "cell_type": "markdown",
      "id": "45b94d87",
      "metadata": {
        "id": "45b94d87"
      },
      "source": [
        "### Анализ коэффициентов"
      ]
    },
    {
      "cell_type": "markdown",
      "id": "ba2b7e0a",
      "metadata": {
        "id": "ba2b7e0a"
      },
      "source": [
        "Выведем коэффициенты модели для признаков."
      ]
    },
    {
      "cell_type": "code",
      "execution_count": null,
      "id": "b8d534a7",
      "metadata": {
        "scrolled": false,
        "id": "b8d534a7",
        "outputId": "3afcb1ba-37a2-4414-a753-ce042bc3d089"
      },
      "outputs": [
        {
          "data": {
            "text/html": [
              "<div>\n",
              "<style scoped>\n",
              "    .dataframe tbody tr th:only-of-type {\n",
              "        vertical-align: middle;\n",
              "    }\n",
              "\n",
              "    .dataframe tbody tr th {\n",
              "        vertical-align: top;\n",
              "    }\n",
              "\n",
              "    .dataframe thead th {\n",
              "        text-align: right;\n",
              "    }\n",
              "</style>\n",
              "<table border=\"1\" class=\"dataframe\">\n",
              "  <thead>\n",
              "    <tr style=\"text-align: right;\">\n",
              "      <th></th>\n",
              "      <th>name</th>\n",
              "      <th>coefficients</th>\n",
              "    </tr>\n",
              "    <tr>\n",
              "      <th>idx</th>\n",
              "      <th></th>\n",
              "      <th></th>\n",
              "    </tr>\n",
              "  </thead>\n",
              "  <tbody>\n",
              "    <tr>\n",
              "      <th>0</th>\n",
              "      <td>ocean_proximity_ohe_&lt;1H OCEAN</td>\n",
              "      <td>8719.469828</td>\n",
              "    </tr>\n",
              "    <tr>\n",
              "      <th>1</th>\n",
              "      <td>ocean_proximity_ohe_INLAND</td>\n",
              "      <td>-25130.757437</td>\n",
              "    </tr>\n",
              "    <tr>\n",
              "      <th>2</th>\n",
              "      <td>ocean_proximity_ohe_NEAR OCEAN</td>\n",
              "      <td>12948.922175</td>\n",
              "    </tr>\n",
              "    <tr>\n",
              "      <th>3</th>\n",
              "      <td>ocean_proximity_ohe_NEAR BAY</td>\n",
              "      <td>3696.068381</td>\n",
              "    </tr>\n",
              "    <tr>\n",
              "      <th>4</th>\n",
              "      <td>ocean_proximity_ohe_ISLAND</td>\n",
              "      <td>147742.037925</td>\n",
              "    </tr>\n",
              "    <tr>\n",
              "      <th>5</th>\n",
              "      <td>longitude</td>\n",
              "      <td>-57680.278237</td>\n",
              "    </tr>\n",
              "    <tr>\n",
              "      <th>6</th>\n",
              "      <td>latitude</td>\n",
              "      <td>-58835.403413</td>\n",
              "    </tr>\n",
              "    <tr>\n",
              "      <th>7</th>\n",
              "      <td>housing_median_age</td>\n",
              "      <td>13523.632578</td>\n",
              "    </tr>\n",
              "    <tr>\n",
              "      <th>8</th>\n",
              "      <td>total_rooms</td>\n",
              "      <td>9861.291652</td>\n",
              "    </tr>\n",
              "    <tr>\n",
              "      <th>9</th>\n",
              "      <td>total_bedrooms</td>\n",
              "      <td>2781.055176</td>\n",
              "    </tr>\n",
              "    <tr>\n",
              "      <th>10</th>\n",
              "      <td>population</td>\n",
              "      <td>-52501.701311</td>\n",
              "    </tr>\n",
              "    <tr>\n",
              "      <th>11</th>\n",
              "      <td>households</td>\n",
              "      <td>45105.253980</td>\n",
              "    </tr>\n",
              "    <tr>\n",
              "      <th>12</th>\n",
              "      <td>median_income</td>\n",
              "      <td>76495.421158</td>\n",
              "    </tr>\n",
              "    <tr>\n",
              "      <th>13</th>\n",
              "      <td>rooms_per_household</td>\n",
              "      <td>6949.925874</td>\n",
              "    </tr>\n",
              "    <tr>\n",
              "      <th>14</th>\n",
              "      <td>population_per_household</td>\n",
              "      <td>2545.084839</td>\n",
              "    </tr>\n",
              "    <tr>\n",
              "      <th>15</th>\n",
              "      <td>bedroom_index</td>\n",
              "      <td>16116.618497</td>\n",
              "    </tr>\n",
              "  </tbody>\n",
              "</table>\n",
              "</div>"
            ],
            "text/plain": [
              "                               name   coefficients\n",
              "idx                                               \n",
              "0     ocean_proximity_ohe_<1H OCEAN    8719.469828\n",
              "1        ocean_proximity_ohe_INLAND  -25130.757437\n",
              "2    ocean_proximity_ohe_NEAR OCEAN   12948.922175\n",
              "3      ocean_proximity_ohe_NEAR BAY    3696.068381\n",
              "4        ocean_proximity_ohe_ISLAND  147742.037925\n",
              "5                         longitude  -57680.278237\n",
              "6                          latitude  -58835.403413\n",
              "7                housing_median_age   13523.632578\n",
              "8                       total_rooms    9861.291652\n",
              "9                    total_bedrooms    2781.055176\n",
              "10                       population  -52501.701311\n",
              "11                       households   45105.253980\n",
              "12                    median_income   76495.421158\n",
              "13              rooms_per_household    6949.925874\n",
              "14         population_per_household    2545.084839\n",
              "15                    bedroom_index   16116.618497"
            ]
          },
          "execution_count": 43,
          "metadata": {},
          "output_type": "execute_result"
        }
      ],
      "source": [
        "# Получаем словарь с индексами и именами\n",
        "dict_all = predictions.schema['features_vector_all'].metadata['ml_attr']['attrs']\n",
        "\n",
        "# Отдельно обрабатываем числовые признаки (т.к. по ним дополнительно проводилось масштабирование)\n",
        "df_num = pd.DataFrame(dict_all['numeric']).sort_values('idx')\n",
        "\n",
        "dict_num = predictions.schema['numerical_features'].metadata['ml_attr']['attrs']\n",
        "df_num_orig = pd.DataFrame(dict_num['numeric']).sort_values('idx')\n",
        "df_num['name'] = df_num_orig['name']\n",
        "\n",
        "# Отдельно обрабатываем признак ocean_proximity после трансформации OHE\n",
        "df_bin = pd.DataFrame(dict_all['binary']).sort_values('idx')\n",
        "\n",
        "# Соединяем два датафрейма\n",
        "coefficients = pd.concat([df_bin, df_num]).set_index('idx')\n",
        "\n",
        "coefficients['coefficients'] = cv_model.bestModel.stages[-1].coefficients\n",
        "coefficients"
      ]
    },
    {
      "cell_type": "markdown",
      "id": "1496157c",
      "metadata": {
        "id": "1496157c"
      },
      "source": [
        "Значительное положительное влияние на стоимость жилья оказывают:\n",
        "* медианный доход (median_income);\n",
        "* число домохозяйств в блоке (households);\n",
        "* соотношение числа спален к общему числу комнат (bedroom_index).\n",
        "\n",
        "Отрицательно влияют:\n",
        "* широта и долгота (latitude и longitude) - чем севернее и восточнее, тем ниже стоимость;\n",
        "* число жителей блока (population).\n",
        "\n",
        "Кроме того, стоимость жилья возрастает по мере приближения к океану, а самая высокая - на островах (ISLAND)."
      ]
    },
    {
      "cell_type": "markdown",
      "id": "aeb34e16",
      "metadata": {
        "id": "aeb34e16"
      },
      "source": [
        "Закроем Spark-сессию."
      ]
    },
    {
      "cell_type": "code",
      "execution_count": null,
      "id": "a2199ed9",
      "metadata": {
        "id": "a2199ed9"
      },
      "outputs": [],
      "source": [
        "spark.stop()"
      ]
    },
    {
      "cell_type": "markdown",
      "id": "62e04540",
      "metadata": {
        "id": "62e04540"
      },
      "source": [
        "## Анализ результатов и выводы"
      ]
    },
    {
      "cell_type": "markdown",
      "id": "60ef60e8",
      "metadata": {
        "id": "60ef60e8"
      },
      "source": [
        "Выполненные задачи:\n",
        "* проведена загрузка и обзор данных;\n",
        "* типы данных в housing_median_age, total_rooms, total_bedrooms, population и households изменены на Int;\n",
        "* пропуски в total_bedrooms заполнены исходя из среднего соотношения total_bedrooms и total_rooms;\n",
        "* сформирован пайплайн для трансформации и векторизации признаков;\n",
        "* построены и обучены две модели линейной регрессии: с полным набором признаков и только с числовыми признаками;\n",
        "* лучшее качество показала модель с полным набором признаков, для нее был осуществлен подбор гиперпараметров с кросс-валидацией, который однако не привел к значимому улучшению качества;\n",
        "* метрики модели с полным набором признаков и подобранными гиперпараметрами: RMSE=69412, MAE=49590, R2=0.645.\n",
        "\n",
        "Выводы на основе полученной модели:\n",
        "* на стоимость жилья в наибольшей степени влияют median_income, households, bedroom_index (положительно), а также latitude, longitude и population (отрицательно);\n",
        "* стоимость жилья возрастает по мере приближения к океану.\n",
        "\n",
        "Вместе с тем качество полученной модели невысокое, и полученные на ее основе выводы следует использовать с осторожностью."
      ]
    }
  ],
  "metadata": {
    "ExecuteTimeLog": [
      {
        "duration": 77,
        "start_time": "2024-10-15T21:24:04.051Z"
      },
      {
        "duration": 10,
        "start_time": "2024-10-15T21:24:09.736Z"
      },
      {
        "duration": 358,
        "start_time": "2024-10-15T21:24:23.608Z"
      },
      {
        "duration": 62,
        "start_time": "2024-10-15T21:24:26.153Z"
      },
      {
        "duration": 16583,
        "start_time": "2024-10-15T21:29:28.684Z"
      },
      {
        "duration": 14850,
        "start_time": "2024-10-16T05:37:28.859Z"
      },
      {
        "duration": 638,
        "start_time": "2024-10-16T05:41:28.485Z"
      },
      {
        "duration": 3,
        "start_time": "2024-10-16T05:43:59.503Z"
      },
      {
        "duration": 2,
        "start_time": "2024-10-16T05:44:05.363Z"
      },
      {
        "duration": 4,
        "start_time": "2024-10-16T05:44:06.316Z"
      },
      {
        "duration": 179,
        "start_time": "2024-10-16T05:44:11.222Z"
      },
      {
        "duration": 7493,
        "start_time": "2024-10-16T05:54:38.838Z"
      },
      {
        "duration": 621,
        "start_time": "2024-10-16T05:55:21.011Z"
      },
      {
        "duration": 282,
        "start_time": "2024-10-16T05:55:28.135Z"
      },
      {
        "duration": 725,
        "start_time": "2024-10-16T05:56:20.216Z"
      },
      {
        "duration": 12,
        "start_time": "2024-10-16T05:56:21.793Z"
      },
      {
        "duration": 250,
        "start_time": "2024-10-16T05:56:26.703Z"
      },
      {
        "duration": 659,
        "start_time": "2024-10-16T05:57:56.272Z"
      },
      {
        "duration": 75,
        "start_time": "2024-10-16T05:57:56.933Z"
      },
      {
        "duration": 237,
        "start_time": "2024-10-16T05:57:57.009Z"
      },
      {
        "duration": 977,
        "start_time": "2024-10-16T05:57:57.248Z"
      },
      {
        "duration": 41,
        "start_time": "2024-10-16T05:59:34.465Z"
      },
      {
        "duration": 6313,
        "start_time": "2024-10-16T06:01:26.513Z"
      },
      {
        "duration": 1129,
        "start_time": "2024-10-16T06:02:05.779Z"
      },
      {
        "duration": 487,
        "start_time": "2024-10-16T06:02:23.554Z"
      },
      {
        "duration": 16,
        "start_time": "2024-10-16T06:02:45.000Z"
      },
      {
        "duration": 6,
        "start_time": "2024-10-16T06:02:49.389Z"
      },
      {
        "duration": 25,
        "start_time": "2024-10-16T06:06:49.440Z"
      },
      {
        "duration": 321,
        "start_time": "2024-10-16T06:07:28.688Z"
      },
      {
        "duration": 3219,
        "start_time": "2024-10-16T06:10:15.175Z"
      },
      {
        "duration": 3382,
        "start_time": "2024-10-16T06:10:59.363Z"
      },
      {
        "duration": 2902,
        "start_time": "2024-10-16T06:12:10.115Z"
      },
      {
        "duration": 2323,
        "start_time": "2024-10-16T06:12:46.037Z"
      },
      {
        "duration": 17,
        "start_time": "2024-10-16T06:13:04.915Z"
      },
      {
        "duration": 7,
        "start_time": "2024-10-16T06:17:52.821Z"
      },
      {
        "duration": 8,
        "start_time": "2024-10-16T06:18:43.807Z"
      },
      {
        "duration": 2280,
        "start_time": "2024-10-16T06:19:08.150Z"
      },
      {
        "duration": 9,
        "start_time": "2024-10-16T06:19:21.433Z"
      },
      {
        "duration": 10,
        "start_time": "2024-10-16T06:19:34.674Z"
      },
      {
        "duration": 8,
        "start_time": "2024-10-16T06:19:49.182Z"
      },
      {
        "duration": 1981,
        "start_time": "2024-10-16T06:19:59.659Z"
      },
      {
        "duration": 1953,
        "start_time": "2024-10-16T06:20:24.401Z"
      },
      {
        "duration": 7,
        "start_time": "2024-10-16T06:20:33.993Z"
      },
      {
        "duration": 9,
        "start_time": "2024-10-16T06:21:06.455Z"
      },
      {
        "duration": 7,
        "start_time": "2024-10-16T06:21:30.885Z"
      },
      {
        "duration": 8,
        "start_time": "2024-10-16T06:21:57.777Z"
      },
      {
        "duration": 16,
        "start_time": "2024-10-16T06:22:31.951Z"
      },
      {
        "duration": 1989,
        "start_time": "2024-10-16T06:22:38.554Z"
      },
      {
        "duration": 2604,
        "start_time": "2024-10-16T06:23:02.609Z"
      },
      {
        "duration": 1896,
        "start_time": "2024-10-16T06:23:08.855Z"
      },
      {
        "duration": 11,
        "start_time": "2024-10-16T06:23:40.652Z"
      },
      {
        "duration": 9,
        "start_time": "2024-10-16T06:23:54.449Z"
      },
      {
        "duration": 1734,
        "start_time": "2024-10-16T06:23:59.589Z"
      },
      {
        "duration": 60,
        "start_time": "2024-10-16T06:24:24.387Z"
      },
      {
        "duration": 8,
        "start_time": "2024-10-16T06:24:27.956Z"
      },
      {
        "duration": 326,
        "start_time": "2024-10-16T06:24:56.793Z"
      },
      {
        "duration": 3,
        "start_time": "2024-10-16T06:25:44.700Z"
      },
      {
        "duration": 1761,
        "start_time": "2024-10-16T06:25:47.715Z"
      },
      {
        "duration": 75,
        "start_time": "2024-10-16T06:26:02.074Z"
      },
      {
        "duration": 3526,
        "start_time": "2024-10-16T06:26:13.407Z"
      },
      {
        "duration": 13,
        "start_time": "2024-10-16T06:27:39.221Z"
      },
      {
        "duration": 10,
        "start_time": "2024-10-16T06:28:52.701Z"
      },
      {
        "duration": 10,
        "start_time": "2024-10-16T06:28:56.514Z"
      },
      {
        "duration": 9,
        "start_time": "2024-10-16T06:29:00.485Z"
      },
      {
        "duration": 59,
        "start_time": "2024-10-16T06:30:01.295Z"
      },
      {
        "duration": 81,
        "start_time": "2024-10-16T06:30:11.010Z"
      },
      {
        "duration": 133,
        "start_time": "2024-10-16T06:30:22.393Z"
      },
      {
        "duration": 1928,
        "start_time": "2024-10-16T06:30:40.810Z"
      },
      {
        "duration": 1618,
        "start_time": "2024-10-16T06:30:48.155Z"
      },
      {
        "duration": 66,
        "start_time": "2024-10-16T06:32:03.748Z"
      },
      {
        "duration": 1547,
        "start_time": "2024-10-16T06:32:19.249Z"
      },
      {
        "duration": 62,
        "start_time": "2024-10-16T06:32:39.124Z"
      },
      {
        "duration": 1423,
        "start_time": "2024-10-16T06:32:47.297Z"
      },
      {
        "duration": 8,
        "start_time": "2024-10-16T06:33:52.681Z"
      },
      {
        "duration": 2052,
        "start_time": "2024-10-16T06:33:58.879Z"
      },
      {
        "duration": 9,
        "start_time": "2024-10-16T06:37:21.477Z"
      },
      {
        "duration": 5,
        "start_time": "2024-10-16T06:37:42.597Z"
      },
      {
        "duration": 8,
        "start_time": "2024-10-16T06:37:49.722Z"
      },
      {
        "duration": 12,
        "start_time": "2024-10-16T06:38:10.831Z"
      },
      {
        "duration": 12,
        "start_time": "2024-10-16T06:38:17.845Z"
      },
      {
        "duration": 3,
        "start_time": "2024-10-16T06:45:06.468Z"
      },
      {
        "duration": 11,
        "start_time": "2024-10-16T06:45:15.851Z"
      },
      {
        "duration": 9,
        "start_time": "2024-10-16T06:46:10.493Z"
      },
      {
        "duration": 7,
        "start_time": "2024-10-16T06:48:15.539Z"
      },
      {
        "duration": 15,
        "start_time": "2024-10-16T06:49:04.125Z"
      },
      {
        "duration": 5,
        "start_time": "2024-10-16T06:49:06.638Z"
      },
      {
        "duration": 233,
        "start_time": "2024-10-16T06:49:12.023Z"
      },
      {
        "duration": 17,
        "start_time": "2024-10-16T06:50:11.665Z"
      },
      {
        "duration": 9,
        "start_time": "2024-10-16T06:50:14.993Z"
      },
      {
        "duration": 18,
        "start_time": "2024-10-16T06:50:20.197Z"
      },
      {
        "duration": 8,
        "start_time": "2024-10-16T06:50:31.118Z"
      },
      {
        "duration": 3,
        "start_time": "2024-10-16T06:50:42.103Z"
      },
      {
        "duration": 5,
        "start_time": "2024-10-16T06:50:44.950Z"
      },
      {
        "duration": 11,
        "start_time": "2024-10-16T06:50:45.768Z"
      },
      {
        "duration": 9,
        "start_time": "2024-10-16T06:50:51.493Z"
      },
      {
        "duration": 25,
        "start_time": "2024-10-16T06:50:57.218Z"
      },
      {
        "duration": 10,
        "start_time": "2024-10-16T06:51:18.394Z"
      },
      {
        "duration": 7,
        "start_time": "2024-10-16T06:51:24.166Z"
      },
      {
        "duration": 13,
        "start_time": "2024-10-16T06:53:03.994Z"
      },
      {
        "duration": 5,
        "start_time": "2024-10-16T06:53:06.933Z"
      },
      {
        "duration": 10,
        "start_time": "2024-10-16T06:53:07.698Z"
      },
      {
        "duration": 9,
        "start_time": "2024-10-16T06:53:10.947Z"
      },
      {
        "duration": 8,
        "start_time": "2024-10-16T06:58:14.125Z"
      },
      {
        "duration": 6,
        "start_time": "2024-10-16T06:59:54.365Z"
      },
      {
        "duration": 222,
        "start_time": "2024-10-16T07:00:05.969Z"
      },
      {
        "duration": 264,
        "start_time": "2024-10-16T07:00:46.698Z"
      },
      {
        "duration": 75,
        "start_time": "2024-10-16T07:05:27.193Z"
      },
      {
        "duration": 7,
        "start_time": "2024-10-16T07:05:32.934Z"
      },
      {
        "duration": 158,
        "start_time": "2024-10-16T07:05:54.136Z"
      },
      {
        "duration": 94,
        "start_time": "2024-10-16T07:06:19.130Z"
      },
      {
        "duration": 14,
        "start_time": "2024-10-16T07:06:32.229Z"
      },
      {
        "duration": 10,
        "start_time": "2024-10-16T07:07:24.346Z"
      },
      {
        "duration": 105,
        "start_time": "2024-10-16T07:10:42.350Z"
      },
      {
        "duration": 13,
        "start_time": "2024-10-16T07:10:52.097Z"
      },
      {
        "duration": 11,
        "start_time": "2024-10-16T07:11:37.167Z"
      },
      {
        "duration": 10,
        "start_time": "2024-10-16T07:12:40.582Z"
      },
      {
        "duration": 14,
        "start_time": "2024-10-16T07:13:06.991Z"
      },
      {
        "duration": 11,
        "start_time": "2024-10-16T07:13:34.349Z"
      },
      {
        "duration": 12,
        "start_time": "2024-10-16T07:13:37.661Z"
      },
      {
        "duration": 7,
        "start_time": "2024-10-16T07:15:13.666Z"
      },
      {
        "duration": 9,
        "start_time": "2024-10-16T07:15:27.346Z"
      },
      {
        "duration": 104,
        "start_time": "2024-10-16T07:15:49.852Z"
      },
      {
        "duration": 279,
        "start_time": "2024-10-16T07:15:54.429Z"
      },
      {
        "duration": 100,
        "start_time": "2024-10-16T07:16:03.331Z"
      },
      {
        "duration": 130,
        "start_time": "2024-10-16T07:16:14.380Z"
      },
      {
        "duration": 15,
        "start_time": "2024-10-16T07:16:25.236Z"
      },
      {
        "duration": 172,
        "start_time": "2024-10-16T07:16:34.086Z"
      },
      {
        "duration": 113,
        "start_time": "2024-10-16T07:16:57.680Z"
      },
      {
        "duration": 17,
        "start_time": "2024-10-16T07:30:26.171Z"
      },
      {
        "duration": 27,
        "start_time": "2024-10-16T07:30:37.890Z"
      },
      {
        "duration": 19,
        "start_time": "2024-10-16T07:31:37.091Z"
      },
      {
        "duration": 88,
        "start_time": "2024-10-16T07:33:41.714Z"
      },
      {
        "duration": 167,
        "start_time": "2024-10-16T07:34:19.510Z"
      },
      {
        "duration": 5,
        "start_time": "2024-10-16T07:34:49.567Z"
      },
      {
        "duration": 78,
        "start_time": "2024-10-16T07:34:49.573Z"
      },
      {
        "duration": 21,
        "start_time": "2024-10-16T07:34:49.652Z"
      },
      {
        "duration": 335,
        "start_time": "2024-10-16T07:34:49.674Z"
      },
      {
        "duration": 4,
        "start_time": "2024-10-16T07:34:50.011Z"
      },
      {
        "duration": 120,
        "start_time": "2024-10-16T07:34:50.017Z"
      },
      {
        "duration": 384,
        "start_time": "2024-10-16T07:34:50.138Z"
      },
      {
        "duration": 1153,
        "start_time": "2024-10-16T07:34:50.524Z"
      },
      {
        "duration": 138,
        "start_time": "2024-10-16T07:34:53.846Z"
      },
      {
        "duration": 104,
        "start_time": "2024-10-16T07:35:10.829Z"
      },
      {
        "duration": 163,
        "start_time": "2024-10-16T07:36:59.593Z"
      },
      {
        "duration": 237,
        "start_time": "2024-10-16T07:37:22.511Z"
      },
      {
        "duration": 283,
        "start_time": "2024-10-16T07:37:27.742Z"
      },
      {
        "duration": 315,
        "start_time": "2024-10-16T07:38:31.299Z"
      },
      {
        "duration": 66,
        "start_time": "2024-10-16T07:39:20.971Z"
      },
      {
        "duration": 130,
        "start_time": "2024-10-16T07:39:31.935Z"
      },
      {
        "duration": 148,
        "start_time": "2024-10-16T07:39:38.972Z"
      },
      {
        "duration": 358,
        "start_time": "2024-10-16T07:40:14.195Z"
      },
      {
        "duration": 140,
        "start_time": "2024-10-16T07:40:28.467Z"
      },
      {
        "duration": 129,
        "start_time": "2024-10-16T07:41:13.433Z"
      },
      {
        "duration": 146,
        "start_time": "2024-10-16T07:44:08.684Z"
      },
      {
        "duration": 275,
        "start_time": "2024-10-16T07:45:29.742Z"
      },
      {
        "duration": 24,
        "start_time": "2024-10-16T07:50:22.117Z"
      },
      {
        "duration": 1150,
        "start_time": "2024-10-16T07:50:27.650Z"
      },
      {
        "duration": 362,
        "start_time": "2024-10-16T07:50:35.372Z"
      },
      {
        "duration": 361,
        "start_time": "2024-10-16T07:51:15.897Z"
      },
      {
        "duration": 254,
        "start_time": "2024-10-16T07:51:29.759Z"
      },
      {
        "duration": 1888,
        "start_time": "2024-10-16T07:53:28.329Z"
      },
      {
        "duration": 602,
        "start_time": "2024-10-16T07:53:38.733Z"
      },
      {
        "duration": 599,
        "start_time": "2024-10-16T07:54:28.233Z"
      },
      {
        "duration": 709,
        "start_time": "2024-10-16T07:54:41.402Z"
      },
      {
        "duration": 824,
        "start_time": "2024-10-16T07:56:41.607Z"
      },
      {
        "duration": 150,
        "start_time": "2024-10-16T07:57:49.530Z"
      },
      {
        "duration": 265,
        "start_time": "2024-10-16T07:59:07.987Z"
      },
      {
        "duration": 66,
        "start_time": "2024-10-16T08:01:34.428Z"
      },
      {
        "duration": 529,
        "start_time": "2024-10-16T08:01:44.791Z"
      },
      {
        "duration": 410,
        "start_time": "2024-10-16T08:02:15.056Z"
      },
      {
        "duration": 329,
        "start_time": "2024-10-16T08:02:49.006Z"
      },
      {
        "duration": 288,
        "start_time": "2024-10-16T08:03:14.350Z"
      },
      {
        "duration": 274,
        "start_time": "2024-10-16T08:03:36.885Z"
      },
      {
        "duration": 226,
        "start_time": "2024-10-16T08:03:56.030Z"
      },
      {
        "duration": 62,
        "start_time": "2024-10-16T08:04:11.557Z"
      },
      {
        "duration": 245,
        "start_time": "2024-10-16T08:04:15.215Z"
      },
      {
        "duration": 356,
        "start_time": "2024-10-16T08:04:25.801Z"
      },
      {
        "duration": 384,
        "start_time": "2024-10-16T08:13:57.615Z"
      },
      {
        "duration": 319,
        "start_time": "2024-10-16T08:14:10.093Z"
      },
      {
        "duration": 251,
        "start_time": "2024-10-16T08:15:10.194Z"
      },
      {
        "duration": 42,
        "start_time": "2024-10-16T09:57:41.770Z"
      },
      {
        "duration": 4,
        "start_time": "2024-10-16T09:59:16.489Z"
      },
      {
        "duration": 264,
        "start_time": "2024-10-16T10:00:15.364Z"
      },
      {
        "duration": 293,
        "start_time": "2024-10-16T10:00:25.926Z"
      },
      {
        "duration": 278,
        "start_time": "2024-10-16T10:01:19.942Z"
      },
      {
        "duration": 253,
        "start_time": "2024-10-16T10:01:48.154Z"
      },
      {
        "duration": 4,
        "start_time": "2024-10-16T10:01:59.178Z"
      },
      {
        "duration": 311,
        "start_time": "2024-10-16T10:02:48.896Z"
      },
      {
        "duration": 295,
        "start_time": "2024-10-16T10:03:31.956Z"
      },
      {
        "duration": 908,
        "start_time": "2024-10-16T10:04:09.508Z"
      },
      {
        "duration": 229,
        "start_time": "2024-10-16T10:05:28.726Z"
      },
      {
        "duration": 221,
        "start_time": "2024-10-16T10:06:16.929Z"
      },
      {
        "duration": 1178,
        "start_time": "2024-10-16T10:06:24.164Z"
      },
      {
        "duration": 25,
        "start_time": "2024-10-16T10:08:45.698Z"
      },
      {
        "duration": 24,
        "start_time": "2024-10-16T10:09:23.633Z"
      },
      {
        "duration": 3,
        "start_time": "2024-10-16T10:13:04.651Z"
      },
      {
        "duration": 32,
        "start_time": "2024-10-16T10:17:43.496Z"
      },
      {
        "duration": 1411,
        "start_time": "2024-10-16T10:18:00.106Z"
      },
      {
        "duration": 120,
        "start_time": "2024-10-16T10:18:21.628Z"
      },
      {
        "duration": 3,
        "start_time": "2024-10-16T10:18:40.053Z"
      },
      {
        "duration": 119,
        "start_time": "2024-10-16T10:18:41.165Z"
      },
      {
        "duration": 112,
        "start_time": "2024-10-16T10:18:50.650Z"
      },
      {
        "duration": 111,
        "start_time": "2024-10-16T10:19:21.559Z"
      },
      {
        "duration": 106,
        "start_time": "2024-10-16T10:19:45.606Z"
      },
      {
        "duration": 697,
        "start_time": "2024-10-16T10:20:16.934Z"
      },
      {
        "duration": 3,
        "start_time": "2024-10-16T10:20:17.633Z"
      },
      {
        "duration": 14579,
        "start_time": "2024-10-16T10:20:17.637Z"
      },
      {
        "duration": 7322,
        "start_time": "2024-10-16T10:20:32.219Z"
      },
      {
        "duration": 73,
        "start_time": "2024-10-16T10:20:39.544Z"
      },
      {
        "duration": 595,
        "start_time": "2024-10-16T10:20:39.619Z"
      },
      {
        "duration": 1211,
        "start_time": "2024-10-16T10:20:40.216Z"
      },
      {
        "duration": 181,
        "start_time": "2024-10-16T10:20:41.428Z"
      },
      {
        "duration": 4532,
        "start_time": "2024-10-16T10:20:41.610Z"
      },
      {
        "duration": 793,
        "start_time": "2024-10-16T10:20:46.144Z"
      },
      {
        "duration": 2974,
        "start_time": "2024-10-16T10:20:46.939Z"
      },
      {
        "duration": 103,
        "start_time": "2024-10-16T10:20:49.915Z"
      },
      {
        "duration": 3,
        "start_time": "2024-10-16T10:20:50.020Z"
      },
      {
        "duration": 1549,
        "start_time": "2024-10-16T10:20:50.026Z"
      },
      {
        "duration": 197,
        "start_time": "2024-10-16T13:03:07.814Z"
      },
      {
        "duration": 15,
        "start_time": "2024-10-16T13:04:36.893Z"
      },
      {
        "duration": 774,
        "start_time": "2024-10-16T13:04:48.473Z"
      },
      {
        "duration": 1215,
        "start_time": "2024-10-16T13:06:34.221Z"
      },
      {
        "duration": 7,
        "start_time": "2024-10-16T13:06:56.723Z"
      },
      {
        "duration": 354,
        "start_time": "2024-10-16T13:08:27.863Z"
      },
      {
        "duration": 2693,
        "start_time": "2024-10-16T13:09:26.661Z"
      },
      {
        "duration": 8,
        "start_time": "2024-10-16T13:10:23.224Z"
      },
      {
        "duration": 3106,
        "start_time": "2024-10-16T13:10:40.130Z"
      },
      {
        "duration": 21,
        "start_time": "2024-10-16T13:11:11.705Z"
      },
      {
        "duration": 6,
        "start_time": "2024-10-16T13:11:22.099Z"
      },
      {
        "duration": 678,
        "start_time": "2024-10-16T13:11:28.366Z"
      },
      {
        "duration": 728,
        "start_time": "2024-10-16T13:12:06.433Z"
      },
      {
        "duration": 6,
        "start_time": "2024-10-16T13:13:23.232Z"
      },
      {
        "duration": 3,
        "start_time": "2024-10-16T13:14:00.992Z"
      },
      {
        "duration": 8,
        "start_time": "2024-10-16T13:14:05.090Z"
      },
      {
        "duration": 12,
        "start_time": "2024-10-16T13:16:47.854Z"
      },
      {
        "duration": 11,
        "start_time": "2024-10-16T13:17:25.182Z"
      },
      {
        "duration": 884,
        "start_time": "2024-10-16T13:17:45.148Z"
      },
      {
        "duration": 1255,
        "start_time": "2024-10-16T13:18:23.853Z"
      },
      {
        "duration": 1793,
        "start_time": "2024-10-16T13:19:04.199Z"
      },
      {
        "duration": 662,
        "start_time": "2024-10-16T13:19:40.185Z"
      },
      {
        "duration": 2,
        "start_time": "2024-10-16T13:19:40.849Z"
      },
      {
        "duration": 14595,
        "start_time": "2024-10-16T13:19:40.852Z"
      },
      {
        "duration": 7591,
        "start_time": "2024-10-16T13:19:55.450Z"
      },
      {
        "duration": 75,
        "start_time": "2024-10-16T13:20:03.043Z"
      },
      {
        "duration": 692,
        "start_time": "2024-10-16T13:20:03.120Z"
      },
      {
        "duration": 1208,
        "start_time": "2024-10-16T13:20:03.814Z"
      },
      {
        "duration": 203,
        "start_time": "2024-10-16T13:20:05.024Z"
      },
      {
        "duration": 4518,
        "start_time": "2024-10-16T13:20:05.229Z"
      },
      {
        "duration": 693,
        "start_time": "2024-10-16T13:20:09.749Z"
      },
      {
        "duration": 2827,
        "start_time": "2024-10-16T13:20:10.507Z"
      },
      {
        "duration": 3,
        "start_time": "2024-10-16T13:20:13.335Z"
      },
      {
        "duration": 1580,
        "start_time": "2024-10-16T13:20:13.340Z"
      },
      {
        "duration": 525,
        "start_time": "2024-10-16T13:20:14.923Z"
      },
      {
        "duration": 275,
        "start_time": "2024-10-16T13:20:15.450Z"
      },
      {
        "duration": 0,
        "start_time": "2024-10-16T13:20:15.726Z"
      },
      {
        "duration": 0,
        "start_time": "2024-10-16T13:20:15.727Z"
      },
      {
        "duration": 0,
        "start_time": "2024-10-16T13:20:15.728Z"
      },
      {
        "duration": 0,
        "start_time": "2024-10-16T13:20:15.729Z"
      },
      {
        "duration": 0,
        "start_time": "2024-10-16T13:20:15.730Z"
      },
      {
        "duration": 0,
        "start_time": "2024-10-16T13:20:15.731Z"
      },
      {
        "duration": 0,
        "start_time": "2024-10-16T13:20:15.732Z"
      },
      {
        "duration": 3,
        "start_time": "2024-10-16T13:20:36.707Z"
      },
      {
        "duration": 150,
        "start_time": "2024-10-16T13:20:36.711Z"
      },
      {
        "duration": 0,
        "start_time": "2024-10-16T13:20:36.862Z"
      },
      {
        "duration": 0,
        "start_time": "2024-10-16T13:20:36.863Z"
      },
      {
        "duration": 0,
        "start_time": "2024-10-16T13:20:36.864Z"
      },
      {
        "duration": 0,
        "start_time": "2024-10-16T13:20:36.865Z"
      },
      {
        "duration": 0,
        "start_time": "2024-10-16T13:20:36.865Z"
      },
      {
        "duration": 0,
        "start_time": "2024-10-16T13:20:36.866Z"
      },
      {
        "duration": 0,
        "start_time": "2024-10-16T13:20:36.867Z"
      },
      {
        "duration": 0,
        "start_time": "2024-10-16T13:20:36.867Z"
      },
      {
        "duration": 0,
        "start_time": "2024-10-16T13:20:36.868Z"
      },
      {
        "duration": 134,
        "start_time": "2024-10-16T13:20:50.653Z"
      },
      {
        "duration": 0,
        "start_time": "2024-10-16T13:20:50.788Z"
      },
      {
        "duration": 0,
        "start_time": "2024-10-16T13:20:50.789Z"
      },
      {
        "duration": 0,
        "start_time": "2024-10-16T13:20:50.790Z"
      },
      {
        "duration": 0,
        "start_time": "2024-10-16T13:20:50.791Z"
      },
      {
        "duration": 0,
        "start_time": "2024-10-16T13:20:50.792Z"
      },
      {
        "duration": 0,
        "start_time": "2024-10-16T13:20:50.793Z"
      },
      {
        "duration": 0,
        "start_time": "2024-10-16T13:20:50.794Z"
      },
      {
        "duration": 0,
        "start_time": "2024-10-16T13:20:50.795Z"
      },
      {
        "duration": 1310,
        "start_time": "2024-10-16T13:21:09.121Z"
      },
      {
        "duration": 78,
        "start_time": "2024-10-16T13:21:10.433Z"
      },
      {
        "duration": 608,
        "start_time": "2024-10-16T13:21:10.512Z"
      },
      {
        "duration": 2597,
        "start_time": "2024-10-16T13:21:11.122Z"
      },
      {
        "duration": 4288,
        "start_time": "2024-10-16T13:21:13.721Z"
      },
      {
        "duration": 17,
        "start_time": "2024-10-16T13:21:18.011Z"
      },
      {
        "duration": 714,
        "start_time": "2024-10-16T13:21:18.029Z"
      },
      {
        "duration": 2428,
        "start_time": "2024-10-16T13:21:18.745Z"
      },
      {
        "duration": 100,
        "start_time": "2024-10-16T13:23:57.431Z"
      },
      {
        "duration": 20,
        "start_time": "2024-10-16T13:28:28.768Z"
      },
      {
        "duration": 8,
        "start_time": "2024-10-16T13:28:36.252Z"
      },
      {
        "duration": 98,
        "start_time": "2024-10-16T13:28:45.877Z"
      },
      {
        "duration": 110,
        "start_time": "2024-10-16T13:29:56.410Z"
      },
      {
        "duration": 223,
        "start_time": "2024-10-16T13:30:06.844Z"
      },
      {
        "duration": 693,
        "start_time": "2024-10-16T13:53:41.942Z"
      },
      {
        "duration": 3,
        "start_time": "2024-10-16T13:53:42.637Z"
      },
      {
        "duration": 15488,
        "start_time": "2024-10-16T13:53:42.642Z"
      },
      {
        "duration": 8222,
        "start_time": "2024-10-16T13:53:58.131Z"
      },
      {
        "duration": 83,
        "start_time": "2024-10-16T13:54:06.355Z"
      },
      {
        "duration": 788,
        "start_time": "2024-10-16T13:54:06.440Z"
      },
      {
        "duration": 2320,
        "start_time": "2024-10-16T13:54:07.229Z"
      },
      {
        "duration": 206,
        "start_time": "2024-10-16T13:54:09.551Z"
      },
      {
        "duration": 4779,
        "start_time": "2024-10-16T13:54:09.760Z"
      },
      {
        "duration": 700,
        "start_time": "2024-10-16T13:54:14.541Z"
      },
      {
        "duration": 3101,
        "start_time": "2024-10-16T13:54:15.242Z"
      },
      {
        "duration": 90,
        "start_time": "2024-10-16T13:54:18.345Z"
      },
      {
        "duration": 12,
        "start_time": "2024-10-16T13:54:18.436Z"
      },
      {
        "duration": 1813,
        "start_time": "2024-10-16T13:54:18.451Z"
      },
      {
        "duration": 571,
        "start_time": "2024-10-16T13:54:20.266Z"
      },
      {
        "duration": 1594,
        "start_time": "2024-10-16T13:54:20.838Z"
      },
      {
        "duration": 8,
        "start_time": "2024-10-16T13:54:22.434Z"
      },
      {
        "duration": 420,
        "start_time": "2024-10-16T13:54:22.444Z"
      },
      {
        "duration": 0,
        "start_time": "2024-10-16T13:54:22.866Z"
      },
      {
        "duration": 0,
        "start_time": "2024-10-16T13:54:22.868Z"
      },
      {
        "duration": 0,
        "start_time": "2024-10-16T13:54:22.869Z"
      },
      {
        "duration": 0,
        "start_time": "2024-10-16T13:54:22.870Z"
      },
      {
        "duration": 0,
        "start_time": "2024-10-16T13:54:22.872Z"
      },
      {
        "duration": 0,
        "start_time": "2024-10-16T13:54:22.873Z"
      },
      {
        "duration": 0,
        "start_time": "2024-10-16T13:54:22.874Z"
      },
      {
        "duration": 0,
        "start_time": "2024-10-16T13:54:22.876Z"
      },
      {
        "duration": 0,
        "start_time": "2024-10-16T13:54:22.877Z"
      },
      {
        "duration": 610,
        "start_time": "2024-10-16T13:54:39.095Z"
      },
      {
        "duration": 3007,
        "start_time": "2024-10-16T13:54:44.253Z"
      },
      {
        "duration": 4303,
        "start_time": "2024-10-16T13:54:47.262Z"
      },
      {
        "duration": 66,
        "start_time": "2024-10-16T13:54:51.567Z"
      },
      {
        "duration": 989,
        "start_time": "2024-10-16T13:54:51.634Z"
      },
      {
        "duration": 2860,
        "start_time": "2024-10-16T13:54:52.625Z"
      },
      {
        "duration": 2929,
        "start_time": "2024-10-16T13:54:55.507Z"
      },
      {
        "duration": 26,
        "start_time": "2024-10-16T13:54:58.438Z"
      },
      {
        "duration": 870,
        "start_time": "2024-10-16T13:54:58.466Z"
      },
      {
        "duration": 2409,
        "start_time": "2024-10-16T13:54:59.338Z"
      },
      {
        "duration": 6,
        "start_time": "2024-10-16T14:26:02.998Z"
      },
      {
        "duration": 91,
        "start_time": "2024-10-16T14:26:11.669Z"
      },
      {
        "duration": 277,
        "start_time": "2024-10-16T14:31:59.438Z"
      },
      {
        "duration": 91,
        "start_time": "2024-10-16T14:35:22.504Z"
      },
      {
        "duration": 84,
        "start_time": "2024-10-16T14:35:42.266Z"
      },
      {
        "duration": 683,
        "start_time": "2024-10-16T14:35:53.331Z"
      },
      {
        "duration": 3,
        "start_time": "2024-10-16T14:35:54.017Z"
      },
      {
        "duration": 14813,
        "start_time": "2024-10-16T14:35:54.022Z"
      },
      {
        "duration": 7586,
        "start_time": "2024-10-16T14:36:08.837Z"
      },
      {
        "duration": 82,
        "start_time": "2024-10-16T14:36:16.425Z"
      },
      {
        "duration": 706,
        "start_time": "2024-10-16T14:36:16.508Z"
      },
      {
        "duration": 1314,
        "start_time": "2024-10-16T14:36:17.215Z"
      },
      {
        "duration": 186,
        "start_time": "2024-10-16T14:36:18.530Z"
      },
      {
        "duration": 4597,
        "start_time": "2024-10-16T14:36:18.717Z"
      },
      {
        "duration": 599,
        "start_time": "2024-10-16T14:36:23.315Z"
      },
      {
        "duration": 2583,
        "start_time": "2024-10-16T14:36:23.915Z"
      },
      {
        "duration": 38,
        "start_time": "2024-10-16T14:36:26.499Z"
      },
      {
        "duration": 89,
        "start_time": "2024-10-16T14:36:26.538Z"
      },
      {
        "duration": 1888,
        "start_time": "2024-10-16T14:36:26.630Z"
      },
      {
        "duration": 499,
        "start_time": "2024-10-16T14:36:28.520Z"
      },
      {
        "duration": 1327,
        "start_time": "2024-10-16T14:36:29.021Z"
      },
      {
        "duration": 63,
        "start_time": "2024-10-16T14:36:30.350Z"
      },
      {
        "duration": 397,
        "start_time": "2024-10-16T14:36:30.414Z"
      },
      {
        "duration": 2705,
        "start_time": "2024-10-16T14:36:30.813Z"
      },
      {
        "duration": 3592,
        "start_time": "2024-10-16T14:36:33.519Z"
      },
      {
        "duration": 19,
        "start_time": "2024-10-16T14:36:37.113Z"
      },
      {
        "duration": 863,
        "start_time": "2024-10-16T14:36:37.133Z"
      },
      {
        "duration": 1820,
        "start_time": "2024-10-16T14:36:37.998Z"
      },
      {
        "duration": 2303,
        "start_time": "2024-10-16T14:36:39.819Z"
      },
      {
        "duration": 15,
        "start_time": "2024-10-16T14:36:42.123Z"
      },
      {
        "duration": 916,
        "start_time": "2024-10-16T14:36:42.139Z"
      },
      {
        "duration": 1706,
        "start_time": "2024-10-16T14:36:43.057Z"
      },
      {
        "duration": 68,
        "start_time": "2024-10-16T14:36:44.764Z"
      },
      {
        "duration": 0,
        "start_time": "2024-10-16T14:36:44.833Z"
      },
      {
        "duration": 132,
        "start_time": "2024-10-16T14:37:33.713Z"
      },
      {
        "duration": 676,
        "start_time": "2024-10-17T05:34:32.184Z"
      },
      {
        "duration": 2,
        "start_time": "2024-10-17T05:34:32.861Z"
      },
      {
        "duration": 14120,
        "start_time": "2024-10-17T05:34:32.864Z"
      },
      {
        "duration": 7718,
        "start_time": "2024-10-17T05:34:46.987Z"
      },
      {
        "duration": 64,
        "start_time": "2024-10-17T05:34:54.707Z"
      },
      {
        "duration": 685,
        "start_time": "2024-10-17T05:34:54.773Z"
      },
      {
        "duration": 1208,
        "start_time": "2024-10-17T05:34:55.460Z"
      },
      {
        "duration": 775,
        "start_time": "2024-10-17T05:35:34.841Z"
      },
      {
        "duration": 553,
        "start_time": "2024-10-17T05:38:50.657Z"
      },
      {
        "duration": 3,
        "start_time": "2024-10-17T06:03:29.186Z"
      },
      {
        "duration": 16,
        "start_time": "2024-10-17T06:03:29.191Z"
      },
      {
        "duration": 15,
        "start_time": "2024-10-17T06:03:29.208Z"
      },
      {
        "duration": 660,
        "start_time": "2024-10-17T06:03:29.224Z"
      },
      {
        "duration": 3,
        "start_time": "2024-10-17T06:03:29.886Z"
      },
      {
        "duration": 268,
        "start_time": "2024-10-17T06:03:29.890Z"
      },
      {
        "duration": 524,
        "start_time": "2024-10-17T06:03:30.160Z"
      },
      {
        "duration": 82,
        "start_time": "2024-10-17T06:03:30.685Z"
      },
      {
        "duration": 3489,
        "start_time": "2024-10-17T06:03:30.769Z"
      },
      {
        "duration": 519,
        "start_time": "2024-10-17T06:03:34.260Z"
      },
      {
        "duration": 2459,
        "start_time": "2024-10-17T06:03:34.781Z"
      },
      {
        "duration": 40,
        "start_time": "2024-10-17T06:03:37.242Z"
      },
      {
        "duration": 74,
        "start_time": "2024-10-17T06:03:37.283Z"
      },
      {
        "duration": 2,
        "start_time": "2024-10-17T06:03:37.360Z"
      },
      {
        "duration": 1303,
        "start_time": "2024-10-17T06:03:37.364Z"
      },
      {
        "duration": 439,
        "start_time": "2024-10-17T06:03:38.668Z"
      },
      {
        "duration": 1550,
        "start_time": "2024-10-17T06:03:39.108Z"
      },
      {
        "duration": 10,
        "start_time": "2024-10-17T06:03:40.660Z"
      },
      {
        "duration": 994,
        "start_time": "2024-10-17T06:03:40.672Z"
      },
      {
        "duration": 31,
        "start_time": "2024-10-17T06:03:41.667Z"
      },
      {
        "duration": 174,
        "start_time": "2024-10-17T06:03:41.699Z"
      },
      {
        "duration": 0,
        "start_time": "2024-10-17T06:03:41.875Z"
      },
      {
        "duration": 4,
        "start_time": "2024-10-17T06:04:11.039Z"
      },
      {
        "duration": 3,
        "start_time": "2024-10-17T06:04:22.996Z"
      },
      {
        "duration": 1034,
        "start_time": "2024-10-17T06:04:24.861Z"
      },
      {
        "duration": 1592,
        "start_time": "2024-10-17T06:04:27.965Z"
      },
      {
        "duration": 3,
        "start_time": "2024-10-17T06:05:06.153Z"
      },
      {
        "duration": 3629,
        "start_time": "2024-10-17T06:05:09.231Z"
      },
      {
        "duration": 6,
        "start_time": "2024-10-17T06:05:16.387Z"
      },
      {
        "duration": 2734,
        "start_time": "2024-10-17T06:05:27.825Z"
      },
      {
        "duration": 146,
        "start_time": "2024-10-17T06:05:42.022Z"
      },
      {
        "duration": 12,
        "start_time": "2024-10-17T06:05:46.169Z"
      },
      {
        "duration": 383,
        "start_time": "2024-10-17T06:06:12.893Z"
      },
      {
        "duration": 1343,
        "start_time": "2024-10-17T06:06:22.575Z"
      },
      {
        "duration": 292,
        "start_time": "2024-10-17T06:10:47.422Z"
      },
      {
        "duration": 947,
        "start_time": "2024-10-17T06:10:55.173Z"
      },
      {
        "duration": 802,
        "start_time": "2024-10-17T06:11:10.515Z"
      },
      {
        "duration": 868,
        "start_time": "2024-10-17T06:12:01.537Z"
      },
      {
        "duration": 718,
        "start_time": "2024-10-17T06:12:32.722Z"
      },
      {
        "duration": 937,
        "start_time": "2024-10-17T06:12:43.004Z"
      },
      {
        "duration": 153,
        "start_time": "2024-10-17T06:15:40.193Z"
      },
      {
        "duration": 0,
        "start_time": "2024-10-17T06:15:40.347Z"
      },
      {
        "duration": 0,
        "start_time": "2024-10-17T06:15:40.348Z"
      },
      {
        "duration": 0,
        "start_time": "2024-10-17T06:15:40.349Z"
      },
      {
        "duration": 0,
        "start_time": "2024-10-17T06:15:40.350Z"
      },
      {
        "duration": 0,
        "start_time": "2024-10-17T06:15:40.351Z"
      },
      {
        "duration": 0,
        "start_time": "2024-10-17T06:15:40.352Z"
      },
      {
        "duration": 0,
        "start_time": "2024-10-17T06:15:40.353Z"
      },
      {
        "duration": 0,
        "start_time": "2024-10-17T06:15:40.354Z"
      },
      {
        "duration": 6,
        "start_time": "2024-10-17T06:15:46.224Z"
      },
      {
        "duration": 33,
        "start_time": "2024-10-17T06:15:46.232Z"
      },
      {
        "duration": 1810,
        "start_time": "2024-10-17T06:15:46.266Z"
      },
      {
        "duration": 89,
        "start_time": "2024-10-17T06:15:48.078Z"
      },
      {
        "duration": 332,
        "start_time": "2024-10-17T06:15:48.169Z"
      },
      {
        "duration": 856,
        "start_time": "2024-10-17T06:15:48.503Z"
      },
      {
        "duration": 1865,
        "start_time": "2024-10-17T06:15:49.360Z"
      },
      {
        "duration": 0,
        "start_time": "2024-10-17T06:15:51.226Z"
      },
      {
        "duration": 1095,
        "start_time": "2024-10-17T06:16:13.199Z"
      },
      {
        "duration": 787,
        "start_time": "2024-10-17T06:16:17.894Z"
      },
      {
        "duration": 213,
        "start_time": "2024-10-17T06:16:33.832Z"
      },
      {
        "duration": 948,
        "start_time": "2024-10-17T06:16:36.348Z"
      },
      {
        "duration": 7,
        "start_time": "2024-10-17T09:59:49.256Z"
      },
      {
        "duration": 6,
        "start_time": "2024-10-17T10:04:53.705Z"
      },
      {
        "duration": 7,
        "start_time": "2024-10-17T10:05:20.386Z"
      },
      {
        "duration": 4,
        "start_time": "2024-10-17T10:05:35.154Z"
      },
      {
        "duration": 16,
        "start_time": "2024-10-17T10:05:35.159Z"
      },
      {
        "duration": 29,
        "start_time": "2024-10-17T10:05:35.176Z"
      },
      {
        "duration": 378,
        "start_time": "2024-10-17T10:05:35.207Z"
      },
      {
        "duration": 3,
        "start_time": "2024-10-17T10:05:35.587Z"
      },
      {
        "duration": 110,
        "start_time": "2024-10-17T10:05:35.591Z"
      },
      {
        "duration": 600,
        "start_time": "2024-10-17T10:05:35.703Z"
      },
      {
        "duration": 63,
        "start_time": "2024-10-17T10:05:36.305Z"
      },
      {
        "duration": 1290,
        "start_time": "2024-10-17T10:05:36.369Z"
      },
      {
        "duration": 240,
        "start_time": "2024-10-17T10:05:37.661Z"
      },
      {
        "duration": 1376,
        "start_time": "2024-10-17T10:05:37.903Z"
      },
      {
        "duration": 28,
        "start_time": "2024-10-17T10:05:39.280Z"
      },
      {
        "duration": 2,
        "start_time": "2024-10-17T10:05:39.310Z"
      },
      {
        "duration": 3,
        "start_time": "2024-10-17T10:05:39.357Z"
      },
      {
        "duration": 380,
        "start_time": "2024-10-17T10:05:39.362Z"
      },
      {
        "duration": 141,
        "start_time": "2024-10-17T10:05:39.758Z"
      },
      {
        "duration": 324,
        "start_time": "2024-10-17T10:05:39.900Z"
      },
      {
        "duration": 36,
        "start_time": "2024-10-17T10:05:40.225Z"
      },
      {
        "duration": 144,
        "start_time": "2024-10-17T10:05:40.262Z"
      },
      {
        "duration": 5,
        "start_time": "2024-10-17T10:05:40.407Z"
      },
      {
        "duration": 3,
        "start_time": "2024-10-17T10:05:40.414Z"
      },
      {
        "duration": 514,
        "start_time": "2024-10-17T10:05:40.418Z"
      },
      {
        "duration": 2164,
        "start_time": "2024-10-17T10:05:40.934Z"
      },
      {
        "duration": 99,
        "start_time": "2024-10-17T10:05:43.099Z"
      },
      {
        "duration": 270,
        "start_time": "2024-10-17T10:05:43.257Z"
      },
      {
        "duration": 834,
        "start_time": "2024-10-17T10:05:43.556Z"
      },
      {
        "duration": 6,
        "start_time": "2024-10-17T10:05:44.391Z"
      },
      {
        "duration": 10,
        "start_time": "2024-10-17T10:05:44.398Z"
      },
      {
        "duration": 1279,
        "start_time": "2024-10-17T10:05:44.409Z"
      },
      {
        "duration": 28,
        "start_time": "2024-10-17T10:05:45.690Z"
      },
      {
        "duration": 285,
        "start_time": "2024-10-17T10:05:45.719Z"
      },
      {
        "duration": 679,
        "start_time": "2024-10-17T10:05:46.005Z"
      },
      {
        "duration": 7,
        "start_time": "2024-10-17T10:05:50.651Z"
      },
      {
        "duration": 7,
        "start_time": "2024-10-17T10:06:18.868Z"
      },
      {
        "duration": 3,
        "start_time": "2024-10-17T10:08:07.588Z"
      },
      {
        "duration": 5,
        "start_time": "2024-10-17T10:08:08.979Z"
      },
      {
        "duration": 6,
        "start_time": "2024-10-17T10:08:12.719Z"
      },
      {
        "duration": 3,
        "start_time": "2024-10-17T10:08:21.619Z"
      },
      {
        "duration": 6,
        "start_time": "2024-10-17T10:08:56.182Z"
      },
      {
        "duration": 13506,
        "start_time": "2024-10-17T10:09:10.168Z"
      },
      {
        "duration": 8,
        "start_time": "2024-10-17T10:10:25.214Z"
      },
      {
        "duration": 5,
        "start_time": "2024-10-17T10:11:13.398Z"
      },
      {
        "duration": 2,
        "start_time": "2024-10-17T10:11:15.983Z"
      },
      {
        "duration": 10807,
        "start_time": "2024-10-17T10:11:20.152Z"
      },
      {
        "duration": 841,
        "start_time": "2024-10-17T10:12:29.576Z"
      },
      {
        "duration": 4,
        "start_time": "2024-10-17T10:13:09.530Z"
      },
      {
        "duration": 4,
        "start_time": "2024-10-17T10:16:08.863Z"
      },
      {
        "duration": 7,
        "start_time": "2024-10-17T10:18:02.579Z"
      },
      {
        "duration": 4,
        "start_time": "2024-10-17T10:18:06.663Z"
      },
      {
        "duration": 3,
        "start_time": "2024-10-17T10:18:13.048Z"
      },
      {
        "duration": 9410,
        "start_time": "2024-10-17T10:21:29.501Z"
      },
      {
        "duration": 4,
        "start_time": "2024-10-17T10:21:42.641Z"
      },
      {
        "duration": 679,
        "start_time": "2024-10-17T10:21:48.141Z"
      },
      {
        "duration": 3,
        "start_time": "2024-10-17T10:25:36.112Z"
      },
      {
        "duration": 94,
        "start_time": "2024-10-17T10:25:56.028Z"
      },
      {
        "duration": 85,
        "start_time": "2024-10-17T10:26:04.254Z"
      },
      {
        "duration": 6,
        "start_time": "2024-10-17T10:26:15.946Z"
      },
      {
        "duration": 4,
        "start_time": "2024-10-17T10:26:20.484Z"
      },
      {
        "duration": 5,
        "start_time": "2024-10-17T10:26:35.427Z"
      },
      {
        "duration": 6,
        "start_time": "2024-10-17T10:27:06.954Z"
      },
      {
        "duration": 3,
        "start_time": "2024-10-17T10:27:16.517Z"
      },
      {
        "duration": 7,
        "start_time": "2024-10-17T10:27:36.926Z"
      },
      {
        "duration": 6,
        "start_time": "2024-10-17T10:27:41.429Z"
      },
      {
        "duration": 6,
        "start_time": "2024-10-17T10:28:01.036Z"
      },
      {
        "duration": 4,
        "start_time": "2024-10-17T10:28:08.195Z"
      },
      {
        "duration": 3,
        "start_time": "2024-10-17T10:30:50.895Z"
      },
      {
        "duration": 5,
        "start_time": "2024-10-17T10:30:52.864Z"
      },
      {
        "duration": 3,
        "start_time": "2024-10-17T10:30:53.864Z"
      },
      {
        "duration": 86989,
        "start_time": "2024-10-17T10:30:55.973Z"
      },
      {
        "duration": 3,
        "start_time": "2024-10-17T10:32:44.165Z"
      },
      {
        "duration": 608,
        "start_time": "2024-10-17T10:32:52.942Z"
      },
      {
        "duration": 3,
        "start_time": "2024-10-17T10:33:32.100Z"
      },
      {
        "duration": 3,
        "start_time": "2024-10-17T10:33:36.758Z"
      },
      {
        "duration": 64186,
        "start_time": "2024-10-17T10:33:37.507Z"
      },
      {
        "duration": 4,
        "start_time": "2024-10-17T10:35:25.776Z"
      },
      {
        "duration": 3,
        "start_time": "2024-10-17T10:35:45.068Z"
      },
      {
        "duration": 6,
        "start_time": "2024-10-17T10:35:45.540Z"
      },
      {
        "duration": 3,
        "start_time": "2024-10-17T10:35:46.040Z"
      },
      {
        "duration": 58270,
        "start_time": "2024-10-17T10:35:47.949Z"
      },
      {
        "duration": 4,
        "start_time": "2024-10-17T10:41:16.512Z"
      },
      {
        "duration": 553,
        "start_time": "2024-10-17T10:41:18.980Z"
      },
      {
        "duration": 502,
        "start_time": "2024-10-17T11:05:05.044Z"
      },
      {
        "duration": 4,
        "start_time": "2024-10-17T11:05:15.326Z"
      },
      {
        "duration": 501,
        "start_time": "2024-10-17T11:06:17.689Z"
      },
      {
        "duration": 5,
        "start_time": "2024-10-17T11:06:22.278Z"
      },
      {
        "duration": 498,
        "start_time": "2024-10-17T11:06:36.622Z"
      },
      {
        "duration": 507,
        "start_time": "2024-10-17T11:06:46.889Z"
      },
      {
        "duration": 5,
        "start_time": "2024-10-17T11:06:49.218Z"
      },
      {
        "duration": 6,
        "start_time": "2024-10-17T11:06:59.550Z"
      },
      {
        "duration": 513,
        "start_time": "2024-10-17T11:07:48.199Z"
      },
      {
        "duration": 508,
        "start_time": "2024-10-17T11:08:11.156Z"
      },
      {
        "duration": 502,
        "start_time": "2024-10-17T11:08:21.388Z"
      },
      {
        "duration": 499,
        "start_time": "2024-10-17T11:08:41.748Z"
      },
      {
        "duration": 495,
        "start_time": "2024-10-17T11:10:00.405Z"
      },
      {
        "duration": 518,
        "start_time": "2024-10-17T11:10:26.077Z"
      },
      {
        "duration": 553,
        "start_time": "2024-10-17T11:10:38.249Z"
      },
      {
        "duration": 7,
        "start_time": "2024-10-17T11:13:54.167Z"
      },
      {
        "duration": 6,
        "start_time": "2024-10-17T11:14:08.860Z"
      },
      {
        "duration": 527,
        "start_time": "2024-10-17T11:14:17.344Z"
      },
      {
        "duration": 535,
        "start_time": "2024-10-17T11:14:21.390Z"
      },
      {
        "duration": 553,
        "start_time": "2024-10-17T11:14:28.033Z"
      },
      {
        "duration": 7,
        "start_time": "2024-10-17T11:14:30.951Z"
      },
      {
        "duration": 603,
        "start_time": "2024-10-17T11:15:07.894Z"
      },
      {
        "duration": 2,
        "start_time": "2024-10-17T11:15:08.499Z"
      },
      {
        "duration": 14363,
        "start_time": "2024-10-17T11:15:08.502Z"
      },
      {
        "duration": 7423,
        "start_time": "2024-10-17T11:15:22.868Z"
      },
      {
        "duration": 72,
        "start_time": "2024-10-17T11:15:30.295Z"
      },
      {
        "duration": 606,
        "start_time": "2024-10-17T11:15:30.369Z"
      },
      {
        "duration": 1114,
        "start_time": "2024-10-17T11:15:30.977Z"
      },
      {
        "duration": 166,
        "start_time": "2024-10-17T11:15:32.093Z"
      },
      {
        "duration": 4331,
        "start_time": "2024-10-17T11:15:32.260Z"
      },
      {
        "duration": 677,
        "start_time": "2024-10-17T11:15:36.592Z"
      },
      {
        "duration": 2611,
        "start_time": "2024-10-17T11:15:37.271Z"
      },
      {
        "duration": 101,
        "start_time": "2024-10-17T11:15:39.884Z"
      },
      {
        "duration": 71,
        "start_time": "2024-10-17T11:15:39.987Z"
      },
      {
        "duration": 96,
        "start_time": "2024-10-17T11:15:40.062Z"
      },
      {
        "duration": 1765,
        "start_time": "2024-10-17T11:15:40.159Z"
      },
      {
        "duration": 486,
        "start_time": "2024-10-17T11:15:41.926Z"
      },
      {
        "duration": 1253,
        "start_time": "2024-10-17T11:15:42.414Z"
      },
      {
        "duration": 7,
        "start_time": "2024-10-17T11:15:43.670Z"
      },
      {
        "duration": 428,
        "start_time": "2024-10-17T11:15:43.679Z"
      },
      {
        "duration": 71,
        "start_time": "2024-10-17T11:15:44.108Z"
      },
      {
        "duration": 3,
        "start_time": "2024-10-17T11:15:44.180Z"
      },
      {
        "duration": 1235,
        "start_time": "2024-10-17T11:15:44.184Z"
      },
      {
        "duration": 4055,
        "start_time": "2024-10-17T11:15:45.421Z"
      },
      {
        "duration": 190,
        "start_time": "2024-10-17T11:15:49.478Z"
      },
      {
        "duration": 428,
        "start_time": "2024-10-17T11:15:49.669Z"
      },
      {
        "duration": 1296,
        "start_time": "2024-10-17T11:15:50.099Z"
      },
      {
        "duration": 5,
        "start_time": "2024-10-17T11:15:51.396Z"
      },
      {
        "duration": 55,
        "start_time": "2024-10-17T11:15:51.403Z"
      },
      {
        "duration": 2020,
        "start_time": "2024-10-17T11:15:51.459Z"
      },
      {
        "duration": 97,
        "start_time": "2024-10-17T11:15:53.480Z"
      },
      {
        "duration": 483,
        "start_time": "2024-10-17T11:15:53.578Z"
      },
      {
        "duration": 1239,
        "start_time": "2024-10-17T11:15:54.063Z"
      },
      {
        "duration": 3,
        "start_time": "2024-10-17T11:15:55.303Z"
      },
      {
        "duration": 52,
        "start_time": "2024-10-17T11:15:55.307Z"
      },
      {
        "duration": 16,
        "start_time": "2024-10-17T11:15:55.361Z"
      },
      {
        "duration": 93010,
        "start_time": "2024-10-17T11:15:55.378Z"
      },
      {
        "duration": 8,
        "start_time": "2024-10-17T11:17:28.389Z"
      },
      {
        "duration": 172,
        "start_time": "2024-10-17T11:17:28.399Z"
      },
      {
        "duration": 1118,
        "start_time": "2024-10-17T11:17:28.572Z"
      },
      {
        "duration": 7,
        "start_time": "2024-10-17T11:17:29.692Z"
      },
      {
        "duration": 249,
        "start_time": "2024-10-17T11:17:29.759Z"
      },
      {
        "duration": 0,
        "start_time": "2024-10-17T11:17:30.010Z"
      },
      {
        "duration": 7,
        "start_time": "2024-10-17T11:38:54.797Z"
      },
      {
        "duration": 51,
        "start_time": "2024-10-17T11:39:02.856Z"
      },
      {
        "duration": 753,
        "start_time": "2024-10-17T11:39:18.137Z"
      },
      {
        "duration": 2,
        "start_time": "2024-10-17T11:39:18.892Z"
      },
      {
        "duration": 14192,
        "start_time": "2024-10-17T11:39:18.895Z"
      },
      {
        "duration": 6985,
        "start_time": "2024-10-17T11:39:33.089Z"
      },
      {
        "duration": 15,
        "start_time": "2024-10-17T11:39:40.076Z"
      },
      {
        "duration": 671,
        "start_time": "2024-10-17T11:39:40.092Z"
      },
      {
        "duration": 1009,
        "start_time": "2024-10-17T11:39:40.764Z"
      },
      {
        "duration": 113,
        "start_time": "2024-10-17T11:39:41.774Z"
      },
      {
        "duration": 4269,
        "start_time": "2024-10-17T11:39:41.889Z"
      },
      {
        "duration": 610,
        "start_time": "2024-10-17T11:39:46.160Z"
      },
      {
        "duration": 2590,
        "start_time": "2024-10-17T11:39:46.772Z"
      },
      {
        "duration": 95,
        "start_time": "2024-10-17T11:39:49.364Z"
      },
      {
        "duration": 3,
        "start_time": "2024-10-17T11:39:49.460Z"
      },
      {
        "duration": 4,
        "start_time": "2024-10-17T11:39:49.466Z"
      },
      {
        "duration": 1688,
        "start_time": "2024-10-17T11:39:49.471Z"
      },
      {
        "duration": 442,
        "start_time": "2024-10-17T11:39:51.161Z"
      },
      {
        "duration": 1453,
        "start_time": "2024-10-17T11:39:51.605Z"
      },
      {
        "duration": 7,
        "start_time": "2024-10-17T11:39:53.060Z"
      },
      {
        "duration": 397,
        "start_time": "2024-10-17T11:39:53.068Z"
      },
      {
        "duration": 94,
        "start_time": "2024-10-17T11:39:53.467Z"
      },
      {
        "duration": 3,
        "start_time": "2024-10-17T11:39:53.563Z"
      },
      {
        "duration": 1400,
        "start_time": "2024-10-17T11:39:53.568Z"
      },
      {
        "duration": 4207,
        "start_time": "2024-10-17T11:39:54.970Z"
      },
      {
        "duration": 205,
        "start_time": "2024-10-17T11:39:59.179Z"
      },
      {
        "duration": 429,
        "start_time": "2024-10-17T11:39:59.386Z"
      },
      {
        "duration": 1356,
        "start_time": "2024-10-17T11:39:59.817Z"
      },
      {
        "duration": 6,
        "start_time": "2024-10-17T11:40:01.174Z"
      },
      {
        "duration": 28,
        "start_time": "2024-10-17T11:40:01.181Z"
      },
      {
        "duration": 2297,
        "start_time": "2024-10-17T11:40:01.211Z"
      },
      {
        "duration": 41,
        "start_time": "2024-10-17T11:40:03.557Z"
      },
      {
        "duration": 487,
        "start_time": "2024-10-17T11:40:03.599Z"
      },
      {
        "duration": 1025,
        "start_time": "2024-10-17T11:40:04.088Z"
      },
      {
        "duration": 4,
        "start_time": "2024-10-17T11:40:05.114Z"
      },
      {
        "duration": 15,
        "start_time": "2024-10-17T11:40:05.157Z"
      },
      {
        "duration": 38,
        "start_time": "2024-10-17T11:40:05.174Z"
      },
      {
        "duration": 85210,
        "start_time": "2024-10-17T11:40:05.214Z"
      },
      {
        "duration": 4,
        "start_time": "2024-10-17T11:41:30.425Z"
      },
      {
        "duration": 153,
        "start_time": "2024-10-17T11:41:30.430Z"
      },
      {
        "duration": 0,
        "start_time": "2024-10-17T11:41:30.585Z"
      },
      {
        "duration": 0,
        "start_time": "2024-10-17T11:41:30.585Z"
      },
      {
        "duration": 0,
        "start_time": "2024-10-17T11:41:30.586Z"
      },
      {
        "duration": 55,
        "start_time": "2024-10-17T11:46:16.887Z"
      },
      {
        "duration": 651,
        "start_time": "2024-10-17T11:46:18.612Z"
      },
      {
        "duration": 10,
        "start_time": "2024-10-17T11:46:20.751Z"
      },
      {
        "duration": 6,
        "start_time": "2024-10-17T11:46:21.986Z"
      },
      {
        "duration": 3,
        "start_time": "2024-10-17T11:46:36.223Z"
      },
      {
        "duration": 7,
        "start_time": "2024-10-17T12:28:04.899Z"
      },
      {
        "duration": 6,
        "start_time": "2024-10-17T12:28:12.113Z"
      },
      {
        "duration": 6,
        "start_time": "2024-10-17T12:30:08.046Z"
      },
      {
        "duration": 5,
        "start_time": "2024-10-17T12:30:15.036Z"
      },
      {
        "duration": 4,
        "start_time": "2024-10-17T12:31:14.736Z"
      },
      {
        "duration": 6,
        "start_time": "2024-10-17T12:31:50.737Z"
      },
      {
        "duration": 11,
        "start_time": "2024-10-17T12:32:14.528Z"
      },
      {
        "duration": 7,
        "start_time": "2024-10-17T12:32:26.328Z"
      },
      {
        "duration": 8,
        "start_time": "2024-10-17T12:33:31.323Z"
      },
      {
        "duration": 5,
        "start_time": "2024-10-17T12:34:25.889Z"
      },
      {
        "duration": 9,
        "start_time": "2024-10-17T12:34:36.419Z"
      },
      {
        "duration": 76,
        "start_time": "2024-10-17T12:34:46.015Z"
      },
      {
        "duration": 7,
        "start_time": "2024-10-17T12:36:41.407Z"
      },
      {
        "duration": 4,
        "start_time": "2024-10-17T13:04:32.721Z"
      },
      {
        "duration": 44,
        "start_time": "2024-10-17T13:05:23.361Z"
      },
      {
        "duration": 7,
        "start_time": "2024-10-17T13:05:39.967Z"
      },
      {
        "duration": 6,
        "start_time": "2024-10-17T13:06:12.105Z"
      },
      {
        "duration": 36,
        "start_time": "2024-10-17T13:06:46.853Z"
      },
      {
        "duration": 3,
        "start_time": "2024-10-17T13:07:28.705Z"
      },
      {
        "duration": 3,
        "start_time": "2024-10-17T13:07:59.595Z"
      },
      {
        "duration": 4,
        "start_time": "2024-10-17T13:08:28.583Z"
      },
      {
        "duration": 4,
        "start_time": "2024-10-17T13:09:48.174Z"
      },
      {
        "duration": 3,
        "start_time": "2024-10-17T13:10:03.175Z"
      },
      {
        "duration": 3,
        "start_time": "2024-10-17T13:10:14.674Z"
      },
      {
        "duration": 4,
        "start_time": "2024-10-17T13:10:45.369Z"
      },
      {
        "duration": 3,
        "start_time": "2024-10-17T13:10:56.379Z"
      },
      {
        "duration": 3,
        "start_time": "2024-10-17T13:11:07.056Z"
      },
      {
        "duration": 4,
        "start_time": "2024-10-17T13:11:19.123Z"
      },
      {
        "duration": 3,
        "start_time": "2024-10-17T13:11:20.831Z"
      },
      {
        "duration": 8,
        "start_time": "2024-10-17T13:12:23.960Z"
      },
      {
        "duration": 6,
        "start_time": "2024-10-17T13:12:52.711Z"
      },
      {
        "duration": 3,
        "start_time": "2024-10-17T13:12:58.227Z"
      },
      {
        "duration": 3,
        "start_time": "2024-10-17T13:13:43.741Z"
      },
      {
        "duration": 68,
        "start_time": "2024-10-17T13:17:20.226Z"
      },
      {
        "duration": 37,
        "start_time": "2024-10-17T13:17:26.069Z"
      },
      {
        "duration": 10,
        "start_time": "2024-10-17T13:17:47.820Z"
      },
      {
        "duration": 72,
        "start_time": "2024-10-17T13:17:57.570Z"
      },
      {
        "duration": 2,
        "start_time": "2024-10-17T13:18:20.979Z"
      },
      {
        "duration": 7,
        "start_time": "2024-10-17T13:18:44.651Z"
      },
      {
        "duration": 4,
        "start_time": "2024-10-17T13:18:50.650Z"
      },
      {
        "duration": 3,
        "start_time": "2024-10-17T13:28:19.670Z"
      },
      {
        "duration": 8,
        "start_time": "2024-10-17T13:28:35.020Z"
      },
      {
        "duration": 6,
        "start_time": "2024-10-17T13:28:39.665Z"
      },
      {
        "duration": 7,
        "start_time": "2024-10-17T13:28:56.813Z"
      },
      {
        "duration": 3,
        "start_time": "2024-10-17T13:29:02.113Z"
      },
      {
        "duration": 4,
        "start_time": "2024-10-17T13:32:22.204Z"
      },
      {
        "duration": 8,
        "start_time": "2024-10-17T13:32:37.159Z"
      },
      {
        "duration": 4,
        "start_time": "2024-10-17T13:32:48.304Z"
      },
      {
        "duration": 9,
        "start_time": "2024-10-17T13:32:54.084Z"
      },
      {
        "duration": 13,
        "start_time": "2024-10-17T13:33:43.940Z"
      },
      {
        "duration": 9,
        "start_time": "2024-10-17T13:34:10.943Z"
      },
      {
        "duration": 9,
        "start_time": "2024-10-17T13:35:00.609Z"
      },
      {
        "duration": 5,
        "start_time": "2024-10-17T13:35:23.017Z"
      },
      {
        "duration": 5,
        "start_time": "2024-10-17T13:35:33.360Z"
      },
      {
        "duration": 5,
        "start_time": "2024-10-17T13:36:34.601Z"
      },
      {
        "duration": 4,
        "start_time": "2024-10-17T13:36:50.166Z"
      },
      {
        "duration": 6,
        "start_time": "2024-10-17T13:37:26.251Z"
      },
      {
        "duration": 4,
        "start_time": "2024-10-17T13:37:54.331Z"
      },
      {
        "duration": 72,
        "start_time": "2024-10-17T13:38:21.111Z"
      },
      {
        "duration": 4,
        "start_time": "2024-10-17T13:38:25.744Z"
      },
      {
        "duration": 6,
        "start_time": "2024-10-17T13:38:57.067Z"
      },
      {
        "duration": 10,
        "start_time": "2024-10-17T13:41:04.926Z"
      },
      {
        "duration": 6,
        "start_time": "2024-10-17T13:41:16.535Z"
      },
      {
        "duration": 14,
        "start_time": "2024-10-17T13:42:26.661Z"
      },
      {
        "duration": 12,
        "start_time": "2024-10-17T13:42:59.163Z"
      },
      {
        "duration": 15,
        "start_time": "2024-10-17T13:43:13.349Z"
      },
      {
        "duration": 4,
        "start_time": "2024-10-17T13:43:25.271Z"
      },
      {
        "duration": 5,
        "start_time": "2024-10-17T13:43:54.328Z"
      },
      {
        "duration": 8,
        "start_time": "2024-10-17T13:44:38.357Z"
      },
      {
        "duration": 4,
        "start_time": "2024-10-17T13:44:49.335Z"
      },
      {
        "duration": 5,
        "start_time": "2024-10-17T13:44:57.833Z"
      },
      {
        "duration": 4,
        "start_time": "2024-10-17T13:45:21.901Z"
      },
      {
        "duration": 5,
        "start_time": "2024-10-17T13:45:28.379Z"
      },
      {
        "duration": 7,
        "start_time": "2024-10-17T13:45:58.364Z"
      },
      {
        "duration": 4,
        "start_time": "2024-10-17T13:46:04.772Z"
      },
      {
        "duration": 4,
        "start_time": "2024-10-17T13:46:59.997Z"
      },
      {
        "duration": 6,
        "start_time": "2024-10-17T13:47:14.858Z"
      },
      {
        "duration": 4,
        "start_time": "2024-10-17T13:47:23.928Z"
      },
      {
        "duration": 4,
        "start_time": "2024-10-17T13:47:40.790Z"
      },
      {
        "duration": 4,
        "start_time": "2024-10-17T13:47:47.593Z"
      },
      {
        "duration": 6,
        "start_time": "2024-10-17T13:48:20.930Z"
      },
      {
        "duration": 8,
        "start_time": "2024-10-17T13:48:27.320Z"
      },
      {
        "duration": 4,
        "start_time": "2024-10-17T13:48:34.516Z"
      },
      {
        "duration": 4,
        "start_time": "2024-10-17T13:49:08.664Z"
      },
      {
        "duration": 7,
        "start_time": "2024-10-17T13:49:12.005Z"
      },
      {
        "duration": 13,
        "start_time": "2024-10-17T13:49:24.227Z"
      },
      {
        "duration": 13,
        "start_time": "2024-10-17T13:49:34.523Z"
      },
      {
        "duration": 10,
        "start_time": "2024-10-17T13:49:43.976Z"
      },
      {
        "duration": 8,
        "start_time": "2024-10-17T13:49:48.414Z"
      },
      {
        "duration": 8,
        "start_time": "2024-10-17T13:50:27.492Z"
      },
      {
        "duration": 4,
        "start_time": "2024-10-17T13:50:49.319Z"
      },
      {
        "duration": 9,
        "start_time": "2024-10-17T13:51:15.275Z"
      },
      {
        "duration": 10,
        "start_time": "2024-10-17T13:52:15.446Z"
      },
      {
        "duration": 10,
        "start_time": "2024-10-17T13:52:29.822Z"
      },
      {
        "duration": 11,
        "start_time": "2024-10-17T13:52:51.337Z"
      },
      {
        "duration": 11,
        "start_time": "2024-10-17T13:53:42.925Z"
      },
      {
        "duration": 11,
        "start_time": "2024-10-17T13:54:31.900Z"
      },
      {
        "duration": 17,
        "start_time": "2024-10-17T13:54:55.836Z"
      },
      {
        "duration": 17,
        "start_time": "2024-10-17T13:55:18.351Z"
      },
      {
        "duration": 12,
        "start_time": "2024-10-17T13:55:26.117Z"
      },
      {
        "duration": 12,
        "start_time": "2024-10-17T13:57:19.508Z"
      },
      {
        "duration": 12,
        "start_time": "2024-10-17T13:57:40.936Z"
      },
      {
        "duration": 10,
        "start_time": "2024-10-17T13:58:13.578Z"
      },
      {
        "duration": 12,
        "start_time": "2024-10-17T13:58:38.243Z"
      },
      {
        "duration": 11,
        "start_time": "2024-10-17T13:59:12.326Z"
      },
      {
        "duration": 13,
        "start_time": "2024-10-17T13:59:30.399Z"
      },
      {
        "duration": 14,
        "start_time": "2024-10-17T13:59:41.063Z"
      },
      {
        "duration": 12,
        "start_time": "2024-10-17T13:59:50.134Z"
      },
      {
        "duration": 13,
        "start_time": "2024-10-17T13:59:55.416Z"
      },
      {
        "duration": 14,
        "start_time": "2024-10-17T14:00:03.623Z"
      },
      {
        "duration": 13,
        "start_time": "2024-10-17T14:00:13.822Z"
      },
      {
        "duration": 11,
        "start_time": "2024-10-17T14:00:40.025Z"
      },
      {
        "duration": 12,
        "start_time": "2024-10-17T14:00:51.388Z"
      },
      {
        "duration": 12,
        "start_time": "2024-10-17T14:01:09.979Z"
      },
      {
        "duration": 17,
        "start_time": "2024-10-17T14:01:54.371Z"
      },
      {
        "duration": 37,
        "start_time": "2024-10-17T14:02:13.510Z"
      },
      {
        "duration": 24,
        "start_time": "2024-10-17T14:02:55.155Z"
      },
      {
        "duration": 7,
        "start_time": "2024-10-17T14:03:11.885Z"
      },
      {
        "duration": 14,
        "start_time": "2024-10-17T14:03:29.652Z"
      },
      {
        "duration": 19,
        "start_time": "2024-10-17T14:03:31.861Z"
      },
      {
        "duration": 56,
        "start_time": "2024-10-17T14:03:38.543Z"
      },
      {
        "duration": 1007,
        "start_time": "2024-10-17T14:04:24.822Z"
      },
      {
        "duration": 14,
        "start_time": "2024-10-17T14:04:48.474Z"
      },
      {
        "duration": 17,
        "start_time": "2024-10-17T14:04:56.380Z"
      },
      {
        "duration": 13,
        "start_time": "2024-10-17T14:05:02.217Z"
      },
      {
        "duration": 13,
        "start_time": "2024-10-17T14:05:52.370Z"
      },
      {
        "duration": 14,
        "start_time": "2024-10-17T14:09:26.997Z"
      },
      {
        "duration": 17,
        "start_time": "2024-10-17T14:09:51.668Z"
      },
      {
        "duration": 21,
        "start_time": "2024-10-17T14:10:26.247Z"
      },
      {
        "duration": 24,
        "start_time": "2024-10-17T14:10:36.858Z"
      },
      {
        "duration": 25,
        "start_time": "2024-10-17T14:10:45.906Z"
      },
      {
        "duration": 14,
        "start_time": "2024-10-17T14:11:26.205Z"
      },
      {
        "duration": 26,
        "start_time": "2024-10-17T14:11:32.155Z"
      },
      {
        "duration": 23,
        "start_time": "2024-10-17T14:11:40.157Z"
      },
      {
        "duration": 19,
        "start_time": "2024-10-17T14:12:09.218Z"
      },
      {
        "duration": 23,
        "start_time": "2024-10-17T14:12:18.671Z"
      },
      {
        "duration": 26,
        "start_time": "2024-10-17T14:14:49.243Z"
      },
      {
        "duration": 12,
        "start_time": "2024-10-17T14:19:09.343Z"
      },
      {
        "duration": 18,
        "start_time": "2024-10-17T14:19:20.140Z"
      },
      {
        "duration": 16,
        "start_time": "2024-10-17T14:19:32.141Z"
      },
      {
        "duration": 18,
        "start_time": "2024-10-17T14:20:57.876Z"
      },
      {
        "duration": 1840,
        "start_time": "2024-10-17T14:21:46.159Z"
      },
      {
        "duration": 3,
        "start_time": "2024-10-17T14:32:21.129Z"
      },
      {
        "duration": 753,
        "start_time": "2024-10-17T14:35:17.743Z"
      },
      {
        "duration": 2,
        "start_time": "2024-10-17T14:35:18.498Z"
      },
      {
        "duration": 14979,
        "start_time": "2024-10-17T14:35:18.501Z"
      },
      {
        "duration": 7205,
        "start_time": "2024-10-17T14:35:33.482Z"
      },
      {
        "duration": 70,
        "start_time": "2024-10-17T14:35:40.689Z"
      },
      {
        "duration": 710,
        "start_time": "2024-10-17T14:35:40.761Z"
      },
      {
        "duration": 1219,
        "start_time": "2024-10-17T14:35:41.473Z"
      },
      {
        "duration": 4295,
        "start_time": "2024-10-17T14:35:42.694Z"
      },
      {
        "duration": 268,
        "start_time": "2024-10-17T14:35:46.991Z"
      },
      {
        "duration": 3407,
        "start_time": "2024-10-17T14:35:47.260Z"
      },
      {
        "duration": 599,
        "start_time": "2024-10-17T14:35:50.668Z"
      },
      {
        "duration": 2272,
        "start_time": "2024-10-17T14:35:51.269Z"
      },
      {
        "duration": 28,
        "start_time": "2024-10-17T14:35:53.542Z"
      },
      {
        "duration": 2,
        "start_time": "2024-10-17T14:35:53.573Z"
      },
      {
        "duration": 4,
        "start_time": "2024-10-17T14:35:53.577Z"
      },
      {
        "duration": 1309,
        "start_time": "2024-10-17T14:35:53.583Z"
      },
      {
        "duration": 537,
        "start_time": "2024-10-17T14:35:54.893Z"
      },
      {
        "duration": 1147,
        "start_time": "2024-10-17T14:35:55.431Z"
      },
      {
        "duration": 9,
        "start_time": "2024-10-17T14:35:56.579Z"
      },
      {
        "duration": 475,
        "start_time": "2024-10-17T14:35:56.590Z"
      },
      {
        "duration": 30,
        "start_time": "2024-10-17T14:35:57.067Z"
      },
      {
        "duration": 3,
        "start_time": "2024-10-17T14:35:57.099Z"
      },
      {
        "duration": 1177,
        "start_time": "2024-10-17T14:35:57.104Z"
      },
      {
        "duration": 4779,
        "start_time": "2024-10-17T14:35:58.282Z"
      },
      {
        "duration": 208,
        "start_time": "2024-10-17T14:36:03.062Z"
      },
      {
        "duration": 602,
        "start_time": "2024-10-17T14:36:03.272Z"
      },
      {
        "duration": 1715,
        "start_time": "2024-10-17T14:36:03.875Z"
      },
      {
        "duration": 68,
        "start_time": "2024-10-17T14:36:05.592Z"
      },
      {
        "duration": 22,
        "start_time": "2024-10-17T14:36:05.662Z"
      },
      {
        "duration": 2190,
        "start_time": "2024-10-17T14:36:05.686Z"
      },
      {
        "duration": 107,
        "start_time": "2024-10-17T14:36:07.877Z"
      },
      {
        "duration": 422,
        "start_time": "2024-10-17T14:36:07.985Z"
      },
      {
        "duration": 1211,
        "start_time": "2024-10-17T14:36:08.409Z"
      },
      {
        "duration": 4,
        "start_time": "2024-10-17T14:36:09.622Z"
      },
      {
        "duration": 81,
        "start_time": "2024-10-17T14:36:09.627Z"
      },
      {
        "duration": 2,
        "start_time": "2024-10-17T14:36:09.710Z"
      },
      {
        "duration": 100601,
        "start_time": "2024-10-17T14:36:09.713Z"
      },
      {
        "duration": 5,
        "start_time": "2024-10-17T14:37:50.316Z"
      },
      {
        "duration": 76,
        "start_time": "2024-10-17T14:37:50.323Z"
      },
      {
        "duration": 878,
        "start_time": "2024-10-17T14:37:50.401Z"
      },
      {
        "duration": 7,
        "start_time": "2024-10-17T14:37:51.283Z"
      },
      {
        "duration": 26,
        "start_time": "2024-10-17T14:37:51.291Z"
      },
      {
        "duration": 266,
        "start_time": "2024-10-17T14:37:51.318Z"
      },
      {
        "duration": 770,
        "start_time": "2024-10-17T19:47:28.753Z"
      },
      {
        "duration": 3,
        "start_time": "2024-10-17T19:47:29.525Z"
      },
      {
        "duration": 15181,
        "start_time": "2024-10-17T19:47:29.529Z"
      },
      {
        "duration": 9264,
        "start_time": "2024-10-17T19:47:44.713Z"
      },
      {
        "duration": 17,
        "start_time": "2024-10-17T19:47:53.981Z"
      },
      {
        "duration": 777,
        "start_time": "2024-10-17T19:47:53.999Z"
      },
      {
        "duration": 1306,
        "start_time": "2024-10-17T19:47:54.778Z"
      },
      {
        "duration": 5504,
        "start_time": "2024-10-17T19:47:56.085Z"
      },
      {
        "duration": 204,
        "start_time": "2024-10-17T19:48:01.591Z"
      },
      {
        "duration": 3505,
        "start_time": "2024-10-17T19:48:01.797Z"
      },
      {
        "duration": 700,
        "start_time": "2024-10-17T19:48:05.304Z"
      },
      {
        "duration": 2736,
        "start_time": "2024-10-17T19:48:06.006Z"
      },
      {
        "duration": 103,
        "start_time": "2024-10-17T19:48:08.777Z"
      },
      {
        "duration": 3,
        "start_time": "2024-10-17T19:48:08.884Z"
      },
      {
        "duration": 6,
        "start_time": "2024-10-17T19:48:08.889Z"
      },
      {
        "duration": 1661,
        "start_time": "2024-10-17T19:48:08.897Z"
      },
      {
        "duration": 546,
        "start_time": "2024-10-17T19:48:10.577Z"
      },
      {
        "duration": 1356,
        "start_time": "2024-10-17T19:48:11.124Z"
      },
      {
        "duration": 10,
        "start_time": "2024-10-17T19:48:12.481Z"
      },
      {
        "duration": 492,
        "start_time": "2024-10-17T19:48:12.492Z"
      },
      {
        "duration": 1316,
        "start_time": "2024-10-17T19:48:12.985Z"
      },
      {
        "duration": 102,
        "start_time": "2024-10-17T19:48:14.303Z"
      },
      {
        "duration": 3,
        "start_time": "2024-10-17T19:48:14.407Z"
      },
      {
        "duration": 4368,
        "start_time": "2024-10-17T19:48:14.412Z"
      },
      {
        "duration": 209,
        "start_time": "2024-10-17T19:48:18.781Z"
      },
      {
        "duration": 545,
        "start_time": "2024-10-17T19:48:18.992Z"
      },
      {
        "duration": 1463,
        "start_time": "2024-10-17T19:48:19.539Z"
      },
      {
        "duration": 7,
        "start_time": "2024-10-17T19:48:21.004Z"
      },
      {
        "duration": 5,
        "start_time": "2024-10-17T19:48:21.012Z"
      },
      {
        "duration": 2288,
        "start_time": "2024-10-17T19:48:21.019Z"
      },
      {
        "duration": 108,
        "start_time": "2024-10-17T19:48:23.309Z"
      },
      {
        "duration": 396,
        "start_time": "2024-10-17T19:48:23.481Z"
      },
      {
        "duration": 1245,
        "start_time": "2024-10-17T19:48:23.879Z"
      },
      {
        "duration": 3,
        "start_time": "2024-10-17T19:48:25.125Z"
      },
      {
        "duration": 11,
        "start_time": "2024-10-17T19:48:25.130Z"
      },
      {
        "duration": 19,
        "start_time": "2024-10-17T19:48:25.142Z"
      },
      {
        "duration": 102943,
        "start_time": "2024-10-17T19:48:25.162Z"
      },
      {
        "duration": 5,
        "start_time": "2024-10-17T19:50:08.106Z"
      },
      {
        "duration": 112,
        "start_time": "2024-10-17T19:50:08.112Z"
      },
      {
        "duration": 703,
        "start_time": "2024-10-17T19:50:08.226Z"
      },
      {
        "duration": 9,
        "start_time": "2024-10-17T19:50:08.934Z"
      },
      {
        "duration": 54,
        "start_time": "2024-10-17T19:50:08.945Z"
      },
      {
        "duration": 283,
        "start_time": "2024-10-17T19:50:09.000Z"
      },
      {
        "duration": 795,
        "start_time": "2024-10-17T21:32:36.276Z"
      },
      {
        "duration": 3,
        "start_time": "2024-10-17T21:32:37.073Z"
      },
      {
        "duration": 15965,
        "start_time": "2024-10-17T21:32:37.077Z"
      },
      {
        "duration": 9589,
        "start_time": "2024-10-17T21:32:53.045Z"
      },
      {
        "duration": 18,
        "start_time": "2024-10-17T21:33:02.636Z"
      },
      {
        "duration": 786,
        "start_time": "2024-10-17T21:33:02.656Z"
      },
      {
        "duration": 1414,
        "start_time": "2024-10-17T21:33:03.444Z"
      },
      {
        "duration": 6084,
        "start_time": "2024-10-17T21:33:04.860Z"
      },
      {
        "duration": 209,
        "start_time": "2024-10-17T21:33:10.946Z"
      },
      {
        "duration": 4328,
        "start_time": "2024-10-17T21:33:11.223Z"
      },
      {
        "duration": 799,
        "start_time": "2024-10-17T21:33:15.553Z"
      },
      {
        "duration": 2784,
        "start_time": "2024-10-17T21:33:16.354Z"
      },
      {
        "duration": 111,
        "start_time": "2024-10-17T21:33:19.140Z"
      },
      {
        "duration": 68,
        "start_time": "2024-10-17T21:33:19.253Z"
      },
      {
        "duration": 7,
        "start_time": "2024-10-17T21:33:19.323Z"
      },
      {
        "duration": 1753,
        "start_time": "2024-10-17T21:33:19.332Z"
      },
      {
        "duration": 573,
        "start_time": "2024-10-17T21:33:21.086Z"
      },
      {
        "duration": 1486,
        "start_time": "2024-10-17T21:33:21.661Z"
      },
      {
        "duration": 9,
        "start_time": "2024-10-17T21:33:23.149Z"
      },
      {
        "duration": 463,
        "start_time": "2024-10-17T21:33:23.159Z"
      },
      {
        "duration": 1715,
        "start_time": "2024-10-17T21:33:23.623Z"
      },
      {
        "duration": 439,
        "start_time": "2024-10-17T21:39:34.487Z"
      },
      {
        "duration": 749,
        "start_time": "2024-10-18T05:10:50.424Z"
      },
      {
        "duration": 2,
        "start_time": "2024-10-18T05:10:51.175Z"
      },
      {
        "duration": 15669,
        "start_time": "2024-10-18T05:10:51.178Z"
      },
      {
        "duration": 8896,
        "start_time": "2024-10-18T05:11:06.849Z"
      },
      {
        "duration": 81,
        "start_time": "2024-10-18T05:11:15.747Z"
      },
      {
        "duration": 706,
        "start_time": "2024-10-18T05:11:20.846Z"
      },
      {
        "duration": 4358,
        "start_time": "2024-10-18T05:11:24.002Z"
      },
      {
        "duration": 1961,
        "start_time": "2024-10-18T05:11:38.095Z"
      },
      {
        "duration": 1289,
        "start_time": "2024-10-18T05:12:03.534Z"
      },
      {
        "duration": 3564,
        "start_time": "2024-10-18T05:13:08.565Z"
      },
      {
        "duration": 2087,
        "start_time": "2024-10-18T05:13:55.379Z"
      },
      {
        "duration": 2133,
        "start_time": "2024-10-18T05:14:05.409Z"
      },
      {
        "duration": 1406,
        "start_time": "2024-10-18T05:14:40.549Z"
      },
      {
        "duration": 899,
        "start_time": "2024-10-18T05:15:09.222Z"
      },
      {
        "duration": 1692,
        "start_time": "2024-10-18T05:15:22.831Z"
      },
      {
        "duration": 1394,
        "start_time": "2024-10-18T05:15:41.363Z"
      },
      {
        "duration": 1408,
        "start_time": "2024-10-18T05:16:14.051Z"
      },
      {
        "duration": 1711,
        "start_time": "2024-10-18T05:16:23.910Z"
      },
      {
        "duration": 1411,
        "start_time": "2024-10-18T05:17:52.522Z"
      },
      {
        "duration": 1243,
        "start_time": "2024-10-18T05:19:51.119Z"
      },
      {
        "duration": 1184,
        "start_time": "2024-10-18T05:21:25.882Z"
      },
      {
        "duration": 1261,
        "start_time": "2024-10-18T05:21:33.085Z"
      },
      {
        "duration": 1190,
        "start_time": "2024-10-18T05:22:47.680Z"
      },
      {
        "duration": 1020,
        "start_time": "2024-10-18T05:22:55.710Z"
      },
      {
        "duration": 1062,
        "start_time": "2024-10-18T05:23:10.617Z"
      },
      {
        "duration": 1232,
        "start_time": "2024-10-18T05:23:15.629Z"
      },
      {
        "duration": 999,
        "start_time": "2024-10-18T05:24:05.649Z"
      },
      {
        "duration": 1275,
        "start_time": "2024-10-18T05:24:24.183Z"
      },
      {
        "duration": 947,
        "start_time": "2024-10-18T05:24:35.886Z"
      },
      {
        "duration": 1040,
        "start_time": "2024-10-18T05:26:17.510Z"
      },
      {
        "duration": 1016,
        "start_time": "2024-10-18T05:26:34.212Z"
      },
      {
        "duration": 960,
        "start_time": "2024-10-18T05:26:52.072Z"
      },
      {
        "duration": 1119,
        "start_time": "2024-10-18T05:27:02.009Z"
      },
      {
        "duration": 934,
        "start_time": "2024-10-18T05:28:17.307Z"
      },
      {
        "duration": 1121,
        "start_time": "2024-10-18T05:28:27.229Z"
      },
      {
        "duration": 863,
        "start_time": "2024-10-18T05:28:33.385Z"
      },
      {
        "duration": 9,
        "start_time": "2024-10-18T05:29:49.637Z"
      },
      {
        "duration": 8,
        "start_time": "2024-10-18T05:29:52.856Z"
      },
      {
        "duration": 1064,
        "start_time": "2024-10-18T05:30:07.560Z"
      },
      {
        "duration": 888,
        "start_time": "2024-10-18T05:30:12.155Z"
      },
      {
        "duration": 714,
        "start_time": "2024-10-18T05:35:48.655Z"
      },
      {
        "duration": 3,
        "start_time": "2024-10-18T05:35:49.371Z"
      },
      {
        "duration": 16278,
        "start_time": "2024-10-18T05:35:49.376Z"
      },
      {
        "duration": 9279,
        "start_time": "2024-10-18T05:36:05.656Z"
      },
      {
        "duration": 84,
        "start_time": "2024-10-18T05:36:14.937Z"
      },
      {
        "duration": 814,
        "start_time": "2024-10-18T05:36:15.024Z"
      },
      {
        "duration": 5705,
        "start_time": "2024-10-18T05:36:15.840Z"
      },
      {
        "duration": 4789,
        "start_time": "2024-10-18T05:36:21.547Z"
      },
      {
        "duration": 190,
        "start_time": "2024-10-18T05:36:26.338Z"
      },
      {
        "duration": 3334,
        "start_time": "2024-10-18T05:36:26.530Z"
      },
      {
        "duration": 607,
        "start_time": "2024-10-18T05:36:29.921Z"
      },
      {
        "duration": 2890,
        "start_time": "2024-10-18T05:36:30.530Z"
      },
      {
        "duration": 110,
        "start_time": "2024-10-18T05:36:33.422Z"
      },
      {
        "duration": 187,
        "start_time": "2024-10-18T05:36:33.535Z"
      },
      {
        "duration": 0,
        "start_time": "2024-10-18T05:36:33.724Z"
      },
      {
        "duration": 0,
        "start_time": "2024-10-18T05:36:33.725Z"
      },
      {
        "duration": 0,
        "start_time": "2024-10-18T05:36:33.726Z"
      },
      {
        "duration": 0,
        "start_time": "2024-10-18T05:36:33.727Z"
      },
      {
        "duration": 0,
        "start_time": "2024-10-18T05:36:33.728Z"
      },
      {
        "duration": 0,
        "start_time": "2024-10-18T05:36:33.729Z"
      },
      {
        "duration": 0,
        "start_time": "2024-10-18T05:36:33.730Z"
      },
      {
        "duration": 0,
        "start_time": "2024-10-18T05:36:33.731Z"
      },
      {
        "duration": 0,
        "start_time": "2024-10-18T05:36:33.733Z"
      },
      {
        "duration": 0,
        "start_time": "2024-10-18T05:36:33.733Z"
      },
      {
        "duration": 0,
        "start_time": "2024-10-18T05:36:33.735Z"
      },
      {
        "duration": 0,
        "start_time": "2024-10-18T05:36:33.736Z"
      },
      {
        "duration": 0,
        "start_time": "2024-10-18T05:36:33.737Z"
      },
      {
        "duration": 0,
        "start_time": "2024-10-18T05:36:33.738Z"
      },
      {
        "duration": 0,
        "start_time": "2024-10-18T05:36:33.739Z"
      },
      {
        "duration": 0,
        "start_time": "2024-10-18T05:36:33.740Z"
      },
      {
        "duration": 0,
        "start_time": "2024-10-18T05:36:33.741Z"
      },
      {
        "duration": 0,
        "start_time": "2024-10-18T05:36:33.742Z"
      },
      {
        "duration": 0,
        "start_time": "2024-10-18T05:36:33.743Z"
      },
      {
        "duration": 0,
        "start_time": "2024-10-18T05:36:33.745Z"
      },
      {
        "duration": 0,
        "start_time": "2024-10-18T05:36:33.746Z"
      },
      {
        "duration": 0,
        "start_time": "2024-10-18T05:36:33.747Z"
      },
      {
        "duration": 0,
        "start_time": "2024-10-18T05:36:33.821Z"
      },
      {
        "duration": 0,
        "start_time": "2024-10-18T05:36:33.822Z"
      },
      {
        "duration": 0,
        "start_time": "2024-10-18T05:36:33.823Z"
      },
      {
        "duration": 0,
        "start_time": "2024-10-18T05:36:33.824Z"
      },
      {
        "duration": 0,
        "start_time": "2024-10-18T05:36:33.825Z"
      },
      {
        "duration": 0,
        "start_time": "2024-10-18T05:36:33.827Z"
      },
      {
        "duration": 1244,
        "start_time": "2024-10-18T05:36:57.891Z"
      },
      {
        "duration": 3,
        "start_time": "2024-10-18T05:36:59.137Z"
      },
      {
        "duration": 80,
        "start_time": "2024-10-18T05:36:59.142Z"
      },
      {
        "duration": 0,
        "start_time": "2024-10-18T05:36:59.225Z"
      },
      {
        "duration": 0,
        "start_time": "2024-10-18T05:36:59.227Z"
      },
      {
        "duration": 0,
        "start_time": "2024-10-18T05:36:59.228Z"
      },
      {
        "duration": 0,
        "start_time": "2024-10-18T05:36:59.231Z"
      },
      {
        "duration": 0,
        "start_time": "2024-10-18T05:36:59.232Z"
      },
      {
        "duration": 0,
        "start_time": "2024-10-18T05:36:59.234Z"
      },
      {
        "duration": 0,
        "start_time": "2024-10-18T05:36:59.235Z"
      },
      {
        "duration": 0,
        "start_time": "2024-10-18T05:36:59.237Z"
      },
      {
        "duration": 0,
        "start_time": "2024-10-18T05:36:59.239Z"
      },
      {
        "duration": 0,
        "start_time": "2024-10-18T05:36:59.240Z"
      },
      {
        "duration": 0,
        "start_time": "2024-10-18T05:36:59.242Z"
      },
      {
        "duration": 0,
        "start_time": "2024-10-18T05:36:59.243Z"
      },
      {
        "duration": 0,
        "start_time": "2024-10-18T05:36:59.245Z"
      },
      {
        "duration": 0,
        "start_time": "2024-10-18T05:36:59.246Z"
      },
      {
        "duration": 0,
        "start_time": "2024-10-18T05:36:59.247Z"
      },
      {
        "duration": 0,
        "start_time": "2024-10-18T05:36:59.248Z"
      },
      {
        "duration": 0,
        "start_time": "2024-10-18T05:36:59.249Z"
      },
      {
        "duration": 0,
        "start_time": "2024-10-18T05:36:59.321Z"
      },
      {
        "duration": 0,
        "start_time": "2024-10-18T05:36:59.322Z"
      },
      {
        "duration": 0,
        "start_time": "2024-10-18T05:36:59.323Z"
      },
      {
        "duration": 0,
        "start_time": "2024-10-18T05:36:59.324Z"
      },
      {
        "duration": 0,
        "start_time": "2024-10-18T05:36:59.325Z"
      },
      {
        "duration": 0,
        "start_time": "2024-10-18T05:36:59.326Z"
      },
      {
        "duration": 0,
        "start_time": "2024-10-18T05:36:59.327Z"
      },
      {
        "duration": 0,
        "start_time": "2024-10-18T05:36:59.328Z"
      },
      {
        "duration": 0,
        "start_time": "2024-10-18T05:36:59.329Z"
      },
      {
        "duration": 147,
        "start_time": "2024-10-18T05:38:21.017Z"
      },
      {
        "duration": 0,
        "start_time": "2024-10-18T05:38:21.166Z"
      },
      {
        "duration": 0,
        "start_time": "2024-10-18T05:38:21.167Z"
      },
      {
        "duration": 0,
        "start_time": "2024-10-18T05:38:21.168Z"
      },
      {
        "duration": 0,
        "start_time": "2024-10-18T05:38:21.170Z"
      },
      {
        "duration": 0,
        "start_time": "2024-10-18T05:38:21.176Z"
      },
      {
        "duration": 0,
        "start_time": "2024-10-18T05:38:21.177Z"
      },
      {
        "duration": 0,
        "start_time": "2024-10-18T05:38:21.178Z"
      },
      {
        "duration": 0,
        "start_time": "2024-10-18T05:38:21.179Z"
      },
      {
        "duration": 0,
        "start_time": "2024-10-18T05:38:21.181Z"
      },
      {
        "duration": 0,
        "start_time": "2024-10-18T05:38:21.181Z"
      },
      {
        "duration": 0,
        "start_time": "2024-10-18T05:38:21.182Z"
      },
      {
        "duration": 0,
        "start_time": "2024-10-18T05:38:21.184Z"
      },
      {
        "duration": 0,
        "start_time": "2024-10-18T05:38:21.185Z"
      },
      {
        "duration": 0,
        "start_time": "2024-10-18T05:38:21.221Z"
      },
      {
        "duration": 0,
        "start_time": "2024-10-18T05:38:21.222Z"
      },
      {
        "duration": 0,
        "start_time": "2024-10-18T05:38:21.223Z"
      },
      {
        "duration": 0,
        "start_time": "2024-10-18T05:38:21.224Z"
      },
      {
        "duration": 0,
        "start_time": "2024-10-18T05:38:21.225Z"
      },
      {
        "duration": 0,
        "start_time": "2024-10-18T05:38:21.227Z"
      },
      {
        "duration": 0,
        "start_time": "2024-10-18T05:38:21.228Z"
      },
      {
        "duration": 0,
        "start_time": "2024-10-18T05:38:21.229Z"
      },
      {
        "duration": 0,
        "start_time": "2024-10-18T05:38:21.230Z"
      },
      {
        "duration": 0,
        "start_time": "2024-10-18T05:38:21.231Z"
      },
      {
        "duration": 0,
        "start_time": "2024-10-18T05:38:21.232Z"
      },
      {
        "duration": 0,
        "start_time": "2024-10-18T05:38:21.233Z"
      },
      {
        "duration": 2353,
        "start_time": "2024-10-18T05:38:32.675Z"
      },
      {
        "duration": 1494,
        "start_time": "2024-10-18T05:38:35.031Z"
      },
      {
        "duration": 1339,
        "start_time": "2024-10-18T05:38:36.527Z"
      },
      {
        "duration": 59,
        "start_time": "2024-10-18T05:38:37.871Z"
      },
      {
        "duration": 654,
        "start_time": "2024-10-18T05:38:37.932Z"
      },
      {
        "duration": 69,
        "start_time": "2024-10-18T05:38:38.588Z"
      },
      {
        "duration": 3,
        "start_time": "2024-10-18T05:38:38.659Z"
      },
      {
        "duration": 110,
        "start_time": "2024-10-18T05:38:38.720Z"
      },
      {
        "duration": 0,
        "start_time": "2024-10-18T05:38:38.832Z"
      },
      {
        "duration": 0,
        "start_time": "2024-10-18T05:38:38.833Z"
      },
      {
        "duration": 0,
        "start_time": "2024-10-18T05:38:38.835Z"
      },
      {
        "duration": 0,
        "start_time": "2024-10-18T05:38:38.836Z"
      },
      {
        "duration": 0,
        "start_time": "2024-10-18T05:38:38.837Z"
      },
      {
        "duration": 0,
        "start_time": "2024-10-18T05:38:38.838Z"
      },
      {
        "duration": 0,
        "start_time": "2024-10-18T05:38:38.839Z"
      },
      {
        "duration": 0,
        "start_time": "2024-10-18T05:38:38.839Z"
      },
      {
        "duration": 0,
        "start_time": "2024-10-18T05:38:38.840Z"
      },
      {
        "duration": 0,
        "start_time": "2024-10-18T05:38:38.841Z"
      },
      {
        "duration": 0,
        "start_time": "2024-10-18T05:38:38.842Z"
      },
      {
        "duration": 0,
        "start_time": "2024-10-18T05:38:38.843Z"
      },
      {
        "duration": 0,
        "start_time": "2024-10-18T05:38:38.844Z"
      },
      {
        "duration": 0,
        "start_time": "2024-10-18T05:38:38.846Z"
      },
      {
        "duration": 0,
        "start_time": "2024-10-18T05:38:38.847Z"
      },
      {
        "duration": 0,
        "start_time": "2024-10-18T05:38:38.848Z"
      },
      {
        "duration": 0,
        "start_time": "2024-10-18T05:38:38.850Z"
      },
      {
        "duration": 0,
        "start_time": "2024-10-18T05:38:38.851Z"
      },
      {
        "duration": 0,
        "start_time": "2024-10-18T05:38:38.852Z"
      },
      {
        "duration": 63,
        "start_time": "2024-10-18T05:40:39.892Z"
      },
      {
        "duration": 5,
        "start_time": "2024-10-18T05:40:47.346Z"
      },
      {
        "duration": 18,
        "start_time": "2024-10-18T05:40:47.353Z"
      },
      {
        "duration": 8,
        "start_time": "2024-10-18T05:40:47.373Z"
      },
      {
        "duration": 539,
        "start_time": "2024-10-18T05:40:47.383Z"
      },
      {
        "duration": 4,
        "start_time": "2024-10-18T05:40:47.925Z"
      },
      {
        "duration": 140,
        "start_time": "2024-10-18T05:40:47.931Z"
      },
      {
        "duration": 1935,
        "start_time": "2024-10-18T05:40:48.121Z"
      },
      {
        "duration": 2763,
        "start_time": "2024-10-18T05:40:50.058Z"
      },
      {
        "duration": 28,
        "start_time": "2024-10-18T05:40:52.823Z"
      },
      {
        "duration": 2177,
        "start_time": "2024-10-18T05:40:52.852Z"
      },
      {
        "duration": 298,
        "start_time": "2024-10-18T05:40:55.032Z"
      },
      {
        "duration": 1662,
        "start_time": "2024-10-18T05:40:55.333Z"
      },
      {
        "duration": 56,
        "start_time": "2024-10-18T05:40:56.997Z"
      },
      {
        "duration": 770,
        "start_time": "2024-10-18T05:40:57.055Z"
      },
      {
        "duration": 3,
        "start_time": "2024-10-18T05:41:42.410Z"
      },
      {
        "duration": 68,
        "start_time": "2024-10-18T05:41:42.415Z"
      },
      {
        "duration": 843,
        "start_time": "2024-10-18T05:41:42.485Z"
      },
      {
        "duration": 330,
        "start_time": "2024-10-18T05:41:43.329Z"
      },
      {
        "duration": 965,
        "start_time": "2024-10-18T05:41:43.662Z"
      },
      {
        "duration": 6,
        "start_time": "2024-10-18T05:41:44.630Z"
      },
      {
        "duration": 813,
        "start_time": "2024-10-18T05:41:44.638Z"
      },
      {
        "duration": 7,
        "start_time": "2024-10-18T05:41:45.452Z"
      },
      {
        "duration": 62,
        "start_time": "2024-10-18T05:41:45.461Z"
      },
      {
        "duration": 11,
        "start_time": "2024-10-18T05:41:45.525Z"
      },
      {
        "duration": 5208,
        "start_time": "2024-10-18T05:41:45.538Z"
      },
      {
        "duration": 295,
        "start_time": "2024-10-18T05:41:50.748Z"
      },
      {
        "duration": 628,
        "start_time": "2024-10-18T05:41:51.045Z"
      },
      {
        "duration": 1646,
        "start_time": "2024-10-18T05:41:51.676Z"
      },
      {
        "duration": 8,
        "start_time": "2024-10-18T05:41:53.324Z"
      },
      {
        "duration": 14,
        "start_time": "2024-10-18T05:41:53.334Z"
      },
      {
        "duration": 2281,
        "start_time": "2024-10-18T05:41:53.350Z"
      },
      {
        "duration": 109,
        "start_time": "2024-10-18T05:41:55.632Z"
      },
      {
        "duration": 491,
        "start_time": "2024-10-18T05:41:55.743Z"
      },
      {
        "duration": 1415,
        "start_time": "2024-10-18T05:41:56.236Z"
      },
      {
        "duration": 3,
        "start_time": "2024-10-18T05:41:57.653Z"
      },
      {
        "duration": 11,
        "start_time": "2024-10-18T05:41:57.658Z"
      },
      {
        "duration": 4,
        "start_time": "2024-10-18T05:41:57.671Z"
      },
      {
        "duration": 116480,
        "start_time": "2024-10-18T05:41:57.676Z"
      },
      {
        "duration": 5,
        "start_time": "2024-10-18T05:43:54.158Z"
      },
      {
        "duration": 111,
        "start_time": "2024-10-18T05:43:54.165Z"
      },
      {
        "duration": 781,
        "start_time": "2024-10-18T05:43:54.278Z"
      },
      {
        "duration": 11,
        "start_time": "2024-10-18T05:43:55.061Z"
      },
      {
        "duration": 76,
        "start_time": "2024-10-18T05:43:55.074Z"
      },
      {
        "duration": 423,
        "start_time": "2024-10-18T05:43:55.152Z"
      },
      {
        "duration": 812,
        "start_time": "2024-10-18T06:00:19.575Z"
      },
      {
        "duration": 3,
        "start_time": "2024-10-18T06:00:20.390Z"
      },
      {
        "duration": 16355,
        "start_time": "2024-10-18T06:00:20.395Z"
      },
      {
        "duration": 9573,
        "start_time": "2024-10-18T06:00:36.752Z"
      },
      {
        "duration": 27,
        "start_time": "2024-10-18T06:00:46.328Z"
      },
      {
        "duration": 809,
        "start_time": "2024-10-18T06:00:46.420Z"
      },
      {
        "duration": 6197,
        "start_time": "2024-10-18T06:00:47.231Z"
      },
      {
        "duration": 4996,
        "start_time": "2024-10-18T06:00:53.430Z"
      },
      {
        "duration": 214,
        "start_time": "2024-10-18T06:00:58.428Z"
      },
      {
        "duration": 3708,
        "start_time": "2024-10-18T06:00:58.646Z"
      },
      {
        "duration": 707,
        "start_time": "2024-10-18T06:01:02.356Z"
      },
      {
        "duration": 3176,
        "start_time": "2024-10-18T06:01:03.066Z"
      },
      {
        "duration": 108,
        "start_time": "2024-10-18T06:01:06.244Z"
      },
      {
        "duration": 1679,
        "start_time": "2024-10-18T06:01:15.183Z"
      },
      {
        "duration": 4,
        "start_time": "2024-10-18T06:01:16.923Z"
      },
      {
        "duration": 3,
        "start_time": "2024-10-18T06:01:20.512Z"
      },
      {
        "duration": 2153,
        "start_time": "2024-10-18T06:01:23.792Z"
      },
      {
        "duration": 746,
        "start_time": "2024-10-18T06:01:26.058Z"
      },
      {
        "duration": 4,
        "start_time": "2024-10-18T06:01:44.964Z"
      },
      {
        "duration": 90,
        "start_time": "2024-10-18T06:02:17.574Z"
      },
      {
        "duration": 4,
        "start_time": "2024-10-18T06:02:23.964Z"
      },
      {
        "duration": 135,
        "start_time": "2024-10-18T06:02:37.543Z"
      },
      {
        "duration": 875,
        "start_time": "2024-10-18T06:02:45.246Z"
      },
      {
        "duration": 2,
        "start_time": "2024-10-18T06:02:49.449Z"
      },
      {
        "duration": 3,
        "start_time": "2024-10-18T06:02:50.355Z"
      },
      {
        "duration": 1091,
        "start_time": "2024-10-18T06:03:02.199Z"
      },
      {
        "duration": 219,
        "start_time": "2024-10-18T06:03:06.902Z"
      },
      {
        "duration": 665,
        "start_time": "2024-10-18T06:05:12.795Z"
      },
      {
        "duration": 10,
        "start_time": "2024-10-18T06:05:14.724Z"
      },
      {
        "duration": 1659,
        "start_time": "2024-10-18T06:05:29.382Z"
      },
      {
        "duration": 79,
        "start_time": "2024-10-18T06:05:31.043Z"
      },
      {
        "duration": 1106,
        "start_time": "2024-10-18T06:05:31.124Z"
      },
      {
        "duration": 116,
        "start_time": "2024-10-18T06:05:32.232Z"
      },
      {
        "duration": 3,
        "start_time": "2024-10-18T06:05:32.351Z"
      },
      {
        "duration": 65,
        "start_time": "2024-10-18T06:05:32.356Z"
      },
      {
        "duration": 6602,
        "start_time": "2024-10-18T06:05:32.423Z"
      },
      {
        "duration": 315,
        "start_time": "2024-10-18T06:05:39.027Z"
      },
      {
        "duration": 617,
        "start_time": "2024-10-18T06:05:39.344Z"
      },
      {
        "duration": 1867,
        "start_time": "2024-10-18T06:05:39.963Z"
      },
      {
        "duration": 7,
        "start_time": "2024-10-18T06:05:41.832Z"
      },
      {
        "duration": 80,
        "start_time": "2024-10-18T06:05:41.841Z"
      },
      {
        "duration": 2514,
        "start_time": "2024-10-18T06:05:41.923Z"
      },
      {
        "duration": 103,
        "start_time": "2024-10-18T06:05:44.440Z"
      },
      {
        "duration": 602,
        "start_time": "2024-10-18T06:05:44.545Z"
      },
      {
        "duration": 1478,
        "start_time": "2024-10-18T06:05:45.149Z"
      },
      {
        "duration": 8,
        "start_time": "2024-10-18T06:05:46.629Z"
      },
      {
        "duration": 117,
        "start_time": "2024-10-18T06:05:46.639Z"
      },
      {
        "duration": 71,
        "start_time": "2024-10-18T06:05:46.758Z"
      },
      {
        "duration": 135800,
        "start_time": "2024-10-18T06:05:46.831Z"
      },
      {
        "duration": 0,
        "start_time": "2024-10-18T06:08:02.633Z"
      },
      {
        "duration": 0,
        "start_time": "2024-10-18T06:08:02.635Z"
      },
      {
        "duration": 1,
        "start_time": "2024-10-18T06:08:02.636Z"
      },
      {
        "duration": 0,
        "start_time": "2024-10-18T06:08:02.638Z"
      },
      {
        "duration": 0,
        "start_time": "2024-10-18T06:08:02.639Z"
      },
      {
        "duration": 0,
        "start_time": "2024-10-18T06:08:02.640Z"
      },
      {
        "duration": 783,
        "start_time": "2024-10-18T06:08:10.486Z"
      },
      {
        "duration": 3,
        "start_time": "2024-10-18T06:08:11.271Z"
      },
      {
        "duration": 16755,
        "start_time": "2024-10-18T06:08:11.276Z"
      },
      {
        "duration": 9228,
        "start_time": "2024-10-18T06:08:28.034Z"
      },
      {
        "duration": 24,
        "start_time": "2024-10-18T06:08:37.323Z"
      },
      {
        "duration": 887,
        "start_time": "2024-10-18T06:08:37.349Z"
      },
      {
        "duration": 6918,
        "start_time": "2024-10-18T06:08:38.238Z"
      },
      {
        "duration": 5171,
        "start_time": "2024-10-18T06:08:45.158Z"
      },
      {
        "duration": 200,
        "start_time": "2024-10-18T06:08:50.331Z"
      },
      {
        "duration": 3594,
        "start_time": "2024-10-18T06:08:50.538Z"
      },
      {
        "duration": 706,
        "start_time": "2024-10-18T06:08:54.134Z"
      },
      {
        "duration": 2815,
        "start_time": "2024-10-18T06:08:54.842Z"
      },
      {
        "duration": 179,
        "start_time": "2024-10-18T06:08:57.659Z"
      },
      {
        "duration": 1802,
        "start_time": "2024-10-18T06:08:57.842Z"
      },
      {
        "duration": 2,
        "start_time": "2024-10-18T06:08:59.646Z"
      },
      {
        "duration": 7,
        "start_time": "2024-10-18T06:08:59.720Z"
      },
      {
        "duration": 2617,
        "start_time": "2024-10-18T06:08:59.729Z"
      },
      {
        "duration": 1038,
        "start_time": "2024-10-18T06:09:02.348Z"
      },
      {
        "duration": 1633,
        "start_time": "2024-10-18T06:09:03.388Z"
      },
      {
        "duration": 16,
        "start_time": "2024-10-18T06:09:05.023Z"
      },
      {
        "duration": 789,
        "start_time": "2024-10-18T06:09:05.041Z"
      },
      {
        "duration": 99,
        "start_time": "2024-10-18T06:09:05.833Z"
      },
      {
        "duration": 4,
        "start_time": "2024-10-18T06:09:05.934Z"
      },
      {
        "duration": 95,
        "start_time": "2024-10-18T06:09:05.940Z"
      },
      {
        "duration": 6426,
        "start_time": "2024-10-18T06:09:06.037Z"
      },
      {
        "duration": 232,
        "start_time": "2024-10-18T06:09:12.520Z"
      },
      {
        "duration": 787,
        "start_time": "2024-10-18T06:09:12.754Z"
      },
      {
        "duration": 2197,
        "start_time": "2024-10-18T06:09:13.543Z"
      },
      {
        "duration": 8,
        "start_time": "2024-10-18T06:09:15.742Z"
      },
      {
        "duration": 53,
        "start_time": "2024-10-18T06:09:15.752Z"
      },
      {
        "duration": 2935,
        "start_time": "2024-10-18T06:09:15.806Z"
      },
      {
        "duration": 197,
        "start_time": "2024-10-18T06:09:18.743Z"
      },
      {
        "duration": 739,
        "start_time": "2024-10-18T06:09:18.942Z"
      },
      {
        "duration": 2211,
        "start_time": "2024-10-18T06:09:19.721Z"
      },
      {
        "duration": 20,
        "start_time": "2024-10-18T06:09:21.934Z"
      },
      {
        "duration": 63,
        "start_time": "2024-10-18T06:09:21.957Z"
      },
      {
        "duration": 14,
        "start_time": "2024-10-18T06:09:22.023Z"
      },
      {
        "duration": 125414,
        "start_time": "2024-10-18T06:09:22.039Z"
      },
      {
        "duration": 4,
        "start_time": "2024-10-18T06:11:27.456Z"
      },
      {
        "duration": 106,
        "start_time": "2024-10-18T06:11:27.462Z"
      },
      {
        "duration": 932,
        "start_time": "2024-10-18T06:11:27.573Z"
      },
      {
        "duration": 21,
        "start_time": "2024-10-18T06:11:28.507Z"
      },
      {
        "duration": 109,
        "start_time": "2024-10-18T06:11:28.530Z"
      },
      {
        "duration": 326,
        "start_time": "2024-10-18T06:11:28.641Z"
      },
      {
        "duration": 775,
        "start_time": "2024-10-18T06:18:17.401Z"
      },
      {
        "duration": 3,
        "start_time": "2024-10-18T06:18:18.178Z"
      },
      {
        "duration": 16747,
        "start_time": "2024-10-18T06:18:18.182Z"
      },
      {
        "duration": 10220,
        "start_time": "2024-10-18T06:18:34.932Z"
      },
      {
        "duration": 83,
        "start_time": "2024-10-18T06:18:45.155Z"
      },
      {
        "duration": 902,
        "start_time": "2024-10-18T06:18:45.240Z"
      },
      {
        "duration": 6278,
        "start_time": "2024-10-18T06:18:46.144Z"
      },
      {
        "duration": 4907,
        "start_time": "2024-10-18T06:18:52.424Z"
      },
      {
        "duration": 191,
        "start_time": "2024-10-18T06:18:57.334Z"
      },
      {
        "duration": 3606,
        "start_time": "2024-10-18T06:18:57.527Z"
      },
      {
        "duration": 700,
        "start_time": "2024-10-18T06:19:01.135Z"
      },
      {
        "duration": 3104,
        "start_time": "2024-10-18T06:19:01.837Z"
      },
      {
        "duration": 191,
        "start_time": "2024-10-18T06:19:04.943Z"
      },
      {
        "duration": 1690,
        "start_time": "2024-10-18T06:19:05.139Z"
      },
      {
        "duration": 3,
        "start_time": "2024-10-18T06:19:06.831Z"
      },
      {
        "duration": 48,
        "start_time": "2024-10-18T06:19:06.836Z"
      },
      {
        "duration": 2434,
        "start_time": "2024-10-18T06:19:06.886Z"
      },
      {
        "duration": 1110,
        "start_time": "2024-10-18T06:19:09.322Z"
      },
      {
        "duration": 1524,
        "start_time": "2024-10-18T06:19:10.434Z"
      },
      {
        "duration": 15,
        "start_time": "2024-10-18T06:19:12.021Z"
      },
      {
        "duration": 836,
        "start_time": "2024-10-18T06:19:12.037Z"
      },
      {
        "duration": 101,
        "start_time": "2024-10-18T06:19:12.876Z"
      },
      {
        "duration": 41,
        "start_time": "2024-10-18T06:19:12.979Z"
      },
      {
        "duration": 2,
        "start_time": "2024-10-18T06:19:13.023Z"
      },
      {
        "duration": 5405,
        "start_time": "2024-10-18T06:19:13.027Z"
      },
      {
        "duration": 304,
        "start_time": "2024-10-18T06:19:18.434Z"
      },
      {
        "duration": 595,
        "start_time": "2024-10-18T06:19:18.741Z"
      },
      {
        "duration": 1827,
        "start_time": "2024-10-18T06:19:19.339Z"
      },
      {
        "duration": 8,
        "start_time": "2024-10-18T06:19:21.220Z"
      },
      {
        "duration": 14,
        "start_time": "2024-10-18T06:19:21.230Z"
      },
      {
        "duration": 2695,
        "start_time": "2024-10-18T06:19:21.245Z"
      },
      {
        "duration": 107,
        "start_time": "2024-10-18T06:19:23.942Z"
      },
      {
        "duration": 630,
        "start_time": "2024-10-18T06:19:24.051Z"
      },
      {
        "duration": 1558,
        "start_time": "2024-10-18T06:19:24.682Z"
      },
      {
        "duration": 3,
        "start_time": "2024-10-18T06:19:26.242Z"
      },
      {
        "duration": 16,
        "start_time": "2024-10-18T06:19:26.247Z"
      },
      {
        "duration": 12,
        "start_time": "2024-10-18T06:19:26.265Z"
      },
      {
        "duration": 145154,
        "start_time": "2024-10-18T06:19:26.278Z"
      },
      {
        "duration": 6,
        "start_time": "2024-10-18T06:21:51.433Z"
      },
      {
        "duration": 112,
        "start_time": "2024-10-18T06:21:51.441Z"
      },
      {
        "duration": 1078,
        "start_time": "2024-10-18T06:21:51.557Z"
      },
      {
        "duration": 10,
        "start_time": "2024-10-18T06:21:52.636Z"
      },
      {
        "duration": 63,
        "start_time": "2024-10-18T06:21:52.648Z"
      },
      {
        "duration": 235,
        "start_time": "2024-10-18T06:21:52.720Z"
      },
      {
        "duration": 643,
        "start_time": "2024-10-18T06:26:34.446Z"
      },
      {
        "duration": 794,
        "start_time": "2024-10-18T06:27:05.574Z"
      },
      {
        "duration": 3,
        "start_time": "2024-10-18T06:27:06.371Z"
      },
      {
        "duration": 16074,
        "start_time": "2024-10-18T06:27:06.375Z"
      },
      {
        "duration": 10593,
        "start_time": "2024-10-18T06:27:22.451Z"
      },
      {
        "duration": 75,
        "start_time": "2024-10-18T06:27:33.046Z"
      },
      {
        "duration": 818,
        "start_time": "2024-10-18T06:27:33.123Z"
      },
      {
        "duration": 6807,
        "start_time": "2024-10-18T06:27:33.943Z"
      },
      {
        "duration": 2477,
        "start_time": "2024-10-18T06:27:49.886Z"
      },
      {
        "duration": 737,
        "start_time": "2024-10-18T06:28:01.829Z"
      },
      {
        "duration": 3,
        "start_time": "2024-10-18T06:28:02.568Z"
      },
      {
        "duration": 16373,
        "start_time": "2024-10-18T06:28:02.572Z"
      },
      {
        "duration": 11111,
        "start_time": "2024-10-18T06:28:18.948Z"
      },
      {
        "duration": 19,
        "start_time": "2024-10-18T06:28:30.124Z"
      },
      {
        "duration": 978,
        "start_time": "2024-10-18T06:28:30.145Z"
      },
      {
        "duration": 7433,
        "start_time": "2024-10-18T06:28:31.125Z"
      },
      {
        "duration": 5671,
        "start_time": "2024-10-18T06:28:38.565Z"
      },
      {
        "duration": 204,
        "start_time": "2024-10-18T06:28:44.239Z"
      },
      {
        "duration": 4588,
        "start_time": "2024-10-18T06:28:44.446Z"
      },
      {
        "duration": 622,
        "start_time": "2024-10-18T06:28:49.037Z"
      },
      {
        "duration": 3289,
        "start_time": "2024-10-18T06:28:49.661Z"
      },
      {
        "duration": 94,
        "start_time": "2024-10-18T06:28:52.952Z"
      },
      {
        "duration": 1702,
        "start_time": "2024-10-18T06:28:53.050Z"
      },
      {
        "duration": 4,
        "start_time": "2024-10-18T06:28:54.754Z"
      },
      {
        "duration": 62,
        "start_time": "2024-10-18T06:28:54.760Z"
      },
      {
        "duration": 2729,
        "start_time": "2024-10-18T06:28:54.824Z"
      },
      {
        "duration": 1093,
        "start_time": "2024-10-18T06:28:57.555Z"
      },
      {
        "duration": 3083,
        "start_time": "2024-10-18T06:28:58.651Z"
      },
      {
        "duration": 88,
        "start_time": "2024-10-18T06:29:01.737Z"
      },
      {
        "duration": 1323,
        "start_time": "2024-10-18T06:29:01.827Z"
      },
      {
        "duration": 107,
        "start_time": "2024-10-18T06:29:03.220Z"
      },
      {
        "duration": 4,
        "start_time": "2024-10-18T06:29:03.329Z"
      },
      {
        "duration": 113,
        "start_time": "2024-10-18T06:29:03.335Z"
      },
      {
        "duration": 7783,
        "start_time": "2024-10-18T06:29:03.450Z"
      },
      {
        "duration": 311,
        "start_time": "2024-10-18T06:29:11.236Z"
      },
      {
        "duration": 704,
        "start_time": "2024-10-18T06:29:11.549Z"
      },
      {
        "duration": 2008,
        "start_time": "2024-10-18T06:29:12.255Z"
      },
      {
        "duration": 8,
        "start_time": "2024-10-18T06:29:14.321Z"
      },
      {
        "duration": 4,
        "start_time": "2024-10-18T06:29:14.331Z"
      },
      {
        "duration": 2961,
        "start_time": "2024-10-18T06:29:14.337Z"
      },
      {
        "duration": 127,
        "start_time": "2024-10-18T06:29:17.320Z"
      },
      {
        "duration": 537,
        "start_time": "2024-10-18T06:29:17.449Z"
      },
      {
        "duration": 1468,
        "start_time": "2024-10-18T06:29:17.988Z"
      },
      {
        "duration": 7,
        "start_time": "2024-10-18T06:29:19.457Z"
      },
      {
        "duration": 62,
        "start_time": "2024-10-18T06:29:19.465Z"
      },
      {
        "duration": 4,
        "start_time": "2024-10-18T06:29:19.530Z"
      },
      {
        "duration": 114505,
        "start_time": "2024-10-18T06:29:19.537Z"
      },
      {
        "duration": 4,
        "start_time": "2024-10-18T06:31:14.044Z"
      },
      {
        "duration": 129,
        "start_time": "2024-10-18T06:31:14.050Z"
      },
      {
        "duration": 963,
        "start_time": "2024-10-18T06:31:14.184Z"
      },
      {
        "duration": 12,
        "start_time": "2024-10-18T06:31:15.148Z"
      },
      {
        "duration": 125,
        "start_time": "2024-10-18T06:31:15.161Z"
      },
      {
        "duration": 339,
        "start_time": "2024-10-18T06:31:15.287Z"
      }
    ],
    "colab": {
      "provenance": []
    },
    "kernelspec": {
      "display_name": "Python 3 (ipykernel)",
      "language": "python",
      "name": "python3"
    },
    "language_info": {
      "codemirror_mode": {
        "name": "ipython",
        "version": 3
      },
      "file_extension": ".py",
      "mimetype": "text/x-python",
      "name": "python",
      "nbconvert_exporter": "python",
      "pygments_lexer": "ipython3",
      "version": "3.9.5"
    },
    "toc": {
      "base_numbering": 1,
      "nav_menu": {},
      "number_sections": true,
      "sideBar": true,
      "skip_h1_title": true,
      "title_cell": "Table of Contents",
      "title_sidebar": "Contents",
      "toc_cell": false,
      "toc_position": {},
      "toc_section_display": true,
      "toc_window_display": true
    }
  },
  "nbformat": 4,
  "nbformat_minor": 5
}
